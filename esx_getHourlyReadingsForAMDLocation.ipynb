{
 "cells": [
  {
   "cell_type": "code",
   "execution_count": 2,
   "metadata": {
    "collapsed": true
   },
   "outputs": [],
   "source": [
    "import pandas as pd\n",
    "import numpy as np"
   ]
  },
  {
   "cell_type": "code",
   "execution_count": 2,
   "metadata": {
    "collapsed": true
   },
   "outputs": [],
   "source": [
    "esx_AMD_all = pd.read_csv('results/esx_loc/AMD', header=None)"
   ]
  },
  {
   "cell_type": "code",
   "execution_count": 96,
   "metadata": {
    "collapsed": false
   },
   "outputs": [],
   "source": [
    "esx_acc_all = pd.read_csv('results/esx_loc/accN', header=None)"
   ]
  },
  {
   "cell_type": "code",
   "execution_count": 97,
   "metadata": {
    "collapsed": false
   },
   "outputs": [
    {
     "data": {
      "text/plain": [
       "0         16.48\n",
       "1         16.65\n",
       "2         16.65\n",
       "3         16.45\n",
       "4         16.43\n",
       "5         16.50\n",
       "6         16.45\n",
       "7         16.47\n",
       "8         16.47\n",
       "9         17.04\n",
       "10        16.91\n",
       "11        16.90\n",
       "12        16.59\n",
       "13        16.46\n",
       "14        16.68\n",
       "15        16.48\n",
       "16        16.60\n",
       "17        16.60\n",
       "18        16.43\n",
       "19        16.42\n",
       "20        16.41\n",
       "21        16.40\n",
       "22        16.51\n",
       "23        16.73\n",
       "24        16.64\n",
       "25        16.56\n",
       "26        16.51\n",
       "27        16.54\n",
       "28        16.51\n",
       "29        16.58\n",
       "          ...  \n",
       "611886    28.13\n",
       "611887    28.48\n",
       "611888    27.00\n",
       "611889    22.29\n",
       "611890    23.07\n",
       "611891    20.66\n",
       "611892    28.91\n",
       "611893    22.95\n",
       "611894    22.83\n",
       "611895    23.11\n",
       "611896    25.12\n",
       "611897    29.09\n",
       "611898    32.56\n",
       "611899    23.20\n",
       "611900    21.50\n",
       "611901    25.15\n",
       "611902    21.55\n",
       "611903    23.72\n",
       "611904    23.10\n",
       "611905    32.17\n",
       "611906    23.85\n",
       "611907    25.79\n",
       "611908    21.90\n",
       "611909    22.88\n",
       "611910    21.49\n",
       "611911    20.42\n",
       "611912    22.64\n",
       "611913    25.68\n",
       "611914    20.08\n",
       "611915    22.44\n",
       "Name: 4, dtype: float64"
      ]
     },
     "execution_count": 97,
     "metadata": {},
     "output_type": "execute_result"
    }
   ],
   "source": [
    "esx_acc_all[4]"
   ]
  },
  {
   "cell_type": "code",
   "execution_count": 98,
   "metadata": {
    "collapsed": false
   },
   "outputs": [],
   "source": [
    "esx_acc_all['CPU_usage'] = esx_acc_all[2] * esx_acc_all[4] / 100"
   ]
  },
  {
   "cell_type": "code",
   "execution_count": 99,
   "metadata": {
    "collapsed": true
   },
   "outputs": [],
   "source": [
    "esx_acc_all['RAM Used'] = esx_acc_all[3] * esx_acc_all[5] / 100"
   ]
  },
  {
   "cell_type": "code",
   "execution_count": 100,
   "metadata": {
    "collapsed": false
   },
   "outputs": [
    {
     "data": {
      "text/html": [
       "<div>\n",
       "<table border=\"1\" class=\"dataframe\">\n",
       "  <thead>\n",
       "    <tr style=\"text-align: right;\">\n",
       "      <th></th>\n",
       "      <th>0</th>\n",
       "      <th>1</th>\n",
       "      <th>2</th>\n",
       "      <th>3</th>\n",
       "      <th>4</th>\n",
       "      <th>5</th>\n",
       "      <th>6</th>\n",
       "      <th>7</th>\n",
       "      <th>CPU_usage</th>\n",
       "      <th>RAM Used</th>\n",
       "    </tr>\n",
       "  </thead>\n",
       "  <tbody>\n",
       "    <tr>\n",
       "      <th>0</th>\n",
       "      <td>ashacdc4e01p</td>\n",
       "      <td>ashacdvm01p:c4e-internal.c4e.ops</td>\n",
       "      <td>86368.0</td>\n",
       "      <td>511.966034</td>\n",
       "      <td>16.48</td>\n",
       "      <td>18.19</td>\n",
       "      <td>acc</td>\n",
       "      <td>9/17/2016 10:05:00 PM</td>\n",
       "      <td>14233.4464</td>\n",
       "      <td>93.126622</td>\n",
       "    </tr>\n",
       "    <tr>\n",
       "      <th>1</th>\n",
       "      <td>ashacdc4e01p</td>\n",
       "      <td>ashacdvm01p:c4e-internal.c4e.ops</td>\n",
       "      <td>86368.0</td>\n",
       "      <td>511.966034</td>\n",
       "      <td>16.65</td>\n",
       "      <td>18.19</td>\n",
       "      <td>acc</td>\n",
       "      <td>9/17/2016 10:35:00 PM</td>\n",
       "      <td>14380.2720</td>\n",
       "      <td>93.126622</td>\n",
       "    </tr>\n",
       "    <tr>\n",
       "      <th>2</th>\n",
       "      <td>ashacdc4e01p</td>\n",
       "      <td>ashacdvm01p:c4e-internal.c4e.ops</td>\n",
       "      <td>86368.0</td>\n",
       "      <td>511.966034</td>\n",
       "      <td>16.65</td>\n",
       "      <td>18.19</td>\n",
       "      <td>acc</td>\n",
       "      <td>9/17/2016 10:40:00 PM</td>\n",
       "      <td>14380.2720</td>\n",
       "      <td>93.126622</td>\n",
       "    </tr>\n",
       "    <tr>\n",
       "      <th>3</th>\n",
       "      <td>ashacdc4e01p</td>\n",
       "      <td>ashacdvm01p:c4e-internal.c4e.ops</td>\n",
       "      <td>86368.0</td>\n",
       "      <td>511.966034</td>\n",
       "      <td>16.45</td>\n",
       "      <td>18.19</td>\n",
       "      <td>acc</td>\n",
       "      <td>9/17/2016 10:50:00 PM</td>\n",
       "      <td>14207.5360</td>\n",
       "      <td>93.126622</td>\n",
       "    </tr>\n",
       "    <tr>\n",
       "      <th>4</th>\n",
       "      <td>ashacdc4e01p</td>\n",
       "      <td>ashacdvm01p:c4e-internal.c4e.ops</td>\n",
       "      <td>86368.0</td>\n",
       "      <td>511.966034</td>\n",
       "      <td>16.43</td>\n",
       "      <td>18.19</td>\n",
       "      <td>acc</td>\n",
       "      <td>9/17/2016 10:55:00 PM</td>\n",
       "      <td>14190.2624</td>\n",
       "      <td>93.126622</td>\n",
       "    </tr>\n",
       "  </tbody>\n",
       "</table>\n",
       "</div>"
      ],
      "text/plain": [
       "              0                                 1        2           3      4  \\\n",
       "0  ashacdc4e01p  ashacdvm01p:c4e-internal.c4e.ops  86368.0  511.966034  16.48   \n",
       "1  ashacdc4e01p  ashacdvm01p:c4e-internal.c4e.ops  86368.0  511.966034  16.65   \n",
       "2  ashacdc4e01p  ashacdvm01p:c4e-internal.c4e.ops  86368.0  511.966034  16.65   \n",
       "3  ashacdc4e01p  ashacdvm01p:c4e-internal.c4e.ops  86368.0  511.966034  16.45   \n",
       "4  ashacdc4e01p  ashacdvm01p:c4e-internal.c4e.ops  86368.0  511.966034  16.43   \n",
       "\n",
       "       5    6                      7   CPU_usage   RAM Used  \n",
       "0  18.19  acc  9/17/2016 10:05:00 PM  14233.4464  93.126622  \n",
       "1  18.19  acc  9/17/2016 10:35:00 PM  14380.2720  93.126622  \n",
       "2  18.19  acc  9/17/2016 10:40:00 PM  14380.2720  93.126622  \n",
       "3  18.19  acc  9/17/2016 10:50:00 PM  14207.5360  93.126622  \n",
       "4  18.19  acc  9/17/2016 10:55:00 PM  14190.2624  93.126622  "
      ]
     },
     "execution_count": 100,
     "metadata": {},
     "output_type": "execute_result"
    }
   ],
   "source": [
    "esx_acc_all.head()"
   ]
  },
  {
   "cell_type": "code",
   "execution_count": 101,
   "metadata": {
    "collapsed": false
   },
   "outputs": [],
   "source": [
    "esx_acc_all.columns = ['Esx_clust',\n",
    "'Esx_host',\n",
    "'esx_totmhz',\n",
    "'esx_insram',\n",
    "'esx_cpu',\n",
    "'esx_ram',\n",
    "'esx_loc',\n",
    "'esx_time',\n",
    "'CPU_usage',\n",
    "'RAM Used'\n",
    "]"
   ]
  },
  {
   "cell_type": "code",
   "execution_count": 102,
   "metadata": {
    "collapsed": true
   },
   "outputs": [],
   "source": [
    "esx_acc_all.drop(esx_acc_all.columns[[3, 4, 5, 6]], axis=1, inplace=True)"
   ]
  },
  {
   "cell_type": "code",
   "execution_count": 103,
   "metadata": {
    "collapsed": false
   },
   "outputs": [
    {
     "data": {
      "text/html": [
       "<div>\n",
       "<table border=\"1\" class=\"dataframe\">\n",
       "  <thead>\n",
       "    <tr style=\"text-align: right;\">\n",
       "      <th></th>\n",
       "      <th>Esx_clust</th>\n",
       "      <th>Esx_host</th>\n",
       "      <th>esx_totmhz</th>\n",
       "      <th>esx_time</th>\n",
       "      <th>CPU_usage</th>\n",
       "      <th>RAM Used</th>\n",
       "    </tr>\n",
       "  </thead>\n",
       "  <tbody>\n",
       "    <tr>\n",
       "      <th>0</th>\n",
       "      <td>ashacdc4e01p</td>\n",
       "      <td>ashacdvm01p:c4e-internal.c4e.ops</td>\n",
       "      <td>86368.0</td>\n",
       "      <td>9/17/2016 10:05:00 PM</td>\n",
       "      <td>14233.4464</td>\n",
       "      <td>93.126622</td>\n",
       "    </tr>\n",
       "    <tr>\n",
       "      <th>1</th>\n",
       "      <td>ashacdc4e01p</td>\n",
       "      <td>ashacdvm01p:c4e-internal.c4e.ops</td>\n",
       "      <td>86368.0</td>\n",
       "      <td>9/17/2016 10:35:00 PM</td>\n",
       "      <td>14380.2720</td>\n",
       "      <td>93.126622</td>\n",
       "    </tr>\n",
       "    <tr>\n",
       "      <th>2</th>\n",
       "      <td>ashacdc4e01p</td>\n",
       "      <td>ashacdvm01p:c4e-internal.c4e.ops</td>\n",
       "      <td>86368.0</td>\n",
       "      <td>9/17/2016 10:40:00 PM</td>\n",
       "      <td>14380.2720</td>\n",
       "      <td>93.126622</td>\n",
       "    </tr>\n",
       "    <tr>\n",
       "      <th>3</th>\n",
       "      <td>ashacdc4e01p</td>\n",
       "      <td>ashacdvm01p:c4e-internal.c4e.ops</td>\n",
       "      <td>86368.0</td>\n",
       "      <td>9/17/2016 10:50:00 PM</td>\n",
       "      <td>14207.5360</td>\n",
       "      <td>93.126622</td>\n",
       "    </tr>\n",
       "    <tr>\n",
       "      <th>4</th>\n",
       "      <td>ashacdc4e01p</td>\n",
       "      <td>ashacdvm01p:c4e-internal.c4e.ops</td>\n",
       "      <td>86368.0</td>\n",
       "      <td>9/17/2016 10:55:00 PM</td>\n",
       "      <td>14190.2624</td>\n",
       "      <td>93.126622</td>\n",
       "    </tr>\n",
       "  </tbody>\n",
       "</table>\n",
       "</div>"
      ],
      "text/plain": [
       "      Esx_clust                          Esx_host  esx_totmhz  \\\n",
       "0  ashacdc4e01p  ashacdvm01p:c4e-internal.c4e.ops     86368.0   \n",
       "1  ashacdc4e01p  ashacdvm01p:c4e-internal.c4e.ops     86368.0   \n",
       "2  ashacdc4e01p  ashacdvm01p:c4e-internal.c4e.ops     86368.0   \n",
       "3  ashacdc4e01p  ashacdvm01p:c4e-internal.c4e.ops     86368.0   \n",
       "4  ashacdc4e01p  ashacdvm01p:c4e-internal.c4e.ops     86368.0   \n",
       "\n",
       "                esx_time   CPU_usage   RAM Used  \n",
       "0  9/17/2016 10:05:00 PM  14233.4464  93.126622  \n",
       "1  9/17/2016 10:35:00 PM  14380.2720  93.126622  \n",
       "2  9/17/2016 10:40:00 PM  14380.2720  93.126622  \n",
       "3  9/17/2016 10:50:00 PM  14207.5360  93.126622  \n",
       "4  9/17/2016 10:55:00 PM  14190.2624  93.126622  "
      ]
     },
     "execution_count": 103,
     "metadata": {},
     "output_type": "execute_result"
    }
   ],
   "source": [
    "esx_acc_all.head()"
   ]
  },
  {
   "cell_type": "code",
   "execution_count": 104,
   "metadata": {
    "collapsed": true
   },
   "outputs": [],
   "source": [
    "esx_acc_all.drop(esx_acc_all.columns[[2]], axis=1, inplace=True)"
   ]
  },
  {
   "cell_type": "code",
   "execution_count": 105,
   "metadata": {
    "collapsed": false
   },
   "outputs": [
    {
     "data": {
      "text/html": [
       "<div>\n",
       "<table border=\"1\" class=\"dataframe\">\n",
       "  <thead>\n",
       "    <tr style=\"text-align: right;\">\n",
       "      <th></th>\n",
       "      <th>Esx_clust</th>\n",
       "      <th>Esx_host</th>\n",
       "      <th>esx_time</th>\n",
       "      <th>CPU_usage</th>\n",
       "      <th>RAM Used</th>\n",
       "    </tr>\n",
       "  </thead>\n",
       "  <tbody>\n",
       "    <tr>\n",
       "      <th>0</th>\n",
       "      <td>ashacdc4e01p</td>\n",
       "      <td>ashacdvm01p:c4e-internal.c4e.ops</td>\n",
       "      <td>9/17/2016 10:05:00 PM</td>\n",
       "      <td>14233.4464</td>\n",
       "      <td>93.126622</td>\n",
       "    </tr>\n",
       "    <tr>\n",
       "      <th>1</th>\n",
       "      <td>ashacdc4e01p</td>\n",
       "      <td>ashacdvm01p:c4e-internal.c4e.ops</td>\n",
       "      <td>9/17/2016 10:35:00 PM</td>\n",
       "      <td>14380.2720</td>\n",
       "      <td>93.126622</td>\n",
       "    </tr>\n",
       "    <tr>\n",
       "      <th>2</th>\n",
       "      <td>ashacdc4e01p</td>\n",
       "      <td>ashacdvm01p:c4e-internal.c4e.ops</td>\n",
       "      <td>9/17/2016 10:40:00 PM</td>\n",
       "      <td>14380.2720</td>\n",
       "      <td>93.126622</td>\n",
       "    </tr>\n",
       "    <tr>\n",
       "      <th>3</th>\n",
       "      <td>ashacdc4e01p</td>\n",
       "      <td>ashacdvm01p:c4e-internal.c4e.ops</td>\n",
       "      <td>9/17/2016 10:50:00 PM</td>\n",
       "      <td>14207.5360</td>\n",
       "      <td>93.126622</td>\n",
       "    </tr>\n",
       "    <tr>\n",
       "      <th>4</th>\n",
       "      <td>ashacdc4e01p</td>\n",
       "      <td>ashacdvm01p:c4e-internal.c4e.ops</td>\n",
       "      <td>9/17/2016 10:55:00 PM</td>\n",
       "      <td>14190.2624</td>\n",
       "      <td>93.126622</td>\n",
       "    </tr>\n",
       "  </tbody>\n",
       "</table>\n",
       "</div>"
      ],
      "text/plain": [
       "      Esx_clust                          Esx_host               esx_time  \\\n",
       "0  ashacdc4e01p  ashacdvm01p:c4e-internal.c4e.ops  9/17/2016 10:05:00 PM   \n",
       "1  ashacdc4e01p  ashacdvm01p:c4e-internal.c4e.ops  9/17/2016 10:35:00 PM   \n",
       "2  ashacdc4e01p  ashacdvm01p:c4e-internal.c4e.ops  9/17/2016 10:40:00 PM   \n",
       "3  ashacdc4e01p  ashacdvm01p:c4e-internal.c4e.ops  9/17/2016 10:50:00 PM   \n",
       "4  ashacdc4e01p  ashacdvm01p:c4e-internal.c4e.ops  9/17/2016 10:55:00 PM   \n",
       "\n",
       "    CPU_usage   RAM Used  \n",
       "0  14233.4464  93.126622  \n",
       "1  14380.2720  93.126622  \n",
       "2  14380.2720  93.126622  \n",
       "3  14207.5360  93.126622  \n",
       "4  14190.2624  93.126622  "
      ]
     },
     "execution_count": 105,
     "metadata": {},
     "output_type": "execute_result"
    }
   ],
   "source": [
    "esx_acc_all.head()"
   ]
  },
  {
   "cell_type": "code",
   "execution_count": 106,
   "metadata": {
    "collapsed": false
   },
   "outputs": [],
   "source": [
    "esx_acc_all['esx_time'] = esx_acc_all['esx_time'].apply(lambda x: str(x).replace(str(x)[-8:-3],'00:00'))"
   ]
  },
  {
   "cell_type": "code",
   "execution_count": 107,
   "metadata": {
    "collapsed": false
   },
   "outputs": [
    {
     "data": {
      "text/html": [
       "<div>\n",
       "<table border=\"1\" class=\"dataframe\">\n",
       "  <thead>\n",
       "    <tr style=\"text-align: right;\">\n",
       "      <th></th>\n",
       "      <th>Esx_clust</th>\n",
       "      <th>Esx_host</th>\n",
       "      <th>esx_time</th>\n",
       "      <th>CPU_usage</th>\n",
       "      <th>RAM Used</th>\n",
       "    </tr>\n",
       "  </thead>\n",
       "  <tbody>\n",
       "    <tr>\n",
       "      <th>0</th>\n",
       "      <td>ashacdc4e01p</td>\n",
       "      <td>ashacdvm01p:c4e-internal.c4e.ops</td>\n",
       "      <td>9/17/2016 10:00:00 PM</td>\n",
       "      <td>14233.4464</td>\n",
       "      <td>93.126622</td>\n",
       "    </tr>\n",
       "    <tr>\n",
       "      <th>1</th>\n",
       "      <td>ashacdc4e01p</td>\n",
       "      <td>ashacdvm01p:c4e-internal.c4e.ops</td>\n",
       "      <td>9/17/2016 10:00:00 PM</td>\n",
       "      <td>14380.2720</td>\n",
       "      <td>93.126622</td>\n",
       "    </tr>\n",
       "    <tr>\n",
       "      <th>2</th>\n",
       "      <td>ashacdc4e01p</td>\n",
       "      <td>ashacdvm01p:c4e-internal.c4e.ops</td>\n",
       "      <td>9/17/2016 10:00:00 PM</td>\n",
       "      <td>14380.2720</td>\n",
       "      <td>93.126622</td>\n",
       "    </tr>\n",
       "    <tr>\n",
       "      <th>3</th>\n",
       "      <td>ashacdc4e01p</td>\n",
       "      <td>ashacdvm01p:c4e-internal.c4e.ops</td>\n",
       "      <td>9/17/2016 10:00:00 PM</td>\n",
       "      <td>14207.5360</td>\n",
       "      <td>93.126622</td>\n",
       "    </tr>\n",
       "    <tr>\n",
       "      <th>4</th>\n",
       "      <td>ashacdc4e01p</td>\n",
       "      <td>ashacdvm01p:c4e-internal.c4e.ops</td>\n",
       "      <td>9/17/2016 10:00:00 PM</td>\n",
       "      <td>14190.2624</td>\n",
       "      <td>93.126622</td>\n",
       "    </tr>\n",
       "  </tbody>\n",
       "</table>\n",
       "</div>"
      ],
      "text/plain": [
       "      Esx_clust                          Esx_host               esx_time  \\\n",
       "0  ashacdc4e01p  ashacdvm01p:c4e-internal.c4e.ops  9/17/2016 10:00:00 PM   \n",
       "1  ashacdc4e01p  ashacdvm01p:c4e-internal.c4e.ops  9/17/2016 10:00:00 PM   \n",
       "2  ashacdc4e01p  ashacdvm01p:c4e-internal.c4e.ops  9/17/2016 10:00:00 PM   \n",
       "3  ashacdc4e01p  ashacdvm01p:c4e-internal.c4e.ops  9/17/2016 10:00:00 PM   \n",
       "4  ashacdc4e01p  ashacdvm01p:c4e-internal.c4e.ops  9/17/2016 10:00:00 PM   \n",
       "\n",
       "    CPU_usage   RAM Used  \n",
       "0  14233.4464  93.126622  \n",
       "1  14380.2720  93.126622  \n",
       "2  14380.2720  93.126622  \n",
       "3  14207.5360  93.126622  \n",
       "4  14190.2624  93.126622  "
      ]
     },
     "execution_count": 107,
     "metadata": {},
     "output_type": "execute_result"
    }
   ],
   "source": [
    "esx_acc_all.head()"
   ]
  },
  {
   "cell_type": "code",
   "execution_count": 108,
   "metadata": {
    "collapsed": false
   },
   "outputs": [],
   "source": [
    "esx_jun2016_all = esx_acc_all[esx_acc_all.esx_time.str.contains(\"6\\/[0-9][0-9]\\/2016\") > 0]"
   ]
  },
  {
   "cell_type": "code",
   "execution_count": 109,
   "metadata": {
    "collapsed": false
   },
   "outputs": [
    {
     "name": "stderr",
     "output_type": "stream",
     "text": [
      "C:\\Users\\Home\\Anaconda3\\lib\\site-packages\\ipykernel\\__main__.py:1: SettingWithCopyWarning: \n",
      "A value is trying to be set on a copy of a slice from a DataFrame.\n",
      "Try using .loc[row_indexer,col_indexer] = value instead\n",
      "\n",
      "See the caveats in the documentation: http://pandas.pydata.org/pandas-docs/stable/indexing.html#indexing-view-versus-copy\n",
      "  if __name__ == '__main__':\n"
     ]
    }
   ],
   "source": [
    "esx_jun2016_all['Date'] = pd.to_datetime(esx_jun2016_all['esx_time'])"
   ]
  },
  {
   "cell_type": "code",
   "execution_count": 110,
   "metadata": {
    "collapsed": false
   },
   "outputs": [
    {
     "data": {
      "text/html": [
       "<div>\n",
       "<table border=\"1\" class=\"dataframe\">\n",
       "  <thead>\n",
       "    <tr style=\"text-align: right;\">\n",
       "      <th></th>\n",
       "      <th>Esx_clust</th>\n",
       "      <th>Esx_host</th>\n",
       "      <th>esx_time</th>\n",
       "      <th>CPU_usage</th>\n",
       "      <th>RAM Used</th>\n",
       "      <th>Date</th>\n",
       "    </tr>\n",
       "  </thead>\n",
       "  <tbody>\n",
       "    <tr>\n",
       "      <th>12141</th>\n",
       "      <td>ashacdc4e01p</td>\n",
       "      <td>ashacdvm01p:c4e-internal.c4e.ops</td>\n",
       "      <td>6/20/2016 10:00:00 PM</td>\n",
       "      <td>16824.4864</td>\n",
       "      <td>221.169327</td>\n",
       "      <td>2016-06-20 22:00:00</td>\n",
       "    </tr>\n",
       "    <tr>\n",
       "      <th>12142</th>\n",
       "      <td>ashacdc4e01p</td>\n",
       "      <td>ashacdvm01p:c4e-internal.c4e.ops</td>\n",
       "      <td>6/20/2016 10:00:00 PM</td>\n",
       "      <td>12713.3696</td>\n",
       "      <td>221.169327</td>\n",
       "      <td>2016-06-20 22:00:00</td>\n",
       "    </tr>\n",
       "    <tr>\n",
       "      <th>12143</th>\n",
       "      <td>ashacdc4e01p</td>\n",
       "      <td>ashacdvm01p:c4e-internal.c4e.ops</td>\n",
       "      <td>6/20/2016 11:00:00 PM</td>\n",
       "      <td>13050.2048</td>\n",
       "      <td>221.169327</td>\n",
       "      <td>2016-06-20 23:00:00</td>\n",
       "    </tr>\n",
       "    <tr>\n",
       "      <th>12144</th>\n",
       "      <td>ashacdc4e01p</td>\n",
       "      <td>ashacdvm01p:c4e-internal.c4e.ops</td>\n",
       "      <td>6/20/2016 11:00:00 PM</td>\n",
       "      <td>12367.8976</td>\n",
       "      <td>221.169327</td>\n",
       "      <td>2016-06-20 23:00:00</td>\n",
       "    </tr>\n",
       "    <tr>\n",
       "      <th>12145</th>\n",
       "      <td>ashacdc4e01p</td>\n",
       "      <td>ashacdvm01p:c4e-internal.c4e.ops</td>\n",
       "      <td>6/20/2016 11:00:00 PM</td>\n",
       "      <td>11167.3824</td>\n",
       "      <td>221.169327</td>\n",
       "      <td>2016-06-20 23:00:00</td>\n",
       "    </tr>\n",
       "  </tbody>\n",
       "</table>\n",
       "</div>"
      ],
      "text/plain": [
       "          Esx_clust                          Esx_host               esx_time  \\\n",
       "12141  ashacdc4e01p  ashacdvm01p:c4e-internal.c4e.ops  6/20/2016 10:00:00 PM   \n",
       "12142  ashacdc4e01p  ashacdvm01p:c4e-internal.c4e.ops  6/20/2016 10:00:00 PM   \n",
       "12143  ashacdc4e01p  ashacdvm01p:c4e-internal.c4e.ops  6/20/2016 11:00:00 PM   \n",
       "12144  ashacdc4e01p  ashacdvm01p:c4e-internal.c4e.ops  6/20/2016 11:00:00 PM   \n",
       "12145  ashacdc4e01p  ashacdvm01p:c4e-internal.c4e.ops  6/20/2016 11:00:00 PM   \n",
       "\n",
       "        CPU_usage    RAM Used                Date  \n",
       "12141  16824.4864  221.169327 2016-06-20 22:00:00  \n",
       "12142  12713.3696  221.169327 2016-06-20 22:00:00  \n",
       "12143  13050.2048  221.169327 2016-06-20 23:00:00  \n",
       "12144  12367.8976  221.169327 2016-06-20 23:00:00  \n",
       "12145  11167.3824  221.169327 2016-06-20 23:00:00  "
      ]
     },
     "execution_count": 110,
     "metadata": {},
     "output_type": "execute_result"
    }
   ],
   "source": [
    "esx_jun2016_all.head()"
   ]
  },
  {
   "cell_type": "code",
   "execution_count": 111,
   "metadata": {
    "collapsed": false
   },
   "outputs": [
    {
     "data": {
      "text/plain": [
       "Esx_clust            object\n",
       "Esx_host             object\n",
       "esx_time             object\n",
       "CPU_usage           float64\n",
       "RAM Used            float64\n",
       "Date         datetime64[ns]\n",
       "dtype: object"
      ]
     },
     "execution_count": 111,
     "metadata": {},
     "output_type": "execute_result"
    }
   ],
   "source": [
    "esx_jun2016_all.dtypes"
   ]
  },
  {
   "cell_type": "code",
   "execution_count": 112,
   "metadata": {
    "collapsed": false
   },
   "outputs": [],
   "source": [
    "esx_jun2016_GB_graph_tier = esx_jun2016_all.groupby(['Esx_clust', 'Esx_host', 'Date'])"
   ]
  },
  {
   "cell_type": "code",
   "execution_count": 113,
   "metadata": {
    "collapsed": true
   },
   "outputs": [],
   "source": [
    "new_esx = esx_jun2016_GB_graph_tier.agg({'CPU_usage':'max', 'RAM Used':'max'})"
   ]
  },
  {
   "cell_type": "code",
   "execution_count": 114,
   "metadata": {
    "collapsed": false
   },
   "outputs": [],
   "source": [
    "new_esx.reset_index(level=2, inplace=True)"
   ]
  },
  {
   "cell_type": "code",
   "execution_count": 115,
   "metadata": {
    "collapsed": false
   },
   "outputs": [],
   "source": [
    "new_esx.reset_index(level=1, inplace=True)"
   ]
  },
  {
   "cell_type": "code",
   "execution_count": 116,
   "metadata": {
    "collapsed": false
   },
   "outputs": [
    {
     "data": {
      "text/html": [
       "<div>\n",
       "<table border=\"1\" class=\"dataframe\">\n",
       "  <thead>\n",
       "    <tr style=\"text-align: right;\">\n",
       "      <th></th>\n",
       "      <th>Esx_host</th>\n",
       "      <th>Date</th>\n",
       "      <th>RAM Used</th>\n",
       "      <th>CPU_usage</th>\n",
       "    </tr>\n",
       "    <tr>\n",
       "      <th>Esx_clust</th>\n",
       "      <th></th>\n",
       "      <th></th>\n",
       "      <th></th>\n",
       "      <th></th>\n",
       "    </tr>\n",
       "  </thead>\n",
       "  <tbody>\n",
       "    <tr>\n",
       "      <th>ashacdc4e01p</th>\n",
       "      <td>ashacdvm01p:c4e-internal.c4e.ops</td>\n",
       "      <td>2016-06-10 00:00:00</td>\n",
       "      <td>258.338061</td>\n",
       "      <td>13792.9696</td>\n",
       "    </tr>\n",
       "    <tr>\n",
       "      <th>ashacdc4e01p</th>\n",
       "      <td>ashacdvm01p:c4e-internal.c4e.ops</td>\n",
       "      <td>2016-06-10 01:00:00</td>\n",
       "      <td>258.338061</td>\n",
       "      <td>13456.1344</td>\n",
       "    </tr>\n",
       "    <tr>\n",
       "      <th>ashacdc4e01p</th>\n",
       "      <td>ashacdvm01p:c4e-internal.c4e.ops</td>\n",
       "      <td>2016-06-10 02:00:00</td>\n",
       "      <td>258.338061</td>\n",
       "      <td>14155.7152</td>\n",
       "    </tr>\n",
       "    <tr>\n",
       "      <th>ashacdc4e01p</th>\n",
       "      <td>ashacdvm01p:c4e-internal.c4e.ops</td>\n",
       "      <td>2016-06-10 03:00:00</td>\n",
       "      <td>258.338061</td>\n",
       "      <td>12618.3648</td>\n",
       "    </tr>\n",
       "    <tr>\n",
       "      <th>ashacdc4e01p</th>\n",
       "      <td>ashacdvm01p:c4e-internal.c4e.ops</td>\n",
       "      <td>2016-06-10 04:00:00</td>\n",
       "      <td>258.338061</td>\n",
       "      <td>11694.2272</td>\n",
       "    </tr>\n",
       "  </tbody>\n",
       "</table>\n",
       "</div>"
      ],
      "text/plain": [
       "                                      Esx_host                Date  \\\n",
       "Esx_clust                                                            \n",
       "ashacdc4e01p  ashacdvm01p:c4e-internal.c4e.ops 2016-06-10 00:00:00   \n",
       "ashacdc4e01p  ashacdvm01p:c4e-internal.c4e.ops 2016-06-10 01:00:00   \n",
       "ashacdc4e01p  ashacdvm01p:c4e-internal.c4e.ops 2016-06-10 02:00:00   \n",
       "ashacdc4e01p  ashacdvm01p:c4e-internal.c4e.ops 2016-06-10 03:00:00   \n",
       "ashacdc4e01p  ashacdvm01p:c4e-internal.c4e.ops 2016-06-10 04:00:00   \n",
       "\n",
       "                RAM Used   CPU_usage  \n",
       "Esx_clust                             \n",
       "ashacdc4e01p  258.338061  13792.9696  \n",
       "ashacdc4e01p  258.338061  13456.1344  \n",
       "ashacdc4e01p  258.338061  14155.7152  \n",
       "ashacdc4e01p  258.338061  12618.3648  \n",
       "ashacdc4e01p  258.338061  11694.2272  "
      ]
     },
     "execution_count": 116,
     "metadata": {},
     "output_type": "execute_result"
    }
   ],
   "source": [
    "new_esx.head()"
   ]
  },
  {
   "cell_type": "code",
   "execution_count": 117,
   "metadata": {
    "collapsed": false
   },
   "outputs": [
    {
     "data": {
      "text/html": [
       "<div>\n",
       "<table border=\"1\" class=\"dataframe\">\n",
       "  <thead>\n",
       "    <tr style=\"text-align: right;\">\n",
       "      <th></th>\n",
       "      <th>Date</th>\n",
       "      <th>RAM Used</th>\n",
       "      <th>CPU_usage</th>\n",
       "    </tr>\n",
       "    <tr>\n",
       "      <th>Esx_clust</th>\n",
       "      <th></th>\n",
       "      <th></th>\n",
       "      <th></th>\n",
       "    </tr>\n",
       "  </thead>\n",
       "  <tbody>\n",
       "    <tr>\n",
       "      <th>ashacdc4e01p</th>\n",
       "      <td>2016-06-10 00:00:00</td>\n",
       "      <td>258.338061</td>\n",
       "      <td>13792.9696</td>\n",
       "    </tr>\n",
       "    <tr>\n",
       "      <th>ashacdc4e01p</th>\n",
       "      <td>2016-06-10 01:00:00</td>\n",
       "      <td>258.338061</td>\n",
       "      <td>13456.1344</td>\n",
       "    </tr>\n",
       "    <tr>\n",
       "      <th>ashacdc4e01p</th>\n",
       "      <td>2016-06-10 02:00:00</td>\n",
       "      <td>258.338061</td>\n",
       "      <td>14155.7152</td>\n",
       "    </tr>\n",
       "    <tr>\n",
       "      <th>ashacdc4e01p</th>\n",
       "      <td>2016-06-10 03:00:00</td>\n",
       "      <td>258.338061</td>\n",
       "      <td>12618.3648</td>\n",
       "    </tr>\n",
       "    <tr>\n",
       "      <th>ashacdc4e01p</th>\n",
       "      <td>2016-06-10 04:00:00</td>\n",
       "      <td>258.338061</td>\n",
       "      <td>11694.2272</td>\n",
       "    </tr>\n",
       "  </tbody>\n",
       "</table>\n",
       "</div>"
      ],
      "text/plain": [
       "                            Date    RAM Used   CPU_usage\n",
       "Esx_clust                                               \n",
       "ashacdc4e01p 2016-06-10 00:00:00  258.338061  13792.9696\n",
       "ashacdc4e01p 2016-06-10 01:00:00  258.338061  13456.1344\n",
       "ashacdc4e01p 2016-06-10 02:00:00  258.338061  14155.7152\n",
       "ashacdc4e01p 2016-06-10 03:00:00  258.338061  12618.3648\n",
       "ashacdc4e01p 2016-06-10 04:00:00  258.338061  11694.2272"
      ]
     },
     "execution_count": 117,
     "metadata": {},
     "output_type": "execute_result"
    }
   ],
   "source": [
    "new_esx.drop(new_esx.columns[[0]], axis=1, inplace=True)\n",
    "new_esx.head()"
   ]
  },
  {
   "cell_type": "code",
   "execution_count": 119,
   "metadata": {
    "collapsed": false
   },
   "outputs": [],
   "source": [
    "esx_Graph = new_esx.groupby(['Date']).sum()"
   ]
  },
  {
   "cell_type": "code",
   "execution_count": 121,
   "metadata": {
    "collapsed": false
   },
   "outputs": [
    {
     "data": {
      "text/plain": [
       "1008"
      ]
     },
     "execution_count": 121,
     "metadata": {},
     "output_type": "execute_result"
    }
   ],
   "source": [
    "esx_Graph.size"
   ]
  },
  {
   "cell_type": "code",
   "execution_count": 122,
   "metadata": {
    "collapsed": false
   },
   "outputs": [
    {
     "data": {
      "text/plain": [
       "<matplotlib.figure.Figure at 0x2585aba45c0>"
      ]
     },
     "metadata": {},
     "output_type": "display_data"
    },
    {
     "data": {
      "image/png": "[encoded data removed]",
      "text/plain": [
       "<matplotlib.figure.Figure at 0x258610789b0>"
      ]
     },
     "metadata": {},
     "output_type": "display_data"
    }
   ],
   "source": [
    "import matplotlib.pyplot as plt\n",
    "plt.figure()\n",
    "ax = esx_Graph.reset_index().plot(x=\"Date\", y=\"RAM Used\", title=\"For acc location\")\n",
    "ax.set_xlabel(\"Days\", fontsize=12)\n",
    "ax.set_ylabel(\"Total Used Space (in GB)\", fontsize=12)\n",
    "plt.show()"
   ]
  },
  {
   "cell_type": "code",
   "execution_count": 129,
   "metadata": {
    "collapsed": false
   },
   "outputs": [
    {
     "name": "stderr",
     "output_type": "stream",
     "text": [
      "C:\\Users\\Home\\Anaconda3\\lib\\site-packages\\ipykernel\\__main__.py:18: SettingWithCopyWarning: \n",
      "A value is trying to be set on a copy of a slice from a DataFrame.\n",
      "Try using .loc[row_indexer,col_indexer] = value instead\n",
      "\n",
      "See the caveats in the documentation: http://pandas.pydata.org/pandas-docs/stable/indexing.html#indexing-view-versus-copy\n"
     ]
    },
    {
     "data": {
      "text/plain": [
       "<matplotlib.figure.Figure at 0x258685aa208>"
      ]
     },
     "metadata": {},
     "output_type": "display_data"
    },
    {
     "data": {
      "image/png": "[encoded data removed]",
      "text/plain": [
       "<matplotlib.figure.Figure at 0x258690857b8>"
      ]
     },
     "metadata": {},
     "output_type": "display_data"
    }
   ],
   "source": [
    "esx_acc_all = pd.read_csv('results/esx_loc/accN', header=None)\n",
    "esx_acc_all['CPU_usage'] = esx_acc_all[2] * esx_acc_all[4] / 100\n",
    "esx_acc_all['RAM Used'] = esx_acc_all[3] * esx_acc_all[5] / 100\n",
    "esx_acc_all.columns = ['Esx_clust',\n",
    "'Esx_host',\n",
    "'esx_totmhz',\n",
    "'esx_insram',\n",
    "'esx_cpu',\n",
    "'esx_ram',\n",
    "'esx_loc',\n",
    "'esx_time',\n",
    "'CPU_usage',\n",
    "'RAM Used'\n",
    "]\n",
    "esx_acc_all.drop(esx_acc_all.columns[[2, 3, 4, 5, 6]], axis=1, inplace=True)\n",
    "esx_acc_all['esx_time'] = esx_acc_all['esx_time'].apply(lambda x: str(x).replace(str(x)[-8:-3],'00:00'))\n",
    "esx_jun2016_all = esx_acc_all[esx_acc_all.esx_time.str.contains(\"6\\/[0-9][0-9]\\/2016\") > 0]\n",
    "esx_jun2016_all['Date'] = pd.to_datetime(esx_jun2016_all['esx_time'])\n",
    "esx_jun2016_GB_graph_tier = esx_jun2016_all.groupby(['Esx_clust', 'Esx_host', 'Date'])\n",
    "new_esx = esx_jun2016_GB_graph_tier.agg({'CPU_usage':'max', 'RAM Used':'max'})\n",
    "new_esx.reset_index(level=2, inplace=True)\n",
    "new_esx.reset_index(level=1, inplace=True)\n",
    "new_esx.drop(new_esx.columns[[0]], axis=1, inplace=True)\n",
    "esx_Graph = new_esx.groupby(['Date']).sum()\n",
    "import matplotlib.pyplot as plt\n",
    "plt.figure()\n",
    "ax = esx_Graph.reset_index().plot(x=\"Date\", y=\"RAM Used\", title=\"For acc location\")\n",
    "ax.set_xlabel(\"Days\", fontsize=12)\n",
    "ax.set_ylabel(\"Total RAM Used\", fontsize=12)\n",
    "plt.show()"
   ]
  },
  {
   "cell_type": "code",
   "execution_count": 127,
   "metadata": {
    "collapsed": false
   },
   "outputs": [
    {
     "data": {
      "text/plain": [
       "<matplotlib.figure.Figure at 0x258693ccb38>"
      ]
     },
     "metadata": {},
     "output_type": "display_data"
    },
    {
     "data": {
      "image/png": "[encoded data removed]",
      "text/plain": [
       "<matplotlib.figure.Figure at 0x258611934a8>"
      ]
     },
     "metadata": {},
     "output_type": "display_data"
    }
   ],
   "source": [
    "import matplotlib.pyplot as plt\n",
    "plt.figure()\n",
    "ax = esx_Graph.reset_index().plot(x=\"Date\", y=\"CPU_usage\", title=\"acc location CPU usage for June 2016\")\n",
    "ax.set_xlabel(\"Days\", fontsize=12)\n",
    "ax.set_ylabel(\"CPU Usage\", fontsize=12)\n",
    "plt.show()"
   ]
  },
  {
   "cell_type": "code",
   "execution_count": 182,
   "metadata": {
    "collapsed": false
   },
   "outputs": [
    {
     "data": {
      "text/plain": [
       "<matplotlib.figure.Figure at 0x25864b7eac8>"
      ]
     },
     "metadata": {},
     "output_type": "display_data"
    },
    {
     "data": {
      "image/png": "[encoded data removed]",
      "text/plain": [
       "<matplotlib.figure.Figure at 0x2586441aa20>"
      ]
     },
     "metadata": {},
     "output_type": "display_data"
    }
   ],
   "source": [
    "import matplotlib.pyplot as plt\n",
    "plt.figure()\n",
    "ax = esx_Graph.reset_index().plot(x=\"Date\", y=\"RAM Used\", title=\"acc location RAM usage for June 2016\", marker='.')\n",
    "ax.set_xlabel(\"Days\", fontsize=12)\n",
    "ax.set_ylabel(\"RAM Usage\", fontsize=12)\n",
    "plt.show()"
   ]
  },
  {
   "cell_type": "code",
   "execution_count": 168,
   "metadata": {
    "collapsed": true
   },
   "outputs": [],
   "source": [
    "esx_acc_all = pd.read_csv('results/esx_loc/accN', header=None)\n",
    "esx_acc_all['CPU_usage'] = esx_acc_all[2] * esx_acc_all[4] / 100\n",
    "esx_acc_all['RAM Used'] = esx_acc_all[3] * esx_acc_all[5] / 100\n",
    "esx_acc_all.columns = ['Esx_clust',\n",
    "'Esx_host',\n",
    "'esx_totmhz',\n",
    "'esx_insram',\n",
    "'esx_cpu',\n",
    "'esx_ram',\n",
    "'esx_loc',\n",
    "'esx_time',\n",
    "'CPU_usage',\n",
    "'RAM Used'\n",
    "]\n",
    "esx_acc_all.drop(esx_acc_all.columns[[2, 3, 4, 5, 6]], axis=1, inplace=True)\n",
    "esx_acc_all['esx_time'] = esx_acc_all['esx_time'].apply(lambda x: str(x).replace(str(x)[-8:-3],'00:00'))"
   ]
  },
  {
   "cell_type": "code",
   "execution_count": 174,
   "metadata": {
    "collapsed": false
   },
   "outputs": [
    {
     "name": "stderr",
     "output_type": "stream",
     "text": [
      "C:\\Users\\Home\\Anaconda3\\lib\\site-packages\\ipykernel\\__main__.py:2: SettingWithCopyWarning: \n",
      "A value is trying to be set on a copy of a slice from a DataFrame.\n",
      "Try using .loc[row_indexer,col_indexer] = value instead\n",
      "\n",
      "See the caveats in the documentation: http://pandas.pydata.org/pandas-docs/stable/indexing.html#indexing-view-versus-copy\n",
      "  from ipykernel import kernelapp as app\n"
     ]
    }
   ],
   "source": [
    "esx_jun2016_all = esx_acc_all[esx_acc_all.esx_time.str.contains(\"11\\/[0-9]{1,2}\\/2016\") > 0]\n",
    "esx_jun2016_all['Date'] = pd.to_datetime(esx_jun2016_all['esx_time'])"
   ]
  },
  {
   "cell_type": "code",
   "execution_count": 175,
   "metadata": {
    "collapsed": false
   },
   "outputs": [
    {
     "data": {
      "text/plain": [
       "257430"
      ]
     },
     "execution_count": 175,
     "metadata": {},
     "output_type": "execute_result"
    }
   ],
   "source": [
    "esx_jun2016_all.size"
   ]
  },
  {
   "cell_type": "code",
   "execution_count": 176,
   "metadata": {
    "collapsed": false
   },
   "outputs": [],
   "source": [
    "aa= esx_acc_all[esx_acc_all.esx_time.str.contains(\"2016-\") > 0]"
   ]
  },
  {
   "cell_type": "code",
   "execution_count": 132,
   "metadata": {
    "collapsed": false
   },
   "outputs": [
    {
     "data": {
      "text/html": [
       "<div>\n",
       "<table border=\"1\" class=\"dataframe\">\n",
       "  <thead>\n",
       "    <tr style=\"text-align: right;\">\n",
       "      <th></th>\n",
       "      <th>Esx_clust</th>\n",
       "      <th>Esx_host</th>\n",
       "      <th>esx_time</th>\n",
       "      <th>CPU_usage</th>\n",
       "      <th>RAM Used</th>\n",
       "    </tr>\n",
       "  </thead>\n",
       "  <tbody>\n",
       "  </tbody>\n",
       "</table>\n",
       "</div>"
      ],
      "text/plain": [
       "Empty DataFrame\n",
       "Columns: [Esx_clust, Esx_host, esx_time, CPU_usage, RAM Used]\n",
       "Index: []"
      ]
     },
     "execution_count": 132,
     "metadata": {},
     "output_type": "execute_result"
    }
   ],
   "source": [
    "esx_acc_all[esx_acc_all.esx_time.str.contains(\"2016-09\") > 0]"
   ]
  },
  {
   "cell_type": "code",
   "execution_count": 148,
   "metadata": {
    "collapsed": false
   },
   "outputs": [
    {
     "data": {
      "text/plain": [
       "'10/9/2016 9:00:00 PM'"
      ]
     },
     "execution_count": 148,
     "metadata": {},
     "output_type": "execute_result"
    }
   ],
   "source": [
    "aa['esx_time'].max()"
   ]
  },
  {
   "cell_type": "code",
   "execution_count": 149,
   "metadata": {
    "collapsed": false
   },
   "outputs": [
    {
     "data": {
      "text/plain": [
       "223200"
      ]
     },
     "execution_count": 149,
     "metadata": {},
     "output_type": "execute_result"
    }
   ],
   "source": [
    "aa.size"
   ]
  },
  {
   "cell_type": "code",
   "execution_count": 177,
   "metadata": {
    "collapsed": false
   },
   "outputs": [
    {
     "data": {
      "text/html": [
       "<div>\n",
       "<table border=\"1\" class=\"dataframe\">\n",
       "  <thead>\n",
       "    <tr style=\"text-align: right;\">\n",
       "      <th></th>\n",
       "      <th>Esx_clust</th>\n",
       "      <th>Esx_host</th>\n",
       "      <th>esx_time</th>\n",
       "      <th>CPU_usage</th>\n",
       "      <th>RAM Used</th>\n",
       "    </tr>\n",
       "  </thead>\n",
       "  <tbody>\n",
       "  </tbody>\n",
       "</table>\n",
       "</div>"
      ],
      "text/plain": [
       "Empty DataFrame\n",
       "Columns: [Esx_clust, Esx_host, esx_time, CPU_usage, RAM Used]\n",
       "Index: []"
      ]
     },
     "execution_count": 177,
     "metadata": {},
     "output_type": "execute_result"
    }
   ],
   "source": [
    "aa.head()"
   ]
  },
  {
   "cell_type": "code",
   "execution_count": null,
   "metadata": {
    "collapsed": true
   },
   "outputs": [],
   "source": []
  }
 ],
 "metadata": {
  "anaconda-cloud": {},
  "kernelspec": {
   "display_name": "Python [default]",
   "language": "python",
   "name": "python3"
  },
  "language_info": {
   "codemirror_mode": {
    "name": "ipython",
    "version": 3
   },
   "file_extension": ".py",
   "mimetype": "text/x-python",
   "name": "python",
   "nbconvert_exporter": "python",
   "pygments_lexer": "ipython3",
   "version": "3.5.2"
  }
 },
 "nbformat": 4,
 "nbformat_minor": 1
}
