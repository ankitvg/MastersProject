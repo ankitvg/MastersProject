{
 "cells": [
  {
   "cell_type": "code",
   "execution_count": 2,
   "metadata": {
    "collapsed": true
   },
   "outputs": [],
   "source": [
    "import pandas as pd\n",
    "import numpy as np\n",
    "import scipy"
   ]
  },
  {
   "cell_type": "code",
   "execution_count": 3,
   "metadata": {
    "collapsed": true
   },
   "outputs": [],
   "source": [
    "dsFile = pd.read_csv('data_files/ds_dump_1.csv')"
   ]
  },
  {
   "cell_type": "code",
   "execution_count": 4,
   "metadata": {
    "collapsed": false
   },
   "outputs": [
    {
     "data": {
      "text/html": [
       "<div>\n",
       "<table border=\"1\" class=\"dataframe\">\n",
       "  <thead>\n",
       "    <tr style=\"text-align: right;\">\n",
       "      <th></th>\n",
       "      <th>ds_clust</th>\n",
       "      <th>ds_name</th>\n",
       "      <th>ds_cap_gb</th>\n",
       "      <th>ds_free_space</th>\n",
       "      <th>ds_storagetier</th>\n",
       "      <th>ds_storagetype</th>\n",
       "      <th>ds_readiops</th>\n",
       "      <th>ds_writeiops</th>\n",
       "      <th>ds_loc</th>\n",
       "      <th>ds_time</th>\n",
       "      <th>ds_provisionedgb</th>\n",
       "      <th>ds_overprovisionedgb</th>\n",
       "    </tr>\n",
       "  </thead>\n",
       "  <tbody>\n",
       "    <tr>\n",
       "      <th>0</th>\n",
       "      <td>A-Temp</td>\n",
       "      <td>MEL01-7500-01_CL1STD_78</td>\n",
       "      <td>5119.75</td>\n",
       "      <td>407.136719</td>\n",
       "      <td>STANDARD</td>\n",
       "      <td>VMFS</td>\n",
       "      <td>NaN</td>\n",
       "      <td>NaN</td>\n",
       "      <td>mel</td>\n",
       "      <td>02/02/2016 18:19:41</td>\n",
       "      <td>NaN</td>\n",
       "      <td>NaN</td>\n",
       "    </tr>\n",
       "    <tr>\n",
       "      <th>1</th>\n",
       "      <td>A-Temp</td>\n",
       "      <td>MEL01-7500-01_CL1STD_78</td>\n",
       "      <td>5119.75</td>\n",
       "      <td>407.137695</td>\n",
       "      <td>STANDARD</td>\n",
       "      <td>VMFS</td>\n",
       "      <td>NaN</td>\n",
       "      <td>NaN</td>\n",
       "      <td>mel</td>\n",
       "      <td>02/02/2016 17:19:33</td>\n",
       "      <td>NaN</td>\n",
       "      <td>NaN</td>\n",
       "    </tr>\n",
       "    <tr>\n",
       "      <th>2</th>\n",
       "      <td>A-Temp</td>\n",
       "      <td>MEL01-7500-01_CL1STD_79</td>\n",
       "      <td>5119.75</td>\n",
       "      <td>408.018555</td>\n",
       "      <td>STANDARD</td>\n",
       "      <td>VMFS</td>\n",
       "      <td>NaN</td>\n",
       "      <td>NaN</td>\n",
       "      <td>mel</td>\n",
       "      <td>02/02/2016 18:19:41</td>\n",
       "      <td>NaN</td>\n",
       "      <td>NaN</td>\n",
       "    </tr>\n",
       "    <tr>\n",
       "      <th>3</th>\n",
       "      <td>A-Temp</td>\n",
       "      <td>MEL01-7500-01_CL1STD_80</td>\n",
       "      <td>5119.75</td>\n",
       "      <td>418.760742</td>\n",
       "      <td>STANDARD</td>\n",
       "      <td>VMFS</td>\n",
       "      <td>NaN</td>\n",
       "      <td>NaN</td>\n",
       "      <td>mel</td>\n",
       "      <td>02/02/2016 19:19:10</td>\n",
       "      <td>NaN</td>\n",
       "      <td>NaN</td>\n",
       "    </tr>\n",
       "    <tr>\n",
       "      <th>4</th>\n",
       "      <td>A-Temp</td>\n",
       "      <td>MEL01-7500-01_CL1STD_81</td>\n",
       "      <td>5119.75</td>\n",
       "      <td>444.501953</td>\n",
       "      <td>STANDARD</td>\n",
       "      <td>VMFS</td>\n",
       "      <td>NaN</td>\n",
       "      <td>NaN</td>\n",
       "      <td>mel</td>\n",
       "      <td>02/02/2016 19:19:10</td>\n",
       "      <td>NaN</td>\n",
       "      <td>NaN</td>\n",
       "    </tr>\n",
       "  </tbody>\n",
       "</table>\n",
       "</div>"
      ],
      "text/plain": [
       "  ds_clust                  ds_name  ds_cap_gb  ds_free_space ds_storagetier  \\\n",
       "0   A-Temp  MEL01-7500-01_CL1STD_78    5119.75     407.136719       STANDARD   \n",
       "1   A-Temp  MEL01-7500-01_CL1STD_78    5119.75     407.137695       STANDARD   \n",
       "2   A-Temp  MEL01-7500-01_CL1STD_79    5119.75     408.018555       STANDARD   \n",
       "3   A-Temp  MEL01-7500-01_CL1STD_80    5119.75     418.760742       STANDARD   \n",
       "4   A-Temp  MEL01-7500-01_CL1STD_81    5119.75     444.501953       STANDARD   \n",
       "\n",
       "  ds_storagetype  ds_readiops  ds_writeiops ds_loc              ds_time  \\\n",
       "0           VMFS          NaN           NaN    mel  02/02/2016 18:19:41   \n",
       "1           VMFS          NaN           NaN    mel  02/02/2016 17:19:33   \n",
       "2           VMFS          NaN           NaN    mel  02/02/2016 18:19:41   \n",
       "3           VMFS          NaN           NaN    mel  02/02/2016 19:19:10   \n",
       "4           VMFS          NaN           NaN    mel  02/02/2016 19:19:10   \n",
       "\n",
       "   ds_provisionedgb  ds_overprovisionedgb  \n",
       "0               NaN                   NaN  \n",
       "1               NaN                   NaN  \n",
       "2               NaN                   NaN  \n",
       "3               NaN                   NaN  \n",
       "4               NaN                   NaN  "
      ]
     },
     "execution_count": 4,
     "metadata": {},
     "output_type": "execute_result"
    }
   ],
   "source": [
    "dsFile[0:5]"
   ]
  },
  {
   "cell_type": "code",
   "execution_count": 5,
   "metadata": {
    "collapsed": false
   },
   "outputs": [
    {
     "data": {
      "text/plain": [
       "pandas.core.frame.DataFrame"
      ]
     },
     "execution_count": 5,
     "metadata": {},
     "output_type": "execute_result"
    }
   ],
   "source": [
    "type(dsFile)"
   ]
  },
  {
   "cell_type": "code",
   "execution_count": 6,
   "metadata": {
    "collapsed": false
   },
   "outputs": [
    {
     "data": {
      "text/plain": [
       "<bound method NDFrame.describe of                  ds_clust                  ds_name  ds_cap_gb  ds_free_space  \\\n",
       "0                  A-Temp  MEL01-7500-01_CL1STD_78    5119.75     407.136719   \n",
       "1                  A-Temp  MEL01-7500-01_CL1STD_78    5119.75     407.137695   \n",
       "2                  A-Temp  MEL01-7500-01_CL1STD_79    5119.75     408.018555   \n",
       "3                  A-Temp  MEL01-7500-01_CL1STD_80    5119.75     418.760742   \n",
       "4                  A-Temp  MEL01-7500-01_CL1STD_81    5119.75     444.501953   \n",
       "5                  A-Temp  MEL01-7500-01_CL1STD_82    5119.75     445.079102   \n",
       "6                \"A-Temp\"  MEL01-7500-01_CL1STD_84    5119.75    3118.775391   \n",
       "7                  A-Temp  MEL01-7500-01_CL1STD_85    5119.75    5118.776367   \n",
       "8                  A-Temp      MEL01-7500-01_EC_91    6143.75    6142.771484   \n",
       "9                  A-Temp      MEL01-7500-01_EC_92    6143.75    6142.771484   \n",
       "10                 A-Temp      MEL01-7500-01_EC_92    6143.75    6142.771484   \n",
       "11                 A-Temp      MEL01-7500-01_EC_92    6143.75    6142.771484   \n",
       "12                 A-Temp      MEL01-7500-01_EC_93    6143.75    6142.771484   \n",
       "13                 A-Temp      MEL01-7500-01_EC_94    6143.75    6142.771484   \n",
       "14                 A-Temp      MEL01-7500-01_EC_95    6143.75    6142.771484   \n",
       "15                 A-Temp      MEL01-7500-01_EC_95    6143.75    6142.771484   \n",
       "16                 A-Temp      MEL01-7500-01_EC_96    6143.75    6142.771484   \n",
       "17                 A-Temp      MEL01-7500-01_EC_96    6143.75    6142.771484   \n",
       "18                 A-Temp      MEL01-7500-01_EC_97    6143.75    6142.771484   \n",
       "19                 A-Temp      MEL01-7500-01_HP_75    4095.75    3894.776367   \n",
       "20                 A-Temp      MEL01-7500-01_HP_77    4095.75    4094.778320   \n",
       "21                 A-Temp      MEL01-7500-01_HP_86    4095.75    4094.781250   \n",
       "22                 A-Temp      MEL01-7500-01_HP_87    4095.75    4094.781250   \n",
       "23                 A-Temp      MEL01-7500-01_HP_89    4095.75    3084.779297   \n",
       "24                 A-Temp   MEL01-7600-01_CL1HP_10    4095.75    4094.781250   \n",
       "25                 A-Temp   MEL01-7600-01_CL1HP_11    4095.75    4094.781250   \n",
       "26                 A-Temp   MEL01-7600-01_CL1HP_12    4095.75    4094.781250   \n",
       "27                 A-Temp   MEL01-7600-01_CL1HP_15    4095.75    4094.781250   \n",
       "28                 A-Temp   MEL01-7600-01_CL1HP_15    4095.75    4094.781250   \n",
       "29                 A-Temp   MEL01-7600-01_CL1HP_16    4095.75    4094.781250   \n",
       "...                   ...                      ...        ...            ...   \n",
       "47002623      yyz01c4e01p    YYZ01_VNX-1-EC_VM_002    6143.75    6142.770000   \n",
       "47002624      yyz01c4e01p    YYZ01_VNX-1-EC_VM_002    6143.75    6142.770000   \n",
       "47002625      yyz01c4e01p    YYZ01_VNX-1-EC_VM_002    6143.75    6142.770000   \n",
       "47002626      yyz01c4e01p    YYZ01_VNX-1-EC_VM_002    6143.75    6142.770000   \n",
       "47002627      yyz01c4e01p    YYZ01_VNX-1-EC_VM_002    6143.75    6142.770000   \n",
       "47002628      yyz01c4e01p    YYZ01_VNX-1-EC_VM_002    6143.75    6142.770000   \n",
       "47002629      yyz01c4e01p    YYZ01_VNX-1-EC_VM_002    6143.75    6142.770000   \n",
       "47002630      yyz01c4e01p    YYZ01_VNX-1-EC_VM_002    6143.75    6142.770000   \n",
       "47002631      yyz01c4e01p    YYZ01_VNX-1-EC_VM_002    6143.75    6142.770000   \n",
       "47002632      yyz01c4e01p    YYZ01_VNX-1-EC_VM_002    6143.75    6142.770000   \n",
       "47002633      yyz01c4e01p    YYZ01_VNX-1-EC_VM_002    6143.75    6142.770000   \n",
       "47002634      yyz01c4e01p    YYZ01_VNX-1-EC_VM_002    6143.75    6142.770000   \n",
       "47002635      yyz01c4e01p    YYZ01_VNX-1-EC_VM_002    6143.75    6142.770000   \n",
       "47002636      yyz01c4e01p    YYZ01_VNX-1-EC_VM_002    6143.75    6142.770000   \n",
       "47002637      yyz01c4e01p    YYZ01_VNX-1-EC_VM_002    6143.75    6142.770000   \n",
       "47002638      yyz01c4e01p    YYZ01_VNX-1-EC_VM_002    6143.75    6142.770000   \n",
       "47002639      yyz01c4e01p    YYZ01_VNX-1-EC_VM_002    6143.75    6142.770000   \n",
       "47002640      yyz01c4e01p    YYZ01_VNX-1-EC_VM_002    6143.75    6142.770000   \n",
       "47002641      yyz01c4e01p    YYZ01_VNX-1-EC_VM_002    6143.75    6142.770000   \n",
       "47002642      yyz01c4e01p    YYZ01_VNX-1-EC_VM_002    6143.75    6142.770000   \n",
       "47002643      yyz01c4e01p    YYZ01_VNX-1-EC_VM_002    6143.75    6142.770000   \n",
       "47002644      yyz01c4e01p    YYZ01_VNX-1-EC_VM_002    6143.75    6142.770000   \n",
       "47002645      yyz01c4e01p    YYZ01_VNX-1-EC_VM_002    6143.75    6142.770000   \n",
       "47002646      yyz01c4e01p    YYZ01_VNX-1-EC_VM_002    6143.75    6142.770000   \n",
       "47002647      yyz01c4e01p    YYZ01_VNX-1-EC_VM_002    6143.75    6142.770000   \n",
       "47002648      yyz01c4e01p    YYZ01_VNX-1-EC_VM_002    6143.75    6142.770000   \n",
       "47002649      yyz01c4e01p    YYZ01_VNX-1-EC_VM_002    6143.75    6142.770000   \n",
       "47002650      yyz01c4e01p    YYZ01_VNX-1-EC_VM_002    6143.75    6142.770000   \n",
       "47002651      yyz01c4e01p    YYZ01_VNX-1-EC_VM_002    6143.75    6142.770000   \n",
       "47002652      yyz01c4e01p    YYZ01_VNX-1-EC_VM_002    6143.75    6142.770000   \n",
       "\n",
       "           ds_storagetier ds_storagetype  ds_readiops  ds_writeiops ds_loc  \\\n",
       "0                STANDARD           VMFS          NaN           NaN    mel   \n",
       "1                STANDARD           VMFS          NaN           NaN    mel   \n",
       "2                STANDARD           VMFS          NaN           NaN    mel   \n",
       "3                STANDARD           VMFS          NaN           NaN    mel   \n",
       "4                STANDARD           VMFS          NaN           NaN    mel   \n",
       "5                STANDARD           VMFS          NaN           NaN    mel   \n",
       "6                STANDARD           VMFS          NaN           NaN    mel   \n",
       "7                STANDARD           VMFS          NaN           NaN    mel   \n",
       "8                 ECONOMY           VMFS          NaN           NaN    mel   \n",
       "9                 ECONOMY           VMFS          NaN           NaN    mel   \n",
       "10                ECONOMY           VMFS          NaN           NaN    mel   \n",
       "11                ECONOMY           VMFS          NaN           NaN    mel   \n",
       "12                ECONOMY           VMFS          NaN           NaN    mel   \n",
       "13                ECONOMY           VMFS          NaN           NaN    mel   \n",
       "14                ECONOMY           VMFS          NaN           NaN    mel   \n",
       "15                ECONOMY           VMFS          NaN           NaN    mel   \n",
       "16                ECONOMY           VMFS          NaN           NaN    mel   \n",
       "17                ECONOMY           VMFS          NaN           NaN    mel   \n",
       "18                ECONOMY           VMFS          NaN           NaN    mel   \n",
       "19        HIGHPERFORMANCE           VMFS          NaN           NaN    mel   \n",
       "20        HIGHPERFORMANCE           VMFS          NaN           NaN    mel   \n",
       "21        HIGHPERFORMANCE           VMFS          NaN           NaN    mel   \n",
       "22        HIGHPERFORMANCE           VMFS          NaN           NaN    mel   \n",
       "23        HIGHPERFORMANCE           VMFS          NaN           NaN    mel   \n",
       "24        HIGHPERFORMANCE           VMFS          NaN           NaN    mel   \n",
       "25        HIGHPERFORMANCE           VMFS          NaN           NaN    mel   \n",
       "26        HIGHPERFORMANCE           VMFS          NaN           NaN    mel   \n",
       "27        HIGHPERFORMANCE           VMFS          NaN           NaN    mel   \n",
       "28        HIGHPERFORMANCE           VMFS          NaN           NaN    mel   \n",
       "29        HIGHPERFORMANCE           VMFS          NaN           NaN    mel   \n",
       "...                   ...            ...          ...           ...    ...   \n",
       "47002623              NaN            NaN          NaN           NaN  yyz01   \n",
       "47002624              NaN            NaN          NaN           NaN  yyz01   \n",
       "47002625              NaN            NaN          NaN           NaN  yyz01   \n",
       "47002626              NaN            NaN          NaN           NaN  yyz01   \n",
       "47002627              NaN            NaN          NaN           NaN  yyz01   \n",
       "47002628              NaN            NaN          NaN           NaN  yyz01   \n",
       "47002629              NaN            NaN          NaN           NaN  yyz01   \n",
       "47002630              NaN            NaN          NaN           NaN  yyz01   \n",
       "47002631              NaN            NaN          NaN           NaN  yyz01   \n",
       "47002632              NaN            NaN          NaN           NaN  yyz01   \n",
       "47002633              NaN            NaN          NaN           NaN  yyz01   \n",
       "47002634              NaN            NaN          NaN           NaN  yyz01   \n",
       "47002635              NaN            NaN          NaN           NaN  yyz01   \n",
       "47002636              NaN            NaN          NaN           NaN  yyz01   \n",
       "47002637              NaN            NaN          NaN           NaN  yyz01   \n",
       "47002638              NaN            NaN          NaN           NaN  yyz01   \n",
       "47002639              NaN            NaN          NaN           NaN  yyz01   \n",
       "47002640              NaN            NaN          NaN           NaN  yyz01   \n",
       "47002641              NaN            NaN          NaN           NaN  yyz01   \n",
       "47002642              NaN            NaN          NaN           NaN  yyz01   \n",
       "47002643              NaN            NaN          NaN           NaN  yyz01   \n",
       "47002644              NaN            NaN          NaN           NaN  yyz01   \n",
       "47002645              NaN            NaN          NaN           NaN  yyz01   \n",
       "47002646              NaN            NaN          NaN           NaN  yyz01   \n",
       "47002647              NaN            NaN          NaN           NaN  yyz01   \n",
       "47002648              NaN            NaN          NaN           NaN  yyz01   \n",
       "47002649              NaN            NaN          NaN           NaN  yyz01   \n",
       "47002650              NaN            NaN          NaN           NaN  yyz01   \n",
       "47002651              NaN            NaN          NaN           NaN  yyz01   \n",
       "47002652              NaN            NaN          NaN           NaN  yyz01   \n",
       "\n",
       "                      ds_time  ds_provisionedgb  ds_overprovisionedgb  \n",
       "0         02/02/2016 18:19:41               NaN                   NaN  \n",
       "1         02/02/2016 17:19:33               NaN                   NaN  \n",
       "2         02/02/2016 18:19:41               NaN                   NaN  \n",
       "3         02/02/2016 19:19:10               NaN                   NaN  \n",
       "4         02/02/2016 19:19:10               NaN                   NaN  \n",
       "5         02/02/2016 17:19:33               NaN                   NaN  \n",
       "6         02/02/2016 17:19:33               NaN                   NaN  \n",
       "7         02/02/2016 17:19:33               NaN                   NaN  \n",
       "8         02/02/2016 19:19:10               NaN                   NaN  \n",
       "9         02/02/2016 17:19:33               NaN                   NaN  \n",
       "10        02/02/2016 18:19:41               NaN                   NaN  \n",
       "11        02/02/2016 19:19:10               NaN                   NaN  \n",
       "12        02/02/2016 19:19:10               NaN                   NaN  \n",
       "13        02/02/2016 18:19:41               NaN                   NaN  \n",
       "14        02/02/2016 18:19:41               NaN                   NaN  \n",
       "15        02/02/2016 19:19:10               NaN                   NaN  \n",
       "16        02/02/2016 17:19:33               NaN                   NaN  \n",
       "17        02/02/2016 19:19:10               NaN                   NaN  \n",
       "18        02/02/2016 17:19:33               NaN                   NaN  \n",
       "19        02/02/2016 17:19:33               NaN                   NaN  \n",
       "20        02/02/2016 18:19:41               NaN                   NaN  \n",
       "21        02/02/2016 18:19:41               NaN                   NaN  \n",
       "22        02/02/2016 18:19:41               NaN                   NaN  \n",
       "23        02/02/2016 18:19:41               NaN                   NaN  \n",
       "24        02/02/2016 18:19:41               NaN                   NaN  \n",
       "25        02/02/2016 19:19:10               NaN                   NaN  \n",
       "26        02/02/2016 19:19:10               NaN                   NaN  \n",
       "27        02/02/2016 18:19:41               NaN                   NaN  \n",
       "28        02/02/2016 19:19:10               NaN                   NaN  \n",
       "29        02/02/2016 17:19:33               NaN                   NaN  \n",
       "...                       ...               ...                   ...  \n",
       "47002623  2014-10-17 15:00:00               NaN                   NaN  \n",
       "47002624  2014-10-17 22:00:00               NaN                   NaN  \n",
       "47002625  2014-10-18 07:00:00               NaN                   NaN  \n",
       "47002626  2014-10-18 09:00:00               NaN                   NaN  \n",
       "47002627  2014-10-18 14:00:00               NaN                   NaN  \n",
       "47002628  2014-10-18 19:00:00               NaN                   NaN  \n",
       "47002629  2014-10-18 20:00:00               NaN                   NaN  \n",
       "47002630  2014-10-18 22:00:00               NaN                   NaN  \n",
       "47002631  2014-10-19 02:00:00               NaN                   NaN  \n",
       "47002632  2014-10-19 03:00:00               NaN                   NaN  \n",
       "47002633  2014-10-19 05:00:00               NaN                   NaN  \n",
       "47002634  2014-10-19 07:00:00               NaN                   NaN  \n",
       "47002635  2014-10-19 08:00:00               NaN                   NaN  \n",
       "47002636  2014-10-19 16:00:00               NaN                   NaN  \n",
       "47002637  2014-10-19 17:00:00               NaN                   NaN  \n",
       "47002638  2014-10-19 19:00:00               NaN                   NaN  \n",
       "47002639  2014-10-19 21:00:00               NaN                   NaN  \n",
       "47002640  2014-10-19 22:00:00               NaN                   NaN  \n",
       "47002641  2014-10-20 03:00:00               NaN                   NaN  \n",
       "47002642  2014-10-20 06:00:00               NaN                   NaN  \n",
       "47002643  2014-10-20 12:00:00               NaN                   NaN  \n",
       "47002644  2014-10-20 19:00:00               NaN                   NaN  \n",
       "47002645  2014-10-20 22:00:00               NaN                   NaN  \n",
       "47002646  2014-10-20 23:00:00               NaN                   NaN  \n",
       "47002647  2014-10-21 01:00:00               NaN                   NaN  \n",
       "47002648  2014-10-21 02:00:00               NaN                   NaN  \n",
       "47002649  2014-10-21 03:00:00               NaN                   NaN  \n",
       "47002650  2014-10-21 14:00:00               NaN                   NaN  \n",
       "47002651  2014-10-21 15:00:00               NaN                   NaN  \n",
       "47002652  2014-10-21 20:00:00               NaN                   NaN  \n",
       "\n",
       "[47002653 rows x 12 columns]>"
      ]
     },
     "execution_count": 6,
     "metadata": {},
     "output_type": "execute_result"
    }
   ],
   "source": [
    "dsFile.describe"
   ]
  },
  {
   "cell_type": "code",
   "execution_count": 10,
   "metadata": {
    "collapsed": false
   },
   "outputs": [
    {
     "data": {
      "text/plain": [
       "(47002653, 12)"
      ]
     },
     "execution_count": 10,
     "metadata": {},
     "output_type": "execute_result"
    }
   ],
   "source": [
    "dsFile.shape"
   ]
  },
  {
   "cell_type": "code",
   "execution_count": 11,
   "metadata": {
    "collapsed": false
   },
   "outputs": [
    {
     "data": {
      "text/plain": [
       "Index(['ds_clust', 'ds_name', 'ds_cap_gb', 'ds_free_space', 'ds_storagetier',\n",
       "       'ds_storagetype', 'ds_readiops', 'ds_writeiops', 'ds_loc', 'ds_time',\n",
       "       'ds_provisionedgb', 'ds_overprovisionedgb'],\n",
       "      dtype='object')"
      ]
     },
     "execution_count": 11,
     "metadata": {},
     "output_type": "execute_result"
    }
   ],
   "source": [
    "dsFile.columns"
   ]
  },
  {
   "cell_type": "code",
   "execution_count": 14,
   "metadata": {
    "collapsed": true
   },
   "outputs": [],
   "source": [
    "All_unique_loc = dsFile.ds_loc.unique()"
   ]
  },
  {
   "cell_type": "code",
   "execution_count": 15,
   "metadata": {
    "collapsed": false
   },
   "outputs": [
    {
     "data": {
      "text/plain": [
       "array(['mel', 'ash02na15', 'AMS', 'HKG01AP5', 'SYDau9', 'IL1MED1',\n",
       "       'ASH02na11', 'WLG01AU12', 'HLZ01AU11', 'YYZ01CA2', 'JNB01AF5',\n",
       "       'JNB03AF4', 'JNB02AF4', 'ash02na14', 'HND01AP4', 'SNUna16', 'AMD',\n",
       "       'snuna17', 'IL2MED1', 'EU7AMS', 'JNB01AF3', 'ash02na18', 'ASH02NA9',\n",
       "       'jnb02', 'ash02alk', 'LHR03EU8', 'ash02', 'amsalk', 'melau10',\n",
       "       'MELau10', 'ap3', 'CBRAC2', 'cgk02id2', 'SNUna13', 'sin02ap6',\n",
       "       'sin03ap7', 'ASH02na10', 'SNUna12', 'fra', 'FRA02EU10', 'FRA03EU11',\n",
       "       'ASH', 'gci', 'GRU01', 'HKG', 'ash02ell', 'acc', 'HLZ', 'NA2',\n",
       "       'cbr01', 'cgk01', 'CGK', 'hnd', 'csyd01', 'JNB', 'mrcy', 'SNU',\n",
       "       'NA4', 'lhr03', 'jer', 'als', 'boq', 'SYD', 'yyz01', 'ap10',\n",
       "       'BRU03EU9', 'sin01ap8', 'sin01ap9', 'No Report'], dtype=object)"
      ]
     },
     "execution_count": 15,
     "metadata": {},
     "output_type": "execute_result"
    }
   ],
   "source": [
    "All_unique_loc"
   ]
  },
  {
   "cell_type": "code",
   "execution_count": 20,
   "metadata": {
    "collapsed": false
   },
   "outputs": [
    {
     "data": {
      "text/plain": [
       "<function ndarray.sort>"
      ]
     },
     "execution_count": 20,
     "metadata": {},
     "output_type": "execute_result"
    }
   ],
   "source": [
    "All_unique_loc.sort"
   ]
  },
  {
   "cell_type": "code",
   "execution_count": 21,
   "metadata": {
    "collapsed": false
   },
   "outputs": [
    {
     "data": {
      "text/plain": [
       "array(['AMD', 'AMS', 'ASH', 'ASH02NA9', 'ASH02na10', 'ASH02na11',\n",
       "       'BRU03EU9', 'CBRAC2', 'CGK', 'EU7AMS', 'FRA02EU10', 'FRA03EU11',\n",
       "       'GRU01', 'HKG', 'HKG01AP5', 'HLZ', 'HLZ01AU11', 'HND01AP4',\n",
       "       'IL1MED1', 'IL2MED1', 'JNB', 'JNB01AF3', 'JNB01AF5', 'JNB02AF4',\n",
       "       'JNB03AF4', 'LHR03EU8', 'MELau10', 'NA2', 'NA4', 'No Report', 'SNU',\n",
       "       'SNUna12', 'SNUna13', 'SNUna16', 'SYD', 'SYDau9', 'WLG01AU12',\n",
       "       'YYZ01CA2', 'acc', 'als', 'amsalk', 'ap10', 'ap3', 'ash02',\n",
       "       'ash02alk', 'ash02ell', 'ash02na14', 'ash02na15', 'ash02na18',\n",
       "       'boq', 'cbr01', 'cgk01', 'cgk02id2', 'csyd01', 'fra', 'gci', 'hnd',\n",
       "       'jer', 'jnb02', 'lhr03', 'mel', 'melau10', 'mrcy', 'sin01ap8',\n",
       "       'sin01ap9', 'sin02ap6', 'sin03ap7', 'snuna17', 'yyz01'], dtype=object)"
      ]
     },
     "execution_count": 21,
     "metadata": {},
     "output_type": "execute_result"
    }
   ],
   "source": [
    "All_unique_loc"
   ]
  },
  {
   "cell_type": "code",
   "execution_count": 22,
   "metadata": {
    "collapsed": false
   },
   "outputs": [
    {
     "name": "stderr",
     "output_type": "stream",
     "text": [
      "C:\\Users\\Home\\Anaconda3\\lib\\site-packages\\ipykernel\\__main__.py:1: FutureWarning: sort(columns=....) is deprecated, use sort_values(by=.....)\n",
      "  if __name__ == '__main__':\n"
     ]
    }
   ],
   "source": [
    "sorted_dsFile = dsFile.sort(columns='ds_loc')"
   ]
  },
  {
   "cell_type": "code",
   "execution_count": 24,
   "metadata": {
    "collapsed": false
   },
   "outputs": [],
   "source": [
    "sorted_dsFile.set_index(keys='ds_loc', drop=False, inplace=True)"
   ]
  },
  {
   "cell_type": "code",
   "execution_count": 27,
   "metadata": {
    "collapsed": false
   },
   "outputs": [
    {
     "data": {
      "text/plain": [
       "(47002653, 12)"
      ]
     },
     "execution_count": 27,
     "metadata": {},
     "output_type": "execute_result"
    }
   ],
   "source": [
    "sorted_dsFile.shape"
   ]
  },
  {
   "cell_type": "code",
   "execution_count": 32,
   "metadata": {
    "collapsed": false
   },
   "outputs": [
    {
     "data": {
      "text/plain": [
       "Index(['ds_clust', 'ds_name', 'ds_cap_gb', 'ds_free_space', 'ds_storagetier',\n",
       "       'ds_storagetype', 'ds_readiops', 'ds_writeiops', 'ds_loc', 'ds_time',\n",
       "       'ds_provisionedgb', 'ds_overprovisionedgb'],\n",
       "      dtype='object')"
      ]
     },
     "execution_count": 32,
     "metadata": {},
     "output_type": "execute_result"
    }
   ],
   "source": [
    "sorted_dsFile.columns"
   ]
  },
  {
   "cell_type": "code",
   "execution_count": 50,
   "metadata": {
    "collapsed": false
   },
   "outputs": [
    {
     "data": {
      "text/plain": [
       "<bound method NDFrame.head of          ds_clust                ds_name  ds_cap_gb  ds_free_space  \\\n",
       "ds_loc                                                               \n",
       "AMD     amdc4e01p  AMD-5700-01_CL1STD_55    5119.75    5118.776367   \n",
       "AMD     amdc4e01p       AMD_VNX-1_VM_001    5119.75     413.570000   \n",
       "AMD     amdc4e01p       AMD_VNX-1_VM_001    5119.75     413.570000   \n",
       "AMD     amdc4e01p       AMD_VNX-1_VM_001    5119.75     413.570000   \n",
       "AMD     amdc4e01p       AMD_VNX-1_VM_001    5119.75     413.570000   \n",
       "AMD     amdc4e01p       AMD_VNX-1_VM_001    5119.75     413.570000   \n",
       "AMD     amdc4e01p       AMD_VNX-1_VM_001    5119.75     413.570000   \n",
       "AMD     amdc4e01p       AMD_VNX-1_VM_001    5119.75     413.570000   \n",
       "AMD     amdc4e01p       AMD_VNX-1_VM_001    5119.75     413.570000   \n",
       "AMD     amdc4e01p       AMD_VNX-1_VM_001    5119.75     413.570000   \n",
       "AMD     amdc4e01p       AMD_VNX-1_VM_001    5119.75     413.570000   \n",
       "AMD     amdc4e01p       AMD_VNX-1_VM_001    5119.75     413.570000   \n",
       "AMD     amdc4e01p       AMD_VNX-1_VM_001    5119.75     413.570000   \n",
       "AMD     amdc4e01p       AMD_VNX-1_VM_001    5119.75     413.570000   \n",
       "AMD     amdc4e01p       AMD_VNX-1_VM_001    5119.75     413.570000   \n",
       "AMD     amdc4e01p       AMD_VNX-1_VM_001    5119.75     413.570000   \n",
       "AMD     amdc4e01p       AMD_VNX-1_VM_001    5119.75     413.570000   \n",
       "AMD     amdc4e01p       AMD_VNX-1_VM_001    5119.75     413.570000   \n",
       "AMD     amdc4e01p       AMD_VNX-1_VM_001    5119.75     413.570000   \n",
       "AMD     amdc4e01p       AMD_VNX-1_VM_001    5119.75     413.570000   \n",
       "AMD     amdc4e01p       AMD_VNX-1_VM_001    5119.75     413.570000   \n",
       "AMD     amdc4e01p       AMD_VNX-1_VM_001    5119.75     413.570000   \n",
       "AMD     amdc4e01p       AMD_VNX-1_VM_001    5119.75     413.570000   \n",
       "AMD     amdc4e01p       AMD_VNX-1_VM_001    5119.75     413.570000   \n",
       "AMD     amdc4e01p       AMD_VNX-1_VM_001    5119.75     413.570000   \n",
       "AMD     amdc4e01p       AMD_VNX-1_VM_001    5119.75     413.570000   \n",
       "AMD     amdc4e01p       AMD_VNX-1_VM_001    5119.75     413.570000   \n",
       "AMD     amdc4e01p       AMD_VNX-1_VM_001    5119.75     413.570000   \n",
       "AMD     amdc4e01p       AMD_VNX-1_VM_001    5119.75     413.570000   \n",
       "AMD     amdc4e01p       AMD_VNX-1_VM_001    5119.75     413.570000   \n",
       "...           ...                    ...        ...            ...   \n",
       "AMD     amdc4e01p       AMD_VNX-1_VM_008    5119.75     419.040000   \n",
       "AMD     amdc4e01p       AMD_VNX-1_VM_008    5119.75     419.040000   \n",
       "AMD     amdc4e01p       AMD_VNX-1_VM_008    5119.75     419.040000   \n",
       "AMD     amdc4e01p       AMD_VNX-1_VM_008    5119.75     419.040000   \n",
       "AMD     amdc4e01p       AMD_VNX-1_VM_008    5119.75     418.992188   \n",
       "AMD     amdc4e01p       AMD_VNX-1_VM_008    5119.75     418.992188   \n",
       "AMD     amdc4e01p       AMD_VNX-1_VM_008    5119.75     418.992188   \n",
       "AMD     amdc4e01p       AMD_VNX-1_VM_008    5119.75     418.946289   \n",
       "AMD     amdc4e01p       AMD_VNX-1_VM_008    5119.75     418.946289   \n",
       "AMD     amdc4e01p       AMD_VNX-1_VM_008    5119.75     418.946289   \n",
       "AMD     amdc4e01p       AMD_VNX-1_VM_008    5119.75     418.946289   \n",
       "AMD     amdc4e01p       AMD_VNX-1_VM_008    5119.75     418.946289   \n",
       "AMD     amdc4e01p       AMD_VNX-1_VM_009    5119.75     412.720000   \n",
       "AMD     amdc4e01p       AMD_VNX-1_VM_009    5119.75     413.130000   \n",
       "AMD     amdc4e01p       AMD_VNX-1_VM_009    5119.75     413.130000   \n",
       "AMD     amdc4e01p       AMD_VNX-1_VM_008    5119.75     418.946289   \n",
       "AMD     amdc4e01p       AMD_VNX-1_VM_009    5119.75     413.130000   \n",
       "AMD     amdc4e01p       AMD_VNX-1_VM_008    5119.75     419.040000   \n",
       "AMD     amdc4e01p       AMD_VNX-1_VM_008    5119.75     419.040000   \n",
       "AMD     amdc4e01p       AMD_VNX-1_VM_008    5119.75     419.040000   \n",
       "AMD     amdc4e01p       AMD_VNX-1_VM_008    5119.75     419.040000   \n",
       "AMD     amdc4e01p       AMD_VNX-1_VM_008    5119.75     419.040000   \n",
       "AMD     amdc4e01p       AMD_VNX-1_VM_008    5119.75     419.040000   \n",
       "AMD     amdc4e01p       AMD_VNX-1_VM_008    5119.75     419.040000   \n",
       "AMD     amdc4e01p       AMD_VNX-1_VM_008    5119.75     419.040000   \n",
       "AMD     amdc4e01p       AMD_VNX-1_VM_006    5119.75    5105.660000   \n",
       "AMD     amdc4e01p       AMD_VNX-1_VM_008    5119.75     418.944336   \n",
       "AMD     amdc4e01p       AMD_VNX-1_VM_009    5119.75     412.720000   \n",
       "AMD     amdc4e01p       AMD_VNX-1_VM_009    5119.75     412.720000   \n",
       "AMD     amdc4e01p       AMD_VNX-1_VM_009    5119.75     412.720000   \n",
       "\n",
       "       ds_storagetier ds_storagetype  ds_readiops  ds_writeiops ds_loc  \\\n",
       "ds_loc                                                                   \n",
       "AMD          STANDARD           VMFS          NaN           NaN    AMD   \n",
       "AMD               NaN            NaN          NaN           NaN    AMD   \n",
       "AMD               NaN            NaN          NaN           NaN    AMD   \n",
       "AMD               NaN            NaN          NaN           NaN    AMD   \n",
       "AMD               NaN            NaN          NaN           NaN    AMD   \n",
       "AMD               NaN            NaN          NaN           NaN    AMD   \n",
       "AMD               NaN            NaN          NaN           NaN    AMD   \n",
       "AMD               NaN            NaN          NaN           NaN    AMD   \n",
       "AMD               NaN            NaN          NaN           NaN    AMD   \n",
       "AMD               NaN            NaN          NaN           NaN    AMD   \n",
       "AMD               NaN            NaN          NaN           NaN    AMD   \n",
       "AMD               NaN            NaN          NaN           NaN    AMD   \n",
       "AMD               NaN            NaN          NaN           NaN    AMD   \n",
       "AMD               NaN            NaN          NaN           NaN    AMD   \n",
       "AMD               NaN            NaN          NaN           NaN    AMD   \n",
       "AMD               NaN            NaN          NaN           NaN    AMD   \n",
       "AMD               NaN            NaN          NaN           NaN    AMD   \n",
       "AMD               NaN            NaN          NaN           NaN    AMD   \n",
       "AMD               NaN            NaN          NaN           NaN    AMD   \n",
       "AMD               NaN            NaN          NaN           NaN    AMD   \n",
       "AMD               NaN            NaN          NaN           NaN    AMD   \n",
       "AMD               NaN            NaN          NaN           NaN    AMD   \n",
       "AMD               NaN            NaN          NaN           NaN    AMD   \n",
       "AMD               NaN            NaN          NaN           NaN    AMD   \n",
       "AMD               NaN            NaN          NaN           NaN    AMD   \n",
       "AMD               NaN            NaN          NaN           NaN    AMD   \n",
       "AMD               NaN            NaN          NaN           NaN    AMD   \n",
       "AMD               NaN            NaN          NaN           NaN    AMD   \n",
       "AMD               NaN            NaN          NaN           NaN    AMD   \n",
       "AMD               NaN            NaN          NaN           NaN    AMD   \n",
       "...               ...            ...          ...           ...    ...   \n",
       "AMD               NaN            NaN          NaN           NaN    AMD   \n",
       "AMD               NaN            NaN          NaN           NaN    AMD   \n",
       "AMD               NaN            NaN          NaN           NaN    AMD   \n",
       "AMD               NaN            NaN          NaN           NaN    AMD   \n",
       "AMD          STANDARD           VMFS          NaN           NaN    AMD   \n",
       "AMD          STANDARD           VMFS          NaN           NaN    AMD   \n",
       "AMD          STANDARD           VMFS          NaN           NaN    AMD   \n",
       "AMD          STANDARD           VMFS          NaN           NaN    AMD   \n",
       "AMD          STANDARD           VMFS          NaN           NaN    AMD   \n",
       "AMD          STANDARD           VMFS          NaN           NaN    AMD   \n",
       "AMD          STANDARD           VMFS          NaN           NaN    AMD   \n",
       "AMD          STANDARD           VMFS          NaN           NaN    AMD   \n",
       "AMD               NaN            NaN          NaN           NaN    AMD   \n",
       "AMD               NaN            NaN          NaN           NaN    AMD   \n",
       "AMD               NaN            NaN          NaN           NaN    AMD   \n",
       "AMD          STANDARD           VMFS          NaN           NaN    AMD   \n",
       "AMD               NaN            NaN          NaN           NaN    AMD   \n",
       "AMD               NaN            NaN          NaN           NaN    AMD   \n",
       "AMD               NaN            NaN          NaN           NaN    AMD   \n",
       "AMD               NaN            NaN          NaN           NaN    AMD   \n",
       "AMD               NaN            NaN          NaN           NaN    AMD   \n",
       "AMD               NaN            NaN          NaN           NaN    AMD   \n",
       "AMD               NaN            NaN          NaN           NaN    AMD   \n",
       "AMD               NaN            NaN          NaN           NaN    AMD   \n",
       "AMD               NaN            NaN          NaN           NaN    AMD   \n",
       "AMD               NaN            NaN          NaN           NaN    AMD   \n",
       "AMD          STANDARD           VMFS          NaN           NaN    AMD   \n",
       "AMD               NaN            NaN          NaN           NaN    AMD   \n",
       "AMD               NaN            NaN          NaN           NaN    AMD   \n",
       "AMD               NaN            NaN          NaN           NaN    AMD   \n",
       "\n",
       "                   ds_time  ds_provisionedgb  ds_overprovisionedgb  \n",
       "ds_loc                                                              \n",
       "AMD    2016-05-20 05:21:16               NaN                   NaN  \n",
       "AMD    2013-12-08 22:30:01               NaN                   NaN  \n",
       "AMD    2013-12-08 20:30:01               NaN                   NaN  \n",
       "AMD    2013-12-08 13:30:01               NaN                   NaN  \n",
       "AMD    2013-12-08 12:30:01               NaN                   NaN  \n",
       "AMD    2013-12-08 02:30:01               NaN                   NaN  \n",
       "AMD    2013-12-08 01:30:01               NaN                   NaN  \n",
       "AMD    2013-12-08 00:30:01               NaN                   NaN  \n",
       "AMD    2013-12-07 20:30:01               NaN                   NaN  \n",
       "AMD    2013-12-07 19:30:01               NaN                   NaN  \n",
       "AMD    2013-12-07 16:30:01               NaN                   NaN  \n",
       "AMD    2013-12-07 15:30:01               NaN                   NaN  \n",
       "AMD    2013-12-07 13:30:01               NaN                   NaN  \n",
       "AMD    2013-12-09 00:30:01               NaN                   NaN  \n",
       "AMD    2013-12-07 12:30:01               NaN                   NaN  \n",
       "AMD    2013-12-07 06:30:01               NaN                   NaN  \n",
       "AMD    2013-12-07 04:30:01               NaN                   NaN  \n",
       "AMD    2013-12-07 02:30:01               NaN                   NaN  \n",
       "AMD    2013-12-07 01:30:01               NaN                   NaN  \n",
       "AMD    2013-12-07 00:30:01               NaN                   NaN  \n",
       "AMD    2013-12-06 23:30:01               NaN                   NaN  \n",
       "AMD    2013-12-06 20:30:01               NaN                   NaN  \n",
       "AMD    2013-12-06 15:30:01               NaN                   NaN  \n",
       "AMD    2013-12-06 14:30:01               NaN                   NaN  \n",
       "AMD    2013-12-06 10:30:00               NaN                   NaN  \n",
       "AMD    2013-12-06 09:30:01               NaN                   NaN  \n",
       "AMD    2013-12-06 06:30:00               NaN                   NaN  \n",
       "AMD    2013-12-07 09:30:01               NaN                   NaN  \n",
       "AMD    2013-12-09 02:30:01               NaN                   NaN  \n",
       "AMD    2013-12-09 07:30:01               NaN                   NaN  \n",
       "...                    ...               ...                   ...  \n",
       "AMD    2014-04-03 01:30:00               NaN                   NaN  \n",
       "AMD    2014-04-03 02:30:00               NaN                   NaN  \n",
       "AMD    2014-04-03 04:30:00               NaN                   NaN  \n",
       "AMD    2014-04-03 05:30:00               NaN                   NaN  \n",
       "AMD    2015-10-28 12:19:36               NaN                   NaN  \n",
       "AMD    2015-10-28 05:19:34               NaN                   NaN  \n",
       "AMD    2015-10-28 02:19:37               NaN                   NaN  \n",
       "AMD    2015-11-03 02:19:41               NaN                   NaN  \n",
       "AMD    2015-10-30 18:19:10               NaN                   NaN  \n",
       "AMD    2015-10-30 22:22:12               NaN                   NaN  \n",
       "AMD    2015-10-31 02:22:27               NaN                   NaN  \n",
       "AMD    2015-10-31 03:35:57               NaN                   NaN  \n",
       "AMD    2014-12-03 05:30:00               NaN                   NaN  \n",
       "AMD    2015-04-16 19:30:00               NaN                   NaN  \n",
       "AMD    2015-04-16 22:30:00               NaN                   NaN  \n",
       "AMD    2015-10-30 11:19:47               NaN                   NaN  \n",
       "AMD    2015-04-17 00:30:00               NaN                   NaN  \n",
       "AMD    2014-04-04 00:30:00               NaN                   NaN  \n",
       "AMD    2014-04-03 19:30:00               NaN                   NaN  \n",
       "AMD    2014-04-03 15:30:00               NaN                   NaN  \n",
       "AMD    2014-04-03 14:30:00               NaN                   NaN  \n",
       "AMD    2014-04-03 11:30:00               NaN                   NaN  \n",
       "AMD    2014-04-03 08:30:00               NaN                   NaN  \n",
       "AMD    2014-04-03 06:30:00               NaN                   NaN  \n",
       "AMD    2014-04-04 01:30:00               NaN                   NaN  \n",
       "AMD    2013-12-04 04:30:01               NaN                   NaN  \n",
       "AMD    2015-11-02 04:19:04               NaN                   NaN  \n",
       "AMD    2014-12-02 23:30:00               NaN                   NaN  \n",
       "AMD    2014-12-03 01:30:00               NaN                   NaN  \n",
       "AMD    2014-12-03 04:30:00               NaN                   NaN  \n",
       "\n",
       "[1066349 rows x 12 columns]>"
      ]
     },
     "execution_count": 50,
     "metadata": {},
     "output_type": "execute_result"
    }
   ],
   "source": [
    "AMD_data.head"
   ]
  },
  {
   "cell_type": "code",
   "execution_count": 37,
   "metadata": {
    "collapsed": false
   },
   "outputs": [
    {
     "data": {
      "text/plain": [
       "(1066349, 12)"
      ]
     },
     "execution_count": 37,
     "metadata": {},
     "output_type": "execute_result"
    }
   ],
   "source": [
    "AMD_data.shape"
   ]
  },
  {
   "cell_type": "code",
   "execution_count": 54,
   "metadata": {
    "collapsed": false
   },
   "outputs": [
    {
     "name": "stderr",
     "output_type": "stream",
     "text": [
      "C:\\Users\\Home\\Anaconda3\\lib\\site-packages\\ipykernel\\__main__.py:1: SettingWithCopyWarning: \n",
      "A value is trying to be set on a copy of a slice from a DataFrame\n",
      "\n",
      "See the caveats in the documentation: http://pandas.pydata.org/pandas-docs/stable/indexing.html#indexing-view-versus-copy\n",
      "  if __name__ == '__main__':\n"
     ]
    }
   ],
   "source": [
    "AMD_data.sort_values(by='ds_time', inplace=True)"
   ]
  },
  {
   "cell_type": "code",
   "execution_count": 55,
   "metadata": {
    "collapsed": false
   },
   "outputs": [
    {
     "data": {
      "text/plain": [
       "<bound method NDFrame.head of          ds_clust                 ds_name  ds_cap_gb  ds_free_space  \\\n",
       "ds_loc                                                                \n",
       "AMD     amdc4e01p        AMD_VNX-1_VM_005    5119.75    5116.990000   \n",
       "AMD     amdc4e01p        AMD_VNX-1_VM_006    5119.75    5105.720000   \n",
       "AMD     amdc4e01p        AMD_VNX-1_VM_010    5119.75    5118.770000   \n",
       "AMD     amdc4e01p        AMD_VNX-1_VM_002    5119.75     498.630000   \n",
       "AMD     amdc4e01p        AMD_VNX-1_VM_004    5119.75     404.180000   \n",
       "AMD     amdc4e01p        AMD_VNX-1_VM_013    5119.75    5118.780000   \n",
       "AMD     amdc4e01p        AMD_VNX-1_VM_009    5119.75    5078.770000   \n",
       "AMD     amdc4e01p        AMD_VNX-1_VM_007    5119.75     795.240000   \n",
       "AMD     amdc4e01p        AMD_VNX-1_VM_011    5119.75    5118.770000   \n",
       "AMD     amdc4e01p        AMD_VNX-1_VM_008    5119.75    5109.050000   \n",
       "AMD     amdc4e01p        AMD_VNX-1_VM_003    5119.75     446.210000   \n",
       "AMD     amdc4e01p        AMD_VNX-1_VM_012    5119.75    5101.650000   \n",
       "AMD     amdc4e01p        AMD_VNX-1_VM_015    5119.75    5118.780000   \n",
       "AMD     amdc4e01p  AMD_VNX-1_Template_001    5119.75    2000.640000   \n",
       "AMD     amdc4e01p        AMD_VNX-1_VM_014    5119.75    5118.780000   \n",
       "AMD     amdc4e01p        AMD_VNX-1_VM_001    5119.75    4220.460000   \n",
       "AMD     amdc4e01p        AMD_VNX-1_VM_008    5119.75    5109.050000   \n",
       "AMD     amdc4e01p        AMD_VNX-1_VM_006    5119.75    5105.720000   \n",
       "AMD     amdc4e01p        AMD_VNX-1_VM_015    5119.75    5118.780000   \n",
       "AMD     amdc4e01p        AMD_VNX-1_VM_002    5119.75     498.630000   \n",
       "AMD     amdc4e01p        AMD_VNX-1_VM_014    5119.75    5118.780000   \n",
       "AMD     amdc4e01p        AMD_VNX-1_VM_005    5119.75    5116.990000   \n",
       "AMD     amdc4e01p        AMD_VNX-1_VM_011    5119.75    5118.770000   \n",
       "AMD     amdc4e01p        AMD_VNX-1_VM_012    5119.75    5101.650000   \n",
       "AMD     amdc4e01p        AMD_VNX-1_VM_003    5119.75     446.210000   \n",
       "AMD     amdc4e01p        AMD_VNX-1_VM_007    5119.75     795.240000   \n",
       "AMD     amdc4e01p        AMD_VNX-1_VM_001    5119.75    4220.460000   \n",
       "AMD     amdc4e01p        AMD_VNX-1_VM_004    5119.75     404.180000   \n",
       "AMD     amdc4e01p        AMD_VNX-1_VM_010    5119.75    5118.770000   \n",
       "AMD     amdc4e01p        AMD_VNX-1_VM_013    5119.75    5118.780000   \n",
       "...           ...                     ...        ...            ...   \n",
       "AMD     amdc4e01p   AMD-5700-01_CL1STD_79    5119.75     418.770508   \n",
       "AMD     amdc4e01p        AMD_VNX-1_VM_004    5119.75    1170.961914   \n",
       "AMD     amdc4e01p        AMD_VNX-1_VM_025    5119.75     411.527344   \n",
       "AMD     amdc4e01p   AMD_5700-01_CL1STD_40    5119.75     415.997070   \n",
       "AMD     amdc4e01p        AMD_VNX-1_VM_024    5119.75    2428.759766   \n",
       "AMD     amdc4e01p   AMD-5700-01_CL1STD_61    5119.75    3056.527344   \n",
       "AMD     amdc4e01p        AMD_VNX-1_VM_027    5119.75     413.977539   \n",
       "AMD     amdc4e01p        AMD_VNX-1_VM_030    5119.75     647.996094   \n",
       "AMD     amdc4e01p   AMD-5700-01_CL1STD_53    5119.75    1430.812500   \n",
       "AMD     amdc4e01p   AMD_5700-01_CL1STD_45    5119.75    1894.278320   \n",
       "AMD     amdc4e01p   AMD-5700-01_CL1STD_69    5119.75     593.037109   \n",
       "AMD     amdc4e01p   AMD_5700-01_CL1STD_43    5119.75     427.157227   \n",
       "AMD     amdc4e01p   AMD-5700-01_CL1STD_78    5119.75    5032.313477   \n",
       "AMD     amdc4e01p   AMD-5700-01_CL1STD_54    5119.75     434.737305   \n",
       "AMD     amdc4e01p   AMD_5700-01_CL1STD_46    5119.75    2412.233398   \n",
       "AMD     amdc4e01p        AMD_VNX-1_VM_023    5119.75    1914.852539   \n",
       "AMD     amdc4e01p              TESTLUN2GB       1.75       1.203125   \n",
       "AMD     amdc4e01p   AMD-5700-01_CL1STD_62    5119.75    4138.773438   \n",
       "AMD     amdc4e01p        AMD_VNX-1_VM_026    5119.75    2621.337891   \n",
       "AMD     amdc4e01p        AMD_VNX-1_VM_015    5119.75     409.690430   \n",
       "AMD     amdc4e01p   AMD-5700-01_CL1STD_74    5119.75     426.630859   \n",
       "AMD     amdc4e01p   AMD_5700-01_CL1STD_47    5119.75     418.282227   \n",
       "AMD     amdc4e01p        AMD_VNX-1_VM_031    5119.75     418.725586   \n",
       "AMD     amdc4e01p   AMD_5700-01_CL1STD_49    5119.75     416.249023   \n",
       "AMD     amdc4e01p   AMD-5700-01_CL1STD_77    5119.75    1130.509766   \n",
       "AMD     amdc4e01p   AMD-5700-01_CL1STD_71    5119.75     411.552734   \n",
       "AMD     amdc4e01p        AMD_VNX-1_VM_028    5119.75     410.222656   \n",
       "AMD     amdc4e01p   AMD-5700-01_CL1STD_51    5119.75     834.241211   \n",
       "AMD     amdc4e01p   AMD-5700-01_CL1STD_80    5119.75    4588.768555   \n",
       "AMD     amdc4e01p   AMD-5700-01_CL1STD_55    5119.75    4618.776367   \n",
       "\n",
       "       ds_storagetier ds_storagetype  ds_readiops  ds_writeiops ds_loc  \\\n",
       "ds_loc                                                                   \n",
       "AMD               NaN            NaN          NaN           NaN    AMD   \n",
       "AMD               NaN            NaN          NaN           NaN    AMD   \n",
       "AMD               NaN            NaN          NaN           NaN    AMD   \n",
       "AMD               NaN            NaN          NaN           NaN    AMD   \n",
       "AMD               NaN            NaN          NaN           NaN    AMD   \n",
       "AMD               NaN            NaN          NaN           NaN    AMD   \n",
       "AMD               NaN            NaN          NaN           NaN    AMD   \n",
       "AMD               NaN            NaN          NaN           NaN    AMD   \n",
       "AMD               NaN            NaN          NaN           NaN    AMD   \n",
       "AMD               NaN            NaN          NaN           NaN    AMD   \n",
       "AMD               NaN            NaN          NaN           NaN    AMD   \n",
       "AMD               NaN            NaN          NaN           NaN    AMD   \n",
       "AMD               NaN            NaN          NaN           NaN    AMD   \n",
       "AMD               NaN            NaN          NaN           NaN    AMD   \n",
       "AMD               NaN            NaN          NaN           NaN    AMD   \n",
       "AMD               NaN            NaN          NaN           NaN    AMD   \n",
       "AMD               NaN            NaN          NaN           NaN    AMD   \n",
       "AMD               NaN            NaN          NaN           NaN    AMD   \n",
       "AMD               NaN            NaN          NaN           NaN    AMD   \n",
       "AMD               NaN            NaN          NaN           NaN    AMD   \n",
       "AMD               NaN            NaN          NaN           NaN    AMD   \n",
       "AMD               NaN            NaN          NaN           NaN    AMD   \n",
       "AMD               NaN            NaN          NaN           NaN    AMD   \n",
       "AMD               NaN            NaN          NaN           NaN    AMD   \n",
       "AMD               NaN            NaN          NaN           NaN    AMD   \n",
       "AMD               NaN            NaN          NaN           NaN    AMD   \n",
       "AMD               NaN            NaN          NaN           NaN    AMD   \n",
       "AMD               NaN            NaN          NaN           NaN    AMD   \n",
       "AMD               NaN            NaN          NaN           NaN    AMD   \n",
       "AMD               NaN            NaN          NaN           NaN    AMD   \n",
       "...               ...            ...          ...           ...    ...   \n",
       "AMD          STANDARD           VMFS          NaN           NaN    AMD   \n",
       "AMD          STANDARD           VMFS          NaN           NaN    AMD   \n",
       "AMD          STANDARD           VMFS          NaN           NaN    AMD   \n",
       "AMD          STANDARD           VMFS          NaN           NaN    AMD   \n",
       "AMD          STANDARD           VMFS          NaN           NaN    AMD   \n",
       "AMD          STANDARD           VMFS          NaN           NaN    AMD   \n",
       "AMD          STANDARD           VMFS          NaN           NaN    AMD   \n",
       "AMD          STANDARD           VMFS          NaN           NaN    AMD   \n",
       "AMD          STANDARD           VMFS          NaN           NaN    AMD   \n",
       "AMD          STANDARD           VMFS          NaN           NaN    AMD   \n",
       "AMD          STANDARD           VMFS          NaN           NaN    AMD   \n",
       "AMD          STANDARD           VMFS          NaN           NaN    AMD   \n",
       "AMD          STANDARD           VMFS          NaN           NaN    AMD   \n",
       "AMD          STANDARD           VMFS          NaN           NaN    AMD   \n",
       "AMD          STANDARD           VMFS          NaN           NaN    AMD   \n",
       "AMD          STANDARD           VMFS          NaN           NaN    AMD   \n",
       "AMD         datastore           VMFS          NaN           NaN    AMD   \n",
       "AMD          STANDARD           VMFS          NaN           NaN    AMD   \n",
       "AMD          STANDARD           VMFS          NaN           NaN    AMD   \n",
       "AMD          STANDARD           VMFS          NaN           NaN    AMD   \n",
       "AMD          STANDARD           VMFS          NaN           NaN    AMD   \n",
       "AMD          STANDARD           VMFS          NaN           NaN    AMD   \n",
       "AMD          STANDARD           VMFS          NaN           NaN    AMD   \n",
       "AMD          STANDARD           VMFS          NaN           NaN    AMD   \n",
       "AMD          STANDARD           VMFS          NaN           NaN    AMD   \n",
       "AMD          STANDARD           VMFS          NaN           NaN    AMD   \n",
       "AMD          STANDARD           VMFS          NaN           NaN    AMD   \n",
       "AMD          STANDARD           VMFS          NaN           NaN    AMD   \n",
       "AMD          STANDARD           VMFS          NaN           NaN    AMD   \n",
       "AMD          STANDARD           VMFS          NaN           NaN    AMD   \n",
       "\n",
       "                   ds_time  ds_provisionedgb  ds_overprovisionedgb  \n",
       "ds_loc                                                              \n",
       "AMD    2013-10-01 00:30:01               NaN                   NaN  \n",
       "AMD    2013-10-01 00:30:01               NaN                   NaN  \n",
       "AMD    2013-10-01 00:30:01               NaN                   NaN  \n",
       "AMD    2013-10-01 00:30:01               NaN                   NaN  \n",
       "AMD    2013-10-01 00:30:01               NaN                   NaN  \n",
       "AMD    2013-10-01 00:30:01               NaN                   NaN  \n",
       "AMD    2013-10-01 00:30:01               NaN                   NaN  \n",
       "AMD    2013-10-01 00:30:01               NaN                   NaN  \n",
       "AMD    2013-10-01 00:30:01               NaN                   NaN  \n",
       "AMD    2013-10-01 00:30:01               NaN                   NaN  \n",
       "AMD    2013-10-01 00:30:01               NaN                   NaN  \n",
       "AMD    2013-10-01 00:30:01               NaN                   NaN  \n",
       "AMD    2013-10-01 00:30:01               NaN                   NaN  \n",
       "AMD    2013-10-01 00:30:01               NaN                   NaN  \n",
       "AMD    2013-10-01 00:30:01               NaN                   NaN  \n",
       "AMD    2013-10-01 00:30:01               NaN                   NaN  \n",
       "AMD    2013-10-01 01:30:01               NaN                   NaN  \n",
       "AMD    2013-10-01 01:30:01               NaN                   NaN  \n",
       "AMD    2013-10-01 01:30:01               NaN                   NaN  \n",
       "AMD    2013-10-01 01:30:01               NaN                   NaN  \n",
       "AMD    2013-10-01 01:30:01               NaN                   NaN  \n",
       "AMD    2013-10-01 01:30:01               NaN                   NaN  \n",
       "AMD    2013-10-01 01:30:01               NaN                   NaN  \n",
       "AMD    2013-10-01 01:30:01               NaN                   NaN  \n",
       "AMD    2013-10-01 01:30:01               NaN                   NaN  \n",
       "AMD    2013-10-01 01:30:01               NaN                   NaN  \n",
       "AMD    2013-10-01 01:30:01               NaN                   NaN  \n",
       "AMD    2013-10-01 01:30:01               NaN                   NaN  \n",
       "AMD    2013-10-01 01:30:01               NaN                   NaN  \n",
       "AMD    2013-10-01 01:30:01               NaN                   NaN  \n",
       "...                    ...               ...                   ...  \n",
       "AMD    2016-11-30 22:20:35               NaN                   NaN  \n",
       "AMD    2016-11-30 22:20:35               NaN                   NaN  \n",
       "AMD    2016-11-30 22:20:35               NaN                   NaN  \n",
       "AMD    2016-11-30 22:20:35               NaN                   NaN  \n",
       "AMD    2016-11-30 22:20:35               NaN                   NaN  \n",
       "AMD    2016-11-30 22:20:35               NaN                   NaN  \n",
       "AMD    2016-11-30 22:20:35               NaN                   NaN  \n",
       "AMD    2016-11-30 22:20:35               NaN                   NaN  \n",
       "AMD    2016-11-30 22:20:35               NaN                   NaN  \n",
       "AMD    2016-11-30 22:20:35               NaN                   NaN  \n",
       "AMD    2016-11-30 22:20:35               NaN                   NaN  \n",
       "AMD    2016-11-30 22:20:35               NaN                   NaN  \n",
       "AMD    2016-11-30 22:20:35               NaN                   NaN  \n",
       "AMD    2016-11-30 22:20:35               NaN                   NaN  \n",
       "AMD    2016-11-30 22:20:35               NaN                   NaN  \n",
       "AMD    2016-11-30 22:20:35               NaN                   NaN  \n",
       "AMD    2016-11-30 22:20:35               NaN                   NaN  \n",
       "AMD    2016-11-30 22:20:35               NaN                   NaN  \n",
       "AMD    2016-11-30 22:20:35               NaN                   NaN  \n",
       "AMD    2016-11-30 22:20:35               NaN                   NaN  \n",
       "AMD    2016-11-30 22:20:35               NaN                   NaN  \n",
       "AMD    2016-11-30 22:20:35               NaN                   NaN  \n",
       "AMD    2016-11-30 22:20:35               NaN                   NaN  \n",
       "AMD    2016-11-30 22:20:35               NaN                   NaN  \n",
       "AMD    2016-11-30 22:20:35               NaN                   NaN  \n",
       "AMD    2016-11-30 22:20:35               NaN                   NaN  \n",
       "AMD    2016-11-30 22:20:35               NaN                   NaN  \n",
       "AMD    2016-11-30 22:20:35               NaN                   NaN  \n",
       "AMD    2016-11-30 22:20:35               NaN                   NaN  \n",
       "AMD    2016-11-30 22:20:35               NaN                   NaN  \n",
       "\n",
       "[1066349 rows x 12 columns]>"
      ]
     },
     "execution_count": 55,
     "metadata": {},
     "output_type": "execute_result"
    }
   ],
   "source": [
    "AMD_data.head"
   ]
  },
  {
   "cell_type": "code",
   "execution_count": 62,
   "metadata": {
    "collapsed": false
   },
   "outputs": [
    {
     "data": {
      "text/plain": [
       "array(['AMD_VNX-1_VM_005', 'AMD_VNX-1_VM_006', 'AMD_VNX-1_VM_010',\n",
       "       'AMD_VNX-1_VM_002', 'AMD_VNX-1_VM_004', 'AMD_VNX-1_VM_013',\n",
       "       'AMD_VNX-1_VM_009', 'AMD_VNX-1_VM_007', 'AMD_VNX-1_VM_011',\n",
       "       'AMD_VNX-1_VM_008', 'AMD_VNX-1_VM_003', 'AMD_VNX-1_VM_012',\n",
       "       'AMD_VNX-1_VM_015', 'AMD_VNX-1_Template_001', 'AMD_VNX-1_VM_014',\n",
       "       'AMD_VNX-1_VM_001', 'AMD_VNX-1_VM_019', 'AMD_VNX-1_VM_016',\n",
       "       'AMD_VNX-1_VM_017', 'AMD_VNX-1_VM_020', 'AMD_VNX-1_VM_018',\n",
       "       'AMD_VNX-1_VM_033', 'AMD_VNX-1_VM_026', 'AMD_VNX-1_VM_027',\n",
       "       'AMD_VNX-1_VM_023', 'AMD_VNX-1_VM_031', 'AMD_VNX-1_VM_024',\n",
       "       'AMD_VNX-1_VM_029', 'AMD_VNX-1_VM_021', 'AMD_VNX-1_VM_022',\n",
       "       'AMD_VNX-1_VM_032', 'AMD_VNX-1_VM_028', 'AMD_VNX-1_VM_025',\n",
       "       'AMD_VNX-1_VM_030', 'datastore1 (1)', 'datastore1',\n",
       "       'datastore1 (4)', 'datastore1 (3)', 'datastore1 (2)',\n",
       "       'AMD_VNX-1_VM_034', 'AMD_VNX-1_VM_035', 'AMD_5700-01_CL1STD_45',\n",
       "       'AMD_5700-01_CL1STD_44', 'AMD_5700-01_CL1STD_41',\n",
       "       'AMD_5700-01_CL1STD_43', 'AMD_5700-01_CL1STD_40',\n",
       "       'AMD_5700-01_CL1STD_37', 'AMD_5700-01_CL1STD_39',\n",
       "       'AMD_5700-01_CL1STD_36', 'AMD_5700-01_CL1STD_46',\n",
       "       'AMD_5700-01_CL1STD_49', 'AMD_5700-01_CL1STD_47',\n",
       "       'AMD_5700-01_CL1STD_42', 'AMD_5700-01_CL1STD_38',\n",
       "       'AMD_5700-01_CL1STD_48', 'AMD-5700-01_CL1STD_50',\n",
       "       'AMD-5700-01_CL1STD_57', 'AMD-5700-01_CL1STD_56',\n",
       "       'AMD-5700-01_CL1STD_59', 'AMD-5700-01_CL1STD_51',\n",
       "       'AMD-5700-01_CL1STD_52', 'AMD-5700-01_CL1STD_58',\n",
       "       'AMD-5700-01_CL1STD_64', 'AMD-5700-01_CL1STD_65',\n",
       "       'AMD-5700-01_CL1STD_55', 'AMD-5700-01_CL1STD_60',\n",
       "       'AMD-5700-01_CL1STD_62', 'AMD-5700-01_CL1STD_61',\n",
       "       'AMD-5700-01_CL1STD_53', 'AMD-5700-01_CL1STD_54',\n",
       "       'AMD-5700-01_CL1STD_63', 'AMD-5700-01_CL1STD_78',\n",
       "       'AMD-5700-01_CL1STD_67', 'AMD-5700-01_CL1STD_73',\n",
       "       'AMD-5700-01_CL1STD_71', 'AMD-5700-01_CL1STD_77',\n",
       "       'AMD-5700-01_CL1STD_69', 'AMD-5700-01_CL1STD_74',\n",
       "       'AMD-5700-01_CL1STD_68', 'AMD-5700-01_CL1STD_70',\n",
       "       'AMD-5700-01_CL1STD_75', 'AMD-5700-01_CL1STD_66',\n",
       "       'AMD-5700-01_CL1STD_72', 'AMD-5700-01_CL1STD_79',\n",
       "       'AMD-5700-01_CL1STD_76', 'AMD-5700-01_CL1STD_80', 'BSNL_Testlun',\n",
       "       'TESTLUN2GB'], dtype=object)"
      ]
     },
     "execution_count": 62,
     "metadata": {},
     "output_type": "execute_result"
    }
   ],
   "source": [
    "AMD_data.ds_name.unique()"
   ]
  },
  {
   "cell_type": "code",
   "execution_count": 101,
   "metadata": {
    "collapsed": false
   },
   "outputs": [
    {
     "ename": "AttributeError",
     "evalue": "'tuple' object has no attribute 'plot'",
     "output_type": "error",
     "traceback": [
      "\u001b[0;31m---------------------------------------------------------------------------\u001b[0m",
      "\u001b[0;31mAttributeError\u001b[0m                            Traceback (most recent call last)",
      "\u001b[0;32m<ipython-input-101-3ffa0b28c4cb>\u001b[0m in \u001b[0;36m<module>\u001b[0;34m()\u001b[0m\n\u001b[1;32m      3\u001b[0m \u001b[1;32mfor\u001b[0m \u001b[0mgroup\u001b[0m \u001b[1;32min\u001b[0m \u001b[0mAMD_data\u001b[0m\u001b[1;33m.\u001b[0m\u001b[0mgroupby\u001b[0m\u001b[1;33m(\u001b[0m\u001b[1;34m'ds_name'\u001b[0m\u001b[1;33m)\u001b[0m\u001b[1;33m:\u001b[0m\u001b[1;33m\u001b[0m\u001b[0m\n\u001b[1;32m      4\u001b[0m     \u001b[0mplt\u001b[0m\u001b[1;33m.\u001b[0m\u001b[0mfigure\u001b[0m\u001b[1;33m(\u001b[0m\u001b[1;33m)\u001b[0m\u001b[1;33m\u001b[0m\u001b[0m\n\u001b[0;32m----> 5\u001b[0;31m     \u001b[0mgroup\u001b[0m\u001b[1;33m.\u001b[0m\u001b[0mplot\u001b[0m\u001b[1;33m(\u001b[0m\u001b[0mx\u001b[0m\u001b[1;33m=\u001b[0m\u001b[1;34m'ds_time'\u001b[0m\u001b[1;33m,\u001b[0m \u001b[0my\u001b[0m\u001b[1;33m=\u001b[0m\u001b[1;34m'ds_free_space'\u001b[0m\u001b[1;33m)\u001b[0m\u001b[1;33m\u001b[0m\u001b[0m\n\u001b[0m\u001b[1;32m      6\u001b[0m     \u001b[0mplt\u001b[0m\u001b[1;33m.\u001b[0m\u001b[0mshow\u001b[0m\u001b[1;33m(\u001b[0m\u001b[1;33m)\u001b[0m\u001b[1;33m\u001b[0m\u001b[0m\n",
      "\u001b[0;31mAttributeError\u001b[0m: 'tuple' object has no attribute 'plot'"
     ]
    }
   ],
   "source": [
    "import matplotlib.pyplot as plt\n",
    "\n",
    "for group in AMD_data.groupby('ds_name'):\n",
    "    plt.figure()\n",
    "    group.plot(x='ds_time', y='ds_free_space')\n",
    "    plt.show()"
   ]
  },
  {
   "cell_type": "code",
   "execution_count": 79,
   "metadata": {
    "collapsed": false
   },
   "outputs": [
    {
     "name": "stderr",
     "output_type": "stream",
     "text": [
      "C:\\Users\\Home\\Anaconda3\\lib\\site-packages\\ipykernel\\__main__.py:1: SettingWithCopyWarning: \n",
      "A value is trying to be set on a copy of a slice from a DataFrame\n",
      "\n",
      "See the caveats in the documentation: http://pandas.pydata.org/pandas-docs/stable/indexing.html#indexing-view-versus-copy\n",
      "  if __name__ == '__main__':\n"
     ]
    }
   ],
   "source": [
    "AMD_data.sort_values(['ds_name', 'ds_time'], inplace=True)"
   ]
  },
  {
   "cell_type": "code",
   "execution_count": 106,
   "metadata": {
    "collapsed": false
   },
   "outputs": [
    {
     "data": {
      "text/plain": [
       "ds_name\n",
       "AMD-5700-01_CL1STD_50     9242\n",
       "AMD-5700-01_CL1STD_51     9242\n",
       "AMD-5700-01_CL1STD_52     9242\n",
       "AMD-5700-01_CL1STD_53     9242\n",
       "AMD-5700-01_CL1STD_54     9242\n",
       "AMD-5700-01_CL1STD_55     9242\n",
       "AMD-5700-01_CL1STD_56     9242\n",
       "AMD-5700-01_CL1STD_57     9242\n",
       "AMD-5700-01_CL1STD_58     9242\n",
       "AMD-5700-01_CL1STD_59     9242\n",
       "AMD-5700-01_CL1STD_60     9242\n",
       "AMD-5700-01_CL1STD_61     9241\n",
       "AMD-5700-01_CL1STD_62     9242\n",
       "AMD-5700-01_CL1STD_63     9242\n",
       "AMD-5700-01_CL1STD_64     9242\n",
       "AMD-5700-01_CL1STD_65     9242\n",
       "AMD-5700-01_CL1STD_66     8569\n",
       "AMD-5700-01_CL1STD_67     9241\n",
       "AMD-5700-01_CL1STD_68     9241\n",
       "AMD-5700-01_CL1STD_69     9241\n",
       "AMD-5700-01_CL1STD_70     8571\n",
       "AMD-5700-01_CL1STD_71     9241\n",
       "AMD-5700-01_CL1STD_72     9241\n",
       "AMD-5700-01_CL1STD_73     9241\n",
       "AMD-5700-01_CL1STD_74     9241\n",
       "AMD-5700-01_CL1STD_75     9241\n",
       "AMD-5700-01_CL1STD_76     9241\n",
       "AMD-5700-01_CL1STD_77     9241\n",
       "AMD-5700-01_CL1STD_78     9241\n",
       "AMD-5700-01_CL1STD_79     9241\n",
       "                         ...  \n",
       "AMD_VNX-1_VM_013         24417\n",
       "AMD_VNX-1_VM_014         24417\n",
       "AMD_VNX-1_VM_015         24417\n",
       "AMD_VNX-1_VM_016         14440\n",
       "AMD_VNX-1_VM_017         14440\n",
       "AMD_VNX-1_VM_018         14440\n",
       "AMD_VNX-1_VM_019         14440\n",
       "AMD_VNX-1_VM_020         14440\n",
       "AMD_VNX-1_VM_021         13443\n",
       "AMD_VNX-1_VM_022         13443\n",
       "AMD_VNX-1_VM_023         13443\n",
       "AMD_VNX-1_VM_024         13443\n",
       "AMD_VNX-1_VM_025         13443\n",
       "AMD_VNX-1_VM_026         13443\n",
       "AMD_VNX-1_VM_027         13443\n",
       "AMD_VNX-1_VM_028         13443\n",
       "AMD_VNX-1_VM_029         13443\n",
       "AMD_VNX-1_VM_030         13443\n",
       "AMD_VNX-1_VM_031         13443\n",
       "AMD_VNX-1_VM_032         13443\n",
       "AMD_VNX-1_VM_033         13443\n",
       "AMD_VNX-1_VM_034           450\n",
       "AMD_VNX-1_VM_035           450\n",
       "BSNL_Testlun                17\n",
       "TESTLUN2GB                 726\n",
       "datastore1                   3\n",
       "datastore1 (1)               3\n",
       "datastore1 (2)               3\n",
       "datastore1 (3)               3\n",
       "datastore1 (4)               3\n",
       "dtype: int64"
      ]
     },
     "execution_count": 106,
     "metadata": {},
     "output_type": "execute_result"
    }
   ],
   "source": [
    "AMD_data.groupby(['ds_name']).size()"
   ]
  },
  {
   "cell_type": "code",
   "execution_count": 85,
   "metadata": {
    "collapsed": false
   },
   "outputs": [],
   "source": [
    "AMD_5700_01_CL1STD_50_data = AMD_data.loc[AMD_data['ds_name'] == 'AMD-5700-01_CL1STD_50']\n",
    "AMD_5700_01_CL1STD_51_data = AMD_data.loc[AMD_data['ds_name'] == 'AMD-5700-01_CL1STD_51']\n",
    "AMD_VNX_1_VM_034_data = AMD_data.loc[AMD_data['ds_name'] == 'AMD_VNX-1_VM_034']\n",
    "AMD_VNX_1_VM_035_data = AMD_data.loc[AMD_data['ds_name'] == 'AMD_VNX-1_VM_035']\n"
   ]
  },
  {
   "cell_type": "code",
   "execution_count": 110,
   "metadata": {
    "collapsed": true
   },
   "outputs": [],
   "source": [
    "AMD_VNX_1_VM_013_data = AMD_data.loc[AMD_data['ds_name'] == 'AMD_VNX-1_VM_013']"
   ]
  },
  {
   "cell_type": "code",
   "execution_count": 100,
   "metadata": {
    "collapsed": false
   },
   "outputs": [
    {
     "data": {
      "image/png": "[encoded data removed]",
      "text/plain": [
       "<matplotlib.figure.Figure at 0x1d41c054ba8>"
      ]
     },
     "metadata": {},
     "output_type": "display_data"
    }
   ],
   "source": [
    "# AMD_5700_01_CL1STD_50_data.head\n",
    "plt.figure()\n",
    "plt.plot(AMD_5700_01_CL1STD_50_data['ds_time'], AMD_5700_01_CL1STD_50_data['ds_free_space'])\n",
    "plt.show()"
   ]
  },
  {
   "cell_type": "code",
   "execution_count": 113,
   "metadata": {
    "collapsed": false
   },
   "outputs": [
    {
     "data": {
      "text/plain": [
       "array(['AMD-5700-01_CL1STD_51'], dtype=object)"
      ]
     },
     "execution_count": 113,
     "metadata": {},
     "output_type": "execute_result"
    }
   ],
   "source": [
    "AMD_5700_01_CL1STD_51_data.ds_name.unique()"
   ]
  },
  {
   "cell_type": "code",
   "execution_count": 90,
   "metadata": {
    "collapsed": false
   },
   "outputs": [
    {
     "data": {
      "text/plain": [
       "<bound method NDFrame.head of          ds_clust           ds_name  ds_cap_gb  ds_free_space ds_storagetier  \\\n",
       "ds_loc                                                                         \n",
       "AMD     amdc4e01p  AMD_VNX-1_VM_034    5119.75    5118.750000            NaN   \n",
       "AMD     amdc4e01p  AMD_VNX-1_VM_034    5119.75    5118.750000            NaN   \n",
       "AMD     amdc4e01p  AMD_VNX-1_VM_034    5119.75    5118.750000            NaN   \n",
       "AMD     amdc4e01p  AMD_VNX-1_VM_034    5119.75    5118.750000            NaN   \n",
       "AMD     amdc4e01p  AMD_VNX-1_VM_034    5119.75    5118.750000            NaN   \n",
       "AMD     amdc4e01p  AMD_VNX-1_VM_034    5119.75    5118.750000            NaN   \n",
       "AMD     amdc4e01p  AMD_VNX-1_VM_034    5119.75    5118.750000            NaN   \n",
       "AMD     amdc4e01p  AMD_VNX-1_VM_034    5119.75    2618.750000            NaN   \n",
       "AMD     amdc4e01p  AMD_VNX-1_VM_034    5119.75    2618.750000            NaN   \n",
       "AMD     amdc4e01p  AMD_VNX-1_VM_034    5119.75    2618.750000            NaN   \n",
       "AMD     amdc4e01p  AMD_VNX-1_VM_034    5119.75    2618.750000            NaN   \n",
       "AMD     amdc4e01p  AMD_VNX-1_VM_034    5119.75    2618.750000            NaN   \n",
       "AMD     amdc4e01p  AMD_VNX-1_VM_034    5119.75    2618.750000            NaN   \n",
       "AMD     amdc4e01p  AMD_VNX-1_VM_034    5119.75    2618.750000            NaN   \n",
       "AMD     amdc4e01p  AMD_VNX-1_VM_034    5119.75    2618.750000            NaN   \n",
       "AMD     amdc4e01p  AMD_VNX-1_VM_034    5119.75    2518.750000            NaN   \n",
       "AMD     amdc4e01p  AMD_VNX-1_VM_034    5119.75    2518.750000            NaN   \n",
       "AMD     amdc4e01p  AMD_VNX-1_VM_034    5119.75    2518.750000            NaN   \n",
       "AMD     amdc4e01p  AMD_VNX-1_VM_034    5119.75    2518.750000            NaN   \n",
       "AMD     amdc4e01p  AMD_VNX-1_VM_034    5119.75    2518.750000            NaN   \n",
       "AMD     amdc4e01p  AMD_VNX-1_VM_034    5119.75    2518.750000            NaN   \n",
       "AMD     amdc4e01p  AMD_VNX-1_VM_034    5119.75    2518.750000            NaN   \n",
       "AMD     amdc4e01p  AMD_VNX-1_VM_034    5119.75    2518.750000            NaN   \n",
       "AMD     amdc4e01p  AMD_VNX-1_VM_034    5119.75    2518.750000            NaN   \n",
       "AMD     amdc4e01p  AMD_VNX-1_VM_034    5119.75    2518.750000            NaN   \n",
       "AMD     amdc4e01p  AMD_VNX-1_VM_034    5119.75    2518.750000            NaN   \n",
       "AMD     amdc4e01p  AMD_VNX-1_VM_034    5119.75    2518.750000            NaN   \n",
       "AMD     amdc4e01p  AMD_VNX-1_VM_034    5119.75    2518.750000            NaN   \n",
       "AMD     amdc4e01p  AMD_VNX-1_VM_034    5119.75    2518.750000            NaN   \n",
       "AMD     amdc4e01p  AMD_VNX-1_VM_034    5119.75    2518.750000            NaN   \n",
       "...           ...               ...        ...            ...            ...   \n",
       "AMD     amdc4e01p  AMD_VNX-1_VM_034    5119.75    5118.776367      datastore   \n",
       "AMD     amdc4e01p  AMD_VNX-1_VM_034    5119.75    5118.776367      datastore   \n",
       "AMD     amdc4e01p  AMD_VNX-1_VM_034    5119.75    5118.776367      datastore   \n",
       "AMD     amdc4e01p  AMD_VNX-1_VM_034    5119.75    5118.776367      datastore   \n",
       "AMD     amdc4e01p  AMD_VNX-1_VM_034    5119.75    5118.776367      datastore   \n",
       "AMD     amdc4e01p  AMD_VNX-1_VM_034    5119.75    5118.776367      datastore   \n",
       "AMD     amdc4e01p  AMD_VNX-1_VM_034    5119.75    5118.776367      datastore   \n",
       "AMD     amdc4e01p  AMD_VNX-1_VM_034    5119.75    5118.776367      datastore   \n",
       "AMD     amdc4e01p  AMD_VNX-1_VM_034    5119.75    5118.776367      datastore   \n",
       "AMD     amdc4e01p  AMD_VNX-1_VM_034    5119.75    5118.776367      datastore   \n",
       "AMD     amdc4e01p  AMD_VNX-1_VM_034    5119.75    5118.776367      datastore   \n",
       "AMD     amdc4e01p  AMD_VNX-1_VM_034    5119.75    5118.776367      datastore   \n",
       "AMD     amdc4e01p  AMD_VNX-1_VM_034    5119.75    5118.776367      datastore   \n",
       "AMD     amdc4e01p  AMD_VNX-1_VM_034    5119.75    5118.776367      datastore   \n",
       "AMD     amdc4e01p  AMD_VNX-1_VM_034    5119.75    5118.776367      datastore   \n",
       "AMD     amdc4e01p  AMD_VNX-1_VM_034    5119.75    5118.776367      datastore   \n",
       "AMD     amdc4e01p  AMD_VNX-1_VM_034    5119.75    5118.776367      datastore   \n",
       "AMD     amdc4e01p  AMD_VNX-1_VM_034    5119.75    5118.776367      datastore   \n",
       "AMD     amdc4e01p  AMD_VNX-1_VM_034    5119.75    5118.776367      datastore   \n",
       "AMD     amdc4e01p  AMD_VNX-1_VM_034    5119.75    5118.776367      datastore   \n",
       "AMD     amdc4e01p  AMD_VNX-1_VM_034    5119.75    5118.776367      datastore   \n",
       "AMD     amdc4e01p  AMD_VNX-1_VM_034    5119.75    5118.776367      datastore   \n",
       "AMD     amdc4e01p  AMD_VNX-1_VM_034    5119.75    5118.776367      datastore   \n",
       "AMD     amdc4e01p  AMD_VNX-1_VM_034    5119.75    5118.776367      datastore   \n",
       "AMD     amdc4e01p  AMD_VNX-1_VM_034    5119.75    5118.776367      datastore   \n",
       "AMD     amdc4e01p  AMD_VNX-1_VM_034    5119.75    5118.776367      datastore   \n",
       "AMD     amdc4e01p  AMD_VNX-1_VM_034    5119.75    5118.776367      datastore   \n",
       "AMD     amdc4e01p  AMD_VNX-1_VM_034    5119.75    5118.776367      datastore   \n",
       "AMD     amdc4e01p  AMD_VNX-1_VM_034    5119.75    5118.776367      datastore   \n",
       "AMD     amdc4e01p  AMD_VNX-1_VM_034    5119.75    5118.776367      datastore   \n",
       "\n",
       "       ds_storagetype  ds_readiops  ds_writeiops ds_loc             ds_time  \\\n",
       "ds_loc                                                                        \n",
       "AMD               NaN          NaN           NaN    AMD 2015-06-18 20:30:00   \n",
       "AMD               NaN          NaN           NaN    AMD 2015-06-18 21:30:00   \n",
       "AMD               NaN          NaN           NaN    AMD 2015-06-18 22:30:00   \n",
       "AMD               NaN          NaN           NaN    AMD 2015-06-18 23:30:00   \n",
       "AMD               NaN          NaN           NaN    AMD 2015-06-19 00:30:00   \n",
       "AMD               NaN          NaN           NaN    AMD 2015-06-19 01:30:00   \n",
       "AMD               NaN          NaN           NaN    AMD 2015-06-19 02:30:00   \n",
       "AMD               NaN          NaN           NaN    AMD 2015-06-19 03:30:00   \n",
       "AMD               NaN          NaN           NaN    AMD 2015-06-19 04:30:00   \n",
       "AMD               NaN          NaN           NaN    AMD 2015-06-19 05:30:00   \n",
       "AMD               NaN          NaN           NaN    AMD 2015-06-19 06:30:00   \n",
       "AMD               NaN          NaN           NaN    AMD 2015-06-19 07:30:00   \n",
       "AMD               NaN          NaN           NaN    AMD 2015-06-19 08:30:00   \n",
       "AMD               NaN          NaN           NaN    AMD 2015-06-19 09:30:00   \n",
       "AMD               NaN          NaN           NaN    AMD 2015-06-19 10:30:00   \n",
       "AMD               NaN          NaN           NaN    AMD 2015-06-19 11:30:00   \n",
       "AMD               NaN          NaN           NaN    AMD 2015-06-19 12:30:00   \n",
       "AMD               NaN          NaN           NaN    AMD 2015-06-19 13:30:00   \n",
       "AMD               NaN          NaN           NaN    AMD 2015-06-19 14:30:00   \n",
       "AMD               NaN          NaN           NaN    AMD 2015-06-19 15:30:00   \n",
       "AMD               NaN          NaN           NaN    AMD 2015-06-19 16:30:00   \n",
       "AMD               NaN          NaN           NaN    AMD 2015-06-19 17:30:00   \n",
       "AMD               NaN          NaN           NaN    AMD 2015-06-19 18:30:00   \n",
       "AMD               NaN          NaN           NaN    AMD 2015-06-19 19:30:00   \n",
       "AMD               NaN          NaN           NaN    AMD 2015-06-19 20:30:00   \n",
       "AMD               NaN          NaN           NaN    AMD 2015-06-19 21:30:00   \n",
       "AMD               NaN          NaN           NaN    AMD 2015-06-19 22:30:00   \n",
       "AMD               NaN          NaN           NaN    AMD 2015-06-19 23:30:00   \n",
       "AMD               NaN          NaN           NaN    AMD 2015-06-20 00:30:00   \n",
       "AMD               NaN          NaN           NaN    AMD 2015-06-20 01:30:00   \n",
       "...               ...          ...           ...    ...                 ...   \n",
       "AMD              VMFS          NaN           NaN    AMD 2015-07-08 08:13:35   \n",
       "AMD              VMFS          NaN           NaN    AMD 2015-07-08 09:11:07   \n",
       "AMD              VMFS          NaN           NaN    AMD 2015-07-08 10:11:12   \n",
       "AMD              VMFS          NaN           NaN    AMD 2015-07-08 11:11:16   \n",
       "AMD              VMFS          NaN           NaN    AMD 2015-07-08 12:11:08   \n",
       "AMD              VMFS          NaN           NaN    AMD 2015-07-08 13:11:34   \n",
       "AMD              VMFS          NaN           NaN    AMD 2015-07-08 14:11:33   \n",
       "AMD              VMFS          NaN           NaN    AMD 2015-07-08 15:11:39   \n",
       "AMD              VMFS          NaN           NaN    AMD 2015-07-08 16:11:40   \n",
       "AMD              VMFS          NaN           NaN    AMD 2015-07-08 17:11:34   \n",
       "AMD              VMFS          NaN           NaN    AMD 2015-07-08 18:11:25   \n",
       "AMD              VMFS          NaN           NaN    AMD 2015-07-08 19:12:20   \n",
       "AMD              VMFS          NaN           NaN    AMD 2015-07-08 20:11:18   \n",
       "AMD              VMFS          NaN           NaN    AMD 2015-07-08 21:11:25   \n",
       "AMD              VMFS          NaN           NaN    AMD 2015-07-08 22:11:20   \n",
       "AMD              VMFS          NaN           NaN    AMD 2015-07-08 23:11:31   \n",
       "AMD              VMFS          NaN           NaN    AMD 2015-07-09 00:11:41   \n",
       "AMD              VMFS          NaN           NaN    AMD 2015-07-09 01:11:24   \n",
       "AMD              VMFS          NaN           NaN    AMD 2015-07-09 02:11:22   \n",
       "AMD              VMFS          NaN           NaN    AMD 2015-07-09 03:11:33   \n",
       "AMD              VMFS          NaN           NaN    AMD 2015-07-09 04:11:27   \n",
       "AMD              VMFS          NaN           NaN    AMD 2015-07-09 05:11:16   \n",
       "AMD              VMFS          NaN           NaN    AMD 2015-07-09 06:11:54   \n",
       "AMD              VMFS          NaN           NaN    AMD 2015-07-09 07:14:10   \n",
       "AMD              VMFS          NaN           NaN    AMD 2015-07-09 08:11:19   \n",
       "AMD              VMFS          NaN           NaN    AMD 2015-07-09 09:11:34   \n",
       "AMD              VMFS          NaN           NaN    AMD 2015-07-09 10:11:30   \n",
       "AMD              VMFS          NaN           NaN    AMD 2015-07-09 11:11:39   \n",
       "AMD              VMFS          NaN           NaN    AMD 2015-07-09 12:11:38   \n",
       "AMD              VMFS          NaN           NaN    AMD 2015-07-09 13:11:43   \n",
       "\n",
       "        ds_provisionedgb  ds_overprovisionedgb  \n",
       "ds_loc                                          \n",
       "AMD                  NaN                   NaN  \n",
       "AMD                  NaN                   NaN  \n",
       "AMD                  NaN                   NaN  \n",
       "AMD                  NaN                   NaN  \n",
       "AMD                  NaN                   NaN  \n",
       "AMD                  NaN                   NaN  \n",
       "AMD                  NaN                   NaN  \n",
       "AMD                  NaN                   NaN  \n",
       "AMD                  NaN                   NaN  \n",
       "AMD                  NaN                   NaN  \n",
       "AMD                  NaN                   NaN  \n",
       "AMD                  NaN                   NaN  \n",
       "AMD                  NaN                   NaN  \n",
       "AMD                  NaN                   NaN  \n",
       "AMD                  NaN                   NaN  \n",
       "AMD                  NaN                   NaN  \n",
       "AMD                  NaN                   NaN  \n",
       "AMD                  NaN                   NaN  \n",
       "AMD                  NaN                   NaN  \n",
       "AMD                  NaN                   NaN  \n",
       "AMD                  NaN                   NaN  \n",
       "AMD                  NaN                   NaN  \n",
       "AMD                  NaN                   NaN  \n",
       "AMD                  NaN                   NaN  \n",
       "AMD                  NaN                   NaN  \n",
       "AMD                  NaN                   NaN  \n",
       "AMD                  NaN                   NaN  \n",
       "AMD                  NaN                   NaN  \n",
       "AMD                  NaN                   NaN  \n",
       "AMD                  NaN                   NaN  \n",
       "...                  ...                   ...  \n",
       "AMD                  NaN                   NaN  \n",
       "AMD                  NaN                   NaN  \n",
       "AMD                  NaN                   NaN  \n",
       "AMD                  NaN                   NaN  \n",
       "AMD                  NaN                   NaN  \n",
       "AMD                  NaN                   NaN  \n",
       "AMD                  NaN                   NaN  \n",
       "AMD                  NaN                   NaN  \n",
       "AMD                  NaN                   NaN  \n",
       "AMD                  NaN                   NaN  \n",
       "AMD                  NaN                   NaN  \n",
       "AMD                  NaN                   NaN  \n",
       "AMD                  NaN                   NaN  \n",
       "AMD                  NaN                   NaN  \n",
       "AMD                  NaN                   NaN  \n",
       "AMD                  NaN                   NaN  \n",
       "AMD                  NaN                   NaN  \n",
       "AMD                  NaN                   NaN  \n",
       "AMD                  NaN                   NaN  \n",
       "AMD                  NaN                   NaN  \n",
       "AMD                  NaN                   NaN  \n",
       "AMD                  NaN                   NaN  \n",
       "AMD                  NaN                   NaN  \n",
       "AMD                  NaN                   NaN  \n",
       "AMD                  NaN                   NaN  \n",
       "AMD                  NaN                   NaN  \n",
       "AMD                  NaN                   NaN  \n",
       "AMD                  NaN                   NaN  \n",
       "AMD                  NaN                   NaN  \n",
       "AMD                  NaN                   NaN  \n",
       "\n",
       "[450 rows x 12 columns]>"
      ]
     },
     "execution_count": 90,
     "metadata": {},
     "output_type": "execute_result"
    }
   ],
   "source": [
    "AMD_VNX_1_VM_034_data.head"
   ]
  },
  {
   "cell_type": "code",
   "execution_count": 111,
   "metadata": {
    "collapsed": false
   },
   "outputs": [
    {
     "data": {
      "text/plain": [
       "<matplotlib.figure.Figure at 0x1d41a3ebda0>"
      ]
     },
     "metadata": {},
     "output_type": "display_data"
    },
    {
     "data": {
      "image/png": "[encoded data removed]",
      "text/plain": [
       "<matplotlib.figure.Figure at 0x1d41c126710>"
      ]
     },
     "metadata": {},
     "output_type": "display_data"
    }
   ],
   "source": [
    "plt.figure()\n",
    "plt.plot(AMD_VNX_1_VM_013_data['ds_time'], AMD_VNX_1_VM_013_data['ds_free_space'])\n",
    "plt.show()"
   ]
  },
  {
   "cell_type": "code",
   "execution_count": 109,
   "metadata": {
    "collapsed": false
   },
   "outputs": [
    {
     "data": {
      "text/plain": [
       "ds_name\n",
       "AMD-5700-01_CL1STD_50   2016-11-30 22:20:35\n",
       "AMD-5700-01_CL1STD_51   2016-11-30 22:20:35\n",
       "AMD-5700-01_CL1STD_52   2016-11-30 22:20:35\n",
       "AMD-5700-01_CL1STD_53   2016-11-30 22:20:35\n",
       "AMD-5700-01_CL1STD_54   2016-11-30 22:20:35\n",
       "AMD-5700-01_CL1STD_55   2016-11-30 22:20:35\n",
       "AMD-5700-01_CL1STD_56   2016-11-30 22:20:35\n",
       "AMD-5700-01_CL1STD_57   2016-11-30 22:20:35\n",
       "AMD-5700-01_CL1STD_58   2016-11-30 22:20:35\n",
       "AMD-5700-01_CL1STD_59   2016-11-30 22:20:35\n",
       "AMD-5700-01_CL1STD_60   2016-11-30 22:20:35\n",
       "AMD-5700-01_CL1STD_61   2016-11-30 22:20:35\n",
       "AMD-5700-01_CL1STD_62   2016-11-30 22:20:35\n",
       "AMD-5700-01_CL1STD_63   2016-11-30 22:20:35\n",
       "AMD-5700-01_CL1STD_64   2016-11-30 22:20:35\n",
       "AMD-5700-01_CL1STD_65   2016-11-30 22:20:35\n",
       "AMD-5700-01_CL1STD_66   2016-10-27 11:27:16\n",
       "AMD-5700-01_CL1STD_67   2016-11-30 22:20:35\n",
       "AMD-5700-01_CL1STD_68   2016-11-30 22:20:35\n",
       "AMD-5700-01_CL1STD_69   2016-11-30 22:20:35\n",
       "AMD-5700-01_CL1STD_70   2016-10-27 13:24:41\n",
       "AMD-5700-01_CL1STD_71   2016-11-30 22:20:35\n",
       "AMD-5700-01_CL1STD_72   2016-11-30 22:20:35\n",
       "AMD-5700-01_CL1STD_73   2016-11-30 22:20:35\n",
       "AMD-5700-01_CL1STD_74   2016-11-30 22:20:35\n",
       "AMD-5700-01_CL1STD_75   2016-11-30 22:20:35\n",
       "AMD-5700-01_CL1STD_76   2016-11-30 22:20:35\n",
       "AMD-5700-01_CL1STD_77   2016-11-30 22:20:35\n",
       "AMD-5700-01_CL1STD_78   2016-11-30 22:20:35\n",
       "AMD-5700-01_CL1STD_79   2016-11-30 22:20:35\n",
       "                                ...        \n",
       "AMD_VNX-1_VM_013        2016-11-30 22:20:35\n",
       "AMD_VNX-1_VM_014        2016-11-30 22:20:35\n",
       "AMD_VNX-1_VM_015        2016-11-30 22:20:35\n",
       "AMD_VNX-1_VM_016        2016-11-30 22:20:35\n",
       "AMD_VNX-1_VM_017        2016-11-30 22:20:35\n",
       "AMD_VNX-1_VM_018        2016-11-30 22:20:35\n",
       "AMD_VNX-1_VM_019        2016-11-30 22:20:35\n",
       "AMD_VNX-1_VM_020        2016-11-30 22:20:35\n",
       "AMD_VNX-1_VM_021        2016-11-30 22:20:35\n",
       "AMD_VNX-1_VM_022        2016-11-30 22:20:35\n",
       "AMD_VNX-1_VM_023        2016-11-30 22:20:35\n",
       "AMD_VNX-1_VM_024        2016-11-30 22:20:35\n",
       "AMD_VNX-1_VM_025        2016-11-30 22:20:35\n",
       "AMD_VNX-1_VM_026        2016-11-30 22:20:35\n",
       "AMD_VNX-1_VM_027        2016-11-30 22:20:35\n",
       "AMD_VNX-1_VM_028        2016-11-30 22:20:35\n",
       "AMD_VNX-1_VM_029        2016-11-30 22:20:35\n",
       "AMD_VNX-1_VM_030        2016-11-30 22:20:35\n",
       "AMD_VNX-1_VM_031        2016-11-30 22:20:35\n",
       "AMD_VNX-1_VM_032        2016-11-30 22:20:35\n",
       "AMD_VNX-1_VM_033        2016-11-30 22:20:35\n",
       "AMD_VNX-1_VM_034        2015-07-09 13:11:43\n",
       "AMD_VNX-1_VM_035        2015-07-09 13:11:43\n",
       "BSNL_Testlun            2016-10-25 00:28:45\n",
       "TESTLUN2GB              2016-11-30 22:20:35\n",
       "datastore1              2015-03-30 17:30:00\n",
       "datastore1 (1)          2015-03-30 17:30:00\n",
       "datastore1 (2)          2015-03-30 17:30:00\n",
       "datastore1 (3)          2015-03-30 17:30:00\n",
       "datastore1 (4)          2015-03-30 17:30:00\n",
       "Name: ds_time, dtype: datetime64[ns]"
      ]
     },
     "execution_count": 109,
     "metadata": {},
     "output_type": "execute_result"
    }
   ],
   "source": [
    "AMD_data.groupby(['ds_name'])['ds_time'].max()"
   ]
  },
  {
   "cell_type": "code",
   "execution_count": 114,
   "metadata": {
    "collapsed": false
   },
   "outputs": [
    {
     "data": {
      "text/plain": [
       "array(['amdc4e01p'], dtype=object)"
      ]
     },
     "execution_count": 114,
     "metadata": {},
     "output_type": "execute_result"
    }
   ],
   "source": [
    "AMD_data.ds_clust.unique()"
   ]
  },
  {
   "cell_type": "code",
   "execution_count": null,
   "metadata": {
    "collapsed": true
   },
   "outputs": [],
   "source": []
  }
 ],
 "metadata": {
  "anaconda-cloud": {},
  "kernelspec": {
   "display_name": "Python [default]",
   "language": "python",
   "name": "python3"
  },
  "language_info": {
   "codemirror_mode": {
    "name": "ipython",
    "version": 3
   },
   "file_extension": ".py",
   "mimetype": "text/x-python",
   "name": "python",
   "nbconvert_exporter": "python",
   "pygments_lexer": "ipython3",
   "version": "3.5.2"
  }
 },
 "nbformat": 4,
 "nbformat_minor": 1
}
