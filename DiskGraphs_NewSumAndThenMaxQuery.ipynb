{
 "cells": [
  {
   "cell_type": "code",
   "execution_count": 1,
   "metadata": {
    "collapsed": true
   },
   "outputs": [],
   "source": [
    "import pandas as pd\n",
    "import numpy as np"
   ]
  },
  {
   "cell_type": "code",
   "execution_count": 2,
   "metadata": {
    "collapsed": false
   },
   "outputs": [],
   "source": [
    "dsFile = pd.read_csv('data_files/ds_june_to_nov.csv')"
   ]
  },
  {
   "cell_type": "code",
   "execution_count": 4,
   "metadata": {
    "collapsed": false
   },
   "outputs": [],
   "source": [
    "temp = dsFile[['ds_loc', 'ds_clust']]"
   ]
  },
  {
   "cell_type": "code",
   "execution_count": null,
   "metadata": {
    "collapsed": false
   },
   "outputs": [],
   "source": [
    "aa=temp.groupby('ds_loc').ds_clust.nunique()"
   ]
  },
  {
   "cell_type": "code",
   "execution_count": 11,
   "metadata": {
    "collapsed": false
   },
   "outputs": [
    {
     "data": {
      "text/html": [
       "<div>\n",
       "<table border=\"1\" class=\"dataframe\">\n",
       "  <thead>\n",
       "    <tr style=\"text-align: right;\">\n",
       "      <th></th>\n",
       "      <th>ds_clust</th>\n",
       "    </tr>\n",
       "    <tr>\n",
       "      <th>ds_loc</th>\n",
       "      <th></th>\n",
       "    </tr>\n",
       "  </thead>\n",
       "  <tbody>\n",
       "    <tr>\n",
       "      <th>AMD</th>\n",
       "      <td>315162</td>\n",
       "    </tr>\n",
       "    <tr>\n",
       "      <th>AMS</th>\n",
       "      <td>665115</td>\n",
       "    </tr>\n",
       "    <tr>\n",
       "      <th>ASH</th>\n",
       "      <td>176260</td>\n",
       "    </tr>\n",
       "    <tr>\n",
       "      <th>ASH02NA9</th>\n",
       "      <td>525563</td>\n",
       "    </tr>\n",
       "    <tr>\n",
       "      <th>ASH02na10</th>\n",
       "      <td>274984</td>\n",
       "    </tr>\n",
       "  </tbody>\n",
       "</table>\n",
       "</div>"
      ],
      "text/plain": [
       "           ds_clust\n",
       "ds_loc             \n",
       "AMD          315162\n",
       "AMS          665115\n",
       "ASH          176260\n",
       "ASH02NA9     525563\n",
       "ASH02na10    274984"
      ]
     },
     "execution_count": 11,
     "metadata": {},
     "output_type": "execute_result"
    }
   ],
   "source": [
    "aa.head()"
   ]
  },
  {
   "cell_type": "code",
   "execution_count": 19,
   "metadata": {
    "collapsed": false
   },
   "outputs": [
    {
     "data": {
      "text/html": [
       "<div>\n",
       "<table border=\"1\" class=\"dataframe\">\n",
       "  <thead>\n",
       "    <tr style=\"text-align: right;\">\n",
       "      <th></th>\n",
       "      <th>Unnamed: 0</th>\n",
       "      <th>ds_clust</th>\n",
       "      <th>ds_name</th>\n",
       "      <th>ds_cap_gb</th>\n",
       "      <th>ds_free_space</th>\n",
       "      <th>ds_storagetier</th>\n",
       "      <th>ds_storagetype</th>\n",
       "      <th>ds_loc</th>\n",
       "      <th>Date</th>\n",
       "    </tr>\n",
       "  </thead>\n",
       "  <tbody>\n",
       "    <tr>\n",
       "      <th>0</th>\n",
       "      <td>109</td>\n",
       "      <td>ASH02NA15-CL5-PRODDB</td>\n",
       "      <td>ASH02-5600-01-CL5HP_RG0001_511_OS</td>\n",
       "      <td>99.75</td>\n",
       "      <td>56.037109</td>\n",
       "      <td>HIGHPERFORMANCE</td>\n",
       "      <td>VMFS</td>\n",
       "      <td>ash02na15</td>\n",
       "      <td>2016-08-07 05:02:48</td>\n",
       "    </tr>\n",
       "    <tr>\n",
       "      <th>1</th>\n",
       "      <td>110</td>\n",
       "      <td>ASH02NA15-CL5-PRODDB</td>\n",
       "      <td>ASH02-5600-01-CL5HP_RG0001_511_OS</td>\n",
       "      <td>99.75</td>\n",
       "      <td>56.037109</td>\n",
       "      <td>HIGHPERFORMANCE</td>\n",
       "      <td>VMFS</td>\n",
       "      <td>ash02na15</td>\n",
       "      <td>2016-08-07 07:02:54</td>\n",
       "    </tr>\n",
       "    <tr>\n",
       "      <th>2</th>\n",
       "      <td>111</td>\n",
       "      <td>ASH02NA15-CL5-PRODDB</td>\n",
       "      <td>ASH02-5600-01-CL5HP_RG0001_511_OS</td>\n",
       "      <td>99.75</td>\n",
       "      <td>56.037109</td>\n",
       "      <td>HIGHPERFORMANCE</td>\n",
       "      <td>VMFS</td>\n",
       "      <td>ash02na15</td>\n",
       "      <td>2016-08-07 08:02:50</td>\n",
       "    </tr>\n",
       "    <tr>\n",
       "      <th>3</th>\n",
       "      <td>112</td>\n",
       "      <td>ASH02NA15-CL5-PRODDB</td>\n",
       "      <td>ASH02-5600-01-CL5HP_RG0001_511_OS</td>\n",
       "      <td>99.75</td>\n",
       "      <td>56.037109</td>\n",
       "      <td>HIGHPERFORMANCE</td>\n",
       "      <td>VMFS</td>\n",
       "      <td>ash02na15</td>\n",
       "      <td>2016-08-07 09:02:50</td>\n",
       "    </tr>\n",
       "    <tr>\n",
       "      <th>4</th>\n",
       "      <td>113</td>\n",
       "      <td>ASH02NA15-CL5-PRODDB</td>\n",
       "      <td>ASH02-5600-01-CL5HP_RG0001_511_OS</td>\n",
       "      <td>99.75</td>\n",
       "      <td>56.037109</td>\n",
       "      <td>HIGHPERFORMANCE</td>\n",
       "      <td>VMFS</td>\n",
       "      <td>ash02na15</td>\n",
       "      <td>2016-08-07 11:02:50</td>\n",
       "    </tr>\n",
       "  </tbody>\n",
       "</table>\n",
       "</div>"
      ],
      "text/plain": [
       "   Unnamed: 0              ds_clust                            ds_name  \\\n",
       "0         109  ASH02NA15-CL5-PRODDB  ASH02-5600-01-CL5HP_RG0001_511_OS   \n",
       "1         110  ASH02NA15-CL5-PRODDB  ASH02-5600-01-CL5HP_RG0001_511_OS   \n",
       "2         111  ASH02NA15-CL5-PRODDB  ASH02-5600-01-CL5HP_RG0001_511_OS   \n",
       "3         112  ASH02NA15-CL5-PRODDB  ASH02-5600-01-CL5HP_RG0001_511_OS   \n",
       "4         113  ASH02NA15-CL5-PRODDB  ASH02-5600-01-CL5HP_RG0001_511_OS   \n",
       "\n",
       "   ds_cap_gb  ds_free_space   ds_storagetier ds_storagetype     ds_loc  \\\n",
       "0      99.75      56.037109  HIGHPERFORMANCE           VMFS  ash02na15   \n",
       "1      99.75      56.037109  HIGHPERFORMANCE           VMFS  ash02na15   \n",
       "2      99.75      56.037109  HIGHPERFORMANCE           VMFS  ash02na15   \n",
       "3      99.75      56.037109  HIGHPERFORMANCE           VMFS  ash02na15   \n",
       "4      99.75      56.037109  HIGHPERFORMANCE           VMFS  ash02na15   \n",
       "\n",
       "                  Date  \n",
       "0  2016-08-07 05:02:48  \n",
       "1  2016-08-07 07:02:54  \n",
       "2  2016-08-07 08:02:50  \n",
       "3  2016-08-07 09:02:50  \n",
       "4  2016-08-07 11:02:50  "
      ]
     },
     "execution_count": 19,
     "metadata": {},
     "output_type": "execute_result"
    }
   ],
   "source": [
    "dsFile.head()"
   ]
  },
  {
   "cell_type": "code",
   "execution_count": 48,
   "metadata": {
    "collapsed": false
   },
   "outputs": [],
   "source": []
  },
  {
   "cell_type": "code",
   "execution_count": null,
   "metadata": {
    "collapsed": false
   },
   "outputs": [],
   "source": []
  },
  {
   "cell_type": "code",
   "execution_count": 30,
   "metadata": {
    "collapsed": false
   },
   "outputs": [
    {
     "data": {
      "text/plain": [
       "Unnamed: 0          int64\n",
       "ds_clust           object\n",
       "ds_name            object\n",
       "ds_cap_gb         float64\n",
       "ds_free_space     float64\n",
       "ds_storagetier     object\n",
       "ds_storagetype     object\n",
       "ds_loc             object\n",
       "Date               object\n",
       "dtype: object"
      ]
     },
     "execution_count": 30,
     "metadata": {},
     "output_type": "execute_result"
    }
   ],
   "source": [
    "dsFile.dtypes"
   ]
  },
  {
   "cell_type": "code",
   "execution_count": 54,
   "metadata": {
    "collapsed": false
   },
   "outputs": [],
   "source": [
    "ds_jun2016_all = dsFile\n",
    "ds_jun2016_all['used_space'] = ds_jun2016_all['ds_cap_gb'] - ds_jun2016_all['ds_free_space']\n",
    "ds_jun2016_all['Date'] = ds_jun2016_all['Date'].apply(lambda x: str(x).replace(str(x)[-5:],'00:00'))\n",
    "ds_jun2016_GB_graph_tier = ds_jun2016_all.groupby(['ds_storagetier', 'ds_loc', 'ds_name', 'Date'])[[\"used_space\"]].max()\n",
    "ds_jun2016_GB_graph_tier = ds_jun2016_GB_graph_tier.reset_index(level=['Date', 'ds_storagetier', 'ds_loc', 'ds_name'])\n",
    "ds_jun2016_GB_graph_tier = ds_jun2016_GB_graph_tier.groupby(['ds_storagetier', 'ds_loc', 'Date'])[[\"used_space\"]].sum()\n",
    "ds_jun2016_GB_graph_tier = ds_jun2016_GB_graph_tier.reset_index(level=['Date', 'ds_storagetier', 'ds_loc'])\n",
    "ds_jun2016_GB_graph_tier['Date'] = ds_jun2016_GB_graph_tier['Date'].apply(lambda x: str(x).replace(str(x)[-8:],'00:00:00'))\n",
    "ds_jun2016_GB_graph_tier = ds_jun2016_GB_graph_tier.groupby(['ds_storagetier', 'ds_loc', 'Date'])[['used_space']].max()\n",
    "storage_tiers = [\"STANDARD\", \"ECONOMY\", \"HIGHPERFORMANCE\"]"
   ]
  },
  {
   "cell_type": "code",
   "execution_count": 68,
   "metadata": {
    "collapsed": false
   },
   "outputs": [
    {
     "name": "stderr",
     "output_type": "stream",
     "text": [
      "C:\\Users\\Home\\Anaconda3\\lib\\site-packages\\matplotlib\\axes\\_base.py:2782: UserWarning: Attempting to set identical left==right results\n",
      "in singular transformations; automatically expanding.\n",
      "left=0.0, right=0.0\n",
      "  'left=%s, right=%s') % (left, right))\n"
     ]
    }
   ],
   "source": [
    "for storageTier in storage_tiers:\n",
    "        ds_jun2016_GB_graph_tier_eco =  ds_jun2016_GB_graph_tier.iloc[ds_jun2016_GB_graph_tier.index.get_level_values('ds_storagetier') == storageTier]\n",
    "        unique_locs = ds_jun2016_GB_graph_tier_eco.index.get_level_values('ds_loc').unique()\n",
    "        #ncols=5\n",
    "        #nrows=math.ceil(unique_locs.size/5)\n",
    "        #m=0\n",
    "        #n=0\n",
    "        #fig, ax = plt.subplots(nrows,ncols)\n",
    "        #fig.set_figheight(10)\n",
    "        #fig.set_figwidth(10)\n",
    "        #fig.suptitle(storageTier  + \" storage tier from June to  2016\")\n",
    "        #fig.subplots_adjust(hspace=.5)\n",
    "        for location in unique_locs:\n",
    "            temp = ds_jun2016_GB_graph_tier_eco.iloc[ds_jun2016_GB_graph_tier_eco.index.get_level_values('ds_loc') == location]\n",
    "            temp=temp.reset_index(level=['Date'])\n",
    "            temp2=pd.DataFrame()\n",
    "            temp2['Date']=temp['Date']\n",
    "            temp2['used_space']=temp['used_space']\n",
    "            temp2 = temp2.set_index('Date')\n",
    "            if location==\"cgk02id2\":\n",
    "                temp2.to_csv(\"temp2_\"+location+\"_\"+storageTier)\n",
    "            ts=(temp2['used_space'])\n",
    "            #ax[m,n].plot(ts, marker='.')\n",
    "            ff=location+\" \"+str(temp2.size)\n",
    "            fig=plt.figure()\n",
    "            ax=ts.plot()\n",
    "            ax.set_title(ff)\n",
    "            ax.set_xlabel(\"Time\", fontsize=12)\n",
    "            ax.set_ylabel(\"Storage Used (in GB)\", fontsize=12)\n",
    "            fig.autofmt_xdate()\n",
    "            plt.savefig(storageTier+\"_\"+location+\"_disk.png\", bbox_inches='tight')\n",
    "            plt.close()\n",
    "            #ax.axes.get_xaxis().set_visible(False)\n",
    "            #ax.axes.get_yaxis().set_visible(False)\n",
    "            #if n==4:\n",
    "            #    n=0\n",
    "            #    m+=1\n",
    "            #else:\n",
    "            #    n+=1\n",
    "        #plt.show()"
   ]
  },
  {
   "cell_type": "code",
   "execution_count": 67,
   "metadata": {
    "collapsed": false
   },
   "outputs": [
    {
     "ename": "OSError",
     "evalue": "[Errno 22] Invalid argument: 'C:\\\\Ankit\\x07a.csv'",
     "output_type": "error",
     "traceback": [
      "\u001b[0;31m---------------------------------------------------------------------------\u001b[0m",
      "\u001b[0;31mOSError\u001b[0m                                   Traceback (most recent call last)",
      "\u001b[0;32m<ipython-input-67-dbb676dbb1f0>\u001b[0m in \u001b[0;36m<module>\u001b[0;34m()\u001b[0m\n\u001b[0;32m----> 1\u001b[0;31m \u001b[0mds_jun2016_GB_graph_tier\u001b[0m\u001b[1;33m.\u001b[0m\u001b[0mto_csv\u001b[0m\u001b[1;33m(\u001b[0m\u001b[1;34m\"C:\\Ankit\\aa.csv\"\u001b[0m\u001b[1;33m)\u001b[0m\u001b[1;33m\u001b[0m\u001b[0m\n\u001b[0m",
      "\u001b[0;32mC:\\Users\\Home\\Anaconda3\\lib\\site-packages\\pandas\\core\\frame.py\u001b[0m in \u001b[0;36mto_csv\u001b[0;34m(self, path_or_buf, sep, na_rep, float_format, columns, header, index, index_label, mode, encoding, compression, quoting, quotechar, line_terminator, chunksize, tupleize_cols, date_format, doublequote, escapechar, decimal, **kwds)\u001b[0m\n\u001b[1;32m   1342\u001b[0m                                      \u001b[0mdoublequote\u001b[0m\u001b[1;33m=\u001b[0m\u001b[0mdoublequote\u001b[0m\u001b[1;33m,\u001b[0m\u001b[1;33m\u001b[0m\u001b[0m\n\u001b[1;32m   1343\u001b[0m                                      escapechar=escapechar, decimal=decimal)\n\u001b[0;32m-> 1344\u001b[0;31m         \u001b[0mformatter\u001b[0m\u001b[1;33m.\u001b[0m\u001b[0msave\u001b[0m\u001b[1;33m(\u001b[0m\u001b[1;33m)\u001b[0m\u001b[1;33m\u001b[0m\u001b[0m\n\u001b[0m\u001b[1;32m   1345\u001b[0m \u001b[1;33m\u001b[0m\u001b[0m\n\u001b[1;32m   1346\u001b[0m         \u001b[1;32mif\u001b[0m \u001b[0mpath_or_buf\u001b[0m \u001b[1;32mis\u001b[0m \u001b[1;32mNone\u001b[0m\u001b[1;33m:\u001b[0m\u001b[1;33m\u001b[0m\u001b[0m\n",
      "\u001b[0;32mC:\\Users\\Home\\Anaconda3\\lib\\site-packages\\pandas\\formats\\format.py\u001b[0m in \u001b[0;36msave\u001b[0;34m(self)\u001b[0m\n\u001b[1;32m   1524\u001b[0m             f = _get_handle(self.path_or_buf, self.mode,\n\u001b[1;32m   1525\u001b[0m                             \u001b[0mencoding\u001b[0m\u001b[1;33m=\u001b[0m\u001b[0mself\u001b[0m\u001b[1;33m.\u001b[0m\u001b[0mencoding\u001b[0m\u001b[1;33m,\u001b[0m\u001b[1;33m\u001b[0m\u001b[0m\n\u001b[0;32m-> 1526\u001b[0;31m                             compression=self.compression)\n\u001b[0m\u001b[1;32m   1527\u001b[0m             \u001b[0mclose\u001b[0m \u001b[1;33m=\u001b[0m \u001b[1;32mTrue\u001b[0m\u001b[1;33m\u001b[0m\u001b[0m\n\u001b[1;32m   1528\u001b[0m \u001b[1;33m\u001b[0m\u001b[0m\n",
      "\u001b[0;32mC:\\Users\\Home\\Anaconda3\\lib\\site-packages\\pandas\\io\\common.py\u001b[0m in \u001b[0;36m_get_handle\u001b[0;34m(path, mode, encoding, compression)\u001b[0m\n\u001b[1;32m    422\u001b[0m                 \u001b[0mf\u001b[0m \u001b[1;33m=\u001b[0m \u001b[0mopen\u001b[0m\u001b[1;33m(\u001b[0m\u001b[0mpath\u001b[0m\u001b[1;33m,\u001b[0m \u001b[0mmode\u001b[0m\u001b[1;33m,\u001b[0m \u001b[0mencoding\u001b[0m\u001b[1;33m=\u001b[0m\u001b[0mencoding\u001b[0m\u001b[1;33m)\u001b[0m\u001b[1;33m\u001b[0m\u001b[0m\n\u001b[1;32m    423\u001b[0m             \u001b[1;32melse\u001b[0m\u001b[1;33m:\u001b[0m\u001b[1;33m\u001b[0m\u001b[0m\n\u001b[0;32m--> 424\u001b[0;31m                 \u001b[0mf\u001b[0m \u001b[1;33m=\u001b[0m \u001b[0mopen\u001b[0m\u001b[1;33m(\u001b[0m\u001b[0mpath\u001b[0m\u001b[1;33m,\u001b[0m \u001b[0mmode\u001b[0m\u001b[1;33m,\u001b[0m \u001b[0merrors\u001b[0m\u001b[1;33m=\u001b[0m\u001b[1;34m'replace'\u001b[0m\u001b[1;33m)\u001b[0m\u001b[1;33m\u001b[0m\u001b[0m\n\u001b[0m\u001b[1;32m    425\u001b[0m         \u001b[1;32melse\u001b[0m\u001b[1;33m:\u001b[0m\u001b[1;33m\u001b[0m\u001b[0m\n\u001b[1;32m    426\u001b[0m             \u001b[0mf\u001b[0m \u001b[1;33m=\u001b[0m \u001b[0mopen\u001b[0m\u001b[1;33m(\u001b[0m\u001b[0mpath\u001b[0m\u001b[1;33m,\u001b[0m \u001b[0mmode\u001b[0m\u001b[1;33m)\u001b[0m\u001b[1;33m\u001b[0m\u001b[0m\n",
      "\u001b[0;31mOSError\u001b[0m: [Errno 22] Invalid argument: 'C:\\\\Ankit\\x07a.csv'"
     ]
    }
   ],
   "source": []
  },
  {
   "cell_type": "code",
   "execution_count": null,
   "metadata": {
    "collapsed": false
   },
   "outputs": [],
   "source": []
  },
  {
   "cell_type": "code",
   "execution_count": 39,
   "metadata": {
    "collapsed": true
   },
   "outputs": [],
   "source": [
    "ds_jun2016_GB_graph_tier=ds_jun2016_GB_graph_tier.reset_index(level=['Date'])"
   ]
  },
  {
   "cell_type": "code",
   "execution_count": 40,
   "metadata": {
    "collapsed": false
   },
   "outputs": [
    {
     "data": {
      "text/html": [
       "<div>\n",
       "<table border=\"1\" class=\"dataframe\">\n",
       "  <thead>\n",
       "    <tr style=\"text-align: right;\">\n",
       "      <th></th>\n",
       "      <th></th>\n",
       "      <th>Date</th>\n",
       "      <th>used_space</th>\n",
       "    </tr>\n",
       "    <tr>\n",
       "      <th>ds_storagetier</th>\n",
       "      <th>ds_loc</th>\n",
       "      <th></th>\n",
       "      <th></th>\n",
       "    </tr>\n",
       "  </thead>\n",
       "  <tbody>\n",
       "    <tr>\n",
       "      <th rowspan=\"5\" valign=\"top\">DRS-JOURNAL</th>\n",
       "      <th>ASH02NA9</th>\n",
       "      <td>2016-10-03 12:00:00</td>\n",
       "      <td>0.972656</td>\n",
       "    </tr>\n",
       "    <tr>\n",
       "      <th>ASH02NA9</th>\n",
       "      <td>2016-10-03 13:00:00</td>\n",
       "      <td>0.973633</td>\n",
       "    </tr>\n",
       "    <tr>\n",
       "      <th>ASH02NA9</th>\n",
       "      <td>2016-10-03 14:00:00</td>\n",
       "      <td>0.973633</td>\n",
       "    </tr>\n",
       "    <tr>\n",
       "      <th>ASH02NA9</th>\n",
       "      <td>2016-10-03 15:00:00</td>\n",
       "      <td>0.973633</td>\n",
       "    </tr>\n",
       "    <tr>\n",
       "      <th>ASH02NA9</th>\n",
       "      <td>2016-10-03 16:00:00</td>\n",
       "      <td>0.973633</td>\n",
       "    </tr>\n",
       "  </tbody>\n",
       "</table>\n",
       "</div>"
      ],
      "text/plain": [
       "                                        Date  used_space\n",
       "ds_storagetier ds_loc                                   \n",
       "DRS-JOURNAL    ASH02NA9  2016-10-03 12:00:00    0.972656\n",
       "               ASH02NA9  2016-10-03 13:00:00    0.973633\n",
       "               ASH02NA9  2016-10-03 14:00:00    0.973633\n",
       "               ASH02NA9  2016-10-03 15:00:00    0.973633\n",
       "               ASH02NA9  2016-10-03 16:00:00    0.973633"
      ]
     },
     "execution_count": 40,
     "metadata": {},
     "output_type": "execute_result"
    }
   ],
   "source": [
    "ds_jun2016_GB_graph_tier.head()"
   ]
  },
  {
   "cell_type": "code",
   "execution_count": 41,
   "metadata": {
    "collapsed": true
   },
   "outputs": [],
   "source": [
    "ds_jun2016_GB_graph_tier['Date'] = ds_jun2016_GB_graph_tier['Date'].apply(lambda x: str(x).replace(str(x)[-8:],'00:00:00'))"
   ]
  },
  {
   "cell_type": "code",
   "execution_count": 42,
   "metadata": {
    "collapsed": false
   },
   "outputs": [
    {
     "data": {
      "text/html": [
       "<div>\n",
       "<table border=\"1\" class=\"dataframe\">\n",
       "  <thead>\n",
       "    <tr style=\"text-align: right;\">\n",
       "      <th></th>\n",
       "      <th></th>\n",
       "      <th>Date</th>\n",
       "      <th>used_space</th>\n",
       "    </tr>\n",
       "    <tr>\n",
       "      <th>ds_storagetier</th>\n",
       "      <th>ds_loc</th>\n",
       "      <th></th>\n",
       "      <th></th>\n",
       "    </tr>\n",
       "  </thead>\n",
       "  <tbody>\n",
       "    <tr>\n",
       "      <th rowspan=\"5\" valign=\"top\">DRS-JOURNAL</th>\n",
       "      <th>ASH02NA9</th>\n",
       "      <td>2016-10-03 00:00:00</td>\n",
       "      <td>0.972656</td>\n",
       "    </tr>\n",
       "    <tr>\n",
       "      <th>ASH02NA9</th>\n",
       "      <td>2016-10-03 00:00:00</td>\n",
       "      <td>0.973633</td>\n",
       "    </tr>\n",
       "    <tr>\n",
       "      <th>ASH02NA9</th>\n",
       "      <td>2016-10-03 00:00:00</td>\n",
       "      <td>0.973633</td>\n",
       "    </tr>\n",
       "    <tr>\n",
       "      <th>ASH02NA9</th>\n",
       "      <td>2016-10-03 00:00:00</td>\n",
       "      <td>0.973633</td>\n",
       "    </tr>\n",
       "    <tr>\n",
       "      <th>ASH02NA9</th>\n",
       "      <td>2016-10-03 00:00:00</td>\n",
       "      <td>0.973633</td>\n",
       "    </tr>\n",
       "  </tbody>\n",
       "</table>\n",
       "</div>"
      ],
      "text/plain": [
       "                                        Date  used_space\n",
       "ds_storagetier ds_loc                                   \n",
       "DRS-JOURNAL    ASH02NA9  2016-10-03 00:00:00    0.972656\n",
       "               ASH02NA9  2016-10-03 00:00:00    0.973633\n",
       "               ASH02NA9  2016-10-03 00:00:00    0.973633\n",
       "               ASH02NA9  2016-10-03 00:00:00    0.973633\n",
       "               ASH02NA9  2016-10-03 00:00:00    0.973633"
      ]
     },
     "execution_count": 42,
     "metadata": {},
     "output_type": "execute_result"
    }
   ],
   "source": [
    "ds_jun2016_GB_graph_tier.head()"
   ]
  },
  {
   "cell_type": "code",
   "execution_count": 44,
   "metadata": {
    "collapsed": false
   },
   "outputs": [
    {
     "data": {
      "text/plain": [
       "Date\n",
       "2016-06-01 00:00:00    1.474867e+06\n",
       "2016-06-02 00:00:00    1.479056e+06\n",
       "2016-06-03 00:00:00    1.477615e+06\n",
       "2016-06-04 00:00:00    1.487321e+06\n",
       "2016-06-05 00:00:00    4.243007e+05\n",
       "2016-06-06 00:00:00    4.280641e+05\n",
       "2016-06-07 00:00:00    4.295519e+05\n",
       "2016-06-08 00:00:00    1.489779e+06\n",
       "2016-06-09 00:00:00    1.490576e+06\n",
       "2016-06-10 00:00:00    1.489880e+06\n",
       "2016-06-11 00:00:00    1.497749e+06\n",
       "2016-06-12 00:00:00    1.497667e+06\n",
       "2016-06-13 00:00:00    1.495864e+06\n",
       "2016-06-14 00:00:00    1.495760e+06\n",
       "2016-06-15 00:00:00    1.496261e+06\n",
       "2016-06-16 00:00:00    1.496633e+06\n",
       "2016-06-17 00:00:00    1.511829e+06\n",
       "2016-06-18 00:00:00    1.522169e+06\n",
       "2016-06-19 00:00:00    1.521619e+06\n",
       "2016-06-20 00:00:00    1.516865e+06\n",
       "2016-06-21 00:00:00    1.517069e+06\n",
       "2016-06-22 00:00:00    1.511903e+06\n",
       "2016-06-23 00:00:00    1.511165e+06\n",
       "2016-06-24 00:00:00    1.504001e+06\n",
       "2016-06-25 00:00:00    1.372553e+06\n",
       "2016-06-26 00:00:00    1.373120e+06\n",
       "2016-06-27 00:00:00    1.351867e+06\n",
       "2016-06-28 00:00:00    1.387739e+06\n",
       "2016-06-29 00:00:00    1.364020e+06\n",
       "2016-06-30 00:00:00    1.363235e+06\n",
       "                           ...     \n",
       "2016-11-01 00:00:00    8.960387e+05\n",
       "2016-11-02 00:00:00    1.009759e+06\n",
       "2016-11-03 00:00:00    1.005443e+06\n",
       "2016-11-04 00:00:00    1.006247e+06\n",
       "2016-11-05 00:00:00    1.015420e+06\n",
       "2016-11-06 00:00:00    1.015966e+06\n",
       "2016-11-07 00:00:00    1.020306e+06\n",
       "2016-11-08 00:00:00    1.024316e+06\n",
       "2016-11-09 00:00:00    1.024979e+06\n",
       "2016-11-10 00:00:00    9.891396e+05\n",
       "2016-11-11 00:00:00    9.657232e+05\n",
       "2016-11-12 00:00:00    8.994848e+05\n",
       "2016-11-13 00:00:00    9.001001e+05\n",
       "2016-11-14 00:00:00    9.004928e+05\n",
       "2016-11-15 00:00:00    9.689715e+05\n",
       "2016-11-16 00:00:00    9.690141e+05\n",
       "2016-11-17 00:00:00    9.779228e+05\n",
       "2016-11-18 00:00:00    9.811339e+05\n",
       "2016-11-19 00:00:00    9.855050e+05\n",
       "2016-11-20 00:00:00    9.865910e+05\n",
       "2016-11-21 00:00:00    9.867318e+05\n",
       "2016-11-22 00:00:00    9.877440e+05\n",
       "2016-11-23 00:00:00    9.966138e+05\n",
       "2016-11-24 00:00:00    9.896443e+05\n",
       "2016-11-25 00:00:00    9.896855e+05\n",
       "2016-11-26 00:00:00    9.896111e+05\n",
       "2016-11-27 00:00:00    9.741833e+05\n",
       "2016-11-28 00:00:00    9.742905e+05\n",
       "2016-11-29 00:00:00    1.000997e+06\n",
       "2016-11-30 00:00:00    9.787830e+05\n",
       "Name: used_space, dtype: float64"
      ]
     },
     "execution_count": 44,
     "metadata": {},
     "output_type": "execute_result"
    }
   ],
   "source": [
    "ds_jun2016_GB_graph_tier.groupby(['Date'])['used_space'].max()"
   ]
  },
  {
   "cell_type": "code",
   "execution_count": 47,
   "metadata": {
    "collapsed": false
   },
   "outputs": [
    {
     "data": {
      "text/html": [
       "<div>\n",
       "<table border=\"1\" class=\"dataframe\">\n",
       "  <thead>\n",
       "    <tr style=\"text-align: right;\">\n",
       "      <th></th>\n",
       "      <th>used_space</th>\n",
       "    </tr>\n",
       "    <tr>\n",
       "      <th>Date</th>\n",
       "      <th></th>\n",
       "    </tr>\n",
       "  </thead>\n",
       "  <tbody>\n",
       "    <tr>\n",
       "      <th>2016-06-01 00:00:00</th>\n",
       "      <td>1.474867e+06</td>\n",
       "    </tr>\n",
       "    <tr>\n",
       "      <th>2016-06-02 00:00:00</th>\n",
       "      <td>1.479056e+06</td>\n",
       "    </tr>\n",
       "    <tr>\n",
       "      <th>2016-06-03 00:00:00</th>\n",
       "      <td>1.477615e+06</td>\n",
       "    </tr>\n",
       "    <tr>\n",
       "      <th>2016-06-04 00:00:00</th>\n",
       "      <td>1.487321e+06</td>\n",
       "    </tr>\n",
       "    <tr>\n",
       "      <th>2016-06-05 00:00:00</th>\n",
       "      <td>4.243007e+05</td>\n",
       "    </tr>\n",
       "  </tbody>\n",
       "</table>\n",
       "</div>"
      ],
      "text/plain": [
       "                       used_space\n",
       "Date                             \n",
       "2016-06-01 00:00:00  1.474867e+06\n",
       "2016-06-02 00:00:00  1.479056e+06\n",
       "2016-06-03 00:00:00  1.477615e+06\n",
       "2016-06-04 00:00:00  1.487321e+06\n",
       "2016-06-05 00:00:00  4.243007e+05"
      ]
     },
     "execution_count": 47,
     "metadata": {},
     "output_type": "execute_result"
    }
   ],
   "source": [
    "ds_jun2016_GB_graph_tier.head()"
   ]
  },
  {
   "cell_type": "code",
   "execution_count": 50,
   "metadata": {
    "collapsed": false
   },
   "outputs": [
    {
     "data": {
      "text/html": [
       "<div>\n",
       "<table border=\"1\" class=\"dataframe\">\n",
       "  <thead>\n",
       "    <tr style=\"text-align: right;\">\n",
       "      <th></th>\n",
       "      <th></th>\n",
       "      <th></th>\n",
       "      <th>used_space</th>\n",
       "    </tr>\n",
       "    <tr>\n",
       "      <th>ds_storagetier</th>\n",
       "      <th>ds_loc</th>\n",
       "      <th>Date</th>\n",
       "      <th></th>\n",
       "    </tr>\n",
       "  </thead>\n",
       "  <tbody>\n",
       "    <tr>\n",
       "      <th rowspan=\"5\" valign=\"top\">DRS-JOURNAL</th>\n",
       "      <th rowspan=\"5\" valign=\"top\">ASH02NA9</th>\n",
       "      <th>2016-10-03 00:00:00</th>\n",
       "      <td>100.974609</td>\n",
       "    </tr>\n",
       "    <tr>\n",
       "      <th>2016-10-04 00:00:00</th>\n",
       "      <td>200.976562</td>\n",
       "    </tr>\n",
       "    <tr>\n",
       "      <th>2016-10-05 00:00:00</th>\n",
       "      <td>200.975586</td>\n",
       "    </tr>\n",
       "    <tr>\n",
       "      <th>2016-10-06 00:00:00</th>\n",
       "      <td>200.973633</td>\n",
       "    </tr>\n",
       "    <tr>\n",
       "      <th>2016-10-07 00:00:00</th>\n",
       "      <td>200.976562</td>\n",
       "    </tr>\n",
       "  </tbody>\n",
       "</table>\n",
       "</div>"
      ],
      "text/plain": [
       "                                             used_space\n",
       "ds_storagetier ds_loc   Date                           \n",
       "DRS-JOURNAL    ASH02NA9 2016-10-03 00:00:00  100.974609\n",
       "                        2016-10-04 00:00:00  200.976562\n",
       "                        2016-10-05 00:00:00  200.975586\n",
       "                        2016-10-06 00:00:00  200.973633\n",
       "                        2016-10-07 00:00:00  200.976562"
      ]
     },
     "execution_count": 50,
     "metadata": {},
     "output_type": "execute_result"
    }
   ],
   "source": [
    "ds_jun2016_GB_graph_tier.head()"
   ]
  },
  {
   "cell_type": "code",
   "execution_count": null,
   "metadata": {
    "collapsed": true
   },
   "outputs": [],
   "source": []
  }
 ],
 "metadata": {
  "anaconda-cloud": {},
  "kernelspec": {
   "display_name": "Python [default]",
   "language": "python",
   "name": "python3"
  },
  "language_info": {
   "codemirror_mode": {
    "name": "ipython",
    "version": 3
   },
   "file_extension": ".py",
   "mimetype": "text/x-python",
   "name": "python",
   "nbconvert_exporter": "python",
   "pygments_lexer": "ipython3",
   "version": "3.5.2"
  }
 },
 "nbformat": 4,
 "nbformat_minor": 1
}
