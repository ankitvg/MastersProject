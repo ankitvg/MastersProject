{
 "cells": [
  {
   "cell_type": "code",
   "execution_count": 58,
   "metadata": {
    "collapsed": true
   },
   "outputs": [],
   "source": [
    "import pandas as pd\n",
    "import numpy as np\n",
    "import math\n",
    "import matplotlib.pyplot as plt\n",
    "import datetime\n",
    "from sklearn import cluster, datasets\n",
    "from sklearn.neighbors import kneighbors_graph\n",
    "from sklearn.preprocessing import StandardScaler\n",
    "from sklearn import datasets, preprocessing, cross_validation, feature_extraction\n",
    "from sklearn import linear_model, svm, metrics, ensemble, neighbors, mixture, cluster\n",
    "import time\n",
    "from datetime import date\n",
    "import os"
   ]
  },
  {
   "cell_type": "code",
   "execution_count": 74,
   "metadata": {
    "collapsed": true
   },
   "outputs": [],
   "source": [
    "all_locations=[\"acc\",\n",
    "\"als\",\n",
    "\"AMD\",\n",
    "\"AMS\",\n",
    "\"amsalk\",\n",
    "\"ap10\",\n",
    "\"ap3\",\n",
    "\"ASH\",\n",
    "\"ash02\",\n",
    "\"ash02alk\",\n",
    "\"ash02ell\",\n",
    "\"ASH02na10\",\n",
    "\"ASH02na11\",\n",
    "\"ash02na14\",\n",
    "\"ash02na15\",\n",
    "\"ash02na18\",\n",
    "\"ASH02NA9\",\n",
    "\"boq\",\n",
    "\"BRU03EU9\",\n",
    "\"cbr01\",\n",
    "\"CBRAC2\",\n",
    "\"CGK\",\n",
    "\"cgk01\",\n",
    "\"cgk02id2\",\n",
    "\"csyd01\",\n",
    "\"EU7AMS\",\n",
    "\"fra\",\n",
    "\"FRA02EU10\",\n",
    "\"FRA03EU11\",\n",
    "\"gci\",\n",
    "\"GRU01\",\n",
    "\"HKG\",\n",
    "\"HKG01AP5\",\n",
    "\"HLZ\",\n",
    "\"HLZ01AU11\",\n",
    "\"hnd\",\n",
    "\"HND01AP4\",\n",
    "\"IL1MED1\",\n",
    "\"IL2MED1\",\n",
    "\"jer\",\n",
    "\"JNB\",\n",
    "\"JNB01AF3\",\n",
    "\"JNB01AF5\",\n",
    "\"jnb02\",\n",
    "\"JNB02AF4\",\n",
    "\"JNB03AF4\",\n",
    "\"lhr03\",\n",
    "\"LHR03EU8\",\n",
    "\"mel\",\n",
    "\"melau10\",\n",
    "\"MELau10\",\n",
    "\"mrcy\",\n",
    "\"NA2\",\n",
    "\"NA4\",\n",
    "\"sin01ap8\",\n",
    "\"sin01ap9\",\n",
    "\"sin02ap6\",\n",
    "\"sin03ap7\",\n",
    "\"SNU\",\n",
    "\"SNUna12\",\n",
    "\"SNUna13\",\n",
    "\"SNUna16\",\n",
    "\"snuna17\",\n",
    "\"SYD\",\n",
    "\"SYDau9\",\n",
    "\"WLG01AU12\",\n",
    "\"yyz01\",\n",
    "\"YYZ01CA2\"\n",
    "]"
   ]
  },
  {
   "cell_type": "code",
   "execution_count": 107,
   "metadata": {
    "collapsed": false
   },
   "outputs": [],
   "source": [
    "#This is the autoregressive model of degree 1\n",
    "#data_type can be either hourly or daily\n",
    "#generates results for all the locations in all_locations and saves graph and predicted values in filepath directory\n",
    "#The RMSE value, ratio of RMSE to mean is saved for all locations in a single csv in fold_filepath directory\n",
    "def AutoRegressionRAM_Degree1_DatesOnly_ML(data_type):\n",
    "    foldnum = 0\n",
    "    fold_results = pd.DataFrame()\n",
    "    for location in all_locations:\n",
    "        #print(location)\n",
    "        fig=plt.figure()\n",
    "        if data_type=='hourly':\n",
    "            filename='bestGraphs/'+location+'/'+location+'_CPU_RAM_jun2nov_hourly_data.csv'\n",
    "            filepath='result_graphs_3_29/AR_1_Dates/RAM/hourly/'+location+'/'\n",
    "            fold_filepath='result_graphs_3_29/AR_1_Dates/RAM/hourly/'\n",
    "            plt.xlabel('Hours', fontsize=12)\n",
    "        else:\n",
    "            filename='bestGraphs/'+location+'/'+'CPU_RAM_jun2nov_data.csv'\n",
    "            filepath='result_graphs_3_29/AR_1_Dates/RAM/daily/'+location+'/'\n",
    "            fold_filepath='result_graphs_3_29/AR_1_Dates/RAM/daily/'\n",
    "            plt.xlabel('Days', fontsize=12)\n",
    "        if not os.path.exists(filepath):\n",
    "            os.makedirs(filepath)\n",
    "        if not os.path.exists(fold_filepath):\n",
    "            os.makedirs(fold_filepath)\n",
    "        acc_daily2 = pd.read_csv(filename)\n",
    "        rows, cols = acc_daily2.shape\n",
    "        if rows>10:\n",
    "            acc_daily2.drop(acc_daily2.columns[[1,2]], axis=1, inplace=True)\n",
    "            acc_daily2.columns = ['Date', 'RAM Used']\n",
    "            temp=acc_daily2.loc[1:rows-1, \"RAM Used\"]\n",
    "            temp=temp.reset_index()\n",
    "            temp.drop(temp.columns[[0]], axis=1, inplace=True)\n",
    "            temp.loc[rows-1] = 0\n",
    "            acc_daily2['RAM Next Day'] = temp\n",
    "            diff = int(rows/6)\n",
    "            divider = rows - diff\n",
    "            train_data = acc_daily2.iloc[:divider, 0:2]\n",
    "            train_label = acc_daily2.iloc[:divider, 2]\n",
    "        #We have -1 below because we don't have label value for the last entry\n",
    "            test_data = acc_daily2.iloc[divider:rows-1, 0:2]\n",
    "            test_label = acc_daily2.iloc[divider:rows-1, 2]\n",
    "\n",
    "            lr = linear_model.LinearRegression()\n",
    "            lr.fit(train_data, train_label)\n",
    "            # We could print out our results\n",
    "            acc = lr.score(test_data, test_label)\n",
    "            mo = math.sqrt(metrics.mean_squared_error(test_label, lr.predict(test_data)))\n",
    "            mean_of_test_label = test_label.mean()\n",
    "    #        print (\"R^2 metric = %03.3f \\t\\t RMSE = %03.1f \\t\\t Ratio of RMSE and test label mean=%03.3f\" % (acc, mo, mo/mean_of_test_label))\n",
    "\n",
    "            # But a nicer way to store them is in a DataFrame\n",
    "            fold_results.loc[foldnum, 'location'] = location\n",
    "            fold_results.loc[foldnum, 'R^2'] = acc\n",
    "            fold_results.loc[foldnum, 'RMSE'] = mo\n",
    "            fold_results.loc[foldnum, 'test_mean'] = mean_of_test_label\n",
    "            fold_results.loc[foldnum, 'RMSE/test_mean'] = mo/mean_of_test_label\n",
    "            foldnum+=1\n",
    "            #Now let's look at the results:\n",
    "            #And compute the mean error across folds:\n",
    "\n",
    "            dates=range(divider,divider+diff-1,1)\n",
    "            prediction=pd.DataFrame()\n",
    "            prediction['Date']=dates\n",
    "            prediction['Pred']=lr.predict(test_data)\n",
    "            ax=acc_daily2.plot(x='Date', y='RAM Used')\n",
    "            prediction.plot(x='Date', y='Pred',ax=ax)\n",
    "            plt.title(location + ' ' + str(rows), fontsize=12)\n",
    "            if data_type=='hourly':\n",
    "                plt.xlabel('Hours', fontsize=12)\n",
    "            else:\n",
    "                plt.xlabel('Days', fontsize=12)\n",
    "            plt.ylabel('RAM', fontsize=12)\n",
    "            plt.savefig(filepath+location+'.jpg')\n",
    "            prediction.to_csv(filepath+'AR_1_Dates_pred.csv')\n",
    "    fold_results.to_csv(fold_filepath+'all_results.csv')\n",
    "    print('DONE!')"
   ]
  },
  {
   "cell_type": "code",
   "execution_count": 108,
   "metadata": {
    "collapsed": false
   },
   "outputs": [
    {
     "name": "stderr",
     "output_type": "stream",
     "text": [
      "C:\\Users\\Home\\Anaconda3\\lib\\site-packages\\matplotlib\\pyplot.py:524: RuntimeWarning: More than 20 figures have been opened. Figures created through the pyplot interface (`matplotlib.pyplot.figure`) are retained until explicitly closed and may consume too much memory. (To control this warning, see the rcParam `figure.max_open_warning`).\n",
      "  max_open_warning, RuntimeWarning)\n"
     ]
    },
    {
     "name": "stdout",
     "output_type": "stream",
     "text": [
      "DONE!\n"
     ]
    }
   ],
   "source": [
    "AutoRegressionRAM_Degree1_DatesOnly_ML(data_type='hourly')"
   ]
  },
  {
   "cell_type": "code",
   "execution_count": 109,
   "metadata": {
    "collapsed": false
   },
   "outputs": [
    {
     "name": "stderr",
     "output_type": "stream",
     "text": [
      "C:\\Users\\Home\\Anaconda3\\lib\\site-packages\\matplotlib\\pyplot.py:524: RuntimeWarning: More than 20 figures have been opened. Figures created through the pyplot interface (`matplotlib.pyplot.figure`) are retained until explicitly closed and may consume too much memory. (To control this warning, see the rcParam `figure.max_open_warning`).\n",
      "  max_open_warning, RuntimeWarning)\n"
     ]
    },
    {
     "name": "stdout",
     "output_type": "stream",
     "text": [
      "DONE!\n"
     ]
    }
   ],
   "source": [
    "AutoRegressionRAM_Degree1_DatesOnly_ML(data_type='daily')"
   ]
  },
  {
   "cell_type": "code",
   "execution_count": 104,
   "metadata": {
    "collapsed": false
   },
   "outputs": [],
   "source": [
    "#This is the autoregressive model of degree 1\n",
    "def AutoRegressionCPU_Degree1_DatesOnly_ML(data_type):\n",
    "    foldnum = 0\n",
    "    fold_results = pd.DataFrame()\n",
    "    for location in all_locations:\n",
    "        #print(location)\n",
    "        fig=plt.figure()\n",
    "        if data_type=='hourly':\n",
    "            filename='bestGraphs/'+location+'/'+location+'_CPU_RAM_jun2nov_hourly_data.csv'\n",
    "            filepath='result_graphs_3_29/AR_1_Dates/CPU/hourly/'+location+'/'\n",
    "            fold_filepath='result_graphs_3_29/AR_1_Dates/CPU/hourly/'\n",
    "        else:\n",
    "            filename='bestGraphs/'+location+'/'+'CPU_RAM_jun2nov_data.csv'\n",
    "            filepath='result_graphs_3_29/AR_1_Dates/CPU/daily/'+location+'/'\n",
    "            fold_filepath='result_graphs_3_29/AR_1_Dates/CPU/daily/'\n",
    "        if not os.path.exists(filepath):\n",
    "            os.makedirs(filepath)\n",
    "        if not os.path.exists(fold_filepath):\n",
    "            os.makedirs(fold_filepath)\n",
    "    \n",
    "        acc_daily2 = pd.read_csv(filename)\n",
    "        rows, cols = acc_daily2.shape\n",
    "        if rows>10:\n",
    "            acc_daily2.drop(acc_daily2.columns[[1,3]], axis=1, inplace=True)\n",
    "            acc_daily2.columns = ['Date', 'CPU Used']\n",
    "            temp=acc_daily2.loc[1:rows-1, \"CPU Used\"]\n",
    "            temp=temp.reset_index()\n",
    "            temp.drop(temp.columns[[0]], axis=1, inplace=True)\n",
    "            temp.loc[rows-1] = 0\n",
    "            acc_daily2['CPU Next Day'] = temp\n",
    "            diff = int(rows/6)\n",
    "            divider = rows - diff\n",
    "            train_data = acc_daily2.iloc[:divider, 0:2]\n",
    "            train_label = acc_daily2.iloc[:divider, 2]\n",
    "            test_data = acc_daily2.iloc[divider:rows-1, 0:2]\n",
    "            test_label = acc_daily2.iloc[divider:rows-1, 2]\n",
    "\n",
    "            lr = linear_model.LinearRegression()\n",
    "            lr.fit(train_data, train_label)\n",
    "            # We could print out our results\n",
    "            acc = lr.score(test_data, test_label)\n",
    "            mo = math.sqrt(metrics.mean_squared_error(test_label, lr.predict(test_data)))\n",
    "            mean_of_test_label = test_label.mean()\n",
    "\n",
    "            # But a nicer way to store them is in a DataFrame\n",
    "            fold_results.loc[foldnum, 'location'] = location\n",
    "            fold_results.loc[foldnum, 'R^2'] = acc\n",
    "            fold_results.loc[foldnum, 'RMSE'] = mo\n",
    "            fold_results.loc[foldnum, 'test_mean'] = mean_of_test_label\n",
    "            fold_results.loc[foldnum, 'RMSE/test_mean'] = mo/mean_of_test_label\n",
    "            foldnum+=1\n",
    "            \n",
    "            #Now let's look at the results:\n",
    "            #And compute the mean error across folds:\n",
    "\n",
    "            dates=range(divider,divider+diff-1,1)\n",
    "            prediction=pd.DataFrame()\n",
    "            prediction['Date']=dates\n",
    "            prediction['Pred']=lr.predict(test_data)\n",
    "            plt.figure()\n",
    "            ax=acc_daily2.plot(x='Date', y='CPU Used')\n",
    "            prediction.plot(x='Date', y='Pred',ax=ax)\n",
    "            plt.title(location + \" \" + str(rows), fontsize=12)\n",
    "            if data_type=='hourly':\n",
    "                plt.xlabel('Hours', fontsize=12)\n",
    "            else:\n",
    "                plt.xlabel('Days', fontsize=12)\n",
    "            plt.ylabel('CPU', fontsize=12)\n",
    "            plt.savefig(filepath+location+'.jpg', bbox_inches='tight')\n",
    "            prediction.to_csv(filepath+'AR_1_Dates_pred.csv')\n",
    "    fold_results.to_csv(fold_filepath+'all_results.csv')\n",
    "    print('DONE!')"
   ]
  },
  {
   "cell_type": "code",
   "execution_count": 105,
   "metadata": {
    "collapsed": false
   },
   "outputs": [
    {
     "name": "stderr",
     "output_type": "stream",
     "text": [
      "C:\\Users\\Home\\Anaconda3\\lib\\site-packages\\matplotlib\\pyplot.py:524: RuntimeWarning: More than 20 figures have been opened. Figures created through the pyplot interface (`matplotlib.pyplot.figure`) are retained until explicitly closed and may consume too much memory. (To control this warning, see the rcParam `figure.max_open_warning`).\n",
      "  max_open_warning, RuntimeWarning)\n"
     ]
    },
    {
     "name": "stdout",
     "output_type": "stream",
     "text": [
      "DONE!\n"
     ]
    }
   ],
   "source": [
    "AutoRegressionCPU_Degree1_DatesOnly_ML('hourly')"
   ]
  },
  {
   "cell_type": "code",
   "execution_count": 106,
   "metadata": {
    "collapsed": false
   },
   "outputs": [
    {
     "name": "stderr",
     "output_type": "stream",
     "text": [
      "C:\\Users\\Home\\Anaconda3\\lib\\site-packages\\matplotlib\\pyplot.py:524: RuntimeWarning: More than 20 figures have been opened. Figures created through the pyplot interface (`matplotlib.pyplot.figure`) are retained until explicitly closed and may consume too much memory. (To control this warning, see the rcParam `figure.max_open_warning`).\n",
      "  max_open_warning, RuntimeWarning)\n"
     ]
    },
    {
     "name": "stdout",
     "output_type": "stream",
     "text": [
      "DONE!\n"
     ]
    }
   ],
   "source": [
    "AutoRegressionCPU_Degree1_DatesOnly_ML('daily')"
   ]
  },
  {
   "cell_type": "code",
   "execution_count": 112,
   "metadata": {
    "collapsed": false
   },
   "outputs": [],
   "source": [
    "#This is the linear regression model (for both daily and hourly max) using just date as training and RAM value as test\n",
    "def linearRegressionRAM_onlyDate_ML(data_type):\n",
    "    foldnum = 0\n",
    "    fold_results = pd.DataFrame()\n",
    "    for location in all_locations:\n",
    "        #print(location)\n",
    "        fig=plt.figure()\n",
    "        if data_type=='hourly':\n",
    "            filename='bestGraphs/'+location+'/'+location+'_CPU_RAM_jun2nov_hourly_data.csv'\n",
    "            filepath='result_graphs_3_29/LR_1_Dates/RAM/hourly/'+location+'/'\n",
    "            fold_filepath='result_graphs_3_29/LR_1_Dates/RAM/hourly/'\n",
    "        else:\n",
    "            filename='bestGraphs/'+location+'/'+'CPU_RAM_jun2nov_data.csv'\n",
    "            filepath='result_graphs_3_29/LR_1_Dates/RAM/daily/'+location+'/'\n",
    "            fold_filepath='result_graphs_3_29/LR_1_Dates/RAM/daily/'\n",
    "        if not os.path.exists(filepath):\n",
    "            os.makedirs(filepath)\n",
    "        if not os.path.exists(fold_filepath):\n",
    "            os.makedirs(fold_filepath)\n",
    "    \n",
    "        acc_daily2 = pd.read_csv(filename)\n",
    "        rows, cols = acc_daily2.shape\n",
    "        if rows>10:\n",
    "            acc_daily2.drop(acc_daily2.columns[[1,2]], axis=1, inplace=True)\n",
    "            acc_daily2.columns = ['Date', 'RAM Used']\n",
    "        #     temp=acc_daily2.loc[1:rows-1, \"RAM Used\"]\n",
    "        #     temp=temp.reset_index()\n",
    "        #     temp.drop(temp.columns[[0]], axis=1, inplace=True)\n",
    "        #     temp.loc[rows-1] = 0\n",
    "        #     acc_daily2['RAM Next Day'] = temp\n",
    "            diff = int(rows/6)\n",
    "            divider = rows - diff\n",
    "            train_data = acc_daily2.iloc[:divider, 0]\n",
    "            train_label = acc_daily2.iloc[:divider, 1]\n",
    "            test_data = acc_daily2.iloc[divider:rows, 0]\n",
    "            test_label = acc_daily2.iloc[divider:rows, 1]\n",
    "            \n",
    "            lr = linear_model.LinearRegression()\n",
    "        #in converting this function from LinearRegressionRAM, I had to reshape the dataframe to make it a matrix\n",
    "            lr.fit(train_data.reshape(len(train_data), 1), train_label)\n",
    "            # We could print out our results\n",
    "            acc = lr.score(test_data.reshape(len(test_data),1), test_label)\n",
    "            pred_values = lr.predict(test_data.reshape(len(test_data),1))\n",
    "            mo = math.sqrt(metrics.mean_squared_error(test_label, pred_values))\n",
    "            mean_of_test_label = test_label.mean()\n",
    "\n",
    "            # But a nicer way to store them is in a DataFrame\n",
    "            fold_results.loc[foldnum, 'location'] = location\n",
    "            fold_results.loc[foldnum, 'R^2'] = acc\n",
    "            fold_results.loc[foldnum, 'RMSE'] = mo\n",
    "            fold_results.loc[foldnum, 'test_mean'] = mean_of_test_label\n",
    "            fold_results.loc[foldnum, 'RMSE/test_mean'] = mo/mean_of_test_label\n",
    "            foldnum+=1\n",
    "\n",
    "            dates=range(divider,divider+diff,1)\n",
    "            prediction=pd.DataFrame()\n",
    "            prediction['Date']=dates\n",
    "            prediction['Pred']=pred_values\n",
    "            plt.figure()\n",
    "            ax=acc_daily2.plot(x='Date', y='RAM Used')\n",
    "            prediction.plot(x='Date', y='Pred',ax=ax)\n",
    "            plt.title(location + \" \" + str(rows), fontsize=12)\n",
    "            if data_type=='hourly':\n",
    "                plt.xlabel('Hours', fontsize=12)\n",
    "            else:\n",
    "                plt.xlabel('Days', fontsize=12)\n",
    "            plt.ylabel('RAM', fontsize=12)\n",
    "            plt.savefig(filepath+location+'.jpg', bbox_inches='tight')\n",
    "            prediction.to_csv(filepath+'LR_1_Dates_pred.csv')\n",
    "    fold_results.to_csv(fold_filepath+'all_results.csv')\n",
    "    print('DONE!')"
   ]
  },
  {
   "cell_type": "code",
   "execution_count": 113,
   "metadata": {
    "collapsed": false
   },
   "outputs": [
    {
     "name": "stderr",
     "output_type": "stream",
     "text": [
      "C:\\Users\\Home\\Anaconda3\\lib\\site-packages\\matplotlib\\pyplot.py:524: RuntimeWarning: More than 20 figures have been opened. Figures created through the pyplot interface (`matplotlib.pyplot.figure`) are retained until explicitly closed and may consume too much memory. (To control this warning, see the rcParam `figure.max_open_warning`).\n",
      "  max_open_warning, RuntimeWarning)\n"
     ]
    },
    {
     "name": "stdout",
     "output_type": "stream",
     "text": [
      "DONE!\n"
     ]
    }
   ],
   "source": [
    "linearRegressionRAM_onlyDate_ML('hourly')"
   ]
  },
  {
   "cell_type": "code",
   "execution_count": 114,
   "metadata": {
    "collapsed": false
   },
   "outputs": [
    {
     "name": "stderr",
     "output_type": "stream",
     "text": [
      "C:\\Users\\Home\\Anaconda3\\lib\\site-packages\\matplotlib\\pyplot.py:524: RuntimeWarning: More than 20 figures have been opened. Figures created through the pyplot interface (`matplotlib.pyplot.figure`) are retained until explicitly closed and may consume too much memory. (To control this warning, see the rcParam `figure.max_open_warning`).\n",
      "  max_open_warning, RuntimeWarning)\n"
     ]
    },
    {
     "name": "stdout",
     "output_type": "stream",
     "text": [
      "DONE!\n"
     ]
    }
   ],
   "source": [
    "linearRegressionRAM_onlyDate_ML('daily')"
   ]
  },
  {
   "cell_type": "code",
   "execution_count": 118,
   "metadata": {
    "collapsed": true
   },
   "outputs": [],
   "source": [
    "#This is the autoregressive model of degree 1\n",
    "def linearRegressionCPU_onlyDate_ML(data_type):\n",
    "    foldnum = 0\n",
    "    fold_results = pd.DataFrame()\n",
    "    for location in all_locations:\n",
    "        #print(location)\n",
    "        fig=plt.figure()\n",
    "        if data_type=='hourly':\n",
    "            filename='bestGraphs/'+location+'/'+location+'_CPU_RAM_jun2nov_hourly_data.csv'\n",
    "            filepath='result_graphs_3_29/LR_1_Dates/CPU/hourly/'+location+'/'\n",
    "            fold_filepath='result_graphs_3_29/LR_1_Dates/CPU/hourly/'\n",
    "        else:\n",
    "            filename='bestGraphs/'+location+'/'+'CPU_RAM_jun2nov_data.csv'\n",
    "            filepath='result_graphs_3_29/LR_1_Dates/CPU/daily/'+location+'/'\n",
    "            fold_filepath='result_graphs_3_29/LR_1_Dates/CPU/daily/'\n",
    "        if not os.path.exists(filepath):\n",
    "            os.makedirs(filepath)\n",
    "        if not os.path.exists(fold_filepath):\n",
    "            os.makedirs(fold_filepath)\n",
    "    \n",
    "        acc_daily2 = pd.read_csv(filename)\n",
    "        rows, cols = acc_daily2.shape\n",
    "        if rows>10:\n",
    "            acc_daily2.drop(acc_daily2.columns[[1,3]], axis=1, inplace=True)\n",
    "            acc_daily2.columns = ['Date', 'CPU Used']\n",
    "        #     temp=acc_daily2.loc[1:rows-1, \"CPU Used\"]\n",
    "        #     temp=temp.reset_index()\n",
    "        #     temp.drop(temp.columns[[0]], axis=1, inplace=True)\n",
    "        #     temp.loc[rows-1] = 0\n",
    "        #     acc_daily2['CPU Next Day'] = temp\n",
    "            diff = int(rows/6)\n",
    "            divider = rows - diff\n",
    "            train_data = acc_daily2.iloc[:divider, 0]\n",
    "            train_label = acc_daily2.iloc[:divider, 1]\n",
    "            test_data = acc_daily2.iloc[divider:rows, 0]\n",
    "            test_label = acc_daily2.iloc[divider:rows, 1]\n",
    "\n",
    "            lr = linear_model.LinearRegression()\n",
    "            lr.fit(train_data.reshape(len(train_data),1), train_label)\n",
    "            # We could print out our results\n",
    "            acc = lr.score(test_data.reshape(len(test_data),1) , test_label)\n",
    "            pred_values = lr.predict(test_data.reshape(len(test_data),1))\n",
    "            mo = math.sqrt(metrics.mean_squared_error(test_label, pred_values))\n",
    "            mean_of_test_label = test_label.mean()\n",
    "\n",
    "            # But a nicer way to store them is in a DataFrame\n",
    "            fold_results.loc[foldnum, 'location'] = location\n",
    "            fold_results.loc[foldnum, 'R^2'] = acc\n",
    "            fold_results.loc[foldnum, 'RMSE'] = mo\n",
    "            fold_results.loc[foldnum, 'test_mean'] = mean_of_test_label\n",
    "            fold_results.loc[foldnum, 'RMSE/test_mean'] = mo/mean_of_test_label\n",
    "            foldnum+=1\n",
    "\n",
    "            dates=range(divider,divider+diff,1)\n",
    "            prediction=pd.DataFrame()\n",
    "            prediction['Date']=dates\n",
    "            prediction['Pred']=pred_values\n",
    "            plt.figure()\n",
    "            ax=acc_daily2.plot(x='Date', y='CPU Used')\n",
    "            prediction.plot(x='Date', y='Pred',ax=ax)\n",
    "            plt.title(location + \" \" + str(rows), fontsize=12)\n",
    "            if data_type=='hourly':\n",
    "                plt.xlabel('Hours', fontsize=12)\n",
    "            else:\n",
    "                plt.xlabel('Days', fontsize=12)\n",
    "            plt.ylabel('CPU', fontsize=12)\n",
    "            plt.savefig(filepath+location+'.jpg', bbox_inches='tight')\n",
    "            prediction.to_csv(filepath+'LR_1_Dates_pred.csv')\n",
    "    fold_results.to_csv(fold_filepath+'all_results.csv')\n",
    "    print('DONE!')"
   ]
  },
  {
   "cell_type": "code",
   "execution_count": 119,
   "metadata": {
    "collapsed": false
   },
   "outputs": [
    {
     "name": "stderr",
     "output_type": "stream",
     "text": [
      "C:\\Users\\Home\\Anaconda3\\lib\\site-packages\\matplotlib\\pyplot.py:524: RuntimeWarning: More than 20 figures have been opened. Figures created through the pyplot interface (`matplotlib.pyplot.figure`) are retained until explicitly closed and may consume too much memory. (To control this warning, see the rcParam `figure.max_open_warning`).\n",
      "  max_open_warning, RuntimeWarning)\n"
     ]
    },
    {
     "name": "stdout",
     "output_type": "stream",
     "text": [
      "DONE!\n"
     ]
    }
   ],
   "source": [
    "linearRegressionCPU_onlyDate_ML('hourly')"
   ]
  },
  {
   "cell_type": "code",
   "execution_count": 120,
   "metadata": {
    "collapsed": false
   },
   "outputs": [
    {
     "name": "stderr",
     "output_type": "stream",
     "text": [
      "C:\\Users\\Home\\Anaconda3\\lib\\site-packages\\matplotlib\\pyplot.py:524: RuntimeWarning: More than 20 figures have been opened. Figures created through the pyplot interface (`matplotlib.pyplot.figure`) are retained until explicitly closed and may consume too much memory. (To control this warning, see the rcParam `figure.max_open_warning`).\n",
      "  max_open_warning, RuntimeWarning)\n"
     ]
    },
    {
     "name": "stdout",
     "output_type": "stream",
     "text": [
      "DONE!\n"
     ]
    }
   ],
   "source": [
    "linearRegressionCPU_onlyDate_ML('daily')"
   ]
  },
  {
   "cell_type": "code",
   "execution_count": 121,
   "metadata": {
    "collapsed": true
   },
   "outputs": [],
   "source": [
    "#This is the linear regression model (for both daily and hourly max) using just date as training and RAM value as test\n",
    "def linearRegressionRAM_DateandDays_ML(data_type):\n",
    "    foldnum = 0\n",
    "    fold_results = pd.DataFrame()\n",
    "    for location in all_locations:\n",
    "        #print(location)\n",
    "        fig=plt.figure()\n",
    "        if data_type=='hourly':\n",
    "            filename='bestGraphs/'+location+'/'+location+'_CPU_RAM_jun2nov_hourly_data.csv'\n",
    "            filepath='result_graphs_3_29/LR_1_DatesDays/RAM/hourly/'+location+'/'\n",
    "            fold_filepath='result_graphs_3_29/LR_1_DatesDays/RAM/hourly/'\n",
    "        else:\n",
    "            filename='bestGraphs/'+location+'/'+'CPU_RAM_jun2nov_data.csv'\n",
    "            filepath='result_graphs_3_29/LR_1_DatesDays/RAM/daily/'+location+'/'\n",
    "            fold_filepath='result_graphs_3_29/LR_1_DatesDays/RAM/daily/'\n",
    "        if not os.path.exists(filepath):\n",
    "            os.makedirs(filepath)\n",
    "        if not os.path.exists(fold_filepath):\n",
    "            os.makedirs(fold_filepath)\n",
    "    \n",
    "        acc_daily2 = pd.read_csv(filename)\n",
    "        rows, cols = acc_daily2.shape\n",
    "        if rows>10:\n",
    "            acc_daily2['Date'] = pd.to_datetime(acc_daily2['Date'])\n",
    "            acc_daily2['Monday'] = (acc_daily2['Date'].dt.weekday == 0).astype(int)\n",
    "            acc_daily2['Tuesday'] = (acc_daily2['Date'].dt.weekday == 1).astype(int)\n",
    "            acc_daily2['Wednesday'] = (acc_daily2['Date'].dt.weekday == 2).astype(int)\n",
    "            acc_daily2['Thursday'] = (acc_daily2['Date'].dt.weekday == 3).astype(int)\n",
    "            acc_daily2['Friday'] = (acc_daily2['Date'].dt.weekday == 4).astype(int)\n",
    "            acc_daily2['Saturday'] = (acc_daily2['Date'].dt.weekday == 5).astype(int)\n",
    "            acc_daily2['Sunday'] = (acc_daily2['Date'].dt.weekday == 6).astype(int)\n",
    "            acc_daily2.drop(acc_daily2.columns[[1,2]], axis=1, inplace=True)\n",
    "            acc_daily2.columns = ['Date', 'RAM Used', 'Mon', 'Tues', 'Wed', 'Thur', 'Fri', 'Sat', 'Sun']\n",
    "        #     temp=acc_daily2.loc[1:rows-1, \"RAM Used\"]\n",
    "        #     temp=temp.reset_index()\n",
    "        #     temp.drop(temp.columns[[0]], axis=1, inplace=True)\n",
    "        #     temp.loc[rows-1] = 0\n",
    "        #     acc_daily2['RAM Next Day'] = temp\n",
    "            cols=acc_daily2.columns.tolist()\n",
    "            cols = cols[-7:] + cols[:2]\n",
    "            acc_daily2 = acc_daily2[cols]\n",
    "            diff = int(rows/6)\n",
    "            divider = rows - diff\n",
    "            train_data = acc_daily2.iloc[:divider, 0:8]\n",
    "            train_label = acc_daily2.iloc[:divider, 8]\n",
    "            test_data = acc_daily2.iloc[divider:rows, 0:8]\n",
    "            test_label = acc_daily2.iloc[divider:rows, 8]\n",
    "\n",
    "            lr = linear_model.LinearRegression()\n",
    "        #in converting this function from LinearRegressionRAM, I had to reshape the dataframe to make it a matrix\n",
    "            lr.fit(train_data, train_label)\n",
    "            # We could print out our results\n",
    "            acc = lr.score(test_data, test_label)\n",
    "            pred_values = lr.predict(test_data)\n",
    "            mo = math.sqrt(metrics.mean_squared_error(test_label, pred_values))\n",
    "            mean_of_test_label = test_label.mean()\n",
    "\n",
    "            # But a nicer way to store them is in a DataFrame\n",
    "            fold_results.loc[foldnum, 'location'] = location\n",
    "            fold_results.loc[foldnum, 'R^2'] = acc\n",
    "            fold_results.loc[foldnum, 'RMSE'] = mo\n",
    "            fold_results.loc[foldnum, 'test_mean'] = mean_of_test_label\n",
    "            fold_results.loc[foldnum, 'RMSE/test_mean'] = mo/mean_of_test_label\n",
    "            foldnum+=1\n",
    "\n",
    "            dates=range(divider,divider+diff,1)\n",
    "            prediction=pd.DataFrame()\n",
    "            prediction['Date']=dates\n",
    "            prediction['Pred']=pred_values\n",
    "            plt.figure()\n",
    "            ax=acc_daily2.plot(x='Date', y='RAM Used')\n",
    "            prediction.plot(x='Date', y='Pred',ax=ax)\n",
    "            plt.title(location + \" \" + str(rows), fontsize=12)\n",
    "            if data_type=='hourly':\n",
    "                plt.xlabel('Hours', fontsize=12)\n",
    "            else:\n",
    "                plt.xlabel('Days', fontsize=12)\n",
    "            plt.ylabel('RAM', fontsize=12)\n",
    "            plt.savefig(filepath+location+'.jpg', bbox_inches='tight')\n",
    "            prediction.to_csv(filepath+'LR_1_DatesDays_pred.csv')\n",
    "    fold_results.to_csv(fold_filepath+'all_results.csv')\n",
    "    print('DONE!')"
   ]
  },
  {
   "cell_type": "code",
   "execution_count": 122,
   "metadata": {
    "collapsed": false
   },
   "outputs": [
    {
     "name": "stderr",
     "output_type": "stream",
     "text": [
      "C:\\Users\\Home\\Anaconda3\\lib\\site-packages\\matplotlib\\pyplot.py:524: RuntimeWarning: More than 20 figures have been opened. Figures created through the pyplot interface (`matplotlib.pyplot.figure`) are retained until explicitly closed and may consume too much memory. (To control this warning, see the rcParam `figure.max_open_warning`).\n",
      "  max_open_warning, RuntimeWarning)\n"
     ]
    },
    {
     "name": "stdout",
     "output_type": "stream",
     "text": [
      "DONE!\n",
      "DONE!\n"
     ]
    }
   ],
   "source": [
    "linearRegressionRAM_DateandDays_ML('hourly')\n",
    "linearRegressionRAM_DateandDays_ML('daily')"
   ]
  },
  {
   "cell_type": "code",
   "execution_count": 124,
   "metadata": {
    "collapsed": true
   },
   "outputs": [],
   "source": [
    "#This is the autoregressive model of degree 1\n",
    "def linearRegressionCPU_DateAndDays_ML(data_type):\n",
    "    foldnum = 0\n",
    "    fold_results = pd.DataFrame()\n",
    "    for location in all_locations:\n",
    "        #print(location)\n",
    "        fig=plt.figure()\n",
    "        if data_type=='hourly':\n",
    "            filename='bestGraphs/'+location+'/'+location+'_CPU_RAM_jun2nov_hourly_data.csv'\n",
    "            filepath='result_graphs_3_29/LR_1_DatesDays/CPU/hourly/'+location+'/'\n",
    "            fold_filepath='result_graphs_3_29/LR_1_DatesDays/CPU/hourly/'\n",
    "        else:\n",
    "            filename='bestGraphs/'+location+'/'+'CPU_RAM_jun2nov_data.csv'\n",
    "            filepath='result_graphs_3_29/LR_1_DatesDays/CPU/daily/'+location+'/'\n",
    "            fold_filepath='result_graphs_3_29/LR_1_DatesDays/CPU/daily/'\n",
    "        if not os.path.exists(filepath):\n",
    "            os.makedirs(filepath)\n",
    "        if not os.path.exists(fold_filepath):\n",
    "            os.makedirs(fold_filepath)\n",
    "    \n",
    "        acc_daily2 = pd.read_csv(filename)\n",
    "        rows, cols = acc_daily2.shape\n",
    "        if rows>10:\n",
    "            acc_daily2['Date'] = pd.to_datetime(acc_daily2['Date'])\n",
    "            acc_daily2['Monday'] = (acc_daily2['Date'].dt.weekday == 0).astype(int)\n",
    "            acc_daily2['Tuesday'] = (acc_daily2['Date'].dt.weekday == 1).astype(int)\n",
    "            acc_daily2['Wednesday'] = (acc_daily2['Date'].dt.weekday == 2).astype(int)\n",
    "            acc_daily2['Thursday'] = (acc_daily2['Date'].dt.weekday == 3).astype(int)\n",
    "            acc_daily2['Friday'] = (acc_daily2['Date'].dt.weekday == 4).astype(int)\n",
    "            acc_daily2['Saturday'] = (acc_daily2['Date'].dt.weekday == 5).astype(int)\n",
    "            acc_daily2['Sunday'] = (acc_daily2['Date'].dt.weekday == 6).astype(int)\n",
    "            acc_daily2.drop(acc_daily2.columns[[1,3]], axis=1, inplace=True)\n",
    "            acc_daily2.columns = ['Date', 'CPU Used', 'Mon', 'Tues', 'Wed', 'Thur', 'Fri', 'Sat', 'Sun']\n",
    "        #     temp=acc_daily2.loc[1:rows-1, \"CPU Used\"]\n",
    "        #     temp=temp.reset_index()\n",
    "        #     temp.drop(temp.columns[[0]], axis=1, inplace=True)\n",
    "        #     temp.loc[rows-1] = 0\n",
    "        #     acc_daily2['CPU Next Day'] = temp\n",
    "            cols=acc_daily2.columns.tolist()\n",
    "            cols = cols[-7:] + cols[:2]\n",
    "            acc_daily2 = acc_daily2[cols]\n",
    "            diff = int(rows/6)\n",
    "            divider = rows - diff\n",
    "            train_data = acc_daily2.iloc[:divider, 0:8]\n",
    "            train_label = acc_daily2.iloc[:divider, 8]\n",
    "            test_data = acc_daily2.iloc[divider:rows, 0:8]\n",
    "            test_label = acc_daily2.iloc[divider:rows, 8]\n",
    "\n",
    "            lr = linear_model.LinearRegression()\n",
    "            lr.fit(train_data, train_label)\n",
    "            # We could print out our results\n",
    "            acc = lr.score(test_data , test_label)\n",
    "            pred_values = lr.predict(test_data)\n",
    "            mo = math.sqrt(metrics.mean_squared_error(test_label, pred_values))\n",
    "            mean_of_test_label = test_label.mean()\n",
    "\n",
    "            # But a nicer way to store them is in a DataFrame\n",
    "            fold_results.loc[foldnum, 'location'] = location\n",
    "            fold_results.loc[foldnum, 'R^2'] = acc\n",
    "            fold_results.loc[foldnum, 'RMSE'] = mo\n",
    "            fold_results.loc[foldnum, 'test_mean'] = mean_of_test_label\n",
    "            fold_results.loc[foldnum, 'RMSE/test_mean'] = mo/mean_of_test_label\n",
    "            foldnum+=1\n",
    "\n",
    "            dates=range(divider,divider+diff,1)\n",
    "            prediction=pd.DataFrame()\n",
    "            prediction['Date']=dates\n",
    "            prediction['Pred']=pred_values\n",
    "            plt.figure()\n",
    "            ax=acc_daily2.plot(x='Date', y='CPU Used')\n",
    "            prediction.plot(x='Date', y='Pred',ax=ax)\n",
    "            plt.title(location + \" \" + str(rows), fontsize=12)\n",
    "            if data_type=='hourly':\n",
    "                plt.xlabel('Hours', fontsize=12)\n",
    "            else:\n",
    "                plt.xlabel('Days', fontsize=12)\n",
    "            plt.ylabel('CPU', fontsize=12)\n",
    "            plt.savefig(filepath+location+'.jpg', bbox_inches='tight')\n",
    "            prediction.to_csv(filepath+'LR_1_DatesDays_pred.csv')\n",
    "    fold_results.to_csv(fold_filepath+'all_results.csv')\n",
    "    print('DONE!')"
   ]
  },
  {
   "cell_type": "code",
   "execution_count": 125,
   "metadata": {
    "collapsed": false
   },
   "outputs": [
    {
     "name": "stderr",
     "output_type": "stream",
     "text": [
      "C:\\Users\\Home\\Anaconda3\\lib\\site-packages\\matplotlib\\pyplot.py:524: RuntimeWarning: More than 20 figures have been opened. Figures created through the pyplot interface (`matplotlib.pyplot.figure`) are retained until explicitly closed and may consume too much memory. (To control this warning, see the rcParam `figure.max_open_warning`).\n",
      "  max_open_warning, RuntimeWarning)\n"
     ]
    },
    {
     "name": "stdout",
     "output_type": "stream",
     "text": [
      "DONE!\n",
      "DONE!\n"
     ]
    }
   ],
   "source": [
    "linearRegressionCPU_DateAndDays_ML('hourly')\n",
    "linearRegressionCPU_DateAndDays_ML('daily')"
   ]
  },
  {
   "cell_type": "code",
   "execution_count": 126,
   "metadata": {
    "collapsed": true
   },
   "outputs": [],
   "source": [
    "#This is the autoregressive model of degree 1\n",
    "def AutoRegressionRAM_Degree1_DatesAndDays_ML(data_type):\n",
    "    foldnum = 0\n",
    "    fold_results = pd.DataFrame()\n",
    "    for location in all_locations:\n",
    "        #print(location)\n",
    "        fig=plt.figure()\n",
    "        if data_type=='hourly':\n",
    "            filename='bestGraphs/'+location+'/'+location+'_CPU_RAM_jun2nov_hourly_data.csv'\n",
    "            filepath='result_graphs_3_29/AR_1_DatesDays/RAM/hourly/'+location+'/'\n",
    "            fold_filepath='result_graphs_3_29/AR_1_DatesDays/RAM/hourly/'\n",
    "        else:\n",
    "            filename='bestGraphs/'+location+'/'+'CPU_RAM_jun2nov_data.csv'\n",
    "            filepath='result_graphs_3_29/AR_1_DatesDays/RAM/daily/'+location+'/'\n",
    "            fold_filepath='result_graphs_3_29/AR_1_DatesDays/RAM/daily/'\n",
    "        if not os.path.exists(filepath):\n",
    "            os.makedirs(filepath)\n",
    "        if not os.path.exists(fold_filepath):\n",
    "            os.makedirs(fold_filepath)\n",
    "\n",
    "        acc_daily2 = pd.read_csv(filename)\n",
    "        rows, cols = acc_daily2.shape\n",
    "        if rows>10:\n",
    "            acc_daily2['Date'] = pd.to_datetime(acc_daily2['Date'])\n",
    "            acc_daily2['Monday'] = (acc_daily2['Date'].dt.weekday == 0).astype(int)\n",
    "            acc_daily2['Tuesday'] = (acc_daily2['Date'].dt.weekday == 1).astype(int)\n",
    "            acc_daily2['Wednesday'] = (acc_daily2['Date'].dt.weekday == 2).astype(int)\n",
    "            acc_daily2['Thursday'] = (acc_daily2['Date'].dt.weekday == 3).astype(int)\n",
    "            acc_daily2['Friday'] = (acc_daily2['Date'].dt.weekday == 4).astype(int)\n",
    "            acc_daily2['Saturday'] = (acc_daily2['Date'].dt.weekday == 5).astype(int)\n",
    "            acc_daily2['Sunday'] = (acc_daily2['Date'].dt.weekday == 6).astype(int)\n",
    "            acc_daily2.drop(acc_daily2.columns[[1,2]], axis=1, inplace=True)\n",
    "            acc_daily2.columns = ['Date', 'RAM Used', 'Mon', 'Tues', 'Wed', 'Thur', 'Fri', 'Sat', 'Sun']\n",
    "            temp=acc_daily2.loc[1:rows-1, \"RAM Used\"]\n",
    "            temp=temp.reset_index()\n",
    "            temp.drop(temp.columns[[0]], axis=1, inplace=True)\n",
    "            temp.loc[rows-1] = 0\n",
    "            acc_daily2['RAM Next Day'] = temp\n",
    "            diff = int(rows/6)\n",
    "            divider = rows - diff\n",
    "            train_data = acc_daily2.iloc[:divider, 0:9]\n",
    "            train_label = acc_daily2.iloc[:divider, 9]\n",
    "        #We have -1 below because we don't have label value for the last entry\n",
    "            test_data = acc_daily2.iloc[divider:rows-1, 0:9]\n",
    "            test_label = acc_daily2.iloc[divider:rows-1, 9]\n",
    "\n",
    "            lr = linear_model.LinearRegression()\n",
    "            lr.fit(train_data, train_label)\n",
    "            # We could print out our results\n",
    "            acc = lr.score(test_data, test_label)\n",
    "            mo = math.sqrt(metrics.mean_squared_error(test_label, lr.predict(test_data)))\n",
    "            mean_of_test_label = test_label.mean()\n",
    "\n",
    "            # But a nicer way to store them is in a DataFrame\n",
    "            fold_results.loc[foldnum, 'location'] = location\n",
    "            fold_results.loc[foldnum, 'R^2'] = acc\n",
    "            fold_results.loc[foldnum, 'RMSE'] = mo\n",
    "            fold_results.loc[foldnum, 'test_mean'] = mean_of_test_label\n",
    "            fold_results.loc[foldnum, 'RMSE/test_mean'] = mo/mean_of_test_label\n",
    "            foldnum+=1\n",
    "\n",
    "            dates=range(divider,divider+diff-1,1)\n",
    "            prediction=pd.DataFrame()\n",
    "            prediction['Date']=dates\n",
    "            prediction['Pred']=lr.predict(test_data)\n",
    "            plt.figure()\n",
    "            ax=acc_daily2.plot(x='Date', y='RAM Used')\n",
    "            prediction.plot(x='Date', y='Pred',ax=ax)\n",
    "            plt.title(location + \" \" + str(rows), fontsize=12)\n",
    "            if data_type=='hourly':\n",
    "                plt.xlabel('Hours', fontsize=12)\n",
    "            else:\n",
    "                plt.xlabel('Days', fontsize=12)\n",
    "            plt.ylabel('RAM', fontsize=12)\n",
    "            plt.savefig(filepath+location+'.jpg', bbox_inches='tight')\n",
    "            prediction.to_csv(filepath+'AR_1_DatesDays_pred.csv')\n",
    "    fold_results.to_csv(fold_filepath+'all_results.csv')\n",
    "    print('DONE!')"
   ]
  },
  {
   "cell_type": "code",
   "execution_count": 127,
   "metadata": {
    "collapsed": false
   },
   "outputs": [
    {
     "name": "stderr",
     "output_type": "stream",
     "text": [
      "C:\\Users\\Home\\Anaconda3\\lib\\site-packages\\matplotlib\\pyplot.py:524: RuntimeWarning: More than 20 figures have been opened. Figures created through the pyplot interface (`matplotlib.pyplot.figure`) are retained until explicitly closed and may consume too much memory. (To control this warning, see the rcParam `figure.max_open_warning`).\n",
      "  max_open_warning, RuntimeWarning)\n"
     ]
    },
    {
     "name": "stdout",
     "output_type": "stream",
     "text": [
      "DONE!\n",
      "DONE!\n"
     ]
    }
   ],
   "source": [
    "AutoRegressionRAM_Degree1_DatesAndDays_ML('hourly')\n",
    "AutoRegressionRAM_Degree1_DatesAndDays_ML('daily')"
   ]
  },
  {
   "cell_type": "code",
   "execution_count": 128,
   "metadata": {
    "collapsed": true
   },
   "outputs": [],
   "source": [
    "#This is the autoregressive model of degree 1\n",
    "def AutoRegressionCPU_Degree1_DatesAndDays_ML(data_type):\n",
    "    foldnum = 0\n",
    "    fold_results = pd.DataFrame()\n",
    "    for location in all_locations:\n",
    "        #print(location)\n",
    "        fig=plt.figure()\n",
    "        if data_type=='hourly':\n",
    "            filename='bestGraphs/'+location+'/'+location+'_CPU_RAM_jun2nov_hourly_data.csv'\n",
    "            filepath='result_graphs_3_29/AR_1_DatesDays/CPU/hourly/'+location+'/'\n",
    "            fold_filepath='result_graphs_3_29/AR_1_DatesDays/CPU/hourly/'\n",
    "        else:\n",
    "            filename='bestGraphs/'+location+'/'+'CPU_RAM_jun2nov_data.csv'\n",
    "            filepath='result_graphs_3_29/AR_1_DatesDays/CPU/daily/'+location+'/'\n",
    "            fold_filepath='result_graphs_3_29/AR_1_DatesDays/CPU/daily/'\n",
    "        if not os.path.exists(filepath):\n",
    "            os.makedirs(filepath)\n",
    "        if not os.path.exists(fold_filepath):\n",
    "            os.makedirs(fold_filepath)\n",
    "\n",
    "        acc_daily2 = pd.read_csv(filename)\n",
    "        rows, cols = acc_daily2.shape\n",
    "        if rows>10:\n",
    "            acc_daily2['Date'] = pd.to_datetime(acc_daily2['Date'])\n",
    "            acc_daily2['Monday'] = (acc_daily2['Date'].dt.weekday == 0).astype(int)\n",
    "            acc_daily2['Tuesday'] = (acc_daily2['Date'].dt.weekday == 1).astype(int)\n",
    "            acc_daily2['Wednesday'] = (acc_daily2['Date'].dt.weekday == 2).astype(int)\n",
    "            acc_daily2['Thursday'] = (acc_daily2['Date'].dt.weekday == 3).astype(int)\n",
    "            acc_daily2['Friday'] = (acc_daily2['Date'].dt.weekday == 4).astype(int)\n",
    "            acc_daily2['Saturday'] = (acc_daily2['Date'].dt.weekday == 5).astype(int)\n",
    "            acc_daily2['Sunday'] = (acc_daily2['Date'].dt.weekday == 6).astype(int)\n",
    "            acc_daily2.drop(acc_daily2.columns[[1,3]], axis=1, inplace=True)\n",
    "            acc_daily2.columns = ['Date', 'CPU Used', 'Mon', 'Tues', 'Wed', 'Thur', 'Fri', 'Sat', 'Sun']\n",
    "\n",
    "            temp=acc_daily2.loc[1:rows-1, \"CPU Used\"]\n",
    "            temp=temp.reset_index()\n",
    "            temp.drop(temp.columns[[0]], axis=1, inplace=True)\n",
    "            temp.loc[rows-1] = 0\n",
    "            acc_daily2['CPU Next Day'] = temp\n",
    "            diff = int(rows/6)\n",
    "            divider = rows - diff\n",
    "            train_data = acc_daily2.iloc[:divider, 0:9]\n",
    "            train_label = acc_daily2.iloc[:divider, 9]\n",
    "            test_data = acc_daily2.iloc[divider:rows-1, 0:9]\n",
    "            test_label = acc_daily2.iloc[divider:rows-1, 9]\n",
    "\n",
    "            lr = linear_model.LinearRegression()\n",
    "            lr.fit(train_data, train_label)\n",
    "            # We could print out our results\n",
    "            acc = lr.score(test_data, test_label)\n",
    "            mo = math.sqrt(metrics.mean_squared_error(test_label, lr.predict(test_data)))\n",
    "            mean_of_test_label = test_label.mean()\n",
    "\n",
    "            # But a nicer way to store them is in a DataFrame\n",
    "            fold_results.loc[foldnum, 'location'] = location\n",
    "            fold_results.loc[foldnum, 'R^2'] = acc\n",
    "            fold_results.loc[foldnum, 'RMSE'] = mo\n",
    "            fold_results.loc[foldnum, 'test_mean'] = mean_of_test_label\n",
    "            fold_results.loc[foldnum, 'RMSE/test_mean'] = mo/mean_of_test_label\n",
    "            foldnum+=1\n",
    "\n",
    "            dates=range(divider,divider+diff-1,1)\n",
    "            prediction=pd.DataFrame()\n",
    "            prediction['Date']=dates\n",
    "            prediction['Pred']=lr.predict(test_data)\n",
    "            plt.figure()\n",
    "            ax=acc_daily2.plot(x='Date', y='CPU Used')\n",
    "            prediction.plot(x='Date', y='Pred',ax=ax)\n",
    "            plt.title(location + \" \" + str(rows), fontsize=12)\n",
    "            if data_type=='hourly':\n",
    "                plt.xlabel('Hours', fontsize=12)\n",
    "            else:\n",
    "                plt.xlabel('Days', fontsize=12)\n",
    "            plt.ylabel('CPU', fontsize=12)\n",
    "            plt.savefig(filepath+location+'.jpg', bbox_inches='tight')\n",
    "            prediction.to_csv(filepath+'AR_1_DatesDays_pred.csv')\n",
    "    fold_results.to_csv(fold_filepath+'all_results.csv')\n",
    "    print('DONE!')"
   ]
  },
  {
   "cell_type": "code",
   "execution_count": 129,
   "metadata": {
    "collapsed": false
   },
   "outputs": [
    {
     "name": "stderr",
     "output_type": "stream",
     "text": [
      "C:\\Users\\Home\\Anaconda3\\lib\\site-packages\\matplotlib\\pyplot.py:524: RuntimeWarning: More than 20 figures have been opened. Figures created through the pyplot interface (`matplotlib.pyplot.figure`) are retained until explicitly closed and may consume too much memory. (To control this warning, see the rcParam `figure.max_open_warning`).\n",
      "  max_open_warning, RuntimeWarning)\n"
     ]
    },
    {
     "name": "stdout",
     "output_type": "stream",
     "text": [
      "DONE!\n",
      "DONE!\n"
     ]
    }
   ],
   "source": [
    "AutoRegressionCPU_Degree1_DatesAndDays_ML('hourly')\n",
    "AutoRegressionCPU_Degree1_DatesAndDays_ML('daily')"
   ]
  },
  {
   "cell_type": "code",
   "execution_count": 147,
   "metadata": {
    "collapsed": true
   },
   "outputs": [],
   "source": [
    "#This is the autoregressive model of degree 1\n",
    "def AutoRegressionRAM_Degree7_DatesAndDays_ML(data_type):\n",
    "    foldnum = 0\n",
    "    fold_results = pd.DataFrame()\n",
    "    for location in all_locations:\n",
    "        #print(location)\n",
    "        fig=plt.figure()\n",
    "        if data_type=='hourly':\n",
    "            print('This function is not ready for hourly data yet because for getting previous same day value for hour')\n",
    "            return\n",
    "            filename='bestGraphs/'+location+'/'+location+'_CPU_RAM_jun2nov_hourly_data.csv'\n",
    "            filepath='result_graphs_3_29/AR_7_DatesDays/RAM/hourly/'+location+'/'\n",
    "            fold_filepath='result_graphs_3_29/AR_7_DatesDays/RAM/hourly/'\n",
    "        else:\n",
    "            filename='bestGraphs/'+location+'/'+'CPU_RAM_jun2nov_data.csv'\n",
    "            filepath='result_graphs_3_29/AR_7_DatesDays/RAM/daily/'+location+'/'\n",
    "            fold_filepath='result_graphs_3_29/AR_7_DatesDays/RAM/daily/'\n",
    "        if not os.path.exists(filepath):\n",
    "            os.makedirs(filepath)\n",
    "        if not os.path.exists(fold_filepath):\n",
    "            os.makedirs(fold_filepath)\n",
    "\n",
    "\n",
    "        acc_daily2 = pd.read_csv(filename)\n",
    "        rows, cols = acc_daily2.shape\n",
    "        if rows>10:\n",
    "            acc_daily2['Date'] = pd.to_datetime(acc_daily2['Date'])\n",
    "            acc_daily2['Monday'] = (acc_daily2['Date'].dt.weekday == 0).astype(int)\n",
    "            acc_daily2['Tuesday'] = (acc_daily2['Date'].dt.weekday == 1).astype(int)\n",
    "            acc_daily2['Wednesday'] = (acc_daily2['Date'].dt.weekday == 2).astype(int)\n",
    "            acc_daily2['Thursday'] = (acc_daily2['Date'].dt.weekday == 3).astype(int)\n",
    "            acc_daily2['Friday'] = (acc_daily2['Date'].dt.weekday == 4).astype(int)\n",
    "            acc_daily2['Saturday'] = (acc_daily2['Date'].dt.weekday == 5).astype(int)\n",
    "            acc_daily2['Sunday'] = (acc_daily2['Date'].dt.weekday == 6).astype(int)\n",
    "            acc_daily2.drop(acc_daily2.columns[[1,2]], axis=1, inplace=True)\n",
    "            acc_daily2.columns = ['Date', 'RAM Used', 'Mon', 'Tues', 'Wed', 'Thur', 'Fri', 'Sat', 'Sun']\n",
    "            temp1=acc_daily2.loc[0:rows-7, \"RAM Used\"]\n",
    "            temp1=temp1.reset_index()\n",
    "            temp1.drop(temp1.columns[[0]], axis=1, inplace=True)\n",
    "            for i in range(rows-6,rows):\n",
    "                temp1.loc[i]=0\n",
    "            rows1, cols1 = temp1.shape\n",
    "            for i in reversed(range(7,rows1)):\n",
    "                temp1.loc[i] = temp1.loc[i-7]\n",
    "            for i in range(7):\n",
    "                temp1.loc[i]=0\n",
    "            acc_daily2['RAM Previous Same Day'] = temp1\n",
    "            temp=acc_daily2.loc[1:rows-1, \"RAM Used\"]\n",
    "            temp=temp.reset_index()\n",
    "            temp.drop(temp.columns[[0]], axis=1, inplace=True)\n",
    "            temp.loc[rows-1] = 0\n",
    "            acc_daily2['RAM Next Day'] = temp\n",
    "            acc_daily2 = acc_daily2.loc[7:rows,:]\n",
    "            acc_daily2=acc_daily2.reset_index()\n",
    "            acc_daily2.drop('index',1,inplace=True)\n",
    "            rows, cols=acc_daily2.shape\n",
    "            diff = int(rows/6)\n",
    "            divider = rows - diff\n",
    "            train_data = acc_daily2.iloc[:divider, 0:10]\n",
    "            train_label = acc_daily2.iloc[:divider, 10]\n",
    "        #We have -1 below because we don't have label value for the last entry\n",
    "            test_data = acc_daily2.iloc[divider:rows-1, 0:10]\n",
    "            test_label = acc_daily2.iloc[divider:rows-1, 10]\n",
    "\n",
    "            lr = linear_model.LinearRegression()\n",
    "            lr.fit(train_data, train_label)\n",
    "            # We could print out our results\n",
    "            acc = lr.score(test_data, test_label)\n",
    "            mo = math.sqrt(metrics.mean_squared_error(test_label, lr.predict(test_data))) \n",
    "            mean_of_test_label = test_label.mean()\n",
    "\n",
    "            # But a nicer way to store them is in a DataFrame\n",
    "            fold_results.loc[foldnum, 'location'] = location\n",
    "            fold_results.loc[foldnum, 'R^2'] = acc\n",
    "            fold_results.loc[foldnum, 'RMSE'] = mo\n",
    "            fold_results.loc[foldnum, 'test_mean'] = mean_of_test_label\n",
    "            fold_results.loc[foldnum, 'RMSE/test_mean'] = mo/mean_of_test_label\n",
    "            foldnum+=1\n",
    "\n",
    "            #And compute the mean error across folds:\n",
    "\n",
    "            dates=range(divider+7,divider+7+diff-1,1)\n",
    "            prediction=pd.DataFrame()\n",
    "            prediction['Date']=dates\n",
    "            prediction['Pred']=lr.predict(test_data)\n",
    "            plt.figure()\n",
    "\n",
    "            ax=acc_daily2.plot(x='Date', y='RAM Used')\n",
    "            prediction.plot(x='Date', y='Pred',ax=ax)\n",
    "            plt.title(location + \" \" + str(rows), fontsize=12)\n",
    "            if data_type=='hourly':\n",
    "                plt.xlabel('Hours', fontsize=12)\n",
    "            else:\n",
    "                plt.xlabel('Days', fontsize=12)\n",
    "            plt.ylabel('RAM', fontsize=12)\n",
    "            plt.savefig(filepath+location+'.jpg', bbox_inches='tight')\n",
    "            prediction.to_csv(filepath+'AR_7_DatesDays_pred.csv')\n",
    "    fold_results.to_csv(fold_filepath+'all_results.csv')\n",
    "    print('DONE!')"
   ]
  },
  {
   "cell_type": "code",
   "execution_count": 148,
   "metadata": {
    "collapsed": false
   },
   "outputs": [
    {
     "name": "stderr",
     "output_type": "stream",
     "text": [
      "C:\\Users\\Home\\Anaconda3\\lib\\site-packages\\matplotlib\\pyplot.py:524: RuntimeWarning: More than 20 figures have been opened. Figures created through the pyplot interface (`matplotlib.pyplot.figure`) are retained until explicitly closed and may consume too much memory. (To control this warning, see the rcParam `figure.max_open_warning`).\n",
      "  max_open_warning, RuntimeWarning)\n"
     ]
    },
    {
     "name": "stdout",
     "output_type": "stream",
     "text": [
      "DONE!\n"
     ]
    }
   ],
   "source": [
    "AutoRegressionRAM_Degree7_DatesAndDays_ML('daily')"
   ]
  },
  {
   "cell_type": "code",
   "execution_count": 149,
   "metadata": {
    "collapsed": false
   },
   "outputs": [
    {
     "name": "stdout",
     "output_type": "stream",
     "text": [
      "This function is not ready for hourly data yet because for getting previous same day value for hour\n"
     ]
    },
    {
     "name": "stderr",
     "output_type": "stream",
     "text": [
      "C:\\Users\\Home\\Anaconda3\\lib\\site-packages\\matplotlib\\pyplot.py:524: RuntimeWarning: More than 20 figures have been opened. Figures created through the pyplot interface (`matplotlib.pyplot.figure`) are retained until explicitly closed and may consume too much memory. (To control this warning, see the rcParam `figure.max_open_warning`).\n",
      "  max_open_warning, RuntimeWarning)\n"
     ]
    }
   ],
   "source": [
    "AutoRegressionRAM_Degree7_DatesAndDays_ML('hourly')"
   ]
  },
  {
   "cell_type": "code",
   "execution_count": 150,
   "metadata": {
    "collapsed": true
   },
   "outputs": [],
   "source": [
    "#This is the autoregressive model of degree 1\n",
    "def AutoRegressionCPU_Degree7_DatesAndDays_ML(data_type):\n",
    "    foldnum = 0\n",
    "    fold_results = pd.DataFrame()\n",
    "    for location in all_locations:\n",
    "        #print(location)\n",
    "        fig=plt.figure()\n",
    "        if data_type=='hourly':\n",
    "            print('This function is not ready for hourly data yet because for getting previous same day value for hour')\n",
    "            return\n",
    "            filename='bestGraphs/'+location+'/'+location+'_CPU_RAM_jun2nov_hourly_data.csv'\n",
    "            filepath='result_graphs_3_29/AR_7_DatesDays/CPU/hourly/'+location+'/'\n",
    "            fold_filepath='result_graphs_3_29/AR_7_DatesDays/CPU/hourly/'\n",
    "        else:\n",
    "            filename='bestGraphs/'+location+'/'+'CPU_RAM_jun2nov_data.csv'\n",
    "            filepath='result_graphs_3_29/AR_7_DatesDays/CPU/daily/'+location+'/'\n",
    "            fold_filepath='result_graphs_3_29/AR_7_DatesDays/CPU/daily/'\n",
    "        if not os.path.exists(filepath):\n",
    "            os.makedirs(filepath)\n",
    "        if not os.path.exists(fold_filepath):\n",
    "            os.makedirs(fold_filepath)\n",
    "\n",
    "        acc_daily2 = pd.read_csv(filename)\n",
    "        rows, cols = acc_daily2.shape\n",
    "        if rows>10:\n",
    "            acc_daily2['Date'] = pd.to_datetime(acc_daily2['Date'])\n",
    "            acc_daily2['Monday'] = (acc_daily2['Date'].dt.weekday == 0).astype(int)\n",
    "            acc_daily2['Tuesday'] = (acc_daily2['Date'].dt.weekday == 1).astype(int)\n",
    "            acc_daily2['Wednesday'] = (acc_daily2['Date'].dt.weekday == 2).astype(int)\n",
    "            acc_daily2['Thursday'] = (acc_daily2['Date'].dt.weekday == 3).astype(int)\n",
    "            acc_daily2['Friday'] = (acc_daily2['Date'].dt.weekday == 4).astype(int)\n",
    "            acc_daily2['Saturday'] = (acc_daily2['Date'].dt.weekday == 5).astype(int)\n",
    "            acc_daily2['Sunday'] = (acc_daily2['Date'].dt.weekday == 6).astype(int)\n",
    "            acc_daily2.drop(acc_daily2.columns[[1,3]], axis=1, inplace=True)\n",
    "            acc_daily2.columns = ['Date', 'CPU Used', 'Mon', 'Tues', 'Wed', 'Thur', 'Fri', 'Sat', 'Sun']\n",
    "            temp1=acc_daily2.loc[0:rows-7, \"CPU Used\"]\n",
    "            temp1=temp1.reset_index()\n",
    "            temp1.drop(temp1.columns[[0]], axis=1, inplace=True)\n",
    "            for i in range(rows-6,rows):\n",
    "                temp1.loc[i]=0\n",
    "            rows1, cols1 = temp1.shape\n",
    "            for i in reversed(range(7,rows1)):\n",
    "                temp1.loc[i] = temp1.loc[i-7]\n",
    "            for i in range(7):\n",
    "                temp1.loc[i]=0\n",
    "            acc_daily2['CPU Previous Same Day'] = temp1\n",
    "            temp=acc_daily2.loc[1:rows-1, \"CPU Used\"]\n",
    "            temp=temp.reset_index()\n",
    "            temp.drop(temp.columns[[0]], axis=1, inplace=True)\n",
    "            temp.loc[rows-1] = 0\n",
    "            acc_daily2['CPU Next Day'] = temp\n",
    "            diff = int(rows/6)\n",
    "            divider = rows - diff\n",
    "            train_data = acc_daily2.iloc[:divider, 0:10]\n",
    "            train_label = acc_daily2.iloc[:divider, 10]\n",
    "            test_data = acc_daily2.iloc[divider:rows-1, 0:10]\n",
    "            test_label = acc_daily2.iloc[divider:rows-1, 10]\n",
    "\n",
    "            lr = linear_model.LinearRegression()\n",
    "            lr.fit(train_data, train_label)\n",
    "\n",
    "            # We could print out our results\n",
    "            acc = lr.score(test_data, test_label)\n",
    "            mo = math.sqrt(metrics.mean_squared_error(test_label, lr.predict(test_data)))\n",
    "            mean_of_test_label = test_label.mean()\n",
    "\n",
    "            # But a nicer way to store them is in a DataFrame\n",
    "            fold_results.loc[foldnum, 'location'] = location\n",
    "            fold_results.loc[foldnum, 'R^2'] = acc\n",
    "            fold_results.loc[foldnum, 'RMSE'] = mo\n",
    "            fold_results.loc[foldnum, 'test_mean'] = mean_of_test_label\n",
    "            fold_results.loc[foldnum, 'RMSE/test_mean'] = mo/mean_of_test_label\n",
    "            foldnum+=1\n",
    "\n",
    "            dates=range(divider,divider+diff-1,1)\n",
    "            prediction=pd.DataFrame()\n",
    "            prediction['Date']=dates\n",
    "            prediction['Pred']=lr.predict(test_data)\n",
    "            plt.figure()\n",
    "            ax=acc_daily2.plot(x='Date', y='CPU Used')\n",
    "            prediction.plot(x='Date', y='Pred',ax=ax)\n",
    "            plt.title(location + \" \" + str(rows), fontsize=12)\n",
    "            if data_type=='hourly':\n",
    "                plt.xlabel('Hours', fontsize=12)\n",
    "            else:\n",
    "                plt.xlabel('Days', fontsize=12)\n",
    "            plt.ylabel('CPU', fontsize=12)\n",
    "            plt.savefig(filepath+location+'.jpg', bbox_inches='tight')\n",
    "            prediction.to_csv(filepath+'AR_7_DatesDays_pred.csv')\n",
    "    fold_results.to_csv(fold_filepath+'all_results.csv')\n",
    "    print('DONE!')"
   ]
  },
  {
   "cell_type": "code",
   "execution_count": 151,
   "metadata": {
    "collapsed": false
   },
   "outputs": [
    {
     "name": "stderr",
     "output_type": "stream",
     "text": [
      "C:\\Users\\Home\\Anaconda3\\lib\\site-packages\\matplotlib\\pyplot.py:524: RuntimeWarning: More than 20 figures have been opened. Figures created through the pyplot interface (`matplotlib.pyplot.figure`) are retained until explicitly closed and may consume too much memory. (To control this warning, see the rcParam `figure.max_open_warning`).\n",
      "  max_open_warning, RuntimeWarning)\n"
     ]
    },
    {
     "name": "stdout",
     "output_type": "stream",
     "text": [
      "DONE!\n"
     ]
    }
   ],
   "source": [
    "AutoRegressionCPU_Degree7_DatesAndDays_ML('daily')"
   ]
  },
  {
   "cell_type": "code",
   "execution_count": 155,
   "metadata": {
    "collapsed": true
   },
   "outputs": [],
   "source": [
    "def predictBasedOnPreviousPrediction_RAM(test_data, X, Y, divider, diff):\n",
    "    rows, cols = test_data.shape\n",
    "    dates=range(divider,divider+diff-1,1)\n",
    "    prediction=pd.DataFrame(index=test_data.index)\n",
    "    prediction['Date']=dates\n",
    "    prediction['Pred']=0\n",
    "    for i in range(divider, divider+rows):\n",
    "        previousPrediction = np.dot(test_data.loc[i,], X) + Y\n",
    "        prediction.loc[i, 'Pred'] = previousPrediction\n",
    "        if i < divider+rows-1:\n",
    "            test_data.loc[i+1, 'RAM Used'] = previousPrediction\n",
    "    return prediction['Pred'].values"
   ]
  },
  {
   "cell_type": "code",
   "execution_count": 178,
   "metadata": {
    "collapsed": true
   },
   "outputs": [],
   "source": [
    "#This is the autoregressive model of degree 1 with an indicator for week of the month as well\n",
    "def AutoRegressionRAM_Degree1_DatesAndDays_WeekNo_ML(data_type):\n",
    "    foldnum = 0\n",
    "    fold_results = pd.DataFrame()\n",
    "    for location in all_locations:\n",
    "        #print(location)\n",
    "        fig=plt.figure()\n",
    "        if data_type=='hourly':\n",
    "            filename='bestGraphs/'+location+'/'+location+'_CPU_RAM_jun2nov_hourly_data.csv'\n",
    "            filepath='result_graphs_3_29/AR_1_DatesDaysWeek/RAM/hourly/'+location+'/'\n",
    "            fold_filepath='result_graphs_3_29/AR_1_DatesDaysWeek/RAM/hourly/'\n",
    "        else:\n",
    "            filename='bestGraphs/'+location+'/'+'CPU_RAM_jun2nov_data.csv'\n",
    "            filepath='result_graphs_3_29/AR_1_DatesDaysWeek/RAM/daily/'+location+'/'\n",
    "            fold_filepath='result_graphs_3_29/AR_1_DatesDaysWeek/RAM/daily/'\n",
    "        if not os.path.exists(filepath):\n",
    "            os.makedirs(filepath)\n",
    "        if not os.path.exists(fold_filepath):\n",
    "            os.makedirs(fold_filepath)\n",
    "\n",
    "        acc_daily2 = pd.read_csv(filename)\n",
    "        rows, cols = acc_daily2.shape\n",
    "        if rows>10:\n",
    "            acc_daily2['Date'] = pd.to_datetime(acc_daily2['Date'])\n",
    "            acc_daily2['Monday'] = (acc_daily2['Date'].dt.weekday == 0).astype(int)\n",
    "            acc_daily2['Tuesday'] = (acc_daily2['Date'].dt.weekday == 1).astype(int)\n",
    "            acc_daily2['Wednesday'] = (acc_daily2['Date'].dt.weekday == 2).astype(int)\n",
    "            acc_daily2['Thursday'] = (acc_daily2['Date'].dt.weekday == 3).astype(int)\n",
    "            acc_daily2['Friday'] = (acc_daily2['Date'].dt.weekday == 4).astype(int)\n",
    "            acc_daily2['Saturday'] = (acc_daily2['Date'].dt.weekday == 5).astype(int)\n",
    "            acc_daily2['Sunday'] = (acc_daily2['Date'].dt.weekday == 6).astype(int)\n",
    "            acc_daily2['Week 1'] = (((acc_daily2['Date'].dt.day - 1)/7 + 1).astype(int) == 1).astype(int)\n",
    "            acc_daily2['Week 2'] = (((acc_daily2['Date'].dt.day - 1)/7 + 1).astype(int) == 2).astype(int)\n",
    "            acc_daily2['Week 3'] = (((acc_daily2['Date'].dt.day - 1)/7 + 1).astype(int) == 3).astype(int)\n",
    "            acc_daily2['Week 4'] = (((acc_daily2['Date'].dt.day - 1)/7 + 1).astype(int) == 4).astype(int)\n",
    "            acc_daily2['Week 5'] = (((acc_daily2['Date'].dt.day - 1)/7 + 1).astype(int) == 5).astype(int)\n",
    "            acc_daily2.drop(acc_daily2.columns[[1,2]], axis=1, inplace=True)\n",
    "            acc_daily2.columns = ['Date', 'RAM Used', 'Mon', 'Tues', 'Wed', 'Thur', 'Fri', 'Sat', 'Sun', 'W1', 'W2', 'W3', 'W4', 'W5']\n",
    "            temp=acc_daily2.loc[1:rows-1, \"RAM Used\"]\n",
    "            temp=temp.reset_index()\n",
    "            temp.drop(temp.columns[[0]], axis=1, inplace=True)\n",
    "            temp.loc[rows-1] = 0\n",
    "            acc_daily2['RAM Next Day'] = temp\n",
    "            diff = int(rows/6)\n",
    "            divider = rows - diff\n",
    "            train_data = acc_daily2.iloc[:divider, 0:14]\n",
    "            train_label = acc_daily2.iloc[:divider, 14]\n",
    "        #We have -1 below because we don't have label value for the last entry\n",
    "            test_data = acc_daily2.iloc[divider:rows-1, 0:14]\n",
    "            test_label = acc_daily2.iloc[divider:rows-1, 14]\n",
    "        \n",
    "            lr = linear_model.LinearRegression()\n",
    "            lr.fit(train_data, train_label)\n",
    "            # We could print out our results\n",
    "            acc = lr.score(test_data, test_label)\n",
    "            dates=range(divider,divider+diff-1,1)\n",
    "            prediction_lr=pd.DataFrame()\n",
    "            prediction_lr['Date']=dates\n",
    "            prediction_lr['test_data']=lr.predict(test_data)\n",
    "            old_pred = lr.predict(test_data)\n",
    "            new_pred = predictBasedOnPreviousPrediction_RAM(test_data, lr.coef_, lr.intercept_, divider, diff)\n",
    "            mo = math.sqrt(metrics.mean_squared_error(test_label, old_pred))\n",
    "            mean_of_test_label = test_label.mean()\n",
    "\n",
    "            # But a nicer way to store them is in a DataFrame\n",
    "            fold_results.loc[foldnum, 'location'] = location\n",
    "            fold_results.loc[foldnum, 'R^2'] = acc\n",
    "            fold_results.loc[foldnum, 'RMSE'] = mo\n",
    "            fold_results.loc[foldnum, 'test_mean'] = mean_of_test_label\n",
    "            fold_results.loc[foldnum, 'RMSE/test_mean'] = mo/mean_of_test_label\n",
    "            foldnum+=1\n",
    "\n",
    "            dates=range(divider,divider+diff-1,1)\n",
    "            prediction=pd.DataFrame()\n",
    "            prediction['Date']=dates\n",
    "            prediction['Pred']=new_pred\n",
    "            plt.figure()\n",
    "            ax=acc_daily2.plot(x='Date', y='RAM Used')\n",
    "            prediction.plot(x='Date', y='Pred',ax=ax)\n",
    "            prediction_lr.plot(x='Date', y='test_data',ax=ax)\n",
    "            plt.title(location + \" \" + str(rows), fontsize=12)\n",
    "            if data_type=='hourly':\n",
    "                plt.xlabel('Hours', fontsize=12)\n",
    "            else:\n",
    "                plt.xlabel('Days', fontsize=12)\n",
    "            plt.ylabel('RAM', fontsize=12)\n",
    "            plt.savefig(filepath+location+'.jpg', bbox_inches='tight')\n",
    "            prediction.to_csv(filepath+'AR_1_DatesDaysWeek_pred.csv')\n",
    "            prediction_lr.to_csv(filepath+'AR_1_DatesDaysWeek_test.csv')\n",
    "    fold_results.to_csv(fold_filepath+'all_results.csv')\n",
    "    print('DONE!')"
   ]
  },
  {
   "cell_type": "code",
   "execution_count": 179,
   "metadata": {
    "collapsed": false
   },
   "outputs": [
    {
     "name": "stderr",
     "output_type": "stream",
     "text": [
      "C:\\Users\\Home\\Anaconda3\\lib\\site-packages\\matplotlib\\pyplot.py:524: RuntimeWarning: More than 20 figures have been opened. Figures created through the pyplot interface (`matplotlib.pyplot.figure`) are retained until explicitly closed and may consume too much memory. (To control this warning, see the rcParam `figure.max_open_warning`).\n",
      "  max_open_warning, RuntimeWarning)\n"
     ]
    },
    {
     "name": "stdout",
     "output_type": "stream",
     "text": [
      "DONE!\n",
      "DONE!\n"
     ]
    }
   ],
   "source": [
    "AutoRegressionRAM_Degree1_DatesAndDays_WeekNo_ML('hourly')\n",
    "AutoRegressionRAM_Degree1_DatesAndDays_WeekNo_ML('daily')"
   ]
  },
  {
   "cell_type": "code",
   "execution_count": 163,
   "metadata": {
    "collapsed": true
   },
   "outputs": [],
   "source": [
    "def predictBasedOnPreviousPrediction_CPU(test_data, X, Y, divider, diff):\n",
    "    rows, cols = test_data.shape\n",
    "    dates=range(divider,divider+diff-1,1)\n",
    "    prediction=pd.DataFrame(index=test_data.index)\n",
    "    prediction['Date']=dates\n",
    "    prediction['Pred']=0\n",
    "    for i in range(divider, divider+rows):\n",
    "        previousPrediction = np.dot(test_data.loc[i,], X) + Y\n",
    "        prediction.loc[i, 'Pred'] = previousPrediction\n",
    "        if i < divider+rows-1:\n",
    "            test_data.loc[i+1, 'CPU Used'] = previousPrediction\n",
    "    return prediction['Pred'].values"
   ]
  },
  {
   "cell_type": "code",
   "execution_count": 176,
   "metadata": {
    "collapsed": false
   },
   "outputs": [],
   "source": [
    "#This is the autoregressive model of degree 1\n",
    "def AutoRegressionCPU_Degree1_DatesAndDays_WeekNo_ML(data_type):\n",
    "    foldnum = 0\n",
    "    fold_results = pd.DataFrame()\n",
    "    for location in all_locations:\n",
    "        #print(location)\n",
    "        fig=plt.figure()\n",
    "        if data_type=='hourly':\n",
    "#            print('This function is not ready for hourly data yet because for getting previous same day value for hour')\n",
    "#            return\n",
    "            filename='bestGraphs/'+location+'/'+location+'_CPU_RAM_jun2nov_hourly_data.csv'\n",
    "            filepath='result_graphs_3_29/AR_1_DatesDaysWeek/CPU/hourly/'+location+'/'\n",
    "            fold_filepath='result_graphs_3_29/AR_1_DatesDaysWeek/CPU/hourly/'\n",
    "        else:\n",
    "            filename='bestGraphs/'+location+'/'+'CPU_RAM_jun2nov_data.csv'\n",
    "            filepath='result_graphs_3_29/AR_1_DatesDaysWeek/CPU/daily/'+location+'/'\n",
    "            fold_filepath='result_graphs_3_29/AR_1_DatesDaysWeek/CPU/daily/'\n",
    "        if not os.path.exists(filepath):\n",
    "            os.makedirs(filepath)\n",
    "        if not os.path.exists(fold_filepath):\n",
    "            os.makedirs(fold_filepath)\n",
    "\n",
    "        acc_daily2 = pd.read_csv(filename)\n",
    "        rows, cols = acc_daily2.shape\n",
    "        if rows>10:\n",
    "            acc_daily2['Date'] = pd.to_datetime(acc_daily2['Date'])\n",
    "            acc_daily2['Monday'] = (acc_daily2['Date'].dt.weekday == 0).astype(int)\n",
    "            acc_daily2['Tuesday'] = (acc_daily2['Date'].dt.weekday == 1).astype(int)\n",
    "            acc_daily2['Wednesday'] = (acc_daily2['Date'].dt.weekday == 2).astype(int)\n",
    "            acc_daily2['Thursday'] = (acc_daily2['Date'].dt.weekday == 3).astype(int)\n",
    "            acc_daily2['Friday'] = (acc_daily2['Date'].dt.weekday == 4).astype(int)\n",
    "            acc_daily2['Saturday'] = (acc_daily2['Date'].dt.weekday == 5).astype(int)\n",
    "            acc_daily2['Sunday'] = (acc_daily2['Date'].dt.weekday == 6).astype(int)\n",
    "            acc_daily2['Week 1'] = (((acc_daily2['Date'].dt.day - 1)/7 + 1).astype(int) == 1).astype(int)\n",
    "            acc_daily2['Week 2'] = (((acc_daily2['Date'].dt.day - 1)/7 + 1).astype(int) == 2).astype(int)\n",
    "            acc_daily2['Week 3'] = (((acc_daily2['Date'].dt.day - 1)/7 + 1).astype(int) == 3).astype(int)\n",
    "            acc_daily2['Week 4'] = (((acc_daily2['Date'].dt.day - 1)/7 + 1).astype(int) == 4).astype(int)\n",
    "            acc_daily2['Week 5'] = (((acc_daily2['Date'].dt.day - 1)/7 + 1).astype(int) == 5).astype(int)\n",
    "            acc_daily2.drop(acc_daily2.columns[[1,3]], axis=1, inplace=True)\n",
    "            acc_daily2.columns = ['Date', 'CPU Used', 'Mon', 'Tues', 'Wed', 'Thur', 'Fri', 'Sat', 'Sun', 'W1', 'W2', 'W3', 'W4', 'W5']\n",
    "            temp=acc_daily2.loc[1:rows-1, \"CPU Used\"]\n",
    "            temp=temp.reset_index()\n",
    "            temp.drop(temp.columns[[0]], axis=1, inplace=True)\n",
    "            temp.loc[rows-1] = 0\n",
    "            acc_daily2['CPU Next Day'] = temp\n",
    "            diff = int(rows/6)\n",
    "            divider = rows - diff\n",
    "            train_data = acc_daily2.iloc[:divider, 0:14]\n",
    "            train_label = acc_daily2.iloc[:divider, 14]\n",
    "            test_data = acc_daily2.iloc[divider:rows-1, 0:14]\n",
    "            test_label = acc_daily2.iloc[divider:rows-1, 14]\n",
    "\n",
    "            lr = linear_model.LinearRegression()\n",
    "            lr.fit(train_data, train_label)\n",
    "            # We could print out our results\n",
    "            acc = lr.score(test_data, test_label)\n",
    "            dates=range(divider,divider+diff-1,1)\n",
    "            prediction_lr=pd.DataFrame()\n",
    "            prediction_lr['Date']=dates\n",
    "            prediction_lr['test_data']=lr.predict(test_data)\n",
    "            old_pred = lr.predict(test_data)\n",
    "            new_pred = predictBasedOnPreviousPrediction_CPU(test_data, lr.coef_, lr.intercept_, divider, diff)\n",
    "            mo = math.sqrt(metrics.mean_squared_error(test_label, old_pred))\n",
    "            mean_of_test_label = test_label.mean()\n",
    "\n",
    "            # But a nicer way to store them is in a DataFrame\n",
    "            fold_results.loc[foldnum, 'location'] = location\n",
    "            fold_results.loc[foldnum, 'R^2'] = acc\n",
    "            fold_results.loc[foldnum, 'RMSE'] = mo\n",
    "            fold_results.loc[foldnum, 'test_mean'] = mean_of_test_label\n",
    "            fold_results.loc[foldnum, 'RMSE/test_mean'] = mo/mean_of_test_label\n",
    "            foldnum+=1\n",
    "\n",
    "            dates=range(divider,divider+diff-1,1)\n",
    "            prediction=pd.DataFrame()\n",
    "            prediction['Date']=dates\n",
    "            prediction['Pred']=new_pred\n",
    "            plt.figure()\n",
    "            ax=acc_daily2.plot(x='Date', y='CPU Used')\n",
    "            prediction.plot(x='Date', y='Pred',ax=ax)\n",
    "            prediction_lr.plot(x='Date', y='test_data',ax=ax)\n",
    "            plt.title(location + \" \" + str(rows), fontsize=12)\n",
    "            if data_type=='hourly':\n",
    "                plt.xlabel('Hours', fontsize=12)\n",
    "            else:\n",
    "                plt.xlabel('Days', fontsize=12)\n",
    "            plt.ylabel('CPU', fontsize=12)\n",
    "            plt.savefig(filepath+location+'.jpg', bbox_inches='tight')\n",
    "            prediction.to_csv(filepath+'AR_1_DatesDaysWeek_pred.csv')\n",
    "            prediction_lr.to_csv(filepath+'AR_1_DatesDaysWeek_test.csv')\n",
    "    fold_results.to_csv(fold_filepath+'all_results.csv')\n",
    "    print('DONE!')"
   ]
  },
  {
   "cell_type": "code",
   "execution_count": 177,
   "metadata": {
    "collapsed": false
   },
   "outputs": [
    {
     "name": "stderr",
     "output_type": "stream",
     "text": [
      "C:\\Users\\Home\\Anaconda3\\lib\\site-packages\\matplotlib\\pyplot.py:524: RuntimeWarning: More than 20 figures have been opened. Figures created through the pyplot interface (`matplotlib.pyplot.figure`) are retained until explicitly closed and may consume too much memory. (To control this warning, see the rcParam `figure.max_open_warning`).\n",
      "  max_open_warning, RuntimeWarning)\n"
     ]
    },
    {
     "name": "stdout",
     "output_type": "stream",
     "text": [
      "DONE!\n",
      "DONE!\n"
     ]
    }
   ],
   "source": [
    "AutoRegressionCPU_Degree1_DatesAndDays_WeekNo_ML('hourly')\n",
    "AutoRegressionCPU_Degree1_DatesAndDays_WeekNo_ML('daily')"
   ]
  },
  {
   "cell_type": "code",
   "execution_count": null,
   "metadata": {
    "collapsed": true
   },
   "outputs": [],
   "source": []
  }
 ],
 "metadata": {
  "anaconda-cloud": {},
  "kernelspec": {
   "display_name": "Python [default]",
   "language": "python",
   "name": "python3"
  },
  "language_info": {
   "codemirror_mode": {
    "name": "ipython",
    "version": 3
   },
   "file_extension": ".py",
   "mimetype": "text/x-python",
   "name": "python",
   "nbconvert_exporter": "python",
   "pygments_lexer": "ipython3",
   "version": "3.5.2"
  }
 },
 "nbformat": 4,
 "nbformat_minor": 1
}
