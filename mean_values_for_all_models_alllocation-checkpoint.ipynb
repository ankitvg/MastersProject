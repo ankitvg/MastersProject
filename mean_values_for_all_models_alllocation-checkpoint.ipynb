{
 "cells": [
  {
   "cell_type": "code",
   "execution_count": 15,
   "metadata": {
    "collapsed": true
   },
   "outputs": [],
   "source": [
    "import pandas as pd\n",
    "import numpy as np\n",
    "import math\n",
    "import matplotlib.pyplot as plt\n",
    "import datetime\n",
    "from sklearn import cluster, datasets\n",
    "from sklearn.neighbors import kneighbors_graph\n",
    "from sklearn.preprocessing import StandardScaler\n",
    "from sklearn import datasets, preprocessing, cross_validation, feature_extraction\n",
    "from sklearn import linear_model, svm, metrics, ensemble, neighbors, mixture, cluster\n",
    "import time\n",
    "from datetime import date\n",
    "import os"
   ]
  },
  {
   "cell_type": "code",
   "execution_count": 16,
   "metadata": {
    "collapsed": true
   },
   "outputs": [],
   "source": [
    "models=['AR_1_Dates', 'AR_1_DatesDays', 'LR_1_Dates', 'LR_1_DatesDays', 'AR_1_DatesDaysWeek']\n",
    "RAMorCPU=['RAM', 'CPU']\n",
    "dailyorhourly=['daily', 'hourly']"
   ]
  },
  {
   "cell_type": "code",
   "execution_count": 19,
   "metadata": {
    "collapsed": false
   },
   "outputs": [
    {
     "name": "stdout",
     "output_type": "stream",
     "text": [
      "AR_1_Dates RAM daily 94.0706673715186\n",
      "AR_1_Dates RAM hourly 48.51683019877154\n",
      "AR_1_Dates CPU daily 25987.237182657376\n",
      "AR_1_Dates CPU hourly 22065.95905345128\n",
      "AR_1_DatesDays RAM daily 92.7945062305021\n",
      "AR_1_DatesDays RAM hourly 48.75258623299969\n",
      "AR_1_DatesDays CPU daily 23191.639422931254\n",
      "AR_1_DatesDays CPU hourly 21871.568232136233\n",
      "LR_1_Dates RAM daily 278.69771051385044\n",
      "LR_1_Dates RAM hourly 272.52517237047743\n",
      "LR_1_Dates CPU daily 35983.77626781023\n",
      "LR_1_Dates CPU hourly 36027.91218651017\n",
      "LR_1_DatesDays RAM daily 281.16169636073795\n",
      "LR_1_DatesDays RAM hourly 273.0735848849824\n",
      "LR_1_DatesDays CPU daily 33927.734970281264\n",
      "LR_1_DatesDays CPU hourly 34938.853248128835\n",
      "AR_1_DatesDaysWeek RAM daily 96.54931308081133\n",
      "AR_1_DatesDaysWeek RAM hourly 49.077237188159934\n",
      "AR_1_DatesDaysWeek CPU daily 23741.05199435204\n",
      "AR_1_DatesDaysWeek CPU hourly 22016.9148738267\n"
     ]
    }
   ],
   "source": [
    "for model in models:\n",
    "    for data_type in RAMorCPU:\n",
    "        for timesplit in dailyorhourly:\n",
    "            filepath='result_graphs_3_29/'+model+'/'+data_type+'/'+timesplit+'/'+'all_results.csv'\n",
    "            all_results=pd.read_csv(filepath)\n",
    "            print(model+' '+data_type+' '+timesplit+' '+str(all_results['RMSE'].mean()))\n",
    "            #print(model+' '+data_type+' '+timesplit+' '+str(all_results['RMSE/test_mean'].mean()))    "
   ]
  },
  {
   "cell_type": "code",
   "execution_count": null,
   "metadata": {
    "collapsed": true
   },
   "outputs": [],
   "source": []
  }
 ],
 "metadata": {
  "anaconda-cloud": {},
  "kernelspec": {
   "display_name": "Python [default]",
   "language": "python",
   "name": "python3"
  },
  "language_info": {
   "codemirror_mode": {
    "name": "ipython",
    "version": 3
   },
   "file_extension": ".py",
   "mimetype": "text/x-python",
   "name": "python",
   "nbconvert_exporter": "python",
   "pygments_lexer": "ipython3",
   "version": "3.5.2"
  }
 },
 "nbformat": 4,
 "nbformat_minor": 1
}
