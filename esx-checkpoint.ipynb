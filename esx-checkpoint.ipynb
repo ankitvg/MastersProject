{
 "cells": [
  {
   "cell_type": "code",
   "execution_count": 1,
   "metadata": {
    "collapsed": true
   },
   "outputs": [],
   "source": [
    "import pandas as pd\n",
    "import numpy as np"
   ]
  },
  {
   "cell_type": "code",
   "execution_count": 2,
   "metadata": {
    "collapsed": false
   },
   "outputs": [],
   "source": [
    "esx_AMD_File = pd.read_csv('results/esx_loc/AMD', header=None)"
   ]
  },
  {
   "cell_type": "code",
   "execution_count": 3,
   "metadata": {
    "collapsed": false
   },
   "outputs": [],
   "source": [
    "esx_AMD_File.columns = ['Esx_clust',\n",
    "'Esx_host',\n",
    "'Esx_vmname',\n",
    "'esx_totmhz',\n",
    "'esx_cpuusagemhz',\n",
    "'esx_cpureservemhz',\n",
    "'esx_numcpu',\n",
    "'esx_insram',\n",
    "'esx_coremhz',\n",
    "'esx_constate',\n",
    "'esx_vmallram',\n",
    "'esx_vmscpucnt',\n",
    "'esx_pow_on_vms',\n",
    "'esx_pow_off_vms',\n",
    "'esx_cputs',\n",
    "'esx_cpu',\n",
    "'esx_ramts',\n",
    "'esx_ram',\n",
    "'esx_reservedmhz',\n",
    "'esx_loc',\n",
    "'esx_time'\n",
    "]"
   ]
  },
  {
   "cell_type": "code",
   "execution_count": 4,
   "metadata": {
    "collapsed": false
   },
   "outputs": [
    {
     "data": {
      "text/plain": [
       "Index(['Esx_clust', 'Esx_host', 'Esx_vmname', 'esx_totmhz', 'esx_cpuusagemhz',\n",
       "       'esx_cpureservemhz', 'esx_numcpu', 'esx_insram', 'esx_coremhz',\n",
       "       'esx_constate', 'esx_vmallram', 'esx_vmscpucnt', 'esx_pow_on_vms',\n",
       "       'esx_pow_off_vms', 'esx_cputs', 'esx_cpu', 'esx_ramts', 'esx_ram',\n",
       "       'esx_reservedmhz', 'esx_loc', 'esx_time'],\n",
       "      dtype='object')"
      ]
     },
     "execution_count": 4,
     "metadata": {},
     "output_type": "execute_result"
    }
   ],
   "source": [
    "esx_AMD_File.columns"
   ]
  },
  {
   "cell_type": "code",
   "execution_count": 5,
   "metadata": {
    "collapsed": false
   },
   "outputs": [
    {
     "data": {
      "text/html": [
       "<div>\n",
       "<table border=\"1\" class=\"dataframe\">\n",
       "  <thead>\n",
       "    <tr style=\"text-align: right;\">\n",
       "      <th></th>\n",
       "      <th>Esx_clust</th>\n",
       "      <th>Esx_host</th>\n",
       "      <th>Esx_vmname</th>\n",
       "      <th>esx_totmhz</th>\n",
       "      <th>esx_cpuusagemhz</th>\n",
       "      <th>esx_cpureservemhz</th>\n",
       "      <th>esx_numcpu</th>\n",
       "      <th>esx_insram</th>\n",
       "      <th>esx_coremhz</th>\n",
       "      <th>esx_constate</th>\n",
       "      <th>...</th>\n",
       "      <th>esx_vmscpucnt</th>\n",
       "      <th>esx_pow_on_vms</th>\n",
       "      <th>esx_pow_off_vms</th>\n",
       "      <th>esx_cputs</th>\n",
       "      <th>esx_cpu</th>\n",
       "      <th>esx_ramts</th>\n",
       "      <th>esx_ram</th>\n",
       "      <th>esx_reservedmhz</th>\n",
       "      <th>esx_loc</th>\n",
       "      <th>esx_time</th>\n",
       "    </tr>\n",
       "  </thead>\n",
       "  <tbody>\n",
       "    <tr>\n",
       "      <th>0</th>\n",
       "      <td>amdc4e01p</td>\n",
       "      <td>amdc4evm12p:c4e-internal.c4e.ops</td>\n",
       "      <td>NaN</td>\n",
       "      <td>86368.0</td>\n",
       "      <td>NaN</td>\n",
       "      <td>NaN</td>\n",
       "      <td>32</td>\n",
       "      <td>511.963585</td>\n",
       "      <td>2699</td>\n",
       "      <td>Connected</td>\n",
       "      <td>...</td>\n",
       "      <td>50.0</td>\n",
       "      <td>13.0</td>\n",
       "      <td>6.0</td>\n",
       "      <td>7/10/2016 9:15:00 PM</td>\n",
       "      <td>1.27</td>\n",
       "      <td>7/10/2016 9:15:00 PM</td>\n",
       "      <td>37.95</td>\n",
       "      <td>NaN</td>\n",
       "      <td>AMD</td>\n",
       "      <td>7/10/2016 9:15:00 PM</td>\n",
       "    </tr>\n",
       "    <tr>\n",
       "      <th>1</th>\n",
       "      <td>amdc4e01p</td>\n",
       "      <td>amdc4evm12p:c4e-internal.c4e.ops</td>\n",
       "      <td>NaN</td>\n",
       "      <td>86368.0</td>\n",
       "      <td>NaN</td>\n",
       "      <td>NaN</td>\n",
       "      <td>32</td>\n",
       "      <td>511.963585</td>\n",
       "      <td>2699</td>\n",
       "      <td>Connected</td>\n",
       "      <td>...</td>\n",
       "      <td>50.0</td>\n",
       "      <td>13.0</td>\n",
       "      <td>6.0</td>\n",
       "      <td>7/10/2016 9:25:00 PM</td>\n",
       "      <td>1.45</td>\n",
       "      <td>7/10/2016 9:25:00 PM</td>\n",
       "      <td>37.95</td>\n",
       "      <td>NaN</td>\n",
       "      <td>AMD</td>\n",
       "      <td>7/10/2016 9:25:00 PM</td>\n",
       "    </tr>\n",
       "    <tr>\n",
       "      <th>2</th>\n",
       "      <td>amdc4e01p</td>\n",
       "      <td>amdc4evm12p:c4e-internal.c4e.ops</td>\n",
       "      <td>NaN</td>\n",
       "      <td>86368.0</td>\n",
       "      <td>NaN</td>\n",
       "      <td>NaN</td>\n",
       "      <td>32</td>\n",
       "      <td>511.963585</td>\n",
       "      <td>2699</td>\n",
       "      <td>Connected</td>\n",
       "      <td>...</td>\n",
       "      <td>50.0</td>\n",
       "      <td>13.0</td>\n",
       "      <td>6.0</td>\n",
       "      <td>7/10/2016 9:35:00 PM</td>\n",
       "      <td>1.45</td>\n",
       "      <td>7/10/2016 9:35:00 PM</td>\n",
       "      <td>37.95</td>\n",
       "      <td>NaN</td>\n",
       "      <td>AMD</td>\n",
       "      <td>7/10/2016 9:35:00 PM</td>\n",
       "    </tr>\n",
       "    <tr>\n",
       "      <th>3</th>\n",
       "      <td>amdc4e01p</td>\n",
       "      <td>amdc4evm12p:c4e-internal.c4e.ops</td>\n",
       "      <td>NaN</td>\n",
       "      <td>86368.0</td>\n",
       "      <td>NaN</td>\n",
       "      <td>NaN</td>\n",
       "      <td>32</td>\n",
       "      <td>511.963585</td>\n",
       "      <td>2699</td>\n",
       "      <td>Connected</td>\n",
       "      <td>...</td>\n",
       "      <td>50.0</td>\n",
       "      <td>13.0</td>\n",
       "      <td>6.0</td>\n",
       "      <td>7/10/2016 9:45:00 AM</td>\n",
       "      <td>1.57</td>\n",
       "      <td>7/10/2016 9:45:00 AM</td>\n",
       "      <td>37.95</td>\n",
       "      <td>NaN</td>\n",
       "      <td>AMD</td>\n",
       "      <td>7/10/2016 9:45:00 AM</td>\n",
       "    </tr>\n",
       "    <tr>\n",
       "      <th>4</th>\n",
       "      <td>amdc4e01p</td>\n",
       "      <td>amdc4evm12p:c4e-internal.c4e.ops</td>\n",
       "      <td>NaN</td>\n",
       "      <td>86368.0</td>\n",
       "      <td>NaN</td>\n",
       "      <td>NaN</td>\n",
       "      <td>32</td>\n",
       "      <td>511.963585</td>\n",
       "      <td>2699</td>\n",
       "      <td>Connected</td>\n",
       "      <td>...</td>\n",
       "      <td>50.0</td>\n",
       "      <td>13.0</td>\n",
       "      <td>6.0</td>\n",
       "      <td>7/10/2016 9:50:00 AM</td>\n",
       "      <td>1.65</td>\n",
       "      <td>7/10/2016 9:50:00 AM</td>\n",
       "      <td>37.95</td>\n",
       "      <td>NaN</td>\n",
       "      <td>AMD</td>\n",
       "      <td>7/10/2016 9:50:00 AM</td>\n",
       "    </tr>\n",
       "  </tbody>\n",
       "</table>\n",
       "<p>5 rows × 21 columns</p>\n",
       "</div>"
      ],
      "text/plain": [
       "   Esx_clust                          Esx_host  Esx_vmname  esx_totmhz  \\\n",
       "0  amdc4e01p  amdc4evm12p:c4e-internal.c4e.ops         NaN     86368.0   \n",
       "1  amdc4e01p  amdc4evm12p:c4e-internal.c4e.ops         NaN     86368.0   \n",
       "2  amdc4e01p  amdc4evm12p:c4e-internal.c4e.ops         NaN     86368.0   \n",
       "3  amdc4e01p  amdc4evm12p:c4e-internal.c4e.ops         NaN     86368.0   \n",
       "4  amdc4e01p  amdc4evm12p:c4e-internal.c4e.ops         NaN     86368.0   \n",
       "\n",
       "   esx_cpuusagemhz  esx_cpureservemhz  esx_numcpu  esx_insram  esx_coremhz  \\\n",
       "0              NaN                NaN          32  511.963585         2699   \n",
       "1              NaN                NaN          32  511.963585         2699   \n",
       "2              NaN                NaN          32  511.963585         2699   \n",
       "3              NaN                NaN          32  511.963585         2699   \n",
       "4              NaN                NaN          32  511.963585         2699   \n",
       "\n",
       "  esx_constate          ...           esx_vmscpucnt  esx_pow_on_vms  \\\n",
       "0    Connected          ...                    50.0            13.0   \n",
       "1    Connected          ...                    50.0            13.0   \n",
       "2    Connected          ...                    50.0            13.0   \n",
       "3    Connected          ...                    50.0            13.0   \n",
       "4    Connected          ...                    50.0            13.0   \n",
       "\n",
       "   esx_pow_off_vms             esx_cputs esx_cpu             esx_ramts  \\\n",
       "0              6.0  7/10/2016 9:15:00 PM    1.27  7/10/2016 9:15:00 PM   \n",
       "1              6.0  7/10/2016 9:25:00 PM    1.45  7/10/2016 9:25:00 PM   \n",
       "2              6.0  7/10/2016 9:35:00 PM    1.45  7/10/2016 9:35:00 PM   \n",
       "3              6.0  7/10/2016 9:45:00 AM    1.57  7/10/2016 9:45:00 AM   \n",
       "4              6.0  7/10/2016 9:50:00 AM    1.65  7/10/2016 9:50:00 AM   \n",
       "\n",
       "  esx_ram  esx_reservedmhz  esx_loc              esx_time  \n",
       "0   37.95              NaN      AMD  7/10/2016 9:15:00 PM  \n",
       "1   37.95              NaN      AMD  7/10/2016 9:25:00 PM  \n",
       "2   37.95              NaN      AMD  7/10/2016 9:35:00 PM  \n",
       "3   37.95              NaN      AMD  7/10/2016 9:45:00 AM  \n",
       "4   37.95              NaN      AMD  7/10/2016 9:50:00 AM  \n",
       "\n",
       "[5 rows x 21 columns]"
      ]
     },
     "execution_count": 5,
     "metadata": {},
     "output_type": "execute_result"
    }
   ],
   "source": [
    "esx_AMD_File.head()"
   ]
  },
  {
   "cell_type": "code",
   "execution_count": 15,
   "metadata": {
    "collapsed": false
   },
   "outputs": [
    {
     "data": {
      "text/html": [
       "<div>\n",
       "<table border=\"1\" class=\"dataframe\">\n",
       "  <thead>\n",
       "    <tr style=\"text-align: right;\">\n",
       "      <th></th>\n",
       "      <th>Esx_clust</th>\n",
       "      <th>Esx_host</th>\n",
       "      <th>Esx_vmname</th>\n",
       "      <th>esx_totmhz</th>\n",
       "      <th>esx_cpuusagemhz</th>\n",
       "      <th>esx_cpureservemhz</th>\n",
       "      <th>esx_numcpu</th>\n",
       "      <th>esx_insram</th>\n",
       "      <th>esx_coremhz</th>\n",
       "      <th>esx_constate</th>\n",
       "      <th>...</th>\n",
       "      <th>esx_vmscpucnt</th>\n",
       "      <th>esx_pow_on_vms</th>\n",
       "      <th>esx_pow_off_vms</th>\n",
       "      <th>esx_cputs</th>\n",
       "      <th>esx_cpu</th>\n",
       "      <th>esx_ramts</th>\n",
       "      <th>esx_ram</th>\n",
       "      <th>esx_reservedmhz</th>\n",
       "      <th>esx_loc</th>\n",
       "      <th>esx_time</th>\n",
       "    </tr>\n",
       "  </thead>\n",
       "  <tbody>\n",
       "    <tr>\n",
       "      <th>0</th>\n",
       "      <td>amdc4e01p</td>\n",
       "      <td>amdc4evm12p:c4e-internal.c4e.ops</td>\n",
       "      <td>NaN</td>\n",
       "      <td>86368.0</td>\n",
       "      <td>NaN</td>\n",
       "      <td>NaN</td>\n",
       "      <td>32</td>\n",
       "      <td>511.963585</td>\n",
       "      <td>2699</td>\n",
       "      <td>Connected</td>\n",
       "      <td>...</td>\n",
       "      <td>50.0</td>\n",
       "      <td>13.0</td>\n",
       "      <td>6.0</td>\n",
       "      <td>7/10/2016 9:15:00 PM</td>\n",
       "      <td>1.27</td>\n",
       "      <td>7/10/2016 9:15:00 PM</td>\n",
       "      <td>37.95</td>\n",
       "      <td>NaN</td>\n",
       "      <td>AMD</td>\n",
       "      <td>7/10/2016 9:15:00 PM</td>\n",
       "    </tr>\n",
       "    <tr>\n",
       "      <th>1</th>\n",
       "      <td>amdc4e01p</td>\n",
       "      <td>amdc4evm12p:c4e-internal.c4e.ops</td>\n",
       "      <td>NaN</td>\n",
       "      <td>86368.0</td>\n",
       "      <td>NaN</td>\n",
       "      <td>NaN</td>\n",
       "      <td>32</td>\n",
       "      <td>511.963585</td>\n",
       "      <td>2699</td>\n",
       "      <td>Connected</td>\n",
       "      <td>...</td>\n",
       "      <td>50.0</td>\n",
       "      <td>13.0</td>\n",
       "      <td>6.0</td>\n",
       "      <td>7/10/2016 9:25:00 PM</td>\n",
       "      <td>1.45</td>\n",
       "      <td>7/10/2016 9:25:00 PM</td>\n",
       "      <td>37.95</td>\n",
       "      <td>NaN</td>\n",
       "      <td>AMD</td>\n",
       "      <td>7/10/2016 9:25:00 PM</td>\n",
       "    </tr>\n",
       "    <tr>\n",
       "      <th>2</th>\n",
       "      <td>amdc4e01p</td>\n",
       "      <td>amdc4evm12p:c4e-internal.c4e.ops</td>\n",
       "      <td>NaN</td>\n",
       "      <td>86368.0</td>\n",
       "      <td>NaN</td>\n",
       "      <td>NaN</td>\n",
       "      <td>32</td>\n",
       "      <td>511.963585</td>\n",
       "      <td>2699</td>\n",
       "      <td>Connected</td>\n",
       "      <td>...</td>\n",
       "      <td>50.0</td>\n",
       "      <td>13.0</td>\n",
       "      <td>6.0</td>\n",
       "      <td>7/10/2016 9:35:00 PM</td>\n",
       "      <td>1.45</td>\n",
       "      <td>7/10/2016 9:35:00 PM</td>\n",
       "      <td>37.95</td>\n",
       "      <td>NaN</td>\n",
       "      <td>AMD</td>\n",
       "      <td>7/10/2016 9:35:00 PM</td>\n",
       "    </tr>\n",
       "    <tr>\n",
       "      <th>3</th>\n",
       "      <td>amdc4e01p</td>\n",
       "      <td>amdc4evm12p:c4e-internal.c4e.ops</td>\n",
       "      <td>NaN</td>\n",
       "      <td>86368.0</td>\n",
       "      <td>NaN</td>\n",
       "      <td>NaN</td>\n",
       "      <td>32</td>\n",
       "      <td>511.963585</td>\n",
       "      <td>2699</td>\n",
       "      <td>Connected</td>\n",
       "      <td>...</td>\n",
       "      <td>50.0</td>\n",
       "      <td>13.0</td>\n",
       "      <td>6.0</td>\n",
       "      <td>7/10/2016 9:45:00 AM</td>\n",
       "      <td>1.57</td>\n",
       "      <td>7/10/2016 9:45:00 AM</td>\n",
       "      <td>37.95</td>\n",
       "      <td>NaN</td>\n",
       "      <td>AMD</td>\n",
       "      <td>7/10/2016 9:45:00 AM</td>\n",
       "    </tr>\n",
       "    <tr>\n",
       "      <th>4</th>\n",
       "      <td>amdc4e01p</td>\n",
       "      <td>amdc4evm12p:c4e-internal.c4e.ops</td>\n",
       "      <td>NaN</td>\n",
       "      <td>86368.0</td>\n",
       "      <td>NaN</td>\n",
       "      <td>NaN</td>\n",
       "      <td>32</td>\n",
       "      <td>511.963585</td>\n",
       "      <td>2699</td>\n",
       "      <td>Connected</td>\n",
       "      <td>...</td>\n",
       "      <td>50.0</td>\n",
       "      <td>13.0</td>\n",
       "      <td>6.0</td>\n",
       "      <td>7/10/2016 9:50:00 AM</td>\n",
       "      <td>1.65</td>\n",
       "      <td>7/10/2016 9:50:00 AM</td>\n",
       "      <td>37.95</td>\n",
       "      <td>NaN</td>\n",
       "      <td>AMD</td>\n",
       "      <td>7/10/2016 9:50:00 AM</td>\n",
       "    </tr>\n",
       "  </tbody>\n",
       "</table>\n",
       "<p>5 rows × 21 columns</p>\n",
       "</div>"
      ],
      "text/plain": [
       "   Esx_clust                          Esx_host  Esx_vmname  esx_totmhz  \\\n",
       "0  amdc4e01p  amdc4evm12p:c4e-internal.c4e.ops         NaN     86368.0   \n",
       "1  amdc4e01p  amdc4evm12p:c4e-internal.c4e.ops         NaN     86368.0   \n",
       "2  amdc4e01p  amdc4evm12p:c4e-internal.c4e.ops         NaN     86368.0   \n",
       "3  amdc4e01p  amdc4evm12p:c4e-internal.c4e.ops         NaN     86368.0   \n",
       "4  amdc4e01p  amdc4evm12p:c4e-internal.c4e.ops         NaN     86368.0   \n",
       "\n",
       "   esx_cpuusagemhz  esx_cpureservemhz  esx_numcpu  esx_insram  esx_coremhz  \\\n",
       "0              NaN                NaN          32  511.963585         2699   \n",
       "1              NaN                NaN          32  511.963585         2699   \n",
       "2              NaN                NaN          32  511.963585         2699   \n",
       "3              NaN                NaN          32  511.963585         2699   \n",
       "4              NaN                NaN          32  511.963585         2699   \n",
       "\n",
       "  esx_constate          ...           esx_vmscpucnt  esx_pow_on_vms  \\\n",
       "0    Connected          ...                    50.0            13.0   \n",
       "1    Connected          ...                    50.0            13.0   \n",
       "2    Connected          ...                    50.0            13.0   \n",
       "3    Connected          ...                    50.0            13.0   \n",
       "4    Connected          ...                    50.0            13.0   \n",
       "\n",
       "   esx_pow_off_vms             esx_cputs esx_cpu             esx_ramts  \\\n",
       "0              6.0  7/10/2016 9:15:00 PM    1.27  7/10/2016 9:15:00 PM   \n",
       "1              6.0  7/10/2016 9:25:00 PM    1.45  7/10/2016 9:25:00 PM   \n",
       "2              6.0  7/10/2016 9:35:00 PM    1.45  7/10/2016 9:35:00 PM   \n",
       "3              6.0  7/10/2016 9:45:00 AM    1.57  7/10/2016 9:45:00 AM   \n",
       "4              6.0  7/10/2016 9:50:00 AM    1.65  7/10/2016 9:50:00 AM   \n",
       "\n",
       "  esx_ram  esx_reservedmhz  esx_loc              esx_time  \n",
       "0   37.95              NaN      AMD  7/10/2016 9:15:00 PM  \n",
       "1   37.95              NaN      AMD  7/10/2016 9:25:00 PM  \n",
       "2   37.95              NaN      AMD  7/10/2016 9:35:00 PM  \n",
       "3   37.95              NaN      AMD  7/10/2016 9:45:00 AM  \n",
       "4   37.95              NaN      AMD  7/10/2016 9:50:00 AM  \n",
       "\n",
       "[5 rows x 21 columns]"
      ]
     },
     "execution_count": 15,
     "metadata": {},
     "output_type": "execute_result"
    }
   ],
   "source": []
  },
  {
   "cell_type": "code",
   "execution_count": 16,
   "metadata": {
    "collapsed": false
   },
   "outputs": [
    {
     "data": {
      "text/plain": [
       "array(['amdc4e01p', 'host'], dtype=object)"
      ]
     },
     "execution_count": 16,
     "metadata": {},
     "output_type": "execute_result"
    }
   ],
   "source": [
    "esx_AMD_File.Esx_clust.unique()"
   ]
  },
  {
   "cell_type": "code",
   "execution_count": 17,
   "metadata": {
    "collapsed": false
   },
   "outputs": [
    {
     "data": {
      "text/plain": [
       "array(['amdc4evm12p:c4e-internal.c4e.ops',\n",
       "       'amdc4evm13p:c4e-internal.c4e.ops',\n",
       "       'amdc4evm14p:c4e-internal.c4e.ops',\n",
       "       'amdc4evm15p:c4e-internal.c4e.ops',\n",
       "       'amdc4evm16p:c4e-internal.c4e.ops',\n",
       "       'amdc4evm17p:c4e-internal.c4e.ops',\n",
       "       'amdc4evm18p:c4e-internal.c4e.ops',\n",
       "       'amdc4evm19p:c4e-internal.c4e.ops',\n",
       "       'amdc4evm20p:c4e-internal.c4e.ops',\n",
       "       'amdc4evm21p:c4e-internal.c4e.ops',\n",
       "       'amdc4evm22p:c4e-internal.c4e.ops', nan,\n",
       "       'amdc4evm01p:c4e-internal.c4e.ops',\n",
       "       'amdc4evm02p:c4e-internal.c4e.ops',\n",
       "       'amdc4evm03p:c4e-internal.c4e.ops',\n",
       "       'amdc4evm04p:c4e-internal.c4e.ops',\n",
       "       'amdc4evm05p:c4e-internal.c4e.ops',\n",
       "       'amdc4evm06p:c4e-internal.c4e.ops',\n",
       "       'amdc4evm07p:c4e-internal.c4e.ops',\n",
       "       'amdc4evm08p:c4e-internal.c4e.ops',\n",
       "       'amdc4evm09p:c4e-internal.c4e.ops',\n",
       "       'amdc4evm10p:c4e-internal.c4e.ops',\n",
       "       'amdc4evm11p:c4e-internal.c4e.ops', 'amdc4evm13p:', 'amdc4evm14p:',\n",
       "       'amdc4evm15p:', 'amdc4evm16p:', 'amdc4evm18p:', 'amdc4evm01p',\n",
       "       'amdc4evm02p', 'amdc4evm03p', 'amdc4evm04p', 'amdc4evm05p',\n",
       "       'amdc4evm06p', 'amdc4evm07p', 'amdc4evm08p', 'amdc4evm09p',\n",
       "       'amdc4evm10p', 'amdc4evm11p', 'amdc4evm12p',\n",
       "       'amdc4evm03p.c4e-internal.c4e.ops'], dtype=object)"
      ]
     },
     "execution_count": 17,
     "metadata": {},
     "output_type": "execute_result"
    }
   ],
   "source": [
    "esx_AMD_File.Esx_host.unique()"
   ]
  },
  {
   "cell_type": "code",
   "execution_count": 18,
   "metadata": {
    "collapsed": false
   },
   "outputs": [
    {
     "data": {
      "text/plain": [
       "(2571400, 21)"
      ]
     },
     "execution_count": 18,
     "metadata": {},
     "output_type": "execute_result"
    }
   ],
   "source": [
    "esx_AMD_File.shape"
   ]
  },
  {
   "cell_type": "code",
   "execution_count": 19,
   "metadata": {
    "collapsed": false
   },
   "outputs": [
    {
     "data": {
      "text/plain": [
       "array([ 86368.,  68256.,     nan])"
      ]
     },
     "execution_count": 19,
     "metadata": {},
     "output_type": "execute_result"
    }
   ],
   "source": [
    "esx_AMD_File.esx_totmhz.unique()"
   ]
  },
  {
   "cell_type": "code",
   "execution_count": 20,
   "metadata": {
    "collapsed": false
   },
   "outputs": [
    {
     "data": {
      "text/plain": [
       "array([  511.9635849 ,   511.96130753,   511.96141434,   511.96157837,\n",
       "        1023.88500595,   511.96157455,   511.96141052,   511.88500595,\n",
       "         511.88502121,  1023.88502121,   512.        ,   511.885     ,\n",
       "        1024.        ,  1023.885     ,   511.96143   ,   511.9636    ,\n",
       "         511.96158   ,   511.9613    ])"
      ]
     },
     "execution_count": 20,
     "metadata": {},
     "output_type": "execute_result"
    }
   ],
   "source": [
    "esx_AMD_File.esx_insram.unique()"
   ]
  },
  {
   "cell_type": "code",
   "execution_count": 21,
   "metadata": {
    "collapsed": false
   },
   "outputs": [
    {
     "data": {
      "text/plain": [
       "array([32], dtype=int64)"
      ]
     },
     "execution_count": 21,
     "metadata": {},
     "output_type": "execute_result"
    }
   ],
   "source": [
    "esx_AMD_File.esx_numcpu.unique()"
   ]
  },
  {
   "cell_type": "code",
   "execution_count": 22,
   "metadata": {
    "collapsed": false
   },
   "outputs": [
    {
     "data": {
      "text/plain": [
       "array([2699, 2133, 2700], dtype=int64)"
      ]
     },
     "execution_count": 22,
     "metadata": {},
     "output_type": "execute_result"
    }
   ],
   "source": [
    "esx_AMD_File.esx_coremhz.unique()"
   ]
  },
  {
   "cell_type": "code",
   "execution_count": 23,
   "metadata": {
    "collapsed": false
   },
   "outputs": [
    {
     "data": {
      "text/plain": [
       "array([  1.27      ,   1.45      ,   1.57      , ...,  21.45717593,\n",
       "        21.93402778,  25.26851852])"
      ]
     },
     "execution_count": 23,
     "metadata": {},
     "output_type": "execute_result"
    }
   ],
   "source": [
    "esx_AMD_File.esx_cpu.unique()"
   ]
  },
  {
   "cell_type": "code",
   "execution_count": 24,
   "metadata": {
    "collapsed": false
   },
   "outputs": [
    {
     "data": {
      "text/plain": [
       "array([ 37.95      ,  37.98      ,  37.99      , ...,  80.4765625 ,\n",
       "        80.43164062,  81.046875  ])"
      ]
     },
     "execution_count": 24,
     "metadata": {},
     "output_type": "execute_result"
    }
   ],
   "source": [
    "esx_AMD_File.esx_ram.unique()"
   ]
  },
  {
   "cell_type": "code",
   "execution_count": 25,
   "metadata": {
    "collapsed": false
   },
   "outputs": [
    {
     "data": {
      "text/plain": [
       "40773"
      ]
     },
     "execution_count": 25,
     "metadata": {},
     "output_type": "execute_result"
    }
   ],
   "source": [
    "esx_AMD_File.esx_ram.unique().size"
   ]
  },
  {
   "cell_type": "code",
   "execution_count": 26,
   "metadata": {
    "collapsed": false
   },
   "outputs": [
    {
     "data": {
      "text/plain": [
       "29841"
      ]
     },
     "execution_count": 26,
     "metadata": {},
     "output_type": "execute_result"
    }
   ],
   "source": [
    "esx_AMD_File.esx_cpu.unique().size"
   ]
  },
  {
   "cell_type": "code",
   "execution_count": 27,
   "metadata": {
    "collapsed": false
   },
   "outputs": [
    {
     "data": {
      "text/plain": [
       "array([ nan])"
      ]
     },
     "execution_count": 27,
     "metadata": {},
     "output_type": "execute_result"
    }
   ],
   "source": [
    "esx_AMD_File.esx_cpureservemhz.unique()"
   ]
  },
  {
   "cell_type": "code",
   "execution_count": 30,
   "metadata": {
    "collapsed": false
   },
   "outputs": [
    {
     "data": {
      "text/plain": [
       "array([  260096.,   141312.,   261120., ...,   710656.,  1048576.,\n",
       "         560128.])"
      ]
     },
     "execution_count": 30,
     "metadata": {},
     "output_type": "execute_result"
    }
   ],
   "source": [
    "esx_AMD_File.esx_vmallram.unique()"
   ]
  },
  {
   "cell_type": "code",
   "execution_count": null,
   "metadata": {
    "collapsed": true
   },
   "outputs": [],
   "source": []
  }
 ],
 "metadata": {
  "anaconda-cloud": {},
  "kernelspec": {
   "display_name": "Python [default]",
   "language": "python",
   "name": "python3"
  },
  "language_info": {
   "codemirror_mode": {
    "name": "ipython",
    "version": 3
   },
   "file_extension": ".py",
   "mimetype": "text/x-python",
   "name": "python",
   "nbconvert_exporter": "python",
   "pygments_lexer": "ipython3",
   "version": "3.5.2"
  }
 },
 "nbformat": 4,
 "nbformat_minor": 1
}
