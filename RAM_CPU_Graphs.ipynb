{
 "cells": [
  {
   "cell_type": "code",
   "execution_count": 1,
   "metadata": {
    "collapsed": true
   },
   "outputs": [],
   "source": [
    "import pandas as pd\n",
    "import numpy as np\n",
    "import math\n",
    "import matplotlib.pyplot as plt\n",
    "import datetime"
   ]
  },
  {
   "cell_type": "code",
   "execution_count": 6,
   "metadata": {
    "collapsed": true
   },
   "outputs": [],
   "source": [
    "five_locations=[\"acc\",\"als\",\"AMD\",\"amsalk\",\"ap10\"]"
   ]
  },
  {
   "cell_type": "code",
   "execution_count": 108,
   "metadata": {
    "collapsed": true
   },
   "outputs": [],
   "source": [
    "all_locations=[\"acc\",\n",
    "\"als\",\n",
    "\"AMD\",\n",
    "\"AMS\",\n",
    "\"amsalk\",\n",
    "\"ap10\",\n",
    "\"ap3\",\n",
    "\"ASH\",\n",
    "\"ash02\",\n",
    "\"ash02alk\",\n",
    "\"ash02ell\",\n",
    "\"ASH02na10\",\n",
    "\"ASH02na11\",\n",
    "\"ash02na14\",\n",
    "\"ash02na15\",\n",
    "\"ash02na18\",\n",
    "\"ASH02NA9\",\n",
    "\"boq\",\n",
    "\"BRU03EU9\",\n",
    "\"cbr01\",\n",
    "\"CBRAC2\",\n",
    "\"CGK\",\n",
    "\"cgk01\",\n",
    "\"cgk02id2\",\n",
    "\"csyd01\",\n",
    "\"EU7AMS\",\n",
    "\"fra\",\n",
    "\"FRA02EU10\",\n",
    "\"FRA03EU11\",\n",
    "\"gci\",\n",
    "\"GRU01\",\n",
    "\"HKG\",\n",
    "\"HKG01AP5\",\n",
    "\"HLZ\",\n",
    "\"HLZ01AU11\",\n",
    "\"hnd\",\n",
    "\"HND01AP4\",\n",
    "\"IL1MED1\",\n",
    "\"IL2MED1\",\n",
    "\"jer\",\n",
    "\"JNB\",\n",
    "\"JNB01AF3\",\n",
    "\"JNB01AF5\",\n",
    "\"jnb02\",\n",
    "\"JNB02AF4\",\n",
    "\"JNB03AF4\",\n",
    "\"lhr03\",\n",
    "\"LHR03EU8\",\n",
    "\"mel\",\n",
    "\"melau10\",\n",
    "\"MELau10\",\n",
    "\"mrcy\",\n",
    "\"NA2\",\n",
    "\"NA4\",\n",
    "\"sin01ap8\",\n",
    "\"sin01ap9\",\n",
    "\"sin02ap6\",\n",
    "\"sin03ap7\",\n",
    "\"SNU\",\n",
    "\"SNUna12\",\n",
    "\"SNUna13\",\n",
    "\"SNUna16\",\n",
    "\"snuna17\",\n",
    "\"SYD\",\n",
    "\"SYDau9\",\n",
    "\"WLG01AU12\",\n",
    "\"yyz01\",\n",
    "\"YYZ01CA2\"]"
   ]
  },
  {
   "cell_type": "code",
   "execution_count": 113,
   "metadata": {
    "collapsed": false
   },
   "outputs": [
    {
     "data": {
      "text/plain": [
       "68"
      ]
     },
     "execution_count": 113,
     "metadata": {},
     "output_type": "execute_result"
    }
   ],
   "source": [
    "len(all_locations)"
   ]
  },
  {
   "cell_type": "code",
   "execution_count": 84,
   "metadata": {
    "collapsed": true
   },
   "outputs": [],
   "source": [
    "fig1, ax = plt.subplots(1,5)\n",
    "fig2, bx = plt.subplots(1,5)"
   ]
  },
  {
   "cell_type": "code",
   "execution_count": 106,
   "metadata": {
    "collapsed": true
   },
   "outputs": [],
   "source": [
    "# all economy graphs for Jun 2016\n",
    "def get_RAMCPUUsage_Graph_Month(month):\n",
    "    if month == \"jun\":\n",
    "        month_str = '6\\/[0-9][0-9]\\/2016'\n",
    "    elif month == \"jul\":\n",
    "        month_str = '7\\/[0-9][0-9]\\/2016'\n",
    "    elif month == \"aug\":\n",
    "        month_str = '8\\/[0-9][0-9]\\/2016'\n",
    "    elif month == \"sep\":\n",
    "        month_str = '9\\/[0-9][0-9]\\/2016'\n",
    "    elif month == \"nov\":\n",
    "        month_str = '2016-11'\n",
    "    else:\n",
    "        return \"Month passed is not valid\"\n",
    "    start=datetime.datetime.now()\n",
    "    m=0\n",
    "    n=0\n",
    "    ncols=5\n",
    "    nrows=math.ceil(len(all_locations)/ncols)\n",
    "    fig1, ax = plt.subplots(nrows,ncols)\n",
    "    fig2, bx = plt.subplots(nrows,ncols)\n",
    "    fig1.set_figheight(10)\n",
    "    fig1.set_figwidth(10)\n",
    "    fig1.suptitle(\"RAM Usage for \" + month + \" 2016\")\n",
    "    fig1.subplots_adjust(hspace=.5)    \n",
    "    fig2.set_figheight(10)\n",
    "    fig2.set_figwidth(10)\n",
    "    fig2.suptitle(\"CPU Usage for \" + month + \" 2016\")\n",
    "    fig2.subplots_adjust(hspace=.5)    \n",
    "    for locations in five_locations:\n",
    "        esx_acc_all = pd.read_csv('results/esx_loc/new/'+locations+\"N\", header=None)\n",
    "        esx_acc_all['CPU_usage'] = esx_acc_all[2] * esx_acc_all[4] / 100\n",
    "        esx_acc_all['RAM Used'] = esx_acc_all[3] * esx_acc_all[5] / 100\n",
    "        esx_acc_all.columns = ['Esx_clust',\n",
    "        'Esx_host',\n",
    "        'esx_totmhz',\n",
    "        'esx_insram',\n",
    "        'esx_cpu',\n",
    "        'esx_ram',\n",
    "        'esx_loc',\n",
    "        'esx_time',\n",
    "        'CPU_usage',\n",
    "        'RAM Used'\n",
    "        ]\n",
    "        esx_acc_all.drop(esx_acc_all.columns[[2, 3, 4, 5, 6]], axis=1, inplace=True)\n",
    "        #esx_acc_all['esx_time'] = esx_acc_all['esx_time'].apply(lambda x: str(x).replace(str(x)[-8:-3],'00:00'))\n",
    "        esx_jun2016_all = esx_acc_all[esx_acc_all.esx_time.str.contains(month_str) > 0]\n",
    "        esx_jun2016_all['Date'] = pd.to_datetime(esx_jun2016_all['esx_time'])\n",
    "        esx_jun2016_all['Date'] = esx_jun2016_all['Date'].dt.date\n",
    "        esx_jun2016_GB_graph_tier = esx_jun2016_all.groupby(['Esx_clust', 'Esx_host', 'Date'])\n",
    "        new_esx = esx_jun2016_GB_graph_tier.agg({'CPU_usage':'max', 'RAM Used':'max'})\n",
    "        new_esx.reset_index(level=2, inplace=True)\n",
    "        new_esx.reset_index(level=1, inplace=True)\n",
    "        new_esx.drop(new_esx.columns[[0]], axis=1, inplace=True)\n",
    "        esx_Graph = new_esx.groupby(['Date']).sum()\n",
    "        temp=esx_Graph.reset_index(level=['Date'])\n",
    "        temp2=pd.DataFrame()\n",
    "        temp2['Date']=temp['Date']\n",
    "        temp2['RAM_Used']=temp['RAM Used']\n",
    "        temp2['CPU_Usage']=temp['CPU_usage']\n",
    "        temp2 = temp2.set_index('Date')\n",
    "        ts=(temp2['RAM_Used'])\n",
    "        print(m,n)\n",
    "        ax[m,n].plot(ts)\n",
    "        ax[m,n].set_title(locations)\n",
    "        ax[m,n].axes.get_xaxis().set_visible(False)\n",
    "        ax[m,n].axes.get_yaxis().set_visible(False)\n",
    "        ts=(temp2['CPU_Usage'])\n",
    "        bx[m,n].plot(ts)\n",
    "        bx[m,n].set_title(locations)\n",
    "        bx[m,n].axes.get_xaxis().set_visible(False)\n",
    "        bx[m,n].axes.get_yaxis().set_visible(False)\n",
    "        n+=1\n",
    "    fig1.savefig('RAM.png', bbox_inches='tight')\n",
    "    fig2.savefig('CPU.png', bbox_inches='tight')\n",
    "    plt.show()"
   ]
  },
  {
   "cell_type": "code",
   "execution_count": 107,
   "metadata": {
    "collapsed": false
   },
   "outputs": [
    {
     "name": "stderr",
     "output_type": "stream",
     "text": [
      "C:\\Users\\Home\\Anaconda3\\lib\\site-packages\\ipykernel\\__main__.py:45: SettingWithCopyWarning: \n",
      "A value is trying to be set on a copy of a slice from a DataFrame.\n",
      "Try using .loc[row_indexer,col_indexer] = value instead\n",
      "\n",
      "See the caveats in the documentation: http://pandas.pydata.org/pandas-docs/stable/indexing.html#indexing-view-versus-copy\n",
      "C:\\Users\\Home\\Anaconda3\\lib\\site-packages\\ipykernel\\__main__.py:46: SettingWithCopyWarning: \n",
      "A value is trying to be set on a copy of a slice from a DataFrame.\n",
      "Try using .loc[row_indexer,col_indexer] = value instead\n",
      "\n",
      "See the caveats in the documentation: http://pandas.pydata.org/pandas-docs/stable/indexing.html#indexing-view-versus-copy\n"
     ]
    },
    {
     "name": "stdout",
     "output_type": "stream",
     "text": [
      "0 0\n",
      "0 1\n",
      "0 2\n",
      "0 3\n",
      "0 4\n"
     ]
    },
    {
     "data": {
      "image/png": "[encoded data removed]",
      "text/plain": [
       "<matplotlib.figure.Figure at 0x2582e36dac8>"
      ]
     },
     "metadata": {},
     "output_type": "display_data"
    },
    {
     "data": {
      "image/png": "[encoded data removed]",
      "text/plain": [
       "<matplotlib.figure.Figure at 0x2584fd71438>"
      ]
     },
     "metadata": {},
     "output_type": "display_data"
    }
   ],
   "source": [
    "\n",
    "get_RAMCPUUsage_Graph_Month(\"jun\")"
   ]
  },
  {
   "cell_type": "code",
   "execution_count": null,
   "metadata": {
    "collapsed": true
   },
   "outputs": [],
   "source": []
  },
  {
   "cell_type": "code",
   "execution_count": 3,
   "metadata": {
    "collapsed": false
   },
   "outputs": [
    {
     "name": "stderr",
     "output_type": "stream",
     "text": [
      "C:\\Users\\Home\\Anaconda3\\lib\\site-packages\\ipykernel\\__main__.py:16: UserWarning: This pattern has match groups. To actually get the groups, use str.extract.\n",
      "C:\\Users\\Home\\Anaconda3\\lib\\site-packages\\ipykernel\\__main__.py:17: SettingWithCopyWarning: \n",
      "A value is trying to be set on a copy of a slice from a DataFrame.\n",
      "Try using .loc[row_indexer,col_indexer] = value instead\n",
      "\n",
      "See the caveats in the documentation: http://pandas.pydata.org/pandas-docs/stable/indexing.html#indexing-view-versus-copy\n"
     ]
    },
    {
     "data": {
      "text/plain": [
       "<matplotlib.figure.Figure at 0x1cfc94f8b38>"
      ]
     },
     "metadata": {},
     "output_type": "display_data"
    },
    {
     "data": {
      "image/png": "[encoded data removed]",
      "text/plain": [
       "<matplotlib.figure.Figure at 0x1cfd25297f0>"
      ]
     },
     "metadata": {},
     "output_type": "display_data"
    },
    {
     "data": {
      "text/plain": [
       "<matplotlib.figure.Figure at 0x1cfc983fda0>"
      ]
     },
     "metadata": {},
     "output_type": "display_data"
    },
    {
     "data": {
      "image/png": "[encoded data removed]",
      "text/plain": [
       "<matplotlib.figure.Figure at 0x1cfc984c208>"
      ]
     },
     "metadata": {},
     "output_type": "display_data"
    }
   ],
   "source": [
    "esx_acc_all = pd.read_csv('results/esx_loc/new/accN', header=None)\n",
    "esx_acc_all['CPU_usage'] = esx_acc_all[2] * esx_acc_all[4] / 100\n",
    "esx_acc_all['RAM Used'] = esx_acc_all[3] * esx_acc_all[5] / 100\n",
    "esx_acc_all.columns = ['Esx_clust',\n",
    "        'Esx_host',\n",
    "        'esx_totmhz',\n",
    "        'esx_insram',\n",
    "        'esx_cpu',\n",
    "        'esx_ram',\n",
    "        'esx_loc',\n",
    "        'esx_time',\n",
    "        'CPU_usage',\n",
    "        'RAM Used'\n",
    "        ]\n",
    "esx_acc_all.drop(esx_acc_all.columns[[2, 3, 4, 5, 6]], axis=1, inplace=True)\n",
    "esx_jun2016_all = esx_acc_all[esx_acc_all.esx_time.str.contains('(6|7|8|9|10|11)\\/[0-9]{1,2}\\/2016') > 0]\n",
    "esx_jun2016_all['esx_time'] = esx_jun2016_all['esx_time'].apply(lambda x: str(x).replace(str(x)[-8:-3],'00:00'))\n",
    "aa = esx_jun2016_all.groupby(['Esx_clust', 'Esx_host', 'esx_time'])\n",
    "new = aa.agg({'CPU_usage':'max', 'RAM Used': 'max'})\n",
    "new = new.reset_index(level=['Esx_clust', 'Esx_host', 'esx_time'])\n",
    "new['Date'] = pd.to_datetime(new['esx_time'])\n",
    "new2 = new.groupby(['Date'])\n",
    "#may be remove esx_host from grouby here?\n",
    "new2 = new2.agg({'CPU_usage':'sum', 'RAM Used': 'sum'})\n",
    "new2 = new2.reset_index(level=['Date'])\n",
    "new2['Date'] = new2['Date'].dt.date\n",
    "new3 = new2.groupby(['Date'])\n",
    "new3 = new3.agg({'CPU_usage':'max', 'RAM Used': 'max'})\n",
    "new4=new3.reset_index(level=['Date'])\n",
    "fig=plt.figure()\n",
    "new4.plot(x='Date', y='CPU_usage', title=\"CPU Usage for \")\n",
    "#fig.savefig('out.png', bbox_inches='tight')\n",
    "plt.show()"
   ]
  },
  {
   "cell_type": "code",
   "execution_count": 10,
   "metadata": {
    "collapsed": false
   },
   "outputs": [
    {
     "data": {
      "text/plain": [
       "pandas.core.frame.DataFrame"
      ]
     },
     "execution_count": 10,
     "metadata": {},
     "output_type": "execute_result"
    }
   ],
   "source": [
    "type(new4)"
   ]
  },
  {
   "cell_type": "code",
   "execution_count": 49,
   "metadata": {
    "collapsed": false
   },
   "outputs": [],
   "source": [
    "x=new4.as_matrix(['Date']).flatten()\n",
    "x=new4['Date']\n",
    "y=new4.as_matrix(['CPU_usage']).flatten()"
   ]
  },
  {
   "cell_type": "code",
   "execution_count": 54,
   "metadata": {
    "collapsed": false
   },
   "outputs": [
    {
     "data": {
      "text/plain": [
       "183"
      ]
     },
     "execution_count": 54,
     "metadata": {},
     "output_type": "execute_result"
    }
   ],
   "source": [
    "x.size\n",
    "#new4.dtypes\n",
    "#y.size"
   ]
  },
  {
   "cell_type": "code",
   "execution_count": 25,
   "metadata": {
    "collapsed": true
   },
   "outputs": [],
   "source": [
    "from matplotlib import rc, rcParams\n",
    "# Pyplot is a module within the matplotlib library for plotting\n",
    "import matplotlib.pyplot as plt\n",
    "import copy\n",
    "import sys"
   ]
  },
  {
   "cell_type": "code",
   "execution_count": 55,
   "metadata": {
    "collapsed": false
   },
   "outputs": [
    {
     "ename": "TypeError",
     "evalue": "unsupported operand type(s) for +: 'datetime.date' and 'float'",
     "output_type": "error",
     "traceback": [
      "\u001b[0;31m---------------------------------------------------------------------------\u001b[0m",
      "\u001b[0;31mTypeError\u001b[0m                                 Traceback (most recent call last)",
      "\u001b[0;32m<ipython-input-55-e703f9a7c3b5>\u001b[0m in \u001b[0;36m<module>\u001b[0;34m()\u001b[0m\n\u001b[0;32m----> 1\u001b[0;31m \u001b[0mcoefficients1\u001b[0m \u001b[1;33m=\u001b[0m \u001b[0mnp\u001b[0m\u001b[1;33m.\u001b[0m\u001b[0mpolyfit\u001b[0m\u001b[1;33m(\u001b[0m\u001b[0mx\u001b[0m\u001b[1;33m,\u001b[0m\u001b[0my\u001b[0m\u001b[1;33m,\u001b[0m\u001b[1;36m1\u001b[0m\u001b[1;33m)\u001b[0m\u001b[1;33m\u001b[0m\u001b[0m\n\u001b[0m\u001b[1;32m      2\u001b[0m \u001b[0mprint\u001b[0m \u001b[1;33m(\u001b[0m\u001b[0mcoefficients1\u001b[0m\u001b[1;33m)\u001b[0m\u001b[1;33m\u001b[0m\u001b[0m\n\u001b[1;32m      3\u001b[0m \u001b[0mp\u001b[0m \u001b[1;33m=\u001b[0m \u001b[0mnp\u001b[0m\u001b[1;33m.\u001b[0m\u001b[0mpoly1d\u001b[0m\u001b[1;33m(\u001b[0m\u001b[0mcoefficients1\u001b[0m\u001b[1;33m)\u001b[0m\u001b[1;33m\u001b[0m\u001b[0m\n",
      "\u001b[0;32mC:\\Users\\Home\\Anaconda3\\lib\\site-packages\\numpy\\lib\\polynomial.py\u001b[0m in \u001b[0;36mpolyfit\u001b[0;34m(x, y, deg, rcond, full, w, cov)\u001b[0m\n\u001b[1;32m    548\u001b[0m     \"\"\"\n\u001b[1;32m    549\u001b[0m     \u001b[0morder\u001b[0m \u001b[1;33m=\u001b[0m \u001b[0mint\u001b[0m\u001b[1;33m(\u001b[0m\u001b[0mdeg\u001b[0m\u001b[1;33m)\u001b[0m \u001b[1;33m+\u001b[0m \u001b[1;36m1\u001b[0m\u001b[1;33m\u001b[0m\u001b[0m\n\u001b[0;32m--> 550\u001b[0;31m     \u001b[0mx\u001b[0m \u001b[1;33m=\u001b[0m \u001b[0mNX\u001b[0m\u001b[1;33m.\u001b[0m\u001b[0masarray\u001b[0m\u001b[1;33m(\u001b[0m\u001b[0mx\u001b[0m\u001b[1;33m)\u001b[0m \u001b[1;33m+\u001b[0m \u001b[1;36m0.0\u001b[0m\u001b[1;33m\u001b[0m\u001b[0m\n\u001b[0m\u001b[1;32m    551\u001b[0m     \u001b[0my\u001b[0m \u001b[1;33m=\u001b[0m \u001b[0mNX\u001b[0m\u001b[1;33m.\u001b[0m\u001b[0masarray\u001b[0m\u001b[1;33m(\u001b[0m\u001b[0my\u001b[0m\u001b[1;33m)\u001b[0m \u001b[1;33m+\u001b[0m \u001b[1;36m0.0\u001b[0m\u001b[1;33m\u001b[0m\u001b[0m\n\u001b[1;32m    552\u001b[0m \u001b[1;33m\u001b[0m\u001b[0m\n",
      "\u001b[0;31mTypeError\u001b[0m: unsupported operand type(s) for +: 'datetime.date' and 'float'"
     ]
    }
   ],
   "source": [
    "coefficients1 = np.polyfit(x,y,1)\n",
    "print (coefficients1)\n",
    "p = np.poly1d(coefficients1)"
   ]
  },
  {
   "cell_type": "code",
   "execution_count": 56,
   "metadata": {
    "collapsed": false
   },
   "outputs": [
    {
     "ename": "TypeError",
     "evalue": "unsupported operand type(s) for *: 'int' and 'datetime.date'",
     "output_type": "error",
     "traceback": [
      "\u001b[0;31m---------------------------------------------------------------------------\u001b[0m",
      "\u001b[0;31mTypeError\u001b[0m                                 Traceback (most recent call last)",
      "\u001b[0;32m<ipython-input-56-41c176219f05>\u001b[0m in \u001b[0;36m<module>\u001b[0;34m()\u001b[0m\n\u001b[1;32m      2\u001b[0m \u001b[0mplt\u001b[0m\u001b[1;33m.\u001b[0m\u001b[0mfigure\u001b[0m\u001b[1;33m(\u001b[0m\u001b[1;33m)\u001b[0m\u001b[1;33m\u001b[0m\u001b[0m\n\u001b[1;32m      3\u001b[0m \u001b[0max\u001b[0m\u001b[1;33m=\u001b[0m\u001b[0mnew4\u001b[0m\u001b[1;33m.\u001b[0m\u001b[0mplot\u001b[0m\u001b[1;33m(\u001b[0m\u001b[0mx\u001b[0m\u001b[1;33m=\u001b[0m\u001b[1;34m\"Date\"\u001b[0m\u001b[1;33m,\u001b[0m \u001b[0my\u001b[0m\u001b[1;33m=\u001b[0m\u001b[1;34m\"CPU_usage\"\u001b[0m\u001b[1;33m)\u001b[0m\u001b[1;33m\u001b[0m\u001b[0m\n\u001b[0;32m----> 4\u001b[0;31m \u001b[0mpylab\u001b[0m\u001b[1;33m.\u001b[0m\u001b[0mplot\u001b[0m\u001b[1;33m(\u001b[0m\u001b[0mnew4\u001b[0m\u001b[1;33m.\u001b[0m\u001b[0mas_matrix\u001b[0m\u001b[1;33m(\u001b[0m\u001b[1;33m[\u001b[0m\u001b[1;34m'Date'\u001b[0m\u001b[1;33m]\u001b[0m\u001b[1;33m)\u001b[0m\u001b[1;33m.\u001b[0m\u001b[0mflatten\u001b[0m\u001b[1;33m(\u001b[0m\u001b[1;33m)\u001b[0m\u001b[1;33m,\u001b[0m\u001b[0mp\u001b[0m\u001b[1;33m(\u001b[0m\u001b[0mnew4\u001b[0m\u001b[1;33m.\u001b[0m\u001b[0mas_matrix\u001b[0m\u001b[1;33m(\u001b[0m\u001b[1;33m[\u001b[0m\u001b[1;34m'Date'\u001b[0m\u001b[1;33m]\u001b[0m\u001b[1;33m)\u001b[0m\u001b[1;33m.\u001b[0m\u001b[0mflatten\u001b[0m\u001b[1;33m(\u001b[0m\u001b[1;33m)\u001b[0m\u001b[1;33m)\u001b[0m\u001b[1;33m,\u001b[0m\u001b[1;34m\"r--\"\u001b[0m\u001b[1;33m)\u001b[0m\u001b[1;33m\u001b[0m\u001b[0m\n\u001b[0m\u001b[1;32m      5\u001b[0m \u001b[0mpylab\u001b[0m\u001b[1;33m.\u001b[0m\u001b[0mshow\u001b[0m\u001b[1;33m(\u001b[0m\u001b[1;33m)\u001b[0m\u001b[1;33m\u001b[0m\u001b[0m\n",
      "\u001b[0;32mC:\\Users\\Home\\Anaconda3\\lib\\site-packages\\numpy\\lib\\polynomial.py\u001b[0m in \u001b[0;36m__call__\u001b[0;34m(self, val)\u001b[0m\n\u001b[1;32m   1136\u001b[0m \u001b[1;33m\u001b[0m\u001b[0m\n\u001b[1;32m   1137\u001b[0m     \u001b[1;32mdef\u001b[0m \u001b[0m__call__\u001b[0m\u001b[1;33m(\u001b[0m\u001b[0mself\u001b[0m\u001b[1;33m,\u001b[0m \u001b[0mval\u001b[0m\u001b[1;33m)\u001b[0m\u001b[1;33m:\u001b[0m\u001b[1;33m\u001b[0m\u001b[0m\n\u001b[0;32m-> 1138\u001b[0;31m         \u001b[1;32mreturn\u001b[0m \u001b[0mpolyval\u001b[0m\u001b[1;33m(\u001b[0m\u001b[0mself\u001b[0m\u001b[1;33m.\u001b[0m\u001b[0mcoeffs\u001b[0m\u001b[1;33m,\u001b[0m \u001b[0mval\u001b[0m\u001b[1;33m)\u001b[0m\u001b[1;33m\u001b[0m\u001b[0m\n\u001b[0m\u001b[1;32m   1139\u001b[0m \u001b[1;33m\u001b[0m\u001b[0m\n\u001b[1;32m   1140\u001b[0m     \u001b[1;32mdef\u001b[0m \u001b[0m__neg__\u001b[0m\u001b[1;33m(\u001b[0m\u001b[0mself\u001b[0m\u001b[1;33m)\u001b[0m\u001b[1;33m:\u001b[0m\u001b[1;33m\u001b[0m\u001b[0m\n",
      "\u001b[0;32mC:\\Users\\Home\\Anaconda3\\lib\\site-packages\\numpy\\lib\\polynomial.py\u001b[0m in \u001b[0;36mpolyval\u001b[0;34m(p, x)\u001b[0m\n\u001b[1;32m    679\u001b[0m         \u001b[0my\u001b[0m \u001b[1;33m=\u001b[0m \u001b[0mNX\u001b[0m\u001b[1;33m.\u001b[0m\u001b[0mzeros_like\u001b[0m\u001b[1;33m(\u001b[0m\u001b[0mx\u001b[0m\u001b[1;33m)\u001b[0m\u001b[1;33m\u001b[0m\u001b[0m\n\u001b[1;32m    680\u001b[0m     \u001b[1;32mfor\u001b[0m \u001b[0mi\u001b[0m \u001b[1;32min\u001b[0m \u001b[0mrange\u001b[0m\u001b[1;33m(\u001b[0m\u001b[0mlen\u001b[0m\u001b[1;33m(\u001b[0m\u001b[0mp\u001b[0m\u001b[1;33m)\u001b[0m\u001b[1;33m)\u001b[0m\u001b[1;33m:\u001b[0m\u001b[1;33m\u001b[0m\u001b[0m\n\u001b[0;32m--> 681\u001b[0;31m         \u001b[0my\u001b[0m \u001b[1;33m=\u001b[0m \u001b[0my\u001b[0m \u001b[1;33m*\u001b[0m \u001b[0mx\u001b[0m \u001b[1;33m+\u001b[0m \u001b[0mp\u001b[0m\u001b[1;33m[\u001b[0m\u001b[0mi\u001b[0m\u001b[1;33m]\u001b[0m\u001b[1;33m\u001b[0m\u001b[0m\n\u001b[0m\u001b[1;32m    682\u001b[0m     \u001b[1;32mreturn\u001b[0m \u001b[0my\u001b[0m\u001b[1;33m\u001b[0m\u001b[0m\n\u001b[1;32m    683\u001b[0m \u001b[1;33m\u001b[0m\u001b[0m\n",
      "\u001b[0;31mTypeError\u001b[0m: unsupported operand type(s) for *: 'int' and 'datetime.date'"
     ]
    }
   ],
   "source": [
    "import matplotlib.pylab as pylab\n",
    "plt.figure()\n",
    "ax=new4.plot(x=\"Date\", y=\"CPU_usage\")\n",
    "pylab.plot(new4.as_matrix(['Date']).flatten(),p(new4.as_matrix(['Date']).flatten()),\"r--\")\n",
    "pylab.show()"
   ]
  },
  {
   "cell_type": "code",
   "execution_count": null,
   "metadata": {
    "collapsed": true
   },
   "outputs": [],
   "source": []
  },
  {
   "cell_type": "code",
   "execution_count": null,
   "metadata": {
    "collapsed": true
   },
   "outputs": [],
   "source": []
  },
  {
   "cell_type": "code",
   "execution_count": null,
   "metadata": {
    "collapsed": true
   },
   "outputs": [],
   "source": []
  },
  {
   "cell_type": "code",
   "execution_count": null,
   "metadata": {
    "collapsed": true
   },
   "outputs": [],
   "source": []
  },
  {
   "cell_type": "code",
   "execution_count": null,
   "metadata": {
    "collapsed": true
   },
   "outputs": [],
   "source": []
  },
  {
   "cell_type": "code",
   "execution_count": null,
   "metadata": {
    "collapsed": true
   },
   "outputs": [],
   "source": []
  },
  {
   "cell_type": "code",
   "execution_count": 179,
   "metadata": {
    "collapsed": false
   },
   "outputs": [
    {
     "name": "stderr",
     "output_type": "stream",
     "text": [
      "C:\\Users\\Home\\Anaconda3\\lib\\site-packages\\matplotlib\\pyplot.py:524: RuntimeWarning: More than 20 figures have been opened. Figures created through the pyplot interface (`matplotlib.pyplot.figure`) are retained until explicitly closed and may consume too much memory. (To control this warning, see the rcParam `figure.max_open_warning`).\n",
      "  max_open_warning, RuntimeWarning)\n"
     ]
    }
   ],
   "source": [
    "#fig=plt.figure()\n",
    "tit=\"CPU Usage for \"\n",
    "ax=new4.plot(x='Date', y='CPU_usage', title=tit)\n",
    "ax.set_xlabel(\"x label\")\n",
    "plt.savefig('out.png', bbox_inches='tight')"
   ]
  },
  {
   "cell_type": "code",
   "execution_count": 145,
   "metadata": {
    "collapsed": false
   },
   "outputs": [
    {
     "name": "stderr",
     "output_type": "stream",
     "text": [
      "C:\\Users\\Home\\Anaconda3\\lib\\site-packages\\matplotlib\\pyplot.py:524: RuntimeWarning: More than 20 figures have been opened. Figures created through the pyplot interface (`matplotlib.pyplot.figure`) are retained until explicitly closed and may consume too much memory. (To control this warning, see the rcParam `figure.max_open_warning`).\n",
      "  max_open_warning, RuntimeWarning)\n"
     ]
    }
   ],
   "source": [
    "import os\n",
    "location = \"acc\"\n",
    "loc=\"C:\\Ankit\\out\"\n",
    "filepath= loc + \"\\\\\" + location + \"\\\\\"\n",
    "if not os.path.exists(filepath):\n",
    "    os.makedirs(filepath)\n",
    "new4.to_csv(filepath + \"\\cc.csv\")\n",
    "fig = plt.figure()\n",
    "new4.plot(x='Date', y='CPU_usage')\n",
    "plt.savefig(filepath+\"out.png\", bbox_inches='tight')"
   ]
  },
  {
   "cell_type": "code",
   "execution_count": 168,
   "metadata": {
    "collapsed": false
   },
   "outputs": [
    {
     "name": "stdout",
     "output_type": "stream",
     "text": [
      "183 3\n"
     ]
    }
   ],
   "source": [
    "x,y=new4.shape\n",
    "print (x,y)"
   ]
  },
  {
   "cell_type": "code",
   "execution_count": 161,
   "metadata": {
    "collapsed": false
   },
   "outputs": [
    {
     "data": {
      "text/plain": [
       "11"
      ]
     },
     "execution_count": 161,
     "metadata": {},
     "output_type": "execute_result"
    }
   ],
   "source": [
    "file = open(filepath+\"testfile.txt\",\"w\") \n",
    " \n",
    "file.write(\"Hello World\")  \n",
    "#file.close() "
   ]
  },
  {
   "cell_type": "code",
   "execution_count": 162,
   "metadata": {
    "collapsed": false
   },
   "outputs": [
    {
     "data": {
      "text/plain": [
       "3"
      ]
     },
     "execution_count": 162,
     "metadata": {},
     "output_type": "execute_result"
    }
   ],
   "source": [
    "file.write(\"aaa\")"
   ]
  },
  {
   "cell_type": "code",
   "execution_count": 163,
   "metadata": {
    "collapsed": false
   },
   "outputs": [
    {
     "data": {
      "text/plain": [
       "1"
      ]
     },
     "execution_count": 163,
     "metadata": {},
     "output_type": "execute_result"
    }
   ],
   "source": [
    "file.write(\"\\n\")"
   ]
  },
  {
   "cell_type": "code",
   "execution_count": 164,
   "metadata": {
    "collapsed": false
   },
   "outputs": [
    {
     "data": {
      "text/plain": [
       "8"
      ]
     },
     "execution_count": 164,
     "metadata": {},
     "output_type": "execute_result"
    }
   ],
   "source": [
    "file.write(str(new4.shape))"
   ]
  },
  {
   "cell_type": "code",
   "execution_count": 165,
   "metadata": {
    "collapsed": true
   },
   "outputs": [],
   "source": [
    "file.close()"
   ]
  },
  {
   "cell_type": "code",
   "execution_count": 17,
   "metadata": {
    "collapsed": true
   },
   "outputs": [],
   "source": [
    "esx_acc_all.drop(esx_acc_all.columns[[2, 3, 4, 5, 6]], axis=1, inplace=True)"
   ]
  },
  {
   "cell_type": "code",
   "execution_count": 27,
   "metadata": {
    "collapsed": false
   },
   "outputs": [
    {
     "name": "stderr",
     "output_type": "stream",
     "text": [
      "C:\\Users\\Home\\Anaconda3\\lib\\site-packages\\ipykernel\\__main__.py:1: UserWarning: This pattern has match groups. To actually get the groups, use str.extract.\n",
      "  if __name__ == '__main__':\n"
     ]
    }
   ],
   "source": [
    "esx_jun2016_all = esx_acc_all[esx_acc_all.esx_time.str.contains('(6|7|8|9|10|11)\\/[0-9]{1,2}\\/2016') > 0]"
   ]
  },
  {
   "cell_type": "code",
   "execution_count": 28,
   "metadata": {
    "collapsed": false
   },
   "outputs": [
    {
     "name": "stderr",
     "output_type": "stream",
     "text": [
      "C:\\Users\\Home\\Anaconda3\\lib\\site-packages\\ipykernel\\__main__.py:1: SettingWithCopyWarning: \n",
      "A value is trying to be set on a copy of a slice from a DataFrame.\n",
      "Try using .loc[row_indexer,col_indexer] = value instead\n",
      "\n",
      "See the caveats in the documentation: http://pandas.pydata.org/pandas-docs/stable/indexing.html#indexing-view-versus-copy\n",
      "  if __name__ == '__main__':\n"
     ]
    }
   ],
   "source": [
    "esx_jun2016_all['esx_time'] = esx_jun2016_all['esx_time'].apply(lambda x: str(x).replace(str(x)[-8:-3],'00:00'))"
   ]
  },
  {
   "cell_type": "code",
   "execution_count": 58,
   "metadata": {
    "collapsed": false
   },
   "outputs": [],
   "source": [
    "aa = esx_jun2016_all.groupby(['Esx_clust', 'Esx_host', 'esx_time'])"
   ]
  },
  {
   "cell_type": "code",
   "execution_count": 59,
   "metadata": {
    "collapsed": false
   },
   "outputs": [],
   "source": [
    "new = aa.agg({'CPU_usage':'max', 'RAM Used': 'max'})"
   ]
  },
  {
   "cell_type": "code",
   "execution_count": 60,
   "metadata": {
    "collapsed": false
   },
   "outputs": [
    {
     "data": {
      "text/html": [
       "<div>\n",
       "<table border=\"1\" class=\"dataframe\">\n",
       "  <thead>\n",
       "    <tr style=\"text-align: right;\">\n",
       "      <th></th>\n",
       "      <th></th>\n",
       "      <th></th>\n",
       "      <th>CPU_usage</th>\n",
       "      <th>RAM Used</th>\n",
       "    </tr>\n",
       "    <tr>\n",
       "      <th>Esx_clust</th>\n",
       "      <th>Esx_host</th>\n",
       "      <th>esx_time</th>\n",
       "      <th></th>\n",
       "      <th></th>\n",
       "    </tr>\n",
       "  </thead>\n",
       "  <tbody>\n",
       "    <tr>\n",
       "      <th rowspan=\"5\" valign=\"top\">ashacdc4e01p</th>\n",
       "      <th rowspan=\"5\" valign=\"top\">ashacdvm01p:c4e-internal.c4e.ops</th>\n",
       "      <th>10/1/2016 10:00:00 AM</th>\n",
       "      <td>16409.9200</td>\n",
       "      <td>167.054517</td>\n",
       "    </tr>\n",
       "    <tr>\n",
       "      <th>10/1/2016 10:00:00 PM</th>\n",
       "      <td>17817.7184</td>\n",
       "      <td>167.054517</td>\n",
       "    </tr>\n",
       "    <tr>\n",
       "      <th>10/1/2016 11:00:00 AM</th>\n",
       "      <td>17083.5904</td>\n",
       "      <td>167.054517</td>\n",
       "    </tr>\n",
       "    <tr>\n",
       "      <th>10/1/2016 11:00:00 PM</th>\n",
       "      <td>17921.3600</td>\n",
       "      <td>167.054517</td>\n",
       "    </tr>\n",
       "    <tr>\n",
       "      <th>10/1/2016 12:00:00 AM</th>\n",
       "      <td>17610.4352</td>\n",
       "      <td>167.054517</td>\n",
       "    </tr>\n",
       "  </tbody>\n",
       "</table>\n",
       "</div>"
      ],
      "text/plain": [
       "                                                                      CPU_usage  \\\n",
       "Esx_clust    Esx_host                         esx_time                            \n",
       "ashacdc4e01p ashacdvm01p:c4e-internal.c4e.ops 10/1/2016 10:00:00 AM  16409.9200   \n",
       "                                              10/1/2016 10:00:00 PM  17817.7184   \n",
       "                                              10/1/2016 11:00:00 AM  17083.5904   \n",
       "                                              10/1/2016 11:00:00 PM  17921.3600   \n",
       "                                              10/1/2016 12:00:00 AM  17610.4352   \n",
       "\n",
       "                                                                       RAM Used  \n",
       "Esx_clust    Esx_host                         esx_time                           \n",
       "ashacdc4e01p ashacdvm01p:c4e-internal.c4e.ops 10/1/2016 10:00:00 AM  167.054517  \n",
       "                                              10/1/2016 10:00:00 PM  167.054517  \n",
       "                                              10/1/2016 11:00:00 AM  167.054517  \n",
       "                                              10/1/2016 11:00:00 PM  167.054517  \n",
       "                                              10/1/2016 12:00:00 AM  167.054517  "
      ]
     },
     "execution_count": 60,
     "metadata": {},
     "output_type": "execute_result"
    }
   ],
   "source": [
    "new.head()"
   ]
  },
  {
   "cell_type": "code",
   "execution_count": 61,
   "metadata": {
    "collapsed": true
   },
   "outputs": [],
   "source": [
    "new = new.reset_index(level=['Esx_clust', 'Esx_host', 'esx_time'])"
   ]
  },
  {
   "cell_type": "code",
   "execution_count": 62,
   "metadata": {
    "collapsed": false
   },
   "outputs": [
    {
     "data": {
      "text/html": [
       "<div>\n",
       "<table border=\"1\" class=\"dataframe\">\n",
       "  <thead>\n",
       "    <tr style=\"text-align: right;\">\n",
       "      <th></th>\n",
       "      <th>Esx_clust</th>\n",
       "      <th>Esx_host</th>\n",
       "      <th>esx_time</th>\n",
       "      <th>CPU_usage</th>\n",
       "      <th>RAM Used</th>\n",
       "    </tr>\n",
       "  </thead>\n",
       "  <tbody>\n",
       "    <tr>\n",
       "      <th>0</th>\n",
       "      <td>ashacdc4e01p</td>\n",
       "      <td>ashacdvm01p:c4e-internal.c4e.ops</td>\n",
       "      <td>10/1/2016 10:00:00 AM</td>\n",
       "      <td>16409.9200</td>\n",
       "      <td>167.054517</td>\n",
       "    </tr>\n",
       "    <tr>\n",
       "      <th>1</th>\n",
       "      <td>ashacdc4e01p</td>\n",
       "      <td>ashacdvm01p:c4e-internal.c4e.ops</td>\n",
       "      <td>10/1/2016 10:00:00 PM</td>\n",
       "      <td>17817.7184</td>\n",
       "      <td>167.054517</td>\n",
       "    </tr>\n",
       "    <tr>\n",
       "      <th>2</th>\n",
       "      <td>ashacdc4e01p</td>\n",
       "      <td>ashacdvm01p:c4e-internal.c4e.ops</td>\n",
       "      <td>10/1/2016 11:00:00 AM</td>\n",
       "      <td>17083.5904</td>\n",
       "      <td>167.054517</td>\n",
       "    </tr>\n",
       "    <tr>\n",
       "      <th>3</th>\n",
       "      <td>ashacdc4e01p</td>\n",
       "      <td>ashacdvm01p:c4e-internal.c4e.ops</td>\n",
       "      <td>10/1/2016 11:00:00 PM</td>\n",
       "      <td>17921.3600</td>\n",
       "      <td>167.054517</td>\n",
       "    </tr>\n",
       "    <tr>\n",
       "      <th>4</th>\n",
       "      <td>ashacdc4e01p</td>\n",
       "      <td>ashacdvm01p:c4e-internal.c4e.ops</td>\n",
       "      <td>10/1/2016 12:00:00 AM</td>\n",
       "      <td>17610.4352</td>\n",
       "      <td>167.054517</td>\n",
       "    </tr>\n",
       "  </tbody>\n",
       "</table>\n",
       "</div>"
      ],
      "text/plain": [
       "      Esx_clust                          Esx_host               esx_time  \\\n",
       "0  ashacdc4e01p  ashacdvm01p:c4e-internal.c4e.ops  10/1/2016 10:00:00 AM   \n",
       "1  ashacdc4e01p  ashacdvm01p:c4e-internal.c4e.ops  10/1/2016 10:00:00 PM   \n",
       "2  ashacdc4e01p  ashacdvm01p:c4e-internal.c4e.ops  10/1/2016 11:00:00 AM   \n",
       "3  ashacdc4e01p  ashacdvm01p:c4e-internal.c4e.ops  10/1/2016 11:00:00 PM   \n",
       "4  ashacdc4e01p  ashacdvm01p:c4e-internal.c4e.ops  10/1/2016 12:00:00 AM   \n",
       "\n",
       "    CPU_usage    RAM Used  \n",
       "0  16409.9200  167.054517  \n",
       "1  17817.7184  167.054517  \n",
       "2  17083.5904  167.054517  \n",
       "3  17921.3600  167.054517  \n",
       "4  17610.4352  167.054517  "
      ]
     },
     "execution_count": 62,
     "metadata": {},
     "output_type": "execute_result"
    }
   ],
   "source": [
    "new.head()"
   ]
  },
  {
   "cell_type": "code",
   "execution_count": 100,
   "metadata": {
    "collapsed": true
   },
   "outputs": [],
   "source": [
    "new['Date'] = pd.to_datetime(new['esx_time'])\n",
    "#new['Date'] = new['Date'].dt.date"
   ]
  },
  {
   "cell_type": "code",
   "execution_count": 101,
   "metadata": {
    "collapsed": false
   },
   "outputs": [
    {
     "data": {
      "text/html": [
       "<div>\n",
       "<table border=\"1\" class=\"dataframe\">\n",
       "  <thead>\n",
       "    <tr style=\"text-align: right;\">\n",
       "      <th></th>\n",
       "      <th>Esx_clust</th>\n",
       "      <th>Esx_host</th>\n",
       "      <th>esx_time</th>\n",
       "      <th>CPU_usage</th>\n",
       "      <th>RAM Used</th>\n",
       "      <th>Date</th>\n",
       "    </tr>\n",
       "  </thead>\n",
       "  <tbody>\n",
       "    <tr>\n",
       "      <th>0</th>\n",
       "      <td>ashacdc4e01p</td>\n",
       "      <td>ashacdvm01p:c4e-internal.c4e.ops</td>\n",
       "      <td>10/1/2016 10:00:00 AM</td>\n",
       "      <td>16409.9200</td>\n",
       "      <td>167.054517</td>\n",
       "      <td>2016-10-01 10:00:00</td>\n",
       "    </tr>\n",
       "    <tr>\n",
       "      <th>1</th>\n",
       "      <td>ashacdc4e01p</td>\n",
       "      <td>ashacdvm01p:c4e-internal.c4e.ops</td>\n",
       "      <td>10/1/2016 10:00:00 PM</td>\n",
       "      <td>17817.7184</td>\n",
       "      <td>167.054517</td>\n",
       "      <td>2016-10-01 22:00:00</td>\n",
       "    </tr>\n",
       "    <tr>\n",
       "      <th>2</th>\n",
       "      <td>ashacdc4e01p</td>\n",
       "      <td>ashacdvm01p:c4e-internal.c4e.ops</td>\n",
       "      <td>10/1/2016 11:00:00 AM</td>\n",
       "      <td>17083.5904</td>\n",
       "      <td>167.054517</td>\n",
       "      <td>2016-10-01 11:00:00</td>\n",
       "    </tr>\n",
       "    <tr>\n",
       "      <th>3</th>\n",
       "      <td>ashacdc4e01p</td>\n",
       "      <td>ashacdvm01p:c4e-internal.c4e.ops</td>\n",
       "      <td>10/1/2016 11:00:00 PM</td>\n",
       "      <td>17921.3600</td>\n",
       "      <td>167.054517</td>\n",
       "      <td>2016-10-01 23:00:00</td>\n",
       "    </tr>\n",
       "    <tr>\n",
       "      <th>4</th>\n",
       "      <td>ashacdc4e01p</td>\n",
       "      <td>ashacdvm01p:c4e-internal.c4e.ops</td>\n",
       "      <td>10/1/2016 12:00:00 AM</td>\n",
       "      <td>17610.4352</td>\n",
       "      <td>167.054517</td>\n",
       "      <td>2016-10-01 00:00:00</td>\n",
       "    </tr>\n",
       "  </tbody>\n",
       "</table>\n",
       "</div>"
      ],
      "text/plain": [
       "      Esx_clust                          Esx_host               esx_time  \\\n",
       "0  ashacdc4e01p  ashacdvm01p:c4e-internal.c4e.ops  10/1/2016 10:00:00 AM   \n",
       "1  ashacdc4e01p  ashacdvm01p:c4e-internal.c4e.ops  10/1/2016 10:00:00 PM   \n",
       "2  ashacdc4e01p  ashacdvm01p:c4e-internal.c4e.ops  10/1/2016 11:00:00 AM   \n",
       "3  ashacdc4e01p  ashacdvm01p:c4e-internal.c4e.ops  10/1/2016 11:00:00 PM   \n",
       "4  ashacdc4e01p  ashacdvm01p:c4e-internal.c4e.ops  10/1/2016 12:00:00 AM   \n",
       "\n",
       "    CPU_usage    RAM Used                Date  \n",
       "0  16409.9200  167.054517 2016-10-01 10:00:00  \n",
       "1  17817.7184  167.054517 2016-10-01 22:00:00  \n",
       "2  17083.5904  167.054517 2016-10-01 11:00:00  \n",
       "3  17921.3600  167.054517 2016-10-01 23:00:00  \n",
       "4  17610.4352  167.054517 2016-10-01 00:00:00  "
      ]
     },
     "execution_count": 101,
     "metadata": {},
     "output_type": "execute_result"
    }
   ],
   "source": [
    "new.head()"
   ]
  },
  {
   "cell_type": "code",
   "execution_count": 103,
   "metadata": {
    "collapsed": false
   },
   "outputs": [
    {
     "data": {
      "text/plain": [
       "array(['ashacdvm01p:c4e-internal.c4e.ops',\n",
       "       'ashacdvm02p:c4e-internal.c4e.ops',\n",
       "       'ashacdvm03p:c4e-internal.c4e.ops',\n",
       "       'ashacdvm04p:c4e-internal.c4e.ops',\n",
       "       'ashacdvm05p:c4e-internal.c4e.ops'], dtype=object)"
      ]
     },
     "execution_count": 103,
     "metadata": {},
     "output_type": "execute_result"
    }
   ],
   "source": [
    "new.Esx_host.unique()"
   ]
  },
  {
   "cell_type": "code",
   "execution_count": 105,
   "metadata": {
    "collapsed": true
   },
   "outputs": [],
   "source": [
    "analysize = new.groupby(['Esx_host'])"
   ]
  },
  {
   "cell_type": "code",
   "execution_count": 107,
   "metadata": {
    "collapsed": false
   },
   "outputs": [
    {
     "data": {
      "text/html": [
       "<div>\n",
       "<table border=\"1\" class=\"dataframe\">\n",
       "  <thead>\n",
       "    <tr style=\"text-align: right;\">\n",
       "      <th></th>\n",
       "      <th>Esx_clust</th>\n",
       "      <th>esx_time</th>\n",
       "      <th>CPU_usage</th>\n",
       "      <th>RAM Used</th>\n",
       "      <th>Date</th>\n",
       "    </tr>\n",
       "    <tr>\n",
       "      <th>Esx_host</th>\n",
       "      <th></th>\n",
       "      <th></th>\n",
       "      <th></th>\n",
       "      <th></th>\n",
       "      <th></th>\n",
       "    </tr>\n",
       "  </thead>\n",
       "  <tbody>\n",
       "    <tr>\n",
       "      <th>ashacdvm01p:c4e-internal.c4e.ops</th>\n",
       "      <td>4353</td>\n",
       "      <td>4353</td>\n",
       "      <td>4353</td>\n",
       "      <td>4353</td>\n",
       "      <td>4353</td>\n",
       "    </tr>\n",
       "    <tr>\n",
       "      <th>ashacdvm02p:c4e-internal.c4e.ops</th>\n",
       "      <td>4354</td>\n",
       "      <td>4354</td>\n",
       "      <td>4354</td>\n",
       "      <td>4354</td>\n",
       "      <td>4354</td>\n",
       "    </tr>\n",
       "    <tr>\n",
       "      <th>ashacdvm03p:c4e-internal.c4e.ops</th>\n",
       "      <td>4354</td>\n",
       "      <td>4354</td>\n",
       "      <td>4354</td>\n",
       "      <td>4354</td>\n",
       "      <td>4354</td>\n",
       "    </tr>\n",
       "    <tr>\n",
       "      <th>ashacdvm04p:c4e-internal.c4e.ops</th>\n",
       "      <td>4353</td>\n",
       "      <td>4353</td>\n",
       "      <td>4353</td>\n",
       "      <td>4353</td>\n",
       "      <td>4353</td>\n",
       "    </tr>\n",
       "    <tr>\n",
       "      <th>ashacdvm05p:c4e-internal.c4e.ops</th>\n",
       "      <td>4354</td>\n",
       "      <td>4354</td>\n",
       "      <td>4354</td>\n",
       "      <td>4354</td>\n",
       "      <td>4354</td>\n",
       "    </tr>\n",
       "  </tbody>\n",
       "</table>\n",
       "</div>"
      ],
      "text/plain": [
       "                                  Esx_clust  esx_time  CPU_usage  RAM Used  \\\n",
       "Esx_host                                                                     \n",
       "ashacdvm01p:c4e-internal.c4e.ops       4353      4353       4353      4353   \n",
       "ashacdvm02p:c4e-internal.c4e.ops       4354      4354       4354      4354   \n",
       "ashacdvm03p:c4e-internal.c4e.ops       4354      4354       4354      4354   \n",
       "ashacdvm04p:c4e-internal.c4e.ops       4353      4353       4353      4353   \n",
       "ashacdvm05p:c4e-internal.c4e.ops       4354      4354       4354      4354   \n",
       "\n",
       "                                  Date  \n",
       "Esx_host                                \n",
       "ashacdvm01p:c4e-internal.c4e.ops  4353  \n",
       "ashacdvm02p:c4e-internal.c4e.ops  4354  \n",
       "ashacdvm03p:c4e-internal.c4e.ops  4354  \n",
       "ashacdvm04p:c4e-internal.c4e.ops  4353  \n",
       "ashacdvm05p:c4e-internal.c4e.ops  4354  "
      ]
     },
     "execution_count": 107,
     "metadata": {},
     "output_type": "execute_result"
    }
   ],
   "source": [
    "analysize.count()"
   ]
  },
  {
   "cell_type": "code",
   "execution_count": null,
   "metadata": {
    "collapsed": true
   },
   "outputs": [],
   "source": []
  },
  {
   "cell_type": "code",
   "execution_count": null,
   "metadata": {
    "collapsed": true
   },
   "outputs": [],
   "source": []
  },
  {
   "cell_type": "code",
   "execution_count": null,
   "metadata": {
    "collapsed": true
   },
   "outputs": [],
   "source": []
  },
  {
   "cell_type": "code",
   "execution_count": null,
   "metadata": {
    "collapsed": true
   },
   "outputs": [],
   "source": []
  },
  {
   "cell_type": "code",
   "execution_count": null,
   "metadata": {
    "collapsed": true
   },
   "outputs": [],
   "source": []
  },
  {
   "cell_type": "code",
   "execution_count": null,
   "metadata": {
    "collapsed": true
   },
   "outputs": [],
   "source": []
  },
  {
   "cell_type": "code",
   "execution_count": null,
   "metadata": {
    "collapsed": true
   },
   "outputs": [],
   "source": []
  },
  {
   "cell_type": "code",
   "execution_count": 111,
   "metadata": {
    "collapsed": false
   },
   "outputs": [],
   "source": [
    "new2 = new.groupby(['Date'])\n",
    "#may be remove esx_host from grouby here?\n",
    "new2 = new2.agg({'CPU_usage':'sum', 'RAM Used': 'sum'})"
   ]
  },
  {
   "cell_type": "code",
   "execution_count": 112,
   "metadata": {
    "collapsed": false
   },
   "outputs": [
    {
     "data": {
      "text/html": [
       "<div>\n",
       "<table border=\"1\" class=\"dataframe\">\n",
       "  <thead>\n",
       "    <tr style=\"text-align: right;\">\n",
       "      <th></th>\n",
       "      <th>CPU_usage</th>\n",
       "      <th>RAM Used</th>\n",
       "    </tr>\n",
       "    <tr>\n",
       "      <th>Date</th>\n",
       "      <th></th>\n",
       "      <th></th>\n",
       "    </tr>\n",
       "  </thead>\n",
       "  <tbody>\n",
       "    <tr>\n",
       "      <th>2016-06-01 00:00:00</th>\n",
       "      <td>83483.3088</td>\n",
       "      <td>1322.042382</td>\n",
       "    </tr>\n",
       "    <tr>\n",
       "      <th>2016-06-01 01:00:00</th>\n",
       "      <td>82775.0912</td>\n",
       "      <td>1327.046846</td>\n",
       "    </tr>\n",
       "    <tr>\n",
       "      <th>2016-06-01 02:00:00</th>\n",
       "      <td>80227.2352</td>\n",
       "      <td>1325.952521</td>\n",
       "    </tr>\n",
       "    <tr>\n",
       "      <th>2016-06-01 03:00:00</th>\n",
       "      <td>76107.4816</td>\n",
       "      <td>1324.371826</td>\n",
       "    </tr>\n",
       "    <tr>\n",
       "      <th>2016-06-01 04:00:00</th>\n",
       "      <td>75865.6512</td>\n",
       "      <td>1327.136442</td>\n",
       "    </tr>\n",
       "  </tbody>\n",
       "</table>\n",
       "</div>"
      ],
      "text/plain": [
       "                      CPU_usage     RAM Used\n",
       "Date                                        \n",
       "2016-06-01 00:00:00  83483.3088  1322.042382\n",
       "2016-06-01 01:00:00  82775.0912  1327.046846\n",
       "2016-06-01 02:00:00  80227.2352  1325.952521\n",
       "2016-06-01 03:00:00  76107.4816  1324.371826\n",
       "2016-06-01 04:00:00  75865.6512  1327.136442"
      ]
     },
     "execution_count": 112,
     "metadata": {},
     "output_type": "execute_result"
    }
   ],
   "source": [
    "new2.head()"
   ]
  },
  {
   "cell_type": "code",
   "execution_count": 114,
   "metadata": {
    "collapsed": false
   },
   "outputs": [],
   "source": [
    "new2 = new2.reset_index(level=['Date'])"
   ]
  },
  {
   "cell_type": "code",
   "execution_count": 115,
   "metadata": {
    "collapsed": false
   },
   "outputs": [
    {
     "data": {
      "text/plain": [
       "(4354, 3)"
      ]
     },
     "execution_count": 115,
     "metadata": {},
     "output_type": "execute_result"
    }
   ],
   "source": [
    "new2.shape"
   ]
  },
  {
   "cell_type": "code",
   "execution_count": null,
   "metadata": {
    "collapsed": true
   },
   "outputs": [],
   "source": []
  },
  {
   "cell_type": "code",
   "execution_count": null,
   "metadata": {
    "collapsed": true
   },
   "outputs": [],
   "source": []
  },
  {
   "cell_type": "code",
   "execution_count": null,
   "metadata": {
    "collapsed": true
   },
   "outputs": [],
   "source": []
  },
  {
   "cell_type": "code",
   "execution_count": 116,
   "metadata": {
    "collapsed": false
   },
   "outputs": [
    {
     "data": {
      "text/plain": [
       "(4354, 3)"
      ]
     },
     "execution_count": 116,
     "metadata": {},
     "output_type": "execute_result"
    }
   ],
   "source": [
    "new2.shape"
   ]
  },
  {
   "cell_type": "code",
   "execution_count": 69,
   "metadata": {
    "collapsed": false
   },
   "outputs": [
    {
     "data": {
      "text/html": [
       "<div>\n",
       "<table border=\"1\" class=\"dataframe\">\n",
       "  <thead>\n",
       "    <tr style=\"text-align: right;\">\n",
       "      <th></th>\n",
       "      <th>Esx_clust</th>\n",
       "      <th>Esx_host</th>\n",
       "      <th>Date</th>\n",
       "      <th>CPU_usage</th>\n",
       "      <th>RAM Used</th>\n",
       "    </tr>\n",
       "  </thead>\n",
       "  <tbody>\n",
       "    <tr>\n",
       "      <th>0</th>\n",
       "      <td>ashacdc4e01p</td>\n",
       "      <td>ashacdvm01p:c4e-internal.c4e.ops</td>\n",
       "      <td>2016-06-01 00:00:00</td>\n",
       "      <td>13240.2144</td>\n",
       "      <td>274.413794</td>\n",
       "    </tr>\n",
       "    <tr>\n",
       "      <th>1</th>\n",
       "      <td>ashacdc4e01p</td>\n",
       "      <td>ashacdvm01p:c4e-internal.c4e.ops</td>\n",
       "      <td>2016-06-01 01:00:00</td>\n",
       "      <td>13430.2240</td>\n",
       "      <td>274.413794</td>\n",
       "    </tr>\n",
       "    <tr>\n",
       "      <th>2</th>\n",
       "      <td>ashacdc4e01p</td>\n",
       "      <td>ashacdvm01p:c4e-internal.c4e.ops</td>\n",
       "      <td>2016-06-01 02:00:00</td>\n",
       "      <td>14069.3472</td>\n",
       "      <td>274.413794</td>\n",
       "    </tr>\n",
       "    <tr>\n",
       "      <th>3</th>\n",
       "      <td>ashacdc4e01p</td>\n",
       "      <td>ashacdvm01p:c4e-internal.c4e.ops</td>\n",
       "      <td>2016-06-01 03:00:00</td>\n",
       "      <td>11106.9248</td>\n",
       "      <td>274.413794</td>\n",
       "    </tr>\n",
       "    <tr>\n",
       "      <th>4</th>\n",
       "      <td>ashacdc4e01p</td>\n",
       "      <td>ashacdvm01p:c4e-internal.c4e.ops</td>\n",
       "      <td>2016-06-01 04:00:00</td>\n",
       "      <td>9655.9424</td>\n",
       "      <td>274.413794</td>\n",
       "    </tr>\n",
       "  </tbody>\n",
       "</table>\n",
       "</div>"
      ],
      "text/plain": [
       "      Esx_clust                          Esx_host                Date  \\\n",
       "0  ashacdc4e01p  ashacdvm01p:c4e-internal.c4e.ops 2016-06-01 00:00:00   \n",
       "1  ashacdc4e01p  ashacdvm01p:c4e-internal.c4e.ops 2016-06-01 01:00:00   \n",
       "2  ashacdc4e01p  ashacdvm01p:c4e-internal.c4e.ops 2016-06-01 02:00:00   \n",
       "3  ashacdc4e01p  ashacdvm01p:c4e-internal.c4e.ops 2016-06-01 03:00:00   \n",
       "4  ashacdc4e01p  ashacdvm01p:c4e-internal.c4e.ops 2016-06-01 04:00:00   \n",
       "\n",
       "    CPU_usage    RAM Used  \n",
       "0  13240.2144  274.413794  \n",
       "1  13430.2240  274.413794  \n",
       "2  14069.3472  274.413794  \n",
       "3  11106.9248  274.413794  \n",
       "4   9655.9424  274.413794  "
      ]
     },
     "execution_count": 69,
     "metadata": {},
     "output_type": "execute_result"
    }
   ],
   "source": [
    "new2.head()"
   ]
  },
  {
   "cell_type": "code",
   "execution_count": 117,
   "metadata": {
    "collapsed": true
   },
   "outputs": [],
   "source": [
    "new2['Date'] = new2['Date'].dt.date"
   ]
  },
  {
   "cell_type": "code",
   "execution_count": 118,
   "metadata": {
    "collapsed": false
   },
   "outputs": [
    {
     "data": {
      "text/html": [
       "<div>\n",
       "<table border=\"1\" class=\"dataframe\">\n",
       "  <thead>\n",
       "    <tr style=\"text-align: right;\">\n",
       "      <th></th>\n",
       "      <th>Date</th>\n",
       "      <th>CPU_usage</th>\n",
       "      <th>RAM Used</th>\n",
       "    </tr>\n",
       "  </thead>\n",
       "  <tbody>\n",
       "    <tr>\n",
       "      <th>0</th>\n",
       "      <td>2016-06-01</td>\n",
       "      <td>83483.3088</td>\n",
       "      <td>1322.042382</td>\n",
       "    </tr>\n",
       "    <tr>\n",
       "      <th>1</th>\n",
       "      <td>2016-06-01</td>\n",
       "      <td>82775.0912</td>\n",
       "      <td>1327.046846</td>\n",
       "    </tr>\n",
       "    <tr>\n",
       "      <th>2</th>\n",
       "      <td>2016-06-01</td>\n",
       "      <td>80227.2352</td>\n",
       "      <td>1325.952521</td>\n",
       "    </tr>\n",
       "    <tr>\n",
       "      <th>3</th>\n",
       "      <td>2016-06-01</td>\n",
       "      <td>76107.4816</td>\n",
       "      <td>1324.371826</td>\n",
       "    </tr>\n",
       "    <tr>\n",
       "      <th>4</th>\n",
       "      <td>2016-06-01</td>\n",
       "      <td>75865.6512</td>\n",
       "      <td>1327.136442</td>\n",
       "    </tr>\n",
       "  </tbody>\n",
       "</table>\n",
       "</div>"
      ],
      "text/plain": [
       "         Date   CPU_usage     RAM Used\n",
       "0  2016-06-01  83483.3088  1322.042382\n",
       "1  2016-06-01  82775.0912  1327.046846\n",
       "2  2016-06-01  80227.2352  1325.952521\n",
       "3  2016-06-01  76107.4816  1324.371826\n",
       "4  2016-06-01  75865.6512  1327.136442"
      ]
     },
     "execution_count": 118,
     "metadata": {},
     "output_type": "execute_result"
    }
   ],
   "source": [
    "new2.head()"
   ]
  },
  {
   "cell_type": "code",
   "execution_count": 119,
   "metadata": {
    "collapsed": false
   },
   "outputs": [],
   "source": [
    "new3 = new2.groupby(['Date'])\n",
    "new3 = new3.agg({'CPU_usage':'max', 'RAM Used': 'max'})"
   ]
  },
  {
   "cell_type": "code",
   "execution_count": 120,
   "metadata": {
    "collapsed": false
   },
   "outputs": [
    {
     "data": {
      "text/html": [
       "<div>\n",
       "<table border=\"1\" class=\"dataframe\">\n",
       "  <thead>\n",
       "    <tr style=\"text-align: right;\">\n",
       "      <th></th>\n",
       "      <th>CPU_usage</th>\n",
       "      <th>RAM Used</th>\n",
       "    </tr>\n",
       "    <tr>\n",
       "      <th>Date</th>\n",
       "      <th></th>\n",
       "      <th></th>\n",
       "    </tr>\n",
       "  </thead>\n",
       "  <tbody>\n",
       "    <tr>\n",
       "      <th>2016-06-01</th>\n",
       "      <td>138421.9936</td>\n",
       "      <td>1350.859649</td>\n",
       "    </tr>\n",
       "    <tr>\n",
       "      <th>2016-06-02</th>\n",
       "      <td>149166.1728</td>\n",
       "      <td>1351.493314</td>\n",
       "    </tr>\n",
       "    <tr>\n",
       "      <th>2016-06-03</th>\n",
       "      <td>159469.8752</td>\n",
       "      <td>1378.649846</td>\n",
       "    </tr>\n",
       "    <tr>\n",
       "      <th>2016-06-04</th>\n",
       "      <td>113038.4384</td>\n",
       "      <td>1326.211734</td>\n",
       "    </tr>\n",
       "    <tr>\n",
       "      <th>2016-06-05</th>\n",
       "      <td>167035.7120</td>\n",
       "      <td>1336.246268</td>\n",
       "    </tr>\n",
       "  </tbody>\n",
       "</table>\n",
       "</div>"
      ],
      "text/plain": [
       "              CPU_usage     RAM Used\n",
       "Date                                \n",
       "2016-06-01  138421.9936  1350.859649\n",
       "2016-06-02  149166.1728  1351.493314\n",
       "2016-06-03  159469.8752  1378.649846\n",
       "2016-06-04  113038.4384  1326.211734\n",
       "2016-06-05  167035.7120  1336.246268"
      ]
     },
     "execution_count": 120,
     "metadata": {},
     "output_type": "execute_result"
    }
   ],
   "source": [
    "new3.head()"
   ]
  },
  {
   "cell_type": "code",
   "execution_count": 121,
   "metadata": {
    "collapsed": false
   },
   "outputs": [
    {
     "data": {
      "text/plain": [
       "(183, 2)"
      ]
     },
     "execution_count": 121,
     "metadata": {},
     "output_type": "execute_result"
    }
   ],
   "source": [
    "new3.shape"
   ]
  },
  {
   "cell_type": "code",
   "execution_count": 122,
   "metadata": {
    "collapsed": true
   },
   "outputs": [],
   "source": [
    "new4=new3.reset_index(level=['Date'])"
   ]
  },
  {
   "cell_type": "code",
   "execution_count": null,
   "metadata": {
    "collapsed": true
   },
   "outputs": [],
   "source": []
  },
  {
   "cell_type": "code",
   "execution_count": 123,
   "metadata": {
    "collapsed": false
   },
   "outputs": [
    {
     "data": {
      "text/html": [
       "<div>\n",
       "<table border=\"1\" class=\"dataframe\">\n",
       "  <thead>\n",
       "    <tr style=\"text-align: right;\">\n",
       "      <th></th>\n",
       "      <th>Date</th>\n",
       "      <th>CPU_usage</th>\n",
       "      <th>RAM Used</th>\n",
       "    </tr>\n",
       "  </thead>\n",
       "  <tbody>\n",
       "    <tr>\n",
       "      <th>0</th>\n",
       "      <td>2016-06-01</td>\n",
       "      <td>138421.9936</td>\n",
       "      <td>1350.859649</td>\n",
       "    </tr>\n",
       "    <tr>\n",
       "      <th>1</th>\n",
       "      <td>2016-06-02</td>\n",
       "      <td>149166.1728</td>\n",
       "      <td>1351.493314</td>\n",
       "    </tr>\n",
       "    <tr>\n",
       "      <th>2</th>\n",
       "      <td>2016-06-03</td>\n",
       "      <td>159469.8752</td>\n",
       "      <td>1378.649846</td>\n",
       "    </tr>\n",
       "    <tr>\n",
       "      <th>3</th>\n",
       "      <td>2016-06-04</td>\n",
       "      <td>113038.4384</td>\n",
       "      <td>1326.211734</td>\n",
       "    </tr>\n",
       "    <tr>\n",
       "      <th>4</th>\n",
       "      <td>2016-06-05</td>\n",
       "      <td>167035.7120</td>\n",
       "      <td>1336.246268</td>\n",
       "    </tr>\n",
       "  </tbody>\n",
       "</table>\n",
       "</div>"
      ],
      "text/plain": [
       "         Date    CPU_usage     RAM Used\n",
       "0  2016-06-01  138421.9936  1350.859649\n",
       "1  2016-06-02  149166.1728  1351.493314\n",
       "2  2016-06-03  159469.8752  1378.649846\n",
       "3  2016-06-04  113038.4384  1326.211734\n",
       "4  2016-06-05  167035.7120  1336.246268"
      ]
     },
     "execution_count": 123,
     "metadata": {},
     "output_type": "execute_result"
    }
   ],
   "source": [
    "new4.head()"
   ]
  },
  {
   "cell_type": "code",
   "execution_count": 124,
   "metadata": {
    "collapsed": false
   },
   "outputs": [
    {
     "data": {
      "text/plain": [
       "<matplotlib.figure.Figure at 0x1d23d37cf98>"
      ]
     },
     "metadata": {},
     "output_type": "display_data"
    },
    {
     "data": {
      "image/png": "[encoded data removed]",
      "text/plain": [
       "<matplotlib.figure.Figure at 0x1d23d2cfba8>"
      ]
     },
     "metadata": {},
     "output_type": "display_data"
    }
   ],
   "source": [
    "plt.figure()\n",
    "new4.plot(x='Date', y='CPU_usage')\n",
    "plt.show()"
   ]
  },
  {
   "cell_type": "code",
   "execution_count": 125,
   "metadata": {
    "collapsed": false
   },
   "outputs": [
    {
     "data": {
      "text/plain": [
       "<matplotlib.figure.Figure at 0x1d236695b38>"
      ]
     },
     "metadata": {},
     "output_type": "display_data"
    },
    {
     "data": {
      "image/png": "[encoded data removed]",
      "text/plain": [
       "<matplotlib.figure.Figure at 0x1d23d2de240>"
      ]
     },
     "metadata": {},
     "output_type": "display_data"
    }
   ],
   "source": [
    "plt.figure()\n",
    "new4.plot(x='Date', y='RAM Used')\n",
    "plt.show()"
   ]
  },
  {
   "cell_type": "code",
   "execution_count": null,
   "metadata": {
    "collapsed": true
   },
   "outputs": [],
   "source": []
  },
  {
   "cell_type": "code",
   "execution_count": null,
   "metadata": {
    "collapsed": true
   },
   "outputs": [],
   "source": []
  },
  {
   "cell_type": "code",
   "execution_count": null,
   "metadata": {
    "collapsed": true
   },
   "outputs": [],
   "source": []
  },
  {
   "cell_type": "code",
   "execution_count": null,
   "metadata": {
    "collapsed": true
   },
   "outputs": [],
   "source": []
  },
  {
   "cell_type": "code",
   "execution_count": null,
   "metadata": {
    "collapsed": true
   },
   "outputs": [],
   "source": []
  },
  {
   "cell_type": "code",
   "execution_count": 87,
   "metadata": {
    "collapsed": true
   },
   "outputs": [],
   "source": [
    "temp2 = pd.DataFrame()"
   ]
  },
  {
   "cell_type": "code",
   "execution_count": 88,
   "metadata": {
    "collapsed": false
   },
   "outputs": [],
   "source": [
    "temp2['Date'] = new4['Date']"
   ]
  },
  {
   "cell_type": "code",
   "execution_count": 89,
   "metadata": {
    "collapsed": false
   },
   "outputs": [
    {
     "data": {
      "text/html": [
       "<div>\n",
       "<table border=\"1\" class=\"dataframe\">\n",
       "  <thead>\n",
       "    <tr style=\"text-align: right;\">\n",
       "      <th></th>\n",
       "      <th></th>\n",
       "      <th>Date</th>\n",
       "    </tr>\n",
       "    <tr>\n",
       "      <th>Esx_clust</th>\n",
       "      <th>Esx_host</th>\n",
       "      <th></th>\n",
       "    </tr>\n",
       "  </thead>\n",
       "  <tbody>\n",
       "    <tr>\n",
       "      <th rowspan=\"5\" valign=\"top\">ashacdc4e01p</th>\n",
       "      <th>ashacdvm01p:c4e-internal.c4e.ops</th>\n",
       "      <td>2016-06-01</td>\n",
       "    </tr>\n",
       "    <tr>\n",
       "      <th>ashacdvm01p:c4e-internal.c4e.ops</th>\n",
       "      <td>2016-06-02</td>\n",
       "    </tr>\n",
       "    <tr>\n",
       "      <th>ashacdvm01p:c4e-internal.c4e.ops</th>\n",
       "      <td>2016-06-03</td>\n",
       "    </tr>\n",
       "    <tr>\n",
       "      <th>ashacdvm01p:c4e-internal.c4e.ops</th>\n",
       "      <td>2016-06-04</td>\n",
       "    </tr>\n",
       "    <tr>\n",
       "      <th>ashacdvm01p:c4e-internal.c4e.ops</th>\n",
       "      <td>2016-06-05</td>\n",
       "    </tr>\n",
       "  </tbody>\n",
       "</table>\n",
       "</div>"
      ],
      "text/plain": [
       "                                                     Date\n",
       "Esx_clust    Esx_host                                    \n",
       "ashacdc4e01p ashacdvm01p:c4e-internal.c4e.ops  2016-06-01\n",
       "             ashacdvm01p:c4e-internal.c4e.ops  2016-06-02\n",
       "             ashacdvm01p:c4e-internal.c4e.ops  2016-06-03\n",
       "             ashacdvm01p:c4e-internal.c4e.ops  2016-06-04\n",
       "             ashacdvm01p:c4e-internal.c4e.ops  2016-06-05"
      ]
     },
     "execution_count": 89,
     "metadata": {},
     "output_type": "execute_result"
    }
   ],
   "source": [
    "temp2.head()"
   ]
  },
  {
   "cell_type": "code",
   "execution_count": 92,
   "metadata": {
    "collapsed": true
   },
   "outputs": [],
   "source": [
    "temp2['RAM_used'] = new4['RAM Used']"
   ]
  },
  {
   "cell_type": "code",
   "execution_count": 93,
   "metadata": {
    "collapsed": true
   },
   "outputs": [],
   "source": [
    "temp2['CPU'] = new4['CPU_usage']"
   ]
  },
  {
   "cell_type": "code",
   "execution_count": 94,
   "metadata": {
    "collapsed": false
   },
   "outputs": [
    {
     "data": {
      "text/html": [
       "<div>\n",
       "<table border=\"1\" class=\"dataframe\">\n",
       "  <thead>\n",
       "    <tr style=\"text-align: right;\">\n",
       "      <th></th>\n",
       "      <th></th>\n",
       "      <th>Date</th>\n",
       "      <th>RAM_used</th>\n",
       "      <th>CPU</th>\n",
       "    </tr>\n",
       "    <tr>\n",
       "      <th>Esx_clust</th>\n",
       "      <th>Esx_host</th>\n",
       "      <th></th>\n",
       "      <th></th>\n",
       "      <th></th>\n",
       "    </tr>\n",
       "  </thead>\n",
       "  <tbody>\n",
       "    <tr>\n",
       "      <th rowspan=\"5\" valign=\"top\">ashacdc4e01p</th>\n",
       "      <th>ashacdvm01p:c4e-internal.c4e.ops</th>\n",
       "      <td>2016-06-01</td>\n",
       "      <td>274.413794</td>\n",
       "      <td>26981.3632</td>\n",
       "    </tr>\n",
       "    <tr>\n",
       "      <th>ashacdvm01p:c4e-internal.c4e.ops</th>\n",
       "      <td>2016-06-02</td>\n",
       "      <td>282.451661</td>\n",
       "      <td>25936.3104</td>\n",
       "    </tr>\n",
       "    <tr>\n",
       "      <th>ashacdvm01p:c4e-internal.c4e.ops</th>\n",
       "      <td>2016-06-03</td>\n",
       "      <td>282.451661</td>\n",
       "      <td>32154.8064</td>\n",
       "    </tr>\n",
       "    <tr>\n",
       "      <th>ashacdvm01p:c4e-internal.c4e.ops</th>\n",
       "      <td>2016-06-04</td>\n",
       "      <td>282.451661</td>\n",
       "      <td>17860.9024</td>\n",
       "    </tr>\n",
       "    <tr>\n",
       "      <th>ashacdvm01p:c4e-internal.c4e.ops</th>\n",
       "      <td>2016-06-05</td>\n",
       "      <td>282.451661</td>\n",
       "      <td>36913.6832</td>\n",
       "    </tr>\n",
       "  </tbody>\n",
       "</table>\n",
       "</div>"
      ],
      "text/plain": [
       "                                                     Date    RAM_used  \\\n",
       "Esx_clust    Esx_host                                                   \n",
       "ashacdc4e01p ashacdvm01p:c4e-internal.c4e.ops  2016-06-01  274.413794   \n",
       "             ashacdvm01p:c4e-internal.c4e.ops  2016-06-02  282.451661   \n",
       "             ashacdvm01p:c4e-internal.c4e.ops  2016-06-03  282.451661   \n",
       "             ashacdvm01p:c4e-internal.c4e.ops  2016-06-04  282.451661   \n",
       "             ashacdvm01p:c4e-internal.c4e.ops  2016-06-05  282.451661   \n",
       "\n",
       "                                                      CPU  \n",
       "Esx_clust    Esx_host                                      \n",
       "ashacdc4e01p ashacdvm01p:c4e-internal.c4e.ops  26981.3632  \n",
       "             ashacdvm01p:c4e-internal.c4e.ops  25936.3104  \n",
       "             ashacdvm01p:c4e-internal.c4e.ops  32154.8064  \n",
       "             ashacdvm01p:c4e-internal.c4e.ops  17860.9024  \n",
       "             ashacdvm01p:c4e-internal.c4e.ops  36913.6832  "
      ]
     },
     "execution_count": 94,
     "metadata": {},
     "output_type": "execute_result"
    }
   ],
   "source": [
    "temp2.head()"
   ]
  },
  {
   "cell_type": "code",
   "execution_count": 99,
   "metadata": {
    "collapsed": false
   },
   "outputs": [
    {
     "data": {
      "text/plain": [
       "915"
      ]
     },
     "execution_count": 99,
     "metadata": {},
     "output_type": "execute_result"
    }
   ],
   "source": [
    "ts=temp2['RAM_used']\n",
    "ts.size"
   ]
  },
  {
   "cell_type": "code",
   "execution_count": 98,
   "metadata": {
    "collapsed": false
   },
   "outputs": [
    {
     "data": {
      "text/plain": [
       "<matplotlib.figure.Figure at 0x1d23d31f588>"
      ]
     },
     "metadata": {},
     "output_type": "display_data"
    },
    {
     "data": {
      "image/png": "[encoded data removed]",
      "text/plain": [
       "<matplotlib.figure.Figure at 0x1d23d348710>"
      ]
     },
     "metadata": {},
     "output_type": "display_data"
    }
   ],
   "source": [
    "plt.figure()\n",
    "ts.plot()\n",
    "plt.show()"
   ]
  },
  {
   "cell_type": "code",
   "execution_count": 54,
   "metadata": {
    "collapsed": false
   },
   "outputs": [
    {
     "data": {
      "text/html": [
       "<div>\n",
       "<table border=\"1\" class=\"dataframe\">\n",
       "  <thead>\n",
       "    <tr style=\"text-align: right;\">\n",
       "      <th></th>\n",
       "      <th></th>\n",
       "      <th></th>\n",
       "      <th>CPU_usage</th>\n",
       "      <th>RAM Used</th>\n",
       "    </tr>\n",
       "    <tr>\n",
       "      <th>Esx_clust</th>\n",
       "      <th>Esx_host</th>\n",
       "      <th>Date</th>\n",
       "      <th></th>\n",
       "      <th></th>\n",
       "    </tr>\n",
       "  </thead>\n",
       "  <tbody>\n",
       "    <tr>\n",
       "      <th rowspan=\"5\" valign=\"top\">ashacdc4e01p</th>\n",
       "      <th rowspan=\"5\" valign=\"top\">ashacdvm01p:c4e-internal.c4e.ops</th>\n",
       "      <th>2016-06-01 00:00:00</th>\n",
       "      <td>13240.2144</td>\n",
       "      <td>274.413794</td>\n",
       "    </tr>\n",
       "    <tr>\n",
       "      <th>2016-06-01 01:00:00</th>\n",
       "      <td>13430.2240</td>\n",
       "      <td>274.413794</td>\n",
       "    </tr>\n",
       "    <tr>\n",
       "      <th>2016-06-01 02:00:00</th>\n",
       "      <td>14069.3472</td>\n",
       "      <td>274.413794</td>\n",
       "    </tr>\n",
       "    <tr>\n",
       "      <th>2016-06-01 03:00:00</th>\n",
       "      <td>11106.9248</td>\n",
       "      <td>274.413794</td>\n",
       "    </tr>\n",
       "    <tr>\n",
       "      <th>2016-06-01 04:00:00</th>\n",
       "      <td>9655.9424</td>\n",
       "      <td>274.413794</td>\n",
       "    </tr>\n",
       "  </tbody>\n",
       "</table>\n",
       "</div>"
      ],
      "text/plain": [
       "                                                                    CPU_usage  \\\n",
       "Esx_clust    Esx_host                         Date                              \n",
       "ashacdc4e01p ashacdvm01p:c4e-internal.c4e.ops 2016-06-01 00:00:00  13240.2144   \n",
       "                                              2016-06-01 01:00:00  13430.2240   \n",
       "                                              2016-06-01 02:00:00  14069.3472   \n",
       "                                              2016-06-01 03:00:00  11106.9248   \n",
       "                                              2016-06-01 04:00:00   9655.9424   \n",
       "\n",
       "                                                                     RAM Used  \n",
       "Esx_clust    Esx_host                         Date                             \n",
       "ashacdc4e01p ashacdvm01p:c4e-internal.c4e.ops 2016-06-01 00:00:00  274.413794  \n",
       "                                              2016-06-01 01:00:00  274.413794  \n",
       "                                              2016-06-01 02:00:00  274.413794  \n",
       "                                              2016-06-01 03:00:00  274.413794  \n",
       "                                              2016-06-01 04:00:00  274.413794  "
      ]
     },
     "execution_count": 54,
     "metadata": {},
     "output_type": "execute_result"
    }
   ],
   "source": [
    "new2.head()"
   ]
  },
  {
   "cell_type": "code",
   "execution_count": null,
   "metadata": {
    "collapsed": true
   },
   "outputs": [],
   "source": []
  },
  {
   "cell_type": "code",
   "execution_count": null,
   "metadata": {
    "collapsed": true
   },
   "outputs": [],
   "source": []
  },
  {
   "cell_type": "code",
   "execution_count": null,
   "metadata": {
    "collapsed": true
   },
   "outputs": [],
   "source": [
    "\n",
    "        \n",
    "        esx_jun2016_all['Date'] = pd.to_datetime(esx_jun2016_all['esx_time'])\n",
    "        esx_jun2016_all['Date'] = esx_jun2016_all['Date'].dt.date\n",
    "        esx_jun2016_GB_graph_tier = esx_jun2016_all.groupby(['Esx_clust', 'Esx_host', 'Date'])\n",
    "        new_esx = esx_jun2016_GB_graph_tier.agg({'CPU_usage':'max', 'RAM Used':'max'})\n",
    "        new_esx.reset_index(level=2, inplace=True)\n",
    "        new_esx.reset_index(level=1, inplace=True)\n",
    "        new_esx.drop(new_esx.columns[[0]], axis=1, inplace=True)\n",
    "        "
   ]
  },
  {
   "cell_type": "code",
   "execution_count": 4,
   "metadata": {
    "collapsed": false
   },
   "outputs": [
    {
     "data": {
      "text/html": [
       "<div>\n",
       "<table border=\"1\" class=\"dataframe\">\n",
       "  <thead>\n",
       "    <tr style=\"text-align: right;\">\n",
       "      <th></th>\n",
       "      <th>Esx_clust</th>\n",
       "      <th>Esx_host</th>\n",
       "      <th>esx_totmhz</th>\n",
       "      <th>esx_insram</th>\n",
       "      <th>esx_cpu</th>\n",
       "      <th>esx_ram</th>\n",
       "      <th>esx_loc</th>\n",
       "      <th>esx_time</th>\n",
       "      <th>CPU_usage</th>\n",
       "      <th>RAM Used</th>\n",
       "    </tr>\n",
       "  </thead>\n",
       "  <tbody>\n",
       "    <tr>\n",
       "      <th>0</th>\n",
       "      <td>sydblfrc4e01p</td>\n",
       "      <td>sydblfrvm01p:c4e-internal.c4e.ops</td>\n",
       "      <td>86368.0</td>\n",
       "      <td>511.966034</td>\n",
       "      <td>21.07</td>\n",
       "      <td>47.68</td>\n",
       "      <td>als</td>\n",
       "      <td>9/10/2016 10:05:00 AM</td>\n",
       "      <td>18197.7376</td>\n",
       "      <td>244.105405</td>\n",
       "    </tr>\n",
       "    <tr>\n",
       "      <th>1</th>\n",
       "      <td>sydblfrc4e01p</td>\n",
       "      <td>sydblfrvm01p:c4e-internal.c4e.ops</td>\n",
       "      <td>86368.0</td>\n",
       "      <td>511.966034</td>\n",
       "      <td>19.48</td>\n",
       "      <td>47.68</td>\n",
       "      <td>als</td>\n",
       "      <td>9/10/2016 10:15:00 PM</td>\n",
       "      <td>16824.4864</td>\n",
       "      <td>244.105405</td>\n",
       "    </tr>\n",
       "    <tr>\n",
       "      <th>2</th>\n",
       "      <td>sydblfrc4e01p</td>\n",
       "      <td>sydblfrvm01p:c4e-internal.c4e.ops</td>\n",
       "      <td>86368.0</td>\n",
       "      <td>511.966034</td>\n",
       "      <td>18.43</td>\n",
       "      <td>47.68</td>\n",
       "      <td>als</td>\n",
       "      <td>9/10/2016 10:20:00 PM</td>\n",
       "      <td>15917.6224</td>\n",
       "      <td>244.105405</td>\n",
       "    </tr>\n",
       "    <tr>\n",
       "      <th>3</th>\n",
       "      <td>sydblfrc4e01p</td>\n",
       "      <td>sydblfrvm01p:c4e-internal.c4e.ops</td>\n",
       "      <td>86368.0</td>\n",
       "      <td>511.966034</td>\n",
       "      <td>19.05</td>\n",
       "      <td>47.68</td>\n",
       "      <td>als</td>\n",
       "      <td>9/10/2016 10:25:00 PM</td>\n",
       "      <td>16453.1040</td>\n",
       "      <td>244.105405</td>\n",
       "    </tr>\n",
       "    <tr>\n",
       "      <th>4</th>\n",
       "      <td>sydblfrc4e01p</td>\n",
       "      <td>sydblfrvm01p:c4e-internal.c4e.ops</td>\n",
       "      <td>86368.0</td>\n",
       "      <td>511.966034</td>\n",
       "      <td>18.98</td>\n",
       "      <td>47.68</td>\n",
       "      <td>als</td>\n",
       "      <td>9/10/2016 10:30:00 PM</td>\n",
       "      <td>16392.6464</td>\n",
       "      <td>244.105405</td>\n",
       "    </tr>\n",
       "  </tbody>\n",
       "</table>\n",
       "</div>"
      ],
      "text/plain": [
       "       Esx_clust                           Esx_host  esx_totmhz  esx_insram  \\\n",
       "0  sydblfrc4e01p  sydblfrvm01p:c4e-internal.c4e.ops     86368.0  511.966034   \n",
       "1  sydblfrc4e01p  sydblfrvm01p:c4e-internal.c4e.ops     86368.0  511.966034   \n",
       "2  sydblfrc4e01p  sydblfrvm01p:c4e-internal.c4e.ops     86368.0  511.966034   \n",
       "3  sydblfrc4e01p  sydblfrvm01p:c4e-internal.c4e.ops     86368.0  511.966034   \n",
       "4  sydblfrc4e01p  sydblfrvm01p:c4e-internal.c4e.ops     86368.0  511.966034   \n",
       "\n",
       "   esx_cpu  esx_ram esx_loc               esx_time   CPU_usage    RAM Used  \n",
       "0    21.07    47.68     als  9/10/2016 10:05:00 AM  18197.7376  244.105405  \n",
       "1    19.48    47.68     als  9/10/2016 10:15:00 PM  16824.4864  244.105405  \n",
       "2    18.43    47.68     als  9/10/2016 10:20:00 PM  15917.6224  244.105405  \n",
       "3    19.05    47.68     als  9/10/2016 10:25:00 PM  16453.1040  244.105405  \n",
       "4    18.98    47.68     als  9/10/2016 10:30:00 PM  16392.6464  244.105405  "
      ]
     },
     "execution_count": 4,
     "metadata": {},
     "output_type": "execute_result"
    }
   ],
   "source": [
    "esx_acc_all.head()"
   ]
  },
  {
   "cell_type": "code",
   "execution_count": 96,
   "metadata": {
    "collapsed": false
   },
   "outputs": [
    {
     "name": "stderr",
     "output_type": "stream",
     "text": [
      "C:\\Users\\Home\\Anaconda3\\lib\\site-packages\\ipykernel\\__main__.py:4: SettingWithCopyWarning: \n",
      "A value is trying to be set on a copy of a slice from a DataFrame.\n",
      "Try using .loc[row_indexer,col_indexer] = value instead\n",
      "\n",
      "See the caveats in the documentation: http://pandas.pydata.org/pandas-docs/stable/indexing.html#indexing-view-versus-copy\n",
      "C:\\Users\\Home\\Anaconda3\\lib\\site-packages\\ipykernel\\__main__.py:5: SettingWithCopyWarning: \n",
      "A value is trying to be set on a copy of a slice from a DataFrame.\n",
      "Try using .loc[row_indexer,col_indexer] = value instead\n",
      "\n",
      "See the caveats in the documentation: http://pandas.pydata.org/pandas-docs/stable/indexing.html#indexing-view-versus-copy\n"
     ]
    }
   ],
   "source": [
    "esx_acc_all.drop(esx_acc_all.columns[[2, 3, 4, 5, 6]], axis=1, inplace=True)\n",
    "#esx_acc_all['esx_time'] = esx_acc_all['esx_time'].apply(lambda x: str(x).replace(str(x)[-8:-3],'00:00'))\n",
    "esx_jun2016_all = esx_acc_all[esx_acc_all.esx_time.str.contains(\"6\\/[0-9][0-9]\\/2016\") > 0]\n",
    "esx_jun2016_all['Date'] = pd.to_datetime(esx_jun2016_all['esx_time'])\n",
    "esx_jun2016_all['Date'] = esx_jun2016_all['Date'].dt.date\n",
    "esx_jun2016_GB_graph_tier = esx_jun2016_all.groupby(['Esx_clust', 'Esx_host', 'Date'])        "
   ]
  },
  {
   "cell_type": "code",
   "execution_count": 97,
   "metadata": {
    "collapsed": false
   },
   "outputs": [
    {
     "data": {
      "text/plain": [
       "9676    2016-06-10\n",
       "9677    2016-06-10\n",
       "9678    2016-06-10\n",
       "9679    2016-06-10\n",
       "9680    2016-06-10\n",
       "Name: Date, dtype: object"
      ]
     },
     "execution_count": 97,
     "metadata": {},
     "output_type": "execute_result"
    }
   ],
   "source": [
    "esx_jun2016_all['Date'].head()"
   ]
  },
  {
   "cell_type": "code",
   "execution_count": 51,
   "metadata": {
    "collapsed": false
   },
   "outputs": [],
   "source": [
    "new_esx = esx_jun2016_GB_graph_tier.agg({'CPU_usage':'max', 'RAM Used':'max'})\n",
    "new_esx.reset_index(level=2, inplace=True)\n",
    "new_esx.reset_index(level=1, inplace=True)\n",
    "new_esx.drop(new_esx.columns[[0]], axis=1, inplace=True)"
   ]
  },
  {
   "cell_type": "code",
   "execution_count": 52,
   "metadata": {
    "collapsed": true
   },
   "outputs": [],
   "source": [
    "esx_Graph = new_esx.groupby(['Date']).sum()\n",
    "temp=esx_Graph.reset_index(level=['Date'])\n",
    "temp2=pd.DataFrame()\n",
    "temp2['Date']=temp['Date']\n",
    "temp2['RAM_Used']=temp['RAM Used']\n",
    "        "
   ]
  },
  {
   "cell_type": "code",
   "execution_count": 53,
   "metadata": {
    "collapsed": true
   },
   "outputs": [],
   "source": [
    "temp2 = temp2.set_index('Date')\n",
    "ts=(temp2['RAM_Used'])        "
   ]
  },
  {
   "cell_type": "code",
   "execution_count": 61,
   "metadata": {
    "collapsed": false
   },
   "outputs": [
    {
     "data": {
      "image/png": "[encoded data removed]",
      "text/plain": [
       "<matplotlib.figure.Figure at 0x2582e2e8400>"
      ]
     },
     "metadata": {},
     "output_type": "display_data"
    }
   ],
   "source": [
    "fig, ax = plt.subplots(2,5)\n",
    "ax[0,0].plot(ts)\n",
    "plt.show()"
   ]
  },
  {
   "cell_type": "code",
   "execution_count": 58,
   "metadata": {
    "collapsed": false
   },
   "outputs": [
    {
     "ename": "IndexError",
     "evalue": "too many indices for array",
     "output_type": "error",
     "traceback": [
      "\u001b[0;31m---------------------------------------------------------------------------\u001b[0m",
      "\u001b[0;31mIndexError\u001b[0m                                Traceback (most recent call last)",
      "\u001b[0;32m<ipython-input-58-7a0a3d6c77b6>\u001b[0m in \u001b[0;36m<module>\u001b[0;34m()\u001b[0m\n\u001b[1;32m      3\u001b[0m \u001b[0mn\u001b[0m\u001b[1;33m=\u001b[0m\u001b[1;36m0\u001b[0m\u001b[1;33m\u001b[0m\u001b[0m\n\u001b[1;32m      4\u001b[0m \u001b[0mplt\u001b[0m\u001b[1;33m.\u001b[0m\u001b[0mfigure\u001b[0m\u001b[1;33m(\u001b[0m\u001b[1;33m)\u001b[0m\u001b[1;33m\u001b[0m\u001b[0m\n\u001b[0;32m----> 5\u001b[0;31m \u001b[0max\u001b[0m\u001b[1;33m[\u001b[0m\u001b[0mm\u001b[0m\u001b[1;33m,\u001b[0m\u001b[0mn\u001b[0m\u001b[1;33m]\u001b[0m\u001b[1;33m.\u001b[0m\u001b[0mplot\u001b[0m\u001b[1;33m(\u001b[0m\u001b[0mts\u001b[0m\u001b[1;33m)\u001b[0m\u001b[1;33m\u001b[0m\u001b[0m\n\u001b[0m\u001b[1;32m      6\u001b[0m \u001b[0max\u001b[0m\u001b[1;33m[\u001b[0m\u001b[0mm\u001b[0m\u001b[1;33m,\u001b[0m\u001b[0mn\u001b[0m\u001b[1;33m]\u001b[0m\u001b[1;33m.\u001b[0m\u001b[0mset_title\u001b[0m\u001b[1;33m(\u001b[0m\u001b[0mlocation\u001b[0m\u001b[1;33m)\u001b[0m\u001b[1;33m\u001b[0m\u001b[0m\n\u001b[1;32m      7\u001b[0m \u001b[0max\u001b[0m\u001b[1;33m[\u001b[0m\u001b[0mm\u001b[0m\u001b[1;33m,\u001b[0m\u001b[0mn\u001b[0m\u001b[1;33m]\u001b[0m\u001b[1;33m.\u001b[0m\u001b[0maxes\u001b[0m\u001b[1;33m.\u001b[0m\u001b[0mget_xaxis\u001b[0m\u001b[1;33m(\u001b[0m\u001b[1;33m)\u001b[0m\u001b[1;33m.\u001b[0m\u001b[0mset_visible\u001b[0m\u001b[1;33m(\u001b[0m\u001b[1;32mFalse\u001b[0m\u001b[1;33m)\u001b[0m\u001b[1;33m\u001b[0m\u001b[0m\n",
      "\u001b[0;31mIndexError\u001b[0m: too many indices for array"
     ]
    }
   ],
   "source": [
    "fig1, ax = plt.subplots(1,5)\n",
    "m=0\n",
    "n=0\n",
    "ax[m,n].plot(ts)\n",
    "# ax[m,n].set_title(location)\n",
    "# ax[m,n].axes.get_xaxis().set_visible(False)\n",
    "# ax[m,n].axes.get_yaxis().set_visible(False)\n",
    "plt.show()"
   ]
  },
  {
   "cell_type": "code",
   "execution_count": 33,
   "metadata": {
    "collapsed": false
   },
   "outputs": [
    {
     "data": {
      "text/html": [
       "<div>\n",
       "<table border=\"1\" class=\"dataframe\">\n",
       "  <thead>\n",
       "    <tr style=\"text-align: right;\">\n",
       "      <th></th>\n",
       "      <th>Esx_clust</th>\n",
       "      <th>Esx_host</th>\n",
       "      <th>esx_time</th>\n",
       "      <th>CPU_usage</th>\n",
       "      <th>RAM Used</th>\n",
       "      <th>Date</th>\n",
       "    </tr>\n",
       "  </thead>\n",
       "  <tbody>\n",
       "  </tbody>\n",
       "</table>\n",
       "</div>"
      ],
      "text/plain": [
       "Empty DataFrame\n",
       "Columns: [Esx_clust, Esx_host, esx_time, CPU_usage, RAM Used, Date]\n",
       "Index: []"
      ]
     },
     "execution_count": 33,
     "metadata": {},
     "output_type": "execute_result"
    }
   ],
   "source": [
    "ts=(temp2['CPU_Usage'])\n",
    "        bx[m,n].plot(ts)\n",
    "        bx[m,n].set_title(location)\n",
    "        bx[m,n].axes.get_xaxis().set_visible(False)\n",
    "        bx[m,n].axes.get_yaxis().set_visible(False)"
   ]
  },
  {
   "cell_type": "code",
   "execution_count": 32,
   "metadata": {
    "collapsed": false
   },
   "outputs": [
    {
     "data": {
      "text/html": [
       "<div>\n",
       "<table border=\"1\" class=\"dataframe\">\n",
       "  <thead>\n",
       "    <tr style=\"text-align: right;\">\n",
       "      <th></th>\n",
       "      <th>Esx_clust</th>\n",
       "      <th>Esx_host</th>\n",
       "      <th>esx_time</th>\n",
       "      <th>CPU_usage</th>\n",
       "      <th>RAM Used</th>\n",
       "    </tr>\n",
       "  </thead>\n",
       "  <tbody>\n",
       "    <tr>\n",
       "      <th>0</th>\n",
       "      <td>ashacdc4e01p</td>\n",
       "      <td>ashacdvm01p:c4e-internal.c4e.ops</td>\n",
       "      <td>9/17/2016 10:00:00 PM</td>\n",
       "      <td>14233.4464</td>\n",
       "      <td>93.126622</td>\n",
       "    </tr>\n",
       "    <tr>\n",
       "      <th>1</th>\n",
       "      <td>ashacdc4e01p</td>\n",
       "      <td>ashacdvm01p:c4e-internal.c4e.ops</td>\n",
       "      <td>9/17/2016 10:00:00 PM</td>\n",
       "      <td>14380.2720</td>\n",
       "      <td>93.126622</td>\n",
       "    </tr>\n",
       "    <tr>\n",
       "      <th>2</th>\n",
       "      <td>ashacdc4e01p</td>\n",
       "      <td>ashacdvm01p:c4e-internal.c4e.ops</td>\n",
       "      <td>9/17/2016 10:00:00 PM</td>\n",
       "      <td>14380.2720</td>\n",
       "      <td>93.126622</td>\n",
       "    </tr>\n",
       "    <tr>\n",
       "      <th>3</th>\n",
       "      <td>ashacdc4e01p</td>\n",
       "      <td>ashacdvm01p:c4e-internal.c4e.ops</td>\n",
       "      <td>9/17/2016 10:00:00 PM</td>\n",
       "      <td>14207.5360</td>\n",
       "      <td>93.126622</td>\n",
       "    </tr>\n",
       "    <tr>\n",
       "      <th>4</th>\n",
       "      <td>ashacdc4e01p</td>\n",
       "      <td>ashacdvm01p:c4e-internal.c4e.ops</td>\n",
       "      <td>9/17/2016 10:00:00 PM</td>\n",
       "      <td>14190.2624</td>\n",
       "      <td>93.126622</td>\n",
       "    </tr>\n",
       "  </tbody>\n",
       "</table>\n",
       "</div>"
      ],
      "text/plain": [
       "      Esx_clust                          Esx_host               esx_time  \\\n",
       "0  ashacdc4e01p  ashacdvm01p:c4e-internal.c4e.ops  9/17/2016 10:00:00 PM   \n",
       "1  ashacdc4e01p  ashacdvm01p:c4e-internal.c4e.ops  9/17/2016 10:00:00 PM   \n",
       "2  ashacdc4e01p  ashacdvm01p:c4e-internal.c4e.ops  9/17/2016 10:00:00 PM   \n",
       "3  ashacdc4e01p  ashacdvm01p:c4e-internal.c4e.ops  9/17/2016 10:00:00 PM   \n",
       "4  ashacdc4e01p  ashacdvm01p:c4e-internal.c4e.ops  9/17/2016 10:00:00 PM   \n",
       "\n",
       "    CPU_usage   RAM Used  \n",
       "0  14233.4464  93.126622  \n",
       "1  14380.2720  93.126622  \n",
       "2  14380.2720  93.126622  \n",
       "3  14207.5360  93.126622  \n",
       "4  14190.2624  93.126622  "
      ]
     },
     "execution_count": 32,
     "metadata": {},
     "output_type": "execute_result"
    }
   ],
   "source": [
    "esx_acc_all.head()"
   ]
  },
  {
   "cell_type": "code",
   "execution_count": 182,
   "metadata": {
    "collapsed": true
   },
   "outputs": [],
   "source": [
    "import datetime"
   ]
  },
  {
   "cell_type": "code",
   "execution_count": 183,
   "metadata": {
    "collapsed": true
   },
   "outputs": [],
   "source": [
    "x=datetime.datetime.now()"
   ]
  },
  {
   "cell_type": "code",
   "execution_count": 184,
   "metadata": {
    "collapsed": false
   },
   "outputs": [
    {
     "data": {
      "text/plain": [
       "datetime.datetime(2017, 2, 18, 5, 11, 30, 595479)"
      ]
     },
     "execution_count": 184,
     "metadata": {},
     "output_type": "execute_result"
    }
   ],
   "source": [
    "x"
   ]
  },
  {
   "cell_type": "code",
   "execution_count": 188,
   "metadata": {
    "collapsed": false
   },
   "outputs": [],
   "source": [
    "y=datetime.datetime.now()-x"
   ]
  },
  {
   "cell_type": "code",
   "execution_count": 186,
   "metadata": {
    "collapsed": false
   },
   "outputs": [
    {
     "data": {
      "text/plain": [
       "datetime.timedelta(0, 3, 415233)"
      ]
     },
     "execution_count": 186,
     "metadata": {},
     "output_type": "execute_result"
    }
   ],
   "source": [
    "y"
   ]
  },
  {
   "cell_type": "code",
   "execution_count": 189,
   "metadata": {
    "collapsed": false
   },
   "outputs": [
    {
     "name": "stdout",
     "output_type": "stream",
     "text": [
      "x0:00:28.925152\n"
     ]
    }
   ],
   "source": [
    "print (\"x\"+str(y))"
   ]
  },
  {
   "cell_type": "code",
   "execution_count": null,
   "metadata": {
    "collapsed": true
   },
   "outputs": [],
   "source": []
  }
 ],
 "metadata": {
  "anaconda-cloud": {},
  "kernelspec": {
   "display_name": "Python [default]",
   "language": "python",
   "name": "python3"
  },
  "language_info": {
   "codemirror_mode": {
    "name": "ipython",
    "version": 3
   },
   "file_extension": ".py",
   "mimetype": "text/x-python",
   "name": "python",
   "nbconvert_exporter": "python",
   "pygments_lexer": "ipython3",
   "version": "3.5.2"
  }
 },
 "nbformat": 4,
 "nbformat_minor": 1
}
